{
  "cells": [
    {
      "cell_type": "markdown",
      "metadata": {
        "id": "view-in-github",
        "colab_type": "text"
      },
      "source": [
        "<a href=\"https://colab.research.google.com/github/Chenzhang0329/StockPrice-Hybrid-Model-/blob/main/Final_Assignment_Main_Good_copy.ipynb\" target=\"_parent\"><img src=\"https://colab.research.google.com/assets/colab-badge.svg\" alt=\"Open In Colab\"/></a>"
      ]
    },
    {
      "cell_type": "markdown",
      "source": [
        "# Stock Forecasting with a Hybrid Deep Learning Model"
      ],
      "metadata": {
        "id": "XhDCg1J9zNPX"
      }
    },
    {
      "cell_type": "markdown",
      "source": [
        "# 1.0 Introduction"
      ],
      "metadata": {
        "id": "MQpEp4o3eGDY"
      }
    },
    {
      "cell_type": "markdown",
      "source": [
        "#2.0 Data Collection and Preprocessing\n"
      ],
      "metadata": {
        "id": "qRDLoSXFzUDb"
      }
    },
    {
      "cell_type": "markdown",
      "source": [
        "##2.1 Imports and Configurations"
      ],
      "metadata": {
        "id": "aqIfwhPKeqhL"
      }
    },
    {
      "cell_type": "code",
      "execution_count": 1,
      "metadata": {
        "colab": {
          "base_uri": "https://localhost:8080/"
        },
        "id": "deERw8ZDJr9Z",
        "outputId": "0747b0e4-8006-4f44-f0d1-fcfd6cc7dc95"
      },
      "outputs": [
        {
          "output_type": "stream",
          "name": "stdout",
          "text": [
            "Looking in indexes: https://pypi.org/simple, https://us-python.pkg.dev/colab-wheels/public/simple/\n",
            "Requirement already satisfied: yfinance in /usr/local/lib/python3.9/dist-packages (0.2.14)\n",
            "Requirement already satisfied: frozendict>=2.3.4 in /usr/local/lib/python3.9/dist-packages (from yfinance) (2.3.6)\n",
            "Requirement already satisfied: pytz>=2022.5 in /usr/local/lib/python3.9/dist-packages (from yfinance) (2022.7.1)\n",
            "Requirement already satisfied: cryptography>=3.3.2 in /usr/local/lib/python3.9/dist-packages (from yfinance) (40.0.1)\n",
            "Requirement already satisfied: beautifulsoup4>=4.11.1 in /usr/local/lib/python3.9/dist-packages (from yfinance) (4.11.2)\n",
            "Requirement already satisfied: multitasking>=0.0.7 in /usr/local/lib/python3.9/dist-packages (from yfinance) (0.0.11)\n",
            "Requirement already satisfied: html5lib>=1.1 in /usr/local/lib/python3.9/dist-packages (from yfinance) (1.1)\n",
            "Requirement already satisfied: numpy>=1.16.5 in /usr/local/lib/python3.9/dist-packages (from yfinance) (1.22.4)\n",
            "Requirement already satisfied: lxml>=4.9.1 in /usr/local/lib/python3.9/dist-packages (from yfinance) (4.9.2)\n",
            "Requirement already satisfied: appdirs>=1.4.4 in /usr/local/lib/python3.9/dist-packages (from yfinance) (1.4.4)\n",
            "Requirement already satisfied: requests>=2.26 in /usr/local/lib/python3.9/dist-packages (from yfinance) (2.27.1)\n",
            "Requirement already satisfied: pandas>=1.3.0 in /usr/local/lib/python3.9/dist-packages (from yfinance) (1.4.4)\n",
            "Requirement already satisfied: soupsieve>1.2 in /usr/local/lib/python3.9/dist-packages (from beautifulsoup4>=4.11.1->yfinance) (2.4)\n",
            "Requirement already satisfied: cffi>=1.12 in /usr/local/lib/python3.9/dist-packages (from cryptography>=3.3.2->yfinance) (1.15.1)\n",
            "Requirement already satisfied: webencodings in /usr/local/lib/python3.9/dist-packages (from html5lib>=1.1->yfinance) (0.5.1)\n",
            "Requirement already satisfied: six>=1.9 in /usr/local/lib/python3.9/dist-packages (from html5lib>=1.1->yfinance) (1.16.0)\n",
            "Requirement already satisfied: python-dateutil>=2.8.1 in /usr/local/lib/python3.9/dist-packages (from pandas>=1.3.0->yfinance) (2.8.2)\n",
            "Requirement already satisfied: idna<4,>=2.5 in /usr/local/lib/python3.9/dist-packages (from requests>=2.26->yfinance) (3.4)\n",
            "Requirement already satisfied: charset-normalizer~=2.0.0 in /usr/local/lib/python3.9/dist-packages (from requests>=2.26->yfinance) (2.0.12)\n",
            "Requirement already satisfied: certifi>=2017.4.17 in /usr/local/lib/python3.9/dist-packages (from requests>=2.26->yfinance) (2022.12.7)\n",
            "Requirement already satisfied: urllib3<1.27,>=1.21.1 in /usr/local/lib/python3.9/dist-packages (from requests>=2.26->yfinance) (1.26.15)\n",
            "Requirement already satisfied: pycparser in /usr/local/lib/python3.9/dist-packages (from cffi>=1.12->cryptography>=3.3.2->yfinance) (2.21)\n",
            "Looking in indexes: https://pypi.org/simple, https://us-python.pkg.dev/colab-wheels/public/simple/\n",
            "Collecting transformers\n",
            "  Downloading transformers-4.27.4-py3-none-any.whl (6.8 MB)\n",
            "\u001b[2K     \u001b[90m━━━━━━━━━━━━━━━━━━━━━━━━━━━━━━━━━━━━━━━━\u001b[0m \u001b[32m6.8/6.8 MB\u001b[0m \u001b[31m66.0 MB/s\u001b[0m eta \u001b[36m0:00:00\u001b[0m\n",
            "\u001b[?25hCollecting tokenizers!=0.11.3,<0.14,>=0.11.1\n",
            "  Downloading tokenizers-0.13.3-cp39-cp39-manylinux_2_17_x86_64.manylinux2014_x86_64.whl (7.8 MB)\n",
            "\u001b[2K     \u001b[90m━━━━━━━━━━━━━━━━━━━━━━━━━━━━━━━━━━━━━━━━\u001b[0m \u001b[32m7.8/7.8 MB\u001b[0m \u001b[31m92.8 MB/s\u001b[0m eta \u001b[36m0:00:00\u001b[0m\n",
            "\u001b[?25hRequirement already satisfied: requests in /usr/local/lib/python3.9/dist-packages (from transformers) (2.27.1)\n",
            "Requirement already satisfied: regex!=2019.12.17 in /usr/local/lib/python3.9/dist-packages (from transformers) (2022.10.31)\n",
            "Requirement already satisfied: packaging>=20.0 in /usr/local/lib/python3.9/dist-packages (from transformers) (23.0)\n",
            "Collecting huggingface-hub<1.0,>=0.11.0\n",
            "  Downloading huggingface_hub-0.13.4-py3-none-any.whl (200 kB)\n",
            "\u001b[2K     \u001b[90m━━━━━━━━━━━━━━━━━━━━━━━━━━━━━━━━━━━━━━\u001b[0m \u001b[32m200.1/200.1 kB\u001b[0m \u001b[31m22.5 MB/s\u001b[0m eta \u001b[36m0:00:00\u001b[0m\n",
            "\u001b[?25hRequirement already satisfied: pyyaml>=5.1 in /usr/local/lib/python3.9/dist-packages (from transformers) (6.0)\n",
            "Requirement already satisfied: filelock in /usr/local/lib/python3.9/dist-packages (from transformers) (3.10.7)\n",
            "Requirement already satisfied: numpy>=1.17 in /usr/local/lib/python3.9/dist-packages (from transformers) (1.22.4)\n",
            "Requirement already satisfied: tqdm>=4.27 in /usr/local/lib/python3.9/dist-packages (from transformers) (4.65.0)\n",
            "Requirement already satisfied: typing-extensions>=3.7.4.3 in /usr/local/lib/python3.9/dist-packages (from huggingface-hub<1.0,>=0.11.0->transformers) (4.5.0)\n",
            "Requirement already satisfied: certifi>=2017.4.17 in /usr/local/lib/python3.9/dist-packages (from requests->transformers) (2022.12.7)\n",
            "Requirement already satisfied: urllib3<1.27,>=1.21.1 in /usr/local/lib/python3.9/dist-packages (from requests->transformers) (1.26.15)\n",
            "Requirement already satisfied: charset-normalizer~=2.0.0 in /usr/local/lib/python3.9/dist-packages (from requests->transformers) (2.0.12)\n",
            "Requirement already satisfied: idna<4,>=2.5 in /usr/local/lib/python3.9/dist-packages (from requests->transformers) (3.4)\n",
            "Installing collected packages: tokenizers, huggingface-hub, transformers\n",
            "Successfully installed huggingface-hub-0.13.4 tokenizers-0.13.3 transformers-4.27.4\n"
          ]
        }
      ],
      "source": [
        "#Import necessary libraries \n",
        "import pandas as pd\n",
        "!pip install yfinance\n",
        "import numpy as np\n",
        "import matplotlib.pyplot as plt\n",
        "from sklearn.model_selection import train_test_split\n",
        "from time import time\n",
        "from google.colab import files\n",
        "import yfinance as yf\n",
        "import tensorflow as tf\n",
        "import warnings\n",
        "warnings.filterwarnings('ignore', category=FutureWarning)\n",
        "warnings.filterwarnings('ignore', category=DeprecationWarning)\n",
        "from sklearn.metrics import confusion_matrix, accuracy_score, precision_score, recall_score\n",
        "import seaborn as sns\n",
        "!pip install transformers\n",
        "from transformers import BertTokenizer, BertForSequenceClassification\n",
        "from transformers import pipeline\n",
        "import multiprocessing as mp\n",
        "import datetime as dt\n",
        "from multiprocessing import Process\n",
        "\n"
      ]
    },
    {
      "cell_type": "code",
      "source": [
        "#configure sentiment analysis pipeline\n",
        "finbert = BertForSequenceClassification.from_pretrained('yiyanghkust/finbert-tone',num_labels=3)\n",
        "tokenizer = BertTokenizer.from_pretrained('yiyanghkust/finbert-tone')\n",
        "nlp = pipeline(\"sentiment-analysis\", model = finbert, tokenizer = tokenizer)\n",
        "sentiment_dict = {'Negative':-1, 'Neutral':0, 'Positive': 1}\n",
        "ticker_list = ['MSFT','GOOG', 'AMZN','TSLA','NFLX']\n",
        "#clone git repo into workspace\n",
        "!git clone https://github.com/Chenzhang0329/StockPrice-Hybrid-Model-.git"
      ],
      "metadata": {
        "colab": {
          "base_uri": "https://localhost:8080/",
          "height": 234,
          "referenced_widgets": [
            "63a3b55a79824f71a819331e27279237",
            "ccb04c240e00428c80baeed4df79ee6c",
            "b2b3b9517a0d4d2fa2e69636913f63d4",
            "fdf585a0b76446eca584fb7d8e3933a2",
            "b1c7fa1ccf1248009893888ee318bbaa",
            "c7375eef865e4e3b9d2e3c392478dec6",
            "c5b9941d7f774fcaa83b5b17e24c0bdf",
            "ab5d758d802249ee8f4c2d5e9099eece",
            "3726b58f79144529b32566b575bb5fd4",
            "95c08667a52e424ab19be8ce312bc76a",
            "ceca3acb82794d97afd13eba00cbae0f",
            "5d62e2a2a0564287af90e7a5d0190d7f",
            "bd0d7d4248284ec2b5e8d8418cf254b6",
            "a8c4e60112574261aa9ec820ff397757",
            "b86b95420634442ea5a6195e87e166f9",
            "65f6684553944027b9623a0bd3de6188",
            "76b00c611aaf4aaab940e18353e09506",
            "192c5f5fcb78401e84b5ec1b56fcb60d",
            "a0aa60ac2e02410dac4e9c1b22ca194f",
            "1b8266ad92ef4a92aff7a6df72faa278",
            "0a43d016167b4aaba5d4f634d77fea2c",
            "94622e39a9364f9c91209765c5dfe94e",
            "c1ce253902014a958f192f5ca5953a03",
            "991c9a18f0684b839366a3731d2a036e",
            "97ecd9e61389471a8de48aa81eb38a8d",
            "4e8792ecd95144c2889dd6dcf90fd33f",
            "6d774fe7417a42b2af76d0e64b211492",
            "aa820e60ada0434e9dc274f9c4917324",
            "f13a74c1839846cea91284a52809d9d5",
            "c151cbd7e2e746d386e684f07be138c2",
            "78f968e0fce24ba0a69c14dd7c1e08c2",
            "6fc516d64065471da7b4da00eeb2e25e",
            "26e65476c8e543c0bba451abe60df7d2"
          ]
        },
        "id": "bJZJbAyMejFM",
        "outputId": "cebcb7e1-6792-41df-fd1a-a78b5bf91dac"
      },
      "execution_count": 2,
      "outputs": [
        {
          "output_type": "display_data",
          "data": {
            "text/plain": [
              "Downloading (…)lve/main/config.json:   0%|          | 0.00/533 [00:00<?, ?B/s]"
            ],
            "application/vnd.jupyter.widget-view+json": {
              "version_major": 2,
              "version_minor": 0,
              "model_id": "63a3b55a79824f71a819331e27279237"
            }
          },
          "metadata": {}
        },
        {
          "output_type": "display_data",
          "data": {
            "text/plain": [
              "Downloading pytorch_model.bin:   0%|          | 0.00/439M [00:00<?, ?B/s]"
            ],
            "application/vnd.jupyter.widget-view+json": {
              "version_major": 2,
              "version_minor": 0,
              "model_id": "5d62e2a2a0564287af90e7a5d0190d7f"
            }
          },
          "metadata": {}
        },
        {
          "output_type": "display_data",
          "data": {
            "text/plain": [
              "Downloading (…)solve/main/vocab.txt:   0%|          | 0.00/226k [00:00<?, ?B/s]"
            ],
            "application/vnd.jupyter.widget-view+json": {
              "version_major": 2,
              "version_minor": 0,
              "model_id": "c1ce253902014a958f192f5ca5953a03"
            }
          },
          "metadata": {}
        },
        {
          "output_type": "stream",
          "name": "stdout",
          "text": [
            "Cloning into 'StockPrice-Hybrid-Model-'...\n",
            "remote: Enumerating objects: 251, done.\u001b[K\n",
            "remote: Counting objects: 100% (21/21), done.\u001b[K\n",
            "remote: Compressing objects: 100% (21/21), done.\u001b[K\n",
            "remote: Total 251 (delta 8), reused 0 (delta 0), pack-reused 230\u001b[K\n",
            "Receiving objects: 100% (251/251), 7.34 MiB | 9.66 MiB/s, done.\n",
            "Resolving deltas: 100% (119/119), done.\n"
          ]
        }
      ]
    },
    {
      "cell_type": "markdown",
      "source": [
        "## 2.2 Setup of Data Collection Functions"
      ],
      "metadata": {
        "id": "vWtKJ7BPzzWt"
      }
    },
    {
      "cell_type": "code",
      "execution_count": 3,
      "metadata": {
        "id": "17VYDDvD8qv3"
      },
      "outputs": [],
      "source": [
        "# Retrieve financial info from active directory and feature engineer to scale the outcomes to the value of the mean sentiment scores *  count^2\n",
        "from sklearn.preprocessing import MinMaxScaler\n",
        "def pull_news(ticker):\n",
        "    path = '/content/StockPrice-Hybrid-Model-/News Data/'+ticker+'_news.csv'\n",
        "    news_df = pd.read_csv(path)\n",
        "    news_list = news_df['headline'].to_list()\n",
        "    print('success1')\n",
        "    result = nlp(news_list)\n",
        "    print('success2')\n",
        "    result = pd.DataFrame(result)\n",
        "    news_df[\"sentiment\"] = [sentiment_dict[k]for k in result['label']]  \n",
        "    news_df['date'] = pd.to_datetime(news_df['date'], format = '%d-%m-%Y')\n",
        "    sentiment = pd.DataFrame()\n",
        "    sentiment['mean'] = news_df.groupby(by=\"date\")[\"sentiment\"].mean()\n",
        "    sentiment['count']= news_df.groupby(by='date')['sentiment'].count()\n",
        "    sentiment['score'] = sentiment['mean'] * (sentiment['count']**2)\n",
        "    sentiment = sentiment.fillna(0)\n",
        "    scaler1 = MinMaxScaler()\n",
        "    sentiment['score'] = scaler1.fit_transform(sentiment[['score']])\n",
        "    path3 = ticker+'_sentimentscore.csv'\n",
        "    sentiment.to_csv(path3)  \n",
        "\n",
        "#retrieve financial information using yfinance\n",
        "def get_financials(ticker, start):\n",
        "    time_delt = dt.timedelta(days = 150)\n",
        "    start_day = start - time_delt\n",
        "    data = yf.download(str(ticker), start_day)\n",
        "    data['ticker'] = ticker\n",
        "    data = data.reset_index()\n",
        "    print('success!')\n",
        "    return data\n",
        "\n",
        "#Caclulate Exponential moving average\n",
        "def EWMA(data, ndays): \n",
        "    EMA = pd.Series(data['close'].ewm(span = ndays, min_periods = ndays - 1).mean(), \n",
        "                 name = 'EWMA_' + str(ndays)) \n",
        "    data = data.join(EMA) \n",
        "    return data\n",
        "\n",
        "# Calculate Relative Strength Index\n",
        "def rsi(close, periods = 14):\n",
        "    \n",
        "    close_delta = close.diff()\n",
        "\n",
        "    # Make two series: one for lower closes and one for higher closes\n",
        "    up = close_delta.clip(lower=0)\n",
        "    down = -1 * close_delta.clip(upper=0)\n",
        "    \n",
        "    ma_up = up.ewm(com = periods - 1, adjust=True, min_periods = periods).mean()\n",
        "    ma_down = down.ewm(com = periods - 1, adjust=True, min_periods = periods).mean()\n",
        "\n",
        "    rsi = ma_up / ma_down\n",
        "    rsi = 100 - (100/(1 + rsi))\n",
        "    return rsi\n",
        "\n",
        "# Calculate Bollinger Bands\n",
        "def BBANDS(data, window):\n",
        "    MA = data.close.rolling(window).mean()\n",
        "    SD = data.close.rolling(window).std()\n",
        "    data['MiddleBand'] = MA\n",
        "    data['UpperBand'] = MA + (2 * SD) \n",
        "    data['LowerBand'] = MA - (2 * SD)\n",
        "    return data\n",
        "\n",
        "# Rolling averages for 10,20,50, and 100 days  feature engineering\n",
        "def prep_financials(df):\n",
        "    df = pd.DataFrame(df)\n",
        "    df.set_index('date')\n",
        "    df['target'] = (df['close'])\n",
        "    df['10mda'] = df['close'].rolling(10).mean()\n",
        "    df['20mda'] = df['close'].rolling(20).mean()\n",
        "    df['50mda'] = df['close'].rolling(50).mean()\n",
        "    df['100mda'] = df['close'].rolling(100).mean()\n",
        "    #df['target'] = [1 if df['pct_change'].loc[i] >0.005 else 0 for i in df.index]\n",
        "    df = EWMA(df, 20)\n",
        "    df = EWMA(df, 50) \n",
        "    df = EWMA(df, 100)\n",
        "    df['rsi'] = rsi(df['close'])\n",
        "    df = BBANDS(df, 20)\n",
        "    #df.drop(['pct_change'], axis=1, inplace=True)\n",
        "    df.reset_index()\n",
        "    return df"
      ]
    },
    {
      "cell_type": "code",
      "execution_count": null,
      "metadata": {
        "id": "nquguvza-pJP",
        "colab": {
          "base_uri": "https://localhost:8080/"
        },
        "outputId": "18949994-fcdd-4d6b-da6a-5edc6e5136f4"
      },
      "outputs": [
        {
          "output_type": "stream",
          "name": "stderr",
          "text": [
            "Process Process-1:\n",
            "Traceback (most recent call last):\n",
            "  File \"/usr/lib/python3.9/multiprocessing/process.py\", line 315, in _bootstrap\n",
            "    self.run()\n",
            "  File \"/usr/lib/python3.9/multiprocessing/process.py\", line 108, in run\n",
            "    self._target(*self._args, **self._kwargs)\n",
            "TypeError: pull_news() missing 1 required positional argument: 'ticker'\n"
          ]
        },
        {
          "output_type": "stream",
          "name": "stdout",
          "text": [
            "success1success1\n",
            "\n",
            "success1\n",
            "success1\n",
            "success1\n",
            "success2\n",
            "success2\n",
            "success2\n",
            "success2\n",
            "success2\n"
          ]
        }
      ],
      "source": [
        "#parallel process to calculate all sentiment scores and process sentiment data into csv files\n",
        "import datetime as dt\n",
        "if __name__ == \"__main__\":\n",
        "    ticker_list = ['MSFT','GOOG', 'AMZN','TSLA','NFLX']\n",
        "    processes = []\n",
        "    proc = Process(target=pull_news)\n",
        "    processes.append(proc)\n",
        "    proc.start()\n",
        "\n",
        "    for tick in ticker_list:\n",
        "        proc = Process(target =pull_news, args=(tick,))\n",
        "        processes.append(proc)\n",
        "        proc.start()\n",
        "    \n",
        "    for proc in processes:\n",
        "        proc.join()\n"
      ]
    },
    {
      "cell_type": "code",
      "execution_count": null,
      "metadata": {
        "id": "1lncyokY85dl"
      },
      "outputs": [],
      "source": [
        "#Complete financial info retrieval\n",
        "finance_dfs = []\n",
        "for tick in ticker_list:\n",
        "    data = get_financials(tick, dt.date(2018,1, 1))\n",
        "    data.rename(columns = {'Date':'date', 'Open':'open', 'High':'high', 'Low':'low', 'Close':'close','Adj Close': 'adj_close', 'Volume':'volume'}, inplace = True)\n",
        "    print(data.info())\n",
        "    prepped = prep_financials(data)\n",
        "    finance_dfs.append(prepped)\n",
        "\n",
        "#read finance data to csv\n",
        "full_finance = pd.concat(finance_dfs)\n",
        "full_finance.to_csv('finance.csv', index = False)"
      ]
    },
    {
      "cell_type": "markdown",
      "metadata": {
        "id": "HH6ii0zit08Y"
      },
      "source": [
        "#  3.0 Exploratory Data Analysis(EDA) and Data Cleaning\n",
        "All data collection and initial prep is completed at this point."
      ]
    },
    {
      "cell_type": "code",
      "execution_count": 5,
      "metadata": {
        "id": "NAs13PDAeM5f",
        "colab": {
          "base_uri": "https://localhost:8080/"
        },
        "outputId": "7132772f-32d9-4e91-fdb5-ee0c11af6bf0"
      },
      "outputs": [
        {
          "output_type": "stream",
          "name": "stdout",
          "text": [
            "             score\n",
            "count  1410.000000\n",
            "mean      0.347804\n",
            "std       0.046656\n",
            "min       0.000000\n",
            "25%       0.343666\n",
            "50%       0.345013\n",
            "75%       0.349057\n",
            "max       1.000000\n"
          ]
        }
      ],
      "source": [
        "#retrieve sentiment scores and create dataframes with only score and date columns\n",
        "sentiment_dfs = []\n",
        "for i in ticker_list:\n",
        "  data = pd.read_csv('/content/StockPrice-Hybrid-Model-/Sentiment Score/'+i+'_sentimentscore.csv')\n",
        "  data['date'] = pd.to_datetime(data['date'])\n",
        "  df = data[['date','score']]\n",
        "  sentiment_dfs.append(df)\n",
        "#Check distribution of sentiment dataframe\n",
        "print(sentiment_dfs[1].describe())"
      ]
    },
    {
      "cell_type": "markdown",
      "source": [
        "## 3.1 Create Final Dataframes to Include Both Sentiment Data and Financial Data "
      ],
      "metadata": {
        "id": "hOftmCei1Ezn"
      }
    },
    {
      "cell_type": "code",
      "execution_count": 6,
      "metadata": {
        "id": "gG7vztUCnY9m",
        "outputId": "14bbf1a2-a806-4bef-bee5-7f5de0632789",
        "colab": {
          "base_uri": "https://localhost:8080/"
        }
      },
      "outputs": [
        {
          "output_type": "stream",
          "name": "stderr",
          "text": [
            "<ipython-input-6-82c985f0176a>:12: SettingWithCopyWarning: \n",
            "A value is trying to be set on a copy of a slice from a DataFrame.\n",
            "Try using .loc[row_indexer,col_indexer] = value instead\n",
            "\n",
            "See the caveats in the documentation: https://pandas.pydata.org/pandas-docs/stable/user_guide/indexing.html#returning-a-view-versus-a-copy\n",
            "  data['date'] = pd.to_datetime(data['date'])\n",
            "<ipython-input-6-82c985f0176a>:12: SettingWithCopyWarning: \n",
            "A value is trying to be set on a copy of a slice from a DataFrame.\n",
            "Try using .loc[row_indexer,col_indexer] = value instead\n",
            "\n",
            "See the caveats in the documentation: https://pandas.pydata.org/pandas-docs/stable/user_guide/indexing.html#returning-a-view-versus-a-copy\n",
            "  data['date'] = pd.to_datetime(data['date'])\n",
            "<ipython-input-6-82c985f0176a>:12: SettingWithCopyWarning: \n",
            "A value is trying to be set on a copy of a slice from a DataFrame.\n",
            "Try using .loc[row_indexer,col_indexer] = value instead\n",
            "\n",
            "See the caveats in the documentation: https://pandas.pydata.org/pandas-docs/stable/user_guide/indexing.html#returning-a-view-versus-a-copy\n",
            "  data['date'] = pd.to_datetime(data['date'])\n",
            "<ipython-input-6-82c985f0176a>:12: SettingWithCopyWarning: \n",
            "A value is trying to be set on a copy of a slice from a DataFrame.\n",
            "Try using .loc[row_indexer,col_indexer] = value instead\n",
            "\n",
            "See the caveats in the documentation: https://pandas.pydata.org/pandas-docs/stable/user_guide/indexing.html#returning-a-view-versus-a-copy\n",
            "  data['date'] = pd.to_datetime(data['date'])\n",
            "<ipython-input-6-82c985f0176a>:12: SettingWithCopyWarning: \n",
            "A value is trying to be set on a copy of a slice from a DataFrame.\n",
            "Try using .loc[row_indexer,col_indexer] = value instead\n",
            "\n",
            "See the caveats in the documentation: https://pandas.pydata.org/pandas-docs/stable/user_guide/indexing.html#returning-a-view-versus-a-copy\n",
            "  data['date'] = pd.to_datetime(data['date'])\n"
          ]
        }
      ],
      "source": [
        "financials = pd.read_csv('finance.csv')\n",
        "#function to separate dataframe by company\n",
        "def separate_companies(ticker, df):\n",
        "    dataframe = df[df['ticker']==ticker]\n",
        "    return dataframe\n",
        "\n",
        "#separate dataframes for each company and add new features\n",
        "df_list = []\n",
        "for tick in ticker_list:\n",
        "    data = separate_companies(tick, financials)\n",
        "    data.reset_index()\n",
        "    data['date'] = pd.to_datetime(data['date'])\n",
        "    df_list.append(data)\n",
        "\n",
        "\n",
        "goog = df_list[1].set_index('date').join(sentiment_dfs[1].set_index('date'),how = 'left').loc['2018-01-01':'2023-02-01'].fillna(sentiment_dfs[1].mean())\n",
        "msft = df_list[0].set_index('date').join(sentiment_dfs[0].set_index('date'),how = 'left').loc['2018-01-01':'2023-02-01'].fillna(sentiment_dfs[0].mean())\n",
        "amzn = df_list[2].set_index('date').join(sentiment_dfs[2].set_index('date'),how = 'left').loc['2018-01-01':'2023-02-01'].fillna(sentiment_dfs[2].mean())\n",
        "tesla = df_list[3].set_index('date').join(sentiment_dfs[3].set_index('date'),how = 'left').loc['2018-01-01':'2023-02-01'].fillna(sentiment_dfs[3].mean())\n",
        "nflx = df_list[4].set_index('date').join(sentiment_dfs[4].set_index('date'),how = 'left').loc['2018-01-01':'2023-02-01'].fillna(sentiment_dfs[4].mean())\n",
        "\n",
        "frames = [goog, msft, amzn, tesla, nflx]\n"
      ]
    },
    {
      "cell_type": "markdown",
      "source": [
        "## 3.2 EDA to Explore Change in Stock Prices and Daily Headlines"
      ],
      "metadata": {
        "id": "Uo6ZwI5e1VOp"
      }
    },
    {
      "cell_type": "code",
      "execution_count": 7,
      "metadata": {
        "colab": {
          "base_uri": "https://localhost:8080/",
          "height": 988
        },
        "id": "2VkB-IFpHTrY",
        "outputId": "60ecaf79-7803-4de2-ea92-2f4e2beea93f"
      },
      "outputs": [
        {
          "output_type": "display_data",
          "data": {
            "text/plain": [
              "<Figure size 1000x600 with 1 Axes>"
            ],
            "image/png": "[encoded data removed]"
          },
          "metadata": {}
        },
        {
          "output_type": "error",
          "ename": "KeyError",
          "evalue": "ignored",
          "traceback": [
            "\u001b[0;31m---------------------------------------------------------------------------\u001b[0m",
            "\u001b[0;31mKeyError\u001b[0m                                  Traceback (most recent call last)",
            "\u001b[0;32m/usr/local/lib/python3.9/dist-packages/pandas/core/indexes/base.py\u001b[0m in \u001b[0;36mget_loc\u001b[0;34m(self, key, method, tolerance)\u001b[0m\n\u001b[1;32m   3628\u001b[0m             \u001b[0;32mtry\u001b[0m\u001b[0;34m:\u001b[0m\u001b[0;34m\u001b[0m\u001b[0;34m\u001b[0m\u001b[0m\n\u001b[0;32m-> 3629\u001b[0;31m                 \u001b[0;32mreturn\u001b[0m \u001b[0mself\u001b[0m\u001b[0;34m.\u001b[0m\u001b[0m_engine\u001b[0m\u001b[0;34m.\u001b[0m\u001b[0mget_loc\u001b[0m\u001b[0;34m(\u001b[0m\u001b[0mcasted_key\u001b[0m\u001b[0;34m)\u001b[0m\u001b[0;34m\u001b[0m\u001b[0;34m\u001b[0m\u001b[0m\n\u001b[0m\u001b[1;32m   3630\u001b[0m             \u001b[0;32mexcept\u001b[0m \u001b[0mKeyError\u001b[0m \u001b[0;32mas\u001b[0m \u001b[0merr\u001b[0m\u001b[0;34m:\u001b[0m\u001b[0;34m\u001b[0m\u001b[0;34m\u001b[0m\u001b[0m\n",
            "\u001b[0;32m/usr/local/lib/python3.9/dist-packages/pandas/_libs/index.pyx\u001b[0m in \u001b[0;36mpandas._libs.index.IndexEngine.get_loc\u001b[0;34m()\u001b[0m\n",
            "\u001b[0;32m/usr/local/lib/python3.9/dist-packages/pandas/_libs/index.pyx\u001b[0m in \u001b[0;36mpandas._libs.index.IndexEngine.get_loc\u001b[0;34m()\u001b[0m\n",
            "\u001b[0;32mpandas/_libs/hashtable_class_helper.pxi\u001b[0m in \u001b[0;36mpandas._libs.hashtable.PyObjectHashTable.get_item\u001b[0;34m()\u001b[0m\n",
            "\u001b[0;32mpandas/_libs/hashtable_class_helper.pxi\u001b[0m in \u001b[0;36mpandas._libs.hashtable.PyObjectHashTable.get_item\u001b[0;34m()\u001b[0m\n",
            "\u001b[0;31mKeyError\u001b[0m: 'headline'",
            "\nThe above exception was the direct cause of the following exception:\n",
            "\u001b[0;31mKeyError\u001b[0m                                  Traceback (most recent call last)",
            "\u001b[0;32m<ipython-input-7-9b82756f8486>\u001b[0m in \u001b[0;36m<cell line: 14>\u001b[0;34m()\u001b[0m\n\u001b[1;32m     13\u001b[0m \u001b[0mrollings\u001b[0m \u001b[0;34m=\u001b[0m \u001b[0;34m[\u001b[0m\u001b[0;34m]\u001b[0m\u001b[0;34m\u001b[0m\u001b[0;34m\u001b[0m\u001b[0m\n\u001b[1;32m     14\u001b[0m \u001b[0;32mfor\u001b[0m \u001b[0mi\u001b[0m\u001b[0;34m,\u001b[0m \u001b[0mframe\u001b[0m \u001b[0;32min\u001b[0m \u001b[0menumerate\u001b[0m\u001b[0;34m(\u001b[0m\u001b[0mframes\u001b[0m\u001b[0;34m)\u001b[0m\u001b[0;34m:\u001b[0m\u001b[0;34m\u001b[0m\u001b[0;34m\u001b[0m\u001b[0m\n\u001b[0;32m---> 15\u001b[0;31m   \u001b[0mframe\u001b[0m\u001b[0;34m[\u001b[0m\u001b[0;34m'average headlines'\u001b[0m\u001b[0;34m]\u001b[0m \u001b[0;34m=\u001b[0m \u001b[0mframe\u001b[0m\u001b[0;34m[\u001b[0m\u001b[0;34m'headline'\u001b[0m\u001b[0;34m]\u001b[0m\u001b[0;34m.\u001b[0m\u001b[0mrolling\u001b[0m\u001b[0;34m(\u001b[0m\u001b[0;36m20\u001b[0m\u001b[0;34m)\u001b[0m\u001b[0;34m.\u001b[0m\u001b[0mmean\u001b[0m\u001b[0;34m(\u001b[0m\u001b[0;34m)\u001b[0m\u001b[0;34m\u001b[0m\u001b[0;34m\u001b[0m\u001b[0m\n\u001b[0m\u001b[1;32m     16\u001b[0m   \u001b[0mrollings\u001b[0m\u001b[0;34m.\u001b[0m\u001b[0mappend\u001b[0m\u001b[0;34m(\u001b[0m\u001b[0mframe\u001b[0m\u001b[0;34m)\u001b[0m\u001b[0;34m\u001b[0m\u001b[0;34m\u001b[0m\u001b[0m\n\u001b[1;32m     17\u001b[0m \u001b[0mplt\u001b[0m\u001b[0;34m.\u001b[0m\u001b[0mfigure\u001b[0m\u001b[0;34m(\u001b[0m\u001b[0mfigsize\u001b[0m \u001b[0;34m=\u001b[0m \u001b[0;34m(\u001b[0m\u001b[0;36m12\u001b[0m\u001b[0;34m,\u001b[0m \u001b[0;36m8\u001b[0m\u001b[0;34m)\u001b[0m\u001b[0;34m)\u001b[0m\u001b[0;34m\u001b[0m\u001b[0;34m\u001b[0m\u001b[0m\n",
            "\u001b[0;32m/usr/local/lib/python3.9/dist-packages/pandas/core/frame.py\u001b[0m in \u001b[0;36m__getitem__\u001b[0;34m(self, key)\u001b[0m\n\u001b[1;32m   3503\u001b[0m             \u001b[0;32mif\u001b[0m \u001b[0mself\u001b[0m\u001b[0;34m.\u001b[0m\u001b[0mcolumns\u001b[0m\u001b[0;34m.\u001b[0m\u001b[0mnlevels\u001b[0m \u001b[0;34m>\u001b[0m \u001b[0;36m1\u001b[0m\u001b[0;34m:\u001b[0m\u001b[0;34m\u001b[0m\u001b[0;34m\u001b[0m\u001b[0m\n\u001b[1;32m   3504\u001b[0m                 \u001b[0;32mreturn\u001b[0m \u001b[0mself\u001b[0m\u001b[0;34m.\u001b[0m\u001b[0m_getitem_multilevel\u001b[0m\u001b[0;34m(\u001b[0m\u001b[0mkey\u001b[0m\u001b[0;34m)\u001b[0m\u001b[0;34m\u001b[0m\u001b[0;34m\u001b[0m\u001b[0m\n\u001b[0;32m-> 3505\u001b[0;31m             \u001b[0mindexer\u001b[0m \u001b[0;34m=\u001b[0m \u001b[0mself\u001b[0m\u001b[0;34m.\u001b[0m\u001b[0mcolumns\u001b[0m\u001b[0;34m.\u001b[0m\u001b[0mget_loc\u001b[0m\u001b[0;34m(\u001b[0m\u001b[0mkey\u001b[0m\u001b[0;34m)\u001b[0m\u001b[0;34m\u001b[0m\u001b[0;34m\u001b[0m\u001b[0m\n\u001b[0m\u001b[1;32m   3506\u001b[0m             \u001b[0;32mif\u001b[0m \u001b[0mis_integer\u001b[0m\u001b[0;34m(\u001b[0m\u001b[0mindexer\u001b[0m\u001b[0;34m)\u001b[0m\u001b[0;34m:\u001b[0m\u001b[0;34m\u001b[0m\u001b[0;34m\u001b[0m\u001b[0m\n\u001b[1;32m   3507\u001b[0m                 \u001b[0mindexer\u001b[0m \u001b[0;34m=\u001b[0m \u001b[0;34m[\u001b[0m\u001b[0mindexer\u001b[0m\u001b[0;34m]\u001b[0m\u001b[0;34m\u001b[0m\u001b[0;34m\u001b[0m\u001b[0m\n",
            "\u001b[0;32m/usr/local/lib/python3.9/dist-packages/pandas/core/indexes/base.py\u001b[0m in \u001b[0;36mget_loc\u001b[0;34m(self, key, method, tolerance)\u001b[0m\n\u001b[1;32m   3629\u001b[0m                 \u001b[0;32mreturn\u001b[0m \u001b[0mself\u001b[0m\u001b[0;34m.\u001b[0m\u001b[0m_engine\u001b[0m\u001b[0;34m.\u001b[0m\u001b[0mget_loc\u001b[0m\u001b[0;34m(\u001b[0m\u001b[0mcasted_key\u001b[0m\u001b[0;34m)\u001b[0m\u001b[0;34m\u001b[0m\u001b[0;34m\u001b[0m\u001b[0m\n\u001b[1;32m   3630\u001b[0m             \u001b[0;32mexcept\u001b[0m \u001b[0mKeyError\u001b[0m \u001b[0;32mas\u001b[0m \u001b[0merr\u001b[0m\u001b[0;34m:\u001b[0m\u001b[0;34m\u001b[0m\u001b[0;34m\u001b[0m\u001b[0m\n\u001b[0;32m-> 3631\u001b[0;31m                 \u001b[0;32mraise\u001b[0m \u001b[0mKeyError\u001b[0m\u001b[0;34m(\u001b[0m\u001b[0mkey\u001b[0m\u001b[0;34m)\u001b[0m \u001b[0;32mfrom\u001b[0m \u001b[0merr\u001b[0m\u001b[0;34m\u001b[0m\u001b[0;34m\u001b[0m\u001b[0m\n\u001b[0m\u001b[1;32m   3632\u001b[0m             \u001b[0;32mexcept\u001b[0m \u001b[0mTypeError\u001b[0m\u001b[0;34m:\u001b[0m\u001b[0;34m\u001b[0m\u001b[0;34m\u001b[0m\u001b[0m\n\u001b[1;32m   3633\u001b[0m                 \u001b[0;31m# If we have a listlike key, _check_indexing_error will raise\u001b[0m\u001b[0;34m\u001b[0m\u001b[0;34m\u001b[0m\u001b[0m\n",
            "\u001b[0;31mKeyError\u001b[0m: 'headline'"
          ]
        }
      ],
      "source": [
        "#EDA and summary stats for compiled datasets\n",
        "ticker_list = ['GOOG', 'MSFT','AMZN','TSLA','NFLX']\n",
        "plt.figure(figsize = (10, 6))\n",
        "frames = [goog, msft, amzn, tesla, nflx]\n",
        "#create plot to display change in share price\n",
        "for i, frame in enumerate(frames):\n",
        "  frame['close'].plot(label = ticker_list[i]+' Close Price')\n",
        "plt.ylabel('Share Price')\n",
        "plt.legend()\n",
        "plt.show()\n",
        "\n",
        "#create plot to display daily number of headlines as a 20 day rolling average \n",
        "rollings = []\n",
        "for i, frame in enumerate(frames):\n",
        "  frame['average headlines'] = frame['headline'].rolling(20).mean()\n",
        "  rollings.append(frame)\n",
        "plt.figure(figsize = (12, 8))\n",
        "for i, frame in enumerate(rollings):\n",
        "  frame['average headlines'].plot(label = ticker_list[i]+' # Daily Headlines')\n",
        "plt.legend()\n",
        "plt.ylabel('20 Day Rolling Average Number of Headlines ')\n",
        "plt.show()\n"
      ]
    },
    {
      "cell_type": "markdown",
      "source": [
        "## 3.3 Scale Data and Configure Training/Test Datasets "
      ],
      "metadata": {
        "id": "JGb4NZ4P1i40"
      }
    },
    {
      "cell_type": "code",
      "execution_count": 9,
      "metadata": {
        "id": "slz5DdNy0rhc",
        "outputId": "985a8a18-f9ae-45b5-9af8-9816da090aa6",
        "colab": {
          "base_uri": "https://localhost:8080/"
        }
      },
      "outputs": [
        {
          "output_type": "stream",
          "name": "stdout",
          "text": [
            "(1270, 10, 18) (1143, 10, 18) (127, 10, 18) (127, 1) (1143, 1)\n"
          ]
        }
      ],
      "source": [
        "from sklearn.preprocessing import MinMaxScaler\n",
        "# drop irrevelant columns\n",
        "data = frames[1] # data for microsoft\n",
        "data = data.drop(['ticker'],axis=1)\n",
        " \n",
        "# features and target columns\n",
        "target_scaler = MinMaxScaler()\n",
        "target = target_scaler.fit_transform(data[['target']])\n",
        "score = data['score']\n",
        "X_feat = data.drop(['target', 'score'], axis = 1)\n",
        "\n",
        "# Normalise the data\n",
        "for col in X_feat.columns:\n",
        "    scaler = MinMaxScaler(feature_range=(0,1))\n",
        "    X_feat[col] = scaler.fit_transform(X_feat[[col]])\n",
        "X_feat['score'] = score\n",
        "X_ft = np.array(X_feat)\n",
        "# Creating a data structure with 10 time-steps and 1 output\n",
        " \n",
        "# Split data into X_train and y_train data sets\n",
        "def lstm_split(data,target,steps):\n",
        "  X = []\n",
        "  y = []\n",
        "  # Creating a data structure with 10 time-steps and 1 output\n",
        "  for i in range(10, steps):\n",
        "      X.append(data[i-10:i])\n",
        "      y.append(target[i])  \n",
        "  return np.array(X),np.array(y)\n",
        " \n",
        "X1,y1 = lstm_split(X_feat,target,len(X_ft))\n",
        " \n",
        "\n",
        " # function to split  data 90% training-10% testing\n",
        "def train_split(x1, y1, train_data):\n",
        "  split = 0.9\n",
        "  split_idx = int(np.ceil(len(X1)*split))\n",
        "  date_index = train_data.index\n",
        " \n",
        "  X_train,X_test = X1[:split_idx],X1[split_idx:]\n",
        "  y_train,y_test = y1[:split_idx],y1[split_idx:]\n",
        "  X_train_date,X_test_date = date_index[:split_idx],date_index[split_idx:]\n",
        "  return X_train, X_test, y_train, y_test\n",
        "  \n",
        "X_train, X_test, y_train, y_test = train_split(X1, y1, frames[1])\n",
        "print(X1.shape,X_train.shape,X_test.shape,y_test.shape,y_train.shape)"
      ]
    },
    {
      "cell_type": "markdown",
      "metadata": {
        "id": "t9MJEWlu1zj3"
      },
      "source": [
        "# 4.0 Single Company Model Implementation\n",
        "\n",
        "This section contains the necessary code to define our model and train/test the standalone LSTM as well as the hybrid ensemble model. "
      ]
    },
    {
      "cell_type": "markdown",
      "source": [
        "## 4.1 Build  & Validate the LSTM Model on Microsoft Stock\n",
        "The general architecture of the model is available below. Specific hyperparameters will be defined during the training process using RandomSearch."
      ],
      "metadata": {
        "id": "_cwv_8jb11qA"
      }
    },
    {
      "cell_type": "code",
      "execution_count": 10,
      "metadata": {
        "id": "GFWbCk7kmJWY",
        "outputId": "7ebd0df7-bb5f-45fb-dffc-8b531d7f1296",
        "colab": {
          "base_uri": "https://localhost:8080/"
        }
      },
      "outputs": [
        {
          "output_type": "stream",
          "name": "stdout",
          "text": [
            "Trial 50 Complete [00h 01m 10s]\n",
            "val_loss: 0.01645558699965477\n",
            "\n",
            "Best val_loss So Far: 0.0008603366441093385\n",
            "Total elapsed time: 00h 31m 25s\n",
            "36/36 [==============================] - 1s 4ms/step - loss: 6.1072e-04 - mean_squared_error: 6.1072e-04\n",
            "[0.0006107221124693751, 0.0006107221124693751]\n",
            "{'n_hidden': 0, 'neurons_visible': 98, 'activate1': 'sigmoid', 'dropout1': 0.4, 'neurons_hidden1': 20, 'dropout2': 0.7, 'neurons_hidden2': 50, 'dropout3': 0.1, 'neurons_hidden3': 50}\n"
          ]
        }
      ],
      "source": [
        "#LSTM Framework for MSFT\n",
        "import tensorflow as tf\n",
        "from keras.models import Sequential\n",
        "from keras.layers import Dense, Dropout\n",
        "from keras.layers import LSTM\n",
        "from keras.callbacks import ReduceLROnPlateau, EarlyStopping\n",
        "from keras.metrics import Precision\n",
        "from keras.optimizers import Adam\n",
        "!pip install keras_tuner\n",
        "import keras_tuner\n",
        "\n",
        "\n",
        "#define function to create model, optional hyperparameters included to be selected during training\n",
        "LR = 0.05\n",
        "EPOCH = 200\n",
        "BATCH = 24\n",
        "def build_model(hp):\n",
        "  model = Sequential()\n",
        "  hidden = hp.Choice('n_hidden', [0,1,2,3])\n",
        "  model.add(LSTM(units = hp.Int('neurons_visible', min_value = X_train.shape[2], max_value = 100, step = 20),\n",
        "                activation = hp.Choice('activate1', ['sigmoid', 'relu']),\n",
        "                input_shape = (X_train.shape[1], X_train.shape[2]),\n",
        "                return_sequences = True if hidden >0 else False))\n",
        "  \n",
        "  #Configure hidden layers based on random search determined hidden layer number\n",
        "  if hidden > 0:\n",
        "    for num in range(hidden):\n",
        "      model.add(Dropout(hp.Float('dropout' +str(num+1), min_value = 0.1, max_value = 0.9, step = 0.3)))\n",
        "      model.add(LSTM(units = hp.Int('neurons_hidden'+str(num+1), min_value = 20, max_value = 50, step = 10),\n",
        "                     activation = 'relu', return_sequences = True if num != hidden else False))\n",
        "      \n",
        "  model.add(Dropout(0.5))\n",
        "  model.add(Dense(units = 1))\n",
        "\n",
        "  #compile the model\n",
        "  model.compile(loss = 'mean_squared_error', optimizer = Adam(lr = LR), metrics = ['mean_squared_error'])\n",
        "  \n",
        "  return model\n",
        "\n",
        "#set learning rate and early stopping callbacks\n",
        "LR_decay = ReduceLROnPlateau('loss', patience=1, verbose=0, \n",
        "                             factor=0.5, min_lr=1e-8)\n",
        "Early_stop = EarlyStopping(monitor='loss', min_delta=0, \n",
        "                           patience=25, verbose=1, mode='auto',\n",
        "                           baseline=0, restore_best_weights=True)\n",
        "#arrange random search class\n",
        "tune = keras_tuner.RandomSearch(build_model, objective= keras_tuner.Objective('val_loss', direction='min'), max_trials = 50, seed = 2)\n",
        "\n",
        "#complete training \n",
        "tune.search(X_train, y_train, epochs = EPOCH, batch_size = BATCH, validation_data = (X_test, y_test), callbacks = [LR_decay, Early_stop])\n",
        "\n",
        "LSTM_model = tune.get_best_models()[0]\n",
        "\n",
        "#validating the training\n",
        "test_predictions = LSTM_model.evaluate(X_train, y_train)\n",
        "print(test_predictions)\n",
        "LSTM_model.save('/content/StockPrice-Hybrid-Model-/Models/LSTM_model.h5')\n",
        "hyperparameters = tune.get_best_hyperparameters(1)[0]\n",
        "print(hyperparameters.values)"
      ]
    },
    {
      "cell_type": "markdown",
      "source": [
        "##4.2 LSTM Model Testing"
      ],
      "metadata": {
        "id": "CzCEzpi72Wat"
      }
    },
    {
      "cell_type": "markdown",
      "source": [
        "### 4.2.2 Evaluate LSTM Model Success on MSFT Test Data"
      ],
      "metadata": {
        "id": "OtxNI7IK2thv"
      }
    },
    {
      "cell_type": "code",
      "source": [
        "# function to test LSTM predictions\n",
        "def testmodel(m_path, trainset ):\n",
        "  from keras.models import load_model\n",
        "  model = load_model(m_path)\n",
        "  return model.predict(trainset)\n"
      ],
      "metadata": {
        "id": "3zwIIjPwHX_A"
      },
      "execution_count": 11,
      "outputs": []
    },
    {
      "cell_type": "code",
      "source": [
        "#test LSTM model using X_train for MSFT\n",
        "LSTM_MSFT_test = testmodel('/content/StockPrice-Hybrid-Model-/Models/LSTM_model.h5', X_test)\n",
        "LSTM_MSFT_test.shape\n",
        "\n",
        "import matplotlib.pyplot as plt\n",
        "x=np.arange(1,len(y_test)+1, 1)\n",
        "plt.plot(x,LSTM_MSFT_test.flatten(), \"r\", label= \"Predicted\")\n",
        "plt.plot(x,y_test, \"b\", label= \"Target\")\n",
        "\n",
        "plt.title(\" LSTM MSFT Predicted vs target trends\")\n",
        "plt.xlabel('X_test entry')\n",
        "plt.legend()\n",
        "plt.show()"
      ],
      "metadata": {
        "id": "iM4CHyH08hcb",
        "outputId": "621ea4e0-6ba1-4adf-f695-783f837f2d59",
        "colab": {
          "base_uri": "https://localhost:8080/"
        }
      },
      "execution_count": 12,
      "outputs": [
        {
          "output_type": "stream",
          "name": "stderr",
          "text": [
            "WARNING:tensorflow:Error in loading the saved optimizer state. As a result, your model is starting with a freshly initialized optimizer.\n"
          ]
        },
        {
          "output_type": "stream",
          "name": "stdout",
          "text": [
            "4/4 [==============================] - 0s 7ms/step\n"
          ]
        },
        {
          "output_type": "execute_result",
          "data": {
            "text/plain": [
              "(127, 1)"
            ]
          },
          "metadata": {},
          "execution_count": 12
        }
      ]
    },
    {
      "cell_type": "markdown",
      "source": [
        "### 4.2.1 Format Test Data to Reflect Training Data for Google Stock"
      ],
      "metadata": {
        "id": "g-SCfpV92e6M"
      }
    },
    {
      "cell_type": "code",
      "source": [
        "# prep google test data\n",
        "google = frames[0]\n",
        "google_scaler = MinMaxScaler()\n",
        "google_target = google_scaler.fit_transform(google[['target']])\n",
        "google_score = google['score']\n",
        "test_ft = google.drop(['target', 'score', 'ticker'], axis = 1)\n",
        "\n",
        "# Normalise the data\n",
        "for col in test_ft.columns:\n",
        "    scaler = MinMaxScaler(feature_range=(0,1))\n",
        "    test_ft[col] = scaler.fit_transform(test_ft[[col]])\n",
        "test_ft['score'] = google_score\n",
        "test_ft = np.array(test_ft)\n",
        "\n",
        "google_ft, google_target = lstm_split(test_ft,google_target,len(test_ft))"
      ],
      "metadata": {
        "id": "w0KUlmlwMDyC"
      },
      "execution_count": 13,
      "outputs": []
    },
    {
      "cell_type": "code",
      "source": [
        "#test LSTM model using X_train for GOOG\n",
        "LSTM_GOOG_yhat = testmodel('/content/StockPrice-Hybrid-Model-/Models/LSTM_model.h5', google_ft)\n",
        "LSTM_GOOG_yhat.shape"
      ],
      "metadata": {
        "id": "5YdIOVuTIiXn",
        "outputId": "07b9defd-80f2-435d-c1ec-46d89eff5d5d",
        "colab": {
          "base_uri": "https://localhost:8080/"
        }
      },
      "execution_count": 14,
      "outputs": [
        {
          "output_type": "stream",
          "name": "stderr",
          "text": [
            "WARNING:tensorflow:Error in loading the saved optimizer state. As a result, your model is starting with a freshly initialized optimizer.\n"
          ]
        },
        {
          "output_type": "stream",
          "name": "stdout",
          "text": [
            "40/40 [==============================] - 0s 4ms/step\n"
          ]
        },
        {
          "output_type": "execute_result",
          "data": {
            "text/plain": [
              "(1270, 1)"
            ]
          },
          "metadata": {},
          "execution_count": 14
        }
      ]
    },
    {
      "cell_type": "code",
      "source": [
        "# compare LSTM on trained on MSFT on predictions for Google\n",
        "import matplotlib.pyplot as plt\n",
        "\n",
        "fig, ax = plt.subplots()\n",
        "ax.plot(LSTM_MSFT_test, 'g')\n",
        "ax.plot(LSTM_GOOG_yhat, 'b')\n",
        "plt.show()\n",
        "\n",
        "\n"
      ],
      "metadata": {
        "id": "4Ksna_QyJIHD",
        "outputId": "06de7ba7-1a5f-418d-93f7-0953e70f7c1f",
        "colab": {
          "base_uri": "https://localhost:8080/",
          "height": 430
        }
      },
      "execution_count": null,
      "outputs": [
        {
          "output_type": "display_data",
          "data": {
            "text/plain": [
              "<Figure size 640x480 with 1 Axes>"
            ],
            "image/png": "[encoded data removed]"
          },
          "metadata": {}
        }
      ]
    },
    {
      "cell_type": "markdown",
      "metadata": {
        "id": "7Bg8r54_oq1m"
      },
      "source": [
        "##4.3 Prophet Model\n",
        "\n"
      ]
    },
    {
      "cell_type": "markdown",
      "metadata": {
        "id": "WvfiZF3PovxK"
      },
      "source": [
        "For this section is how we gonna fit the prophet model by using miscosoft company stock price data. The best hyperparameter we get by using the cross-validation"
      ]
    },
    {
      "cell_type": "code",
      "execution_count": 15,
      "metadata": {
        "id": "aehoPm0QpsEO"
      },
      "outputs": [],
      "source": [
        "from prophet import Prophet\n",
        "from sklearn.metrics import mean_squared_error\n",
        "from prophet.diagnostics import cross_validation, performance_metrics\n",
        "from sklearn.model_selection import ParameterGrid"
      ]
    },
    {
      "cell_type": "code",
      "execution_count": 16,
      "metadata": {
        "colab": {
          "base_uri": "https://localhost:8080/",
          "height": 357
        },
        "id": "1nsULZF8Lk_m",
        "outputId": "a8c36dc5-853e-4897-9fe5-1fdada28c28e"
      },
      "outputs": [
        {
          "output_type": "execute_result",
          "data": {
            "text/plain": [
              "         date       open       high        low      close  adj_close  \\\n",
              "0  2017-08-04  72.400002  73.040001  72.239998  72.680000  67.571640   \n",
              "1  2017-08-07  72.800003  72.900002  72.260002  72.400002  67.311348   \n",
              "2  2017-08-08  72.089996  73.129997  71.750000  72.790001  67.673927   \n",
              "3  2017-08-09  72.250000  72.510002  72.050003  72.470001  67.376427   \n",
              "4  2017-08-10  71.900002  72.190002  71.349998  71.410004  66.390930   \n",
              "\n",
              "     volume ticker  10mda  20mda  50mda  100mda  target  EWMA_20  EWMA_50  \\\n",
              "0  22579000   MSFT    NaN    NaN    NaN     NaN       0      NaN      NaN   \n",
              "1  18705700   MSFT    NaN    NaN    NaN     NaN       0      NaN      NaN   \n",
              "2  22044600   MSFT    NaN    NaN    NaN     NaN       0      NaN      NaN   \n",
              "3  22213400   MSFT    NaN    NaN    NaN     NaN       0      NaN      NaN   \n",
              "4  24734500   MSFT    NaN    NaN    NaN     NaN       1      NaN      NaN   \n",
              "\n",
              "   EWMA_100  rsi  MiddleBand  UpperBand  LowerBand  \n",
              "0       NaN  NaN         NaN        NaN        NaN  \n",
              "1       NaN  NaN         NaN        NaN        NaN  \n",
              "2       NaN  NaN         NaN        NaN        NaN  \n",
              "3       NaN  NaN         NaN        NaN        NaN  \n",
              "4       NaN  NaN         NaN        NaN        NaN  "
            ],
            "text/html": [
              "\n",
              "  <div id=\"df-32c4ba92-d9a0-4a3e-8036-1317d8350b2b\">\n",
              "    <div class=\"colab-df-container\">\n",
              "      <div>\n",
              "<style scoped>\n",
              "    .dataframe tbody tr th:only-of-type {\n",
              "        vertical-align: middle;\n",
              "    }\n",
              "\n",
              "    .dataframe tbody tr th {\n",
              "        vertical-align: top;\n",
              "    }\n",
              "\n",
              "    .dataframe thead th {\n",
              "        text-align: right;\n",
              "    }\n",
              "</style>\n",
              "<table border=\"1\" class=\"dataframe\">\n",
              "  <thead>\n",
              "    <tr style=\"text-align: right;\">\n",
              "      <th></th>\n",
              "      <th>date</th>\n",
              "      <th>open</th>\n",
              "      <th>high</th>\n",
              "      <th>low</th>\n",
              "      <th>close</th>\n",
              "      <th>adj_close</th>\n",
              "      <th>volume</th>\n",
              "      <th>ticker</th>\n",
              "      <th>10mda</th>\n",
              "      <th>20mda</th>\n",
              "      <th>50mda</th>\n",
              "      <th>100mda</th>\n",
              "      <th>target</th>\n",
              "      <th>EWMA_20</th>\n",
              "      <th>EWMA_50</th>\n",
              "      <th>EWMA_100</th>\n",
              "      <th>rsi</th>\n",
              "      <th>MiddleBand</th>\n",
              "      <th>UpperBand</th>\n",
              "      <th>LowerBand</th>\n",
              "    </tr>\n",
              "  </thead>\n",
              "  <tbody>\n",
              "    <tr>\n",
              "      <th>0</th>\n",
              "      <td>2017-08-04</td>\n",
              "      <td>72.400002</td>\n",
              "      <td>73.040001</td>\n",
              "      <td>72.239998</td>\n",
              "      <td>72.680000</td>\n",
              "      <td>67.571640</td>\n",
              "      <td>22579000</td>\n",
              "      <td>MSFT</td>\n",
              "      <td>NaN</td>\n",
              "      <td>NaN</td>\n",
              "      <td>NaN</td>\n",
              "      <td>NaN</td>\n",
              "      <td>0</td>\n",
              "      <td>NaN</td>\n",
              "      <td>NaN</td>\n",
              "      <td>NaN</td>\n",
              "      <td>NaN</td>\n",
              "      <td>NaN</td>\n",
              "      <td>NaN</td>\n",
              "      <td>NaN</td>\n",
              "    </tr>\n",
              "    <tr>\n",
              "      <th>1</th>\n",
              "      <td>2017-08-07</td>\n",
              "      <td>72.800003</td>\n",
              "      <td>72.900002</td>\n",
              "      <td>72.260002</td>\n",
              "      <td>72.400002</td>\n",
              "      <td>67.311348</td>\n",
              "      <td>18705700</td>\n",
              "      <td>MSFT</td>\n",
              "      <td>NaN</td>\n",
              "      <td>NaN</td>\n",
              "      <td>NaN</td>\n",
              "      <td>NaN</td>\n",
              "      <td>0</td>\n",
              "      <td>NaN</td>\n",
              "      <td>NaN</td>\n",
              "      <td>NaN</td>\n",
              "      <td>NaN</td>\n",
              "      <td>NaN</td>\n",
              "      <td>NaN</td>\n",
              "      <td>NaN</td>\n",
              "    </tr>\n",
              "    <tr>\n",
              "      <th>2</th>\n",
              "      <td>2017-08-08</td>\n",
              "      <td>72.089996</td>\n",
              "      <td>73.129997</td>\n",
              "      <td>71.750000</td>\n",
              "      <td>72.790001</td>\n",
              "      <td>67.673927</td>\n",
              "      <td>22044600</td>\n",
              "      <td>MSFT</td>\n",
              "      <td>NaN</td>\n",
              "      <td>NaN</td>\n",
              "      <td>NaN</td>\n",
              "      <td>NaN</td>\n",
              "      <td>0</td>\n",
              "      <td>NaN</td>\n",
              "      <td>NaN</td>\n",
              "      <td>NaN</td>\n",
              "      <td>NaN</td>\n",
              "      <td>NaN</td>\n",
              "      <td>NaN</td>\n",
              "      <td>NaN</td>\n",
              "    </tr>\n",
              "    <tr>\n",
              "      <th>3</th>\n",
              "      <td>2017-08-09</td>\n",
              "      <td>72.250000</td>\n",
              "      <td>72.510002</td>\n",
              "      <td>72.050003</td>\n",
              "      <td>72.470001</td>\n",
              "      <td>67.376427</td>\n",
              "      <td>22213400</td>\n",
              "      <td>MSFT</td>\n",
              "      <td>NaN</td>\n",
              "      <td>NaN</td>\n",
              "      <td>NaN</td>\n",
              "      <td>NaN</td>\n",
              "      <td>0</td>\n",
              "      <td>NaN</td>\n",
              "      <td>NaN</td>\n",
              "      <td>NaN</td>\n",
              "      <td>NaN</td>\n",
              "      <td>NaN</td>\n",
              "      <td>NaN</td>\n",
              "      <td>NaN</td>\n",
              "    </tr>\n",
              "    <tr>\n",
              "      <th>4</th>\n",
              "      <td>2017-08-10</td>\n",
              "      <td>71.900002</td>\n",
              "      <td>72.190002</td>\n",
              "      <td>71.349998</td>\n",
              "      <td>71.410004</td>\n",
              "      <td>66.390930</td>\n",
              "      <td>24734500</td>\n",
              "      <td>MSFT</td>\n",
              "      <td>NaN</td>\n",
              "      <td>NaN</td>\n",
              "      <td>NaN</td>\n",
              "      <td>NaN</td>\n",
              "      <td>1</td>\n",
              "      <td>NaN</td>\n",
              "      <td>NaN</td>\n",
              "      <td>NaN</td>\n",
              "      <td>NaN</td>\n",
              "      <td>NaN</td>\n",
              "      <td>NaN</td>\n",
              "      <td>NaN</td>\n",
              "    </tr>\n",
              "  </tbody>\n",
              "</table>\n",
              "</div>\n",
              "      <button class=\"colab-df-convert\" onclick=\"convertToInteractive('df-32c4ba92-d9a0-4a3e-8036-1317d8350b2b')\"\n",
              "              title=\"Convert this dataframe to an interactive table.\"\n",
              "              style=\"display:none;\">\n",
              "        \n",
              "  <svg xmlns=\"http://www.w3.org/2000/svg\" height=\"24px\"viewBox=\"0 0 24 24\"\n",
              "       width=\"24px\">\n",
              "    <path d=\"M0 0h24v24H0V0z\" fill=\"none\"/>\n",
              "    <path d=\"M18.56 5.44l.94 2.06.94-2.06 2.06-.94-2.06-.94-.94-2.06-.94 2.06-2.06.94zm-11 1L8.5 8.5l.94-2.06 2.06-.94-2.06-.94L8.5 2.5l-.94 2.06-2.06.94zm10 10l.94 2.06.94-2.06 2.06-.94-2.06-.94-.94-2.06-.94 2.06-2.06.94z\"/><path d=\"M17.41 7.96l-1.37-1.37c-.4-.4-.92-.59-1.43-.59-.52 0-1.04.2-1.43.59L10.3 9.45l-7.72 7.72c-.78.78-.78 2.05 0 2.83L4 21.41c.39.39.9.59 1.41.59.51 0 1.02-.2 1.41-.59l7.78-7.78 2.81-2.81c.8-.78.8-2.07 0-2.86zM5.41 20L4 18.59l7.72-7.72 1.47 1.35L5.41 20z\"/>\n",
              "  </svg>\n",
              "      </button>\n",
              "      \n",
              "  <style>\n",
              "    .colab-df-container {\n",
              "      display:flex;\n",
              "      flex-wrap:wrap;\n",
              "      gap: 12px;\n",
              "    }\n",
              "\n",
              "    .colab-df-convert {\n",
              "      background-color: #E8F0FE;\n",
              "      border: none;\n",
              "      border-radius: 50%;\n",
              "      cursor: pointer;\n",
              "      display: none;\n",
              "      fill: #1967D2;\n",
              "      height: 32px;\n",
              "      padding: 0 0 0 0;\n",
              "      width: 32px;\n",
              "    }\n",
              "\n",
              "    .colab-df-convert:hover {\n",
              "      background-color: #E2EBFA;\n",
              "      box-shadow: 0px 1px 2px rgba(60, 64, 67, 0.3), 0px 1px 3px 1px rgba(60, 64, 67, 0.15);\n",
              "      fill: #174EA6;\n",
              "    }\n",
              "\n",
              "    [theme=dark] .colab-df-convert {\n",
              "      background-color: #3B4455;\n",
              "      fill: #D2E3FC;\n",
              "    }\n",
              "\n",
              "    [theme=dark] .colab-df-convert:hover {\n",
              "      background-color: #434B5C;\n",
              "      box-shadow: 0px 1px 3px 1px rgba(0, 0, 0, 0.15);\n",
              "      filter: drop-shadow(0px 1px 2px rgba(0, 0, 0, 0.3));\n",
              "      fill: #FFFFFF;\n",
              "    }\n",
              "  </style>\n",
              "\n",
              "      <script>\n",
              "        const buttonEl =\n",
              "          document.querySelector('#df-32c4ba92-d9a0-4a3e-8036-1317d8350b2b button.colab-df-convert');\n",
              "        buttonEl.style.display =\n",
              "          google.colab.kernel.accessAllowed ? 'block' : 'none';\n",
              "\n",
              "        async function convertToInteractive(key) {\n",
              "          const element = document.querySelector('#df-32c4ba92-d9a0-4a3e-8036-1317d8350b2b');\n",
              "          const dataTable =\n",
              "            await google.colab.kernel.invokeFunction('convertToInteractive',\n",
              "                                                     [key], {});\n",
              "          if (!dataTable) return;\n",
              "\n",
              "          const docLinkHtml = 'Like what you see? Visit the ' +\n",
              "            '<a target=\"_blank\" href=https://colab.research.google.com/notebooks/data_table.ipynb>data table notebook</a>'\n",
              "            + ' to learn more about interactive tables.';\n",
              "          element.innerHTML = '';\n",
              "          dataTable['output_type'] = 'display_data';\n",
              "          await google.colab.output.renderOutput(dataTable, element);\n",
              "          const docLink = document.createElement('div');\n",
              "          docLink.innerHTML = docLinkHtml;\n",
              "          element.appendChild(docLink);\n",
              "        }\n",
              "      </script>\n",
              "    </div>\n",
              "  </div>\n",
              "  "
            ]
          },
          "metadata": {},
          "execution_count": 16
        }
      ],
      "source": [
        "# Uploaded stock price csv\n",
        "finance_data = pd.read_csv('/content/StockPrice-Hybrid-Model-/Finance Data/finance.csv')\n",
        "finance_data.head()"
      ]
    },
    {
      "cell_type": "code",
      "execution_count": 17,
      "metadata": {
        "id": "ityTOSozpTZk"
      },
      "outputs": [],
      "source": [
        "MSFT_Data = finance_data[finance_data['ticker']=='MSFT']\n",
        "Google_Data = finance_data[finance_data['ticker']=='GOOG']\n",
        "# This function is used to get the train data and test data\n",
        "def data_preparation(df):\n",
        "  data=df[[\"date\",\"adj_close\"]]\n",
        "  data = data.rename(columns = {'date':'ds', 'adj_close':'y'})\n",
        "  return data\n"
      ]
    },
    {
      "cell_type": "code",
      "execution_count": null,
      "metadata": {
        "id": "wCeMZTq7pilV"
      },
      "outputs": [],
      "source": [
        "# Define parameter grid to search over\n",
        "param_grid = {\n",
        "    'seasonality_mode': ['additive', 'multiplicative'],\n",
        "    'changepoint_prior_scale': [0.01, 0.1, 1.0],\n",
        "    'seasonality_prior_scale': [0.01, 0.1, 1.0],\n",
        "}\n",
        "\n",
        "# Initialize minimum error and best parameters\n",
        "min_error = float('inf')\n",
        "best_params = {}\n",
        "\n",
        "# Loop through all parameter combinations\n",
        "for params in ParameterGrid(param_grid):\n",
        "    print('Testing parameters:', params)\n",
        "\n",
        "    # Initialize Prophet model with specified hyperparameters\n",
        "    model = Prophet(**params)\n",
        "    model.fit(data_preparation(MSFT_Data))\n",
        "\n",
        "    # Perform time series cross-validation\n",
        "    df_cv = cross_validation(model=model, initial='1000 days', horizon='10 days', period='10 days')\n",
        "\n",
        "    # Calculate performance metrics\n",
        "    df_metrics = performance_metrics(df_cv)\n",
        "\n",
        "    # Calculate mean cross-validation error\n",
        "    mean_cv_error = df_metrics['mse'].mean()\n",
        "\n",
        "    # Update minimum error and best parameters if new minimum is found\n",
        "    if mean_cv_error < min_error:\n",
        "        min_error = mean_cv_error\n",
        "        best_params = params\n",
        "\n",
        "# Print best hyperparameters and corresponding error\n",
        "print('Best parameters:', best_params)\n",
        "print('Minimum cross-validation error:', min_error)"
      ]
    },
    {
      "cell_type": "markdown",
      "source": [
        "### 4.3.1 Forecasting with Prophet"
      ],
      "metadata": {
        "id": "pKF3O_Nh3TBX"
      }
    },
    {
      "cell_type": "code",
      "source": [
        "def get_data(df):\n",
        "  Best_parameters={'changepoint_prior_scale': 0.1, 'seasonality_mode': 'multiplicative', 'seasonality_prior_scale': 1.0}\n",
        "  # We use the best parameter to fit the model\n",
        "  final_model = Prophet(**Best_parameters)\n",
        "  final_model.fit(data_preparation(df))\n",
        "  df = cross_validation(model=final_model, initial='124 days', horizon='10 days', period='10 days')\n",
        "  return df"
      ],
      "metadata": {
        "id": "_YaoHZfcwUgS"
      },
      "execution_count": 18,
      "outputs": []
    },
    {
      "cell_type": "code",
      "source": [
        "MSFT_train_data = get_data(MSFT_Data)[['ds', 'yhat']]\n",
        "MSFT_train_data.head()"
      ],
      "metadata": {
        "id": "h9e1cpWLrA3w"
      },
      "execution_count": null,
      "outputs": []
    },
    {
      "cell_type": "code",
      "execution_count": null,
      "metadata": {
        "id": "HKLDcUbZplU8"
      },
      "outputs": [],
      "source": [
        "Google_train_data = get_data(Google_Data)[['ds', 'yhat']]\n",
        "Google_train_data.head()"
      ]
    },
    {
      "cell_type": "code",
      "source": [
        "def prep_prophet(prophet_pred, data1):\n",
        "  prophet_pred = prophet_pred.rename(columns = {'ds': 'date'}).set_index('date')\n",
        "  main_data = data1.join(prophet_pred,how = 'left')\n",
        "  returned = main_data.loc['2018-01-01':'2023-02-01', 'yhat']\n",
        "  return returned\n",
        "\n",
        "goog_data = prep_prophet(Google_train_data, frames[0])[10:]\n",
        "msft_train_data = prep_prophet(MSFT_train_data, frames[1])[10:1153]\n",
        "msft_test_data = prep_prophet(MSFT_train_data, frames[1])[1153:]\n"
      ],
      "metadata": {
        "id": "FZPFqFwELZor"
      },
      "execution_count": 21,
      "outputs": []
    },
    {
      "cell_type": "markdown",
      "source": [
        "##4.4 Hybrid Model "
      ],
      "metadata": {
        "id": "PcwGoRLD3ob9"
      }
    },
    {
      "cell_type": "markdown",
      "source": [
        " ### 4.4.1 Define Training Data Using Ouputs from Standalone Models MSFT"
      ],
      "metadata": {
        "id": "vO346BrO3tbh"
      }
    },
    {
      "cell_type": "code",
      "source": [
        "#creating y_hybrid from y_train of the LSTM model\n",
        "print(y_train.shape)\n",
        "y_hybrid= y_train\n",
        "print(y_train.shape, y_hybrid.shape)\n",
        "print(goog_data.shape)"
      ],
      "metadata": {
        "id": "4Sd_Z9HUg74v",
        "outputId": "eaa3ba79-9356-4fec-fc8e-d37b964c0847",
        "colab": {
          "base_uri": "https://localhost:8080/"
        }
      },
      "execution_count": 23,
      "outputs": [
        {
          "output_type": "stream",
          "name": "stdout",
          "text": [
            "(1143, 1)\n",
            "(1143, 1) (1143, 1)\n",
            "(1270,)\n"
          ]
        }
      ]
    },
    {
      "cell_type": "code",
      "source": [
        "#verifying that outputs from both the LSTM and Prohet models match in size\n",
        "LSTM_MSFT_yhat = testmodel('/content/StockPrice-Hybrid-Model-/Models/LSTM_model.h5', X_train)\n",
        "print (\"LSTM:\", LSTM_MSFT_yhat.shape,\"\\n\",\"Prophet:\", msft_train_data.shape)\n",
        "\n",
        "#merging the the outcomes from the LSTM model and the Prophet model\n",
        "\n",
        "msft_hybrid = { 'LSTM':LSTM_MSFT_yhat.flatten(), 'prophet':np.array(msft_train_data), }\n",
        "msft_hybrid_df = pd.DataFrame(msft_hybrid)\n",
        "\n",
        "#scaling the MSFT_PROPHET column\n",
        "scaler2 = MinMaxScaler()\n",
        "msft_hybrid_df['prophet'] = scaler2.fit_transform(msft_hybrid_df[['prophet']])\n",
        "\n",
        "#Defining the data for the hybrid training\n",
        "X2_ft = np.array(msft_hybrid_df)\n",
        "print(\"y_hybrid\", y_hybrid.shape)\n",
        "\n",
        "X_train2,y_train2 = lstm_split(msft_hybrid_df,y_hybrid,len(msft_hybrid_df))\n"
      ],
      "metadata": {
        "id": "xA56glIFFmt_",
        "outputId": "a16d2145-9dee-4b48-ad1a-d3a4c6cef70c",
        "colab": {
          "base_uri": "https://localhost:8080/"
        }
      },
      "execution_count": 40,
      "outputs": [
        {
          "output_type": "stream",
          "name": "stderr",
          "text": [
            "WARNING:tensorflow:Error in loading the saved optimizer state. As a result, your model is starting with a freshly initialized optimizer.\n"
          ]
        },
        {
          "output_type": "stream",
          "name": "stdout",
          "text": [
            "36/36 [==============================] - 0s 4ms/step\n",
            "LSTM: (1143, 1) \n",
            " Prophet: (1143,)\n",
            "y_hybrid (1143, 1)\n"
          ]
        }
      ]
    },
    {
      "cell_type": "code",
      "source": [
        "#LSTM Framework for the hybrid model\n",
        "import tensorflow as tf\n",
        "from keras.models import Sequential\n",
        "from keras.layers import Dense, Dropout\n",
        "from keras.layers import LSTM\n",
        "from keras.callbacks import ReduceLROnPlateau, EarlyStopping\n",
        "from keras.metrics import Precision\n",
        "from keras.optimizers import Adam\n",
        "import keras_tuner\n",
        "\n",
        "\n",
        "#Hybrid model architecture and training\n",
        "LR = 0.01\n",
        "EPOCH = 300\n",
        "BATCH = 24\n",
        "hybrid = Sequential()\n",
        "hybrid.add(LSTM(units = 98, activation = \"sigmoid\", input_shape = (X_train2.shape[1], X_train2.shape[2]), return_sequences = False))\n",
        "hybrid.add(Dropout(0.5))\n",
        "hybrid.add(Dense(units =1))\n",
        "hybrid.compile(loss = 'mean_squared_error', optimizer = Adam(lr = LR), metrics = [\"mae\"])\n",
        "Early_stop = EarlyStopping(monitor='loss', min_delta=0, \n",
        "                           patience=25, verbose=1, mode='auto',\n",
        "                           baseline=0, restore_best_weights=True)\n",
        "\n",
        "hybrid_history = hybrid.fit(X_train2, y_train2, epochs = EPOCH, batch_size = BATCH, callbacks = [Early_stop])\n",
        "\n",
        "hybrid_history.model.save('/content/StockPrice-Hybrid-Model-/Models/Hybrid_model1.h5')"
      ],
      "metadata": {
        "id": "kCCQfjFLXzbK"
      },
      "execution_count": null,
      "outputs": []
    },
    {
      "cell_type": "markdown",
      "source": [
        "###4.4.2 LOSS and MAE"
      ],
      "metadata": {
        "id": "KVvHEYbyqnJ-"
      }
    },
    {
      "cell_type": "code",
      "source": [
        "import matplotlib.pyplot as plt\n",
        "\n",
        "# plot MAE and loss\n",
        "#plt.figure(figsize=(10, 6))\n",
        "plt.plot(hybrid_history.history['mae'], label='MAE')\n",
        "plt.plot(hybrid_history.history['loss'], label='loss')\n",
        "plt.xlabel('epoch')\n",
        "plt.legend()\n",
        "plt.show()"
      ],
      "metadata": {
        "id": "Imdge7zmpZbg",
        "outputId": "62427dc7-f335-4105-83d8-198fff0c4c99",
        "colab": {
          "base_uri": "https://localhost:8080/",
          "height": 449
        }
      },
      "execution_count": 26,
      "outputs": [
        {
          "output_type": "display_data",
          "data": {
            "text/plain": [
              "<Figure size 640x480 with 1 Axes>"
            ],
            "image/png": "[encoded data removed]"
          },
          "metadata": {}
        }
      ]
    },
    {
      "cell_type": "markdown",
      "source": [
        "### 4.4.3 Comparing output of LSTM MSFT and Hybrid MSFT "
      ],
      "metadata": {
        "id": "t_Qg2ffM5O94"
      }
    },
    {
      "cell_type": "markdown",
      "source": [
        "###4.4.4 Hybrid Model Testing on GOOG"
      ],
      "metadata": {
        "id": "4MOhWXzr4UBk"
      }
    },
    {
      "cell_type": "code",
      "source": [
        "#merge lstm test prediction and prophet test prediction\n",
        "def merge_predictions(lstm_pred,prophet_pred):\n",
        "  data_dict = {}\n",
        "  scaler = MinMaxScaler()\n",
        "  data_dict['LSTM'] = lstm_pred.flatten()\n",
        "  data_dict['prophet'] = np.array(prophet_pred)\n",
        "  hybrid_test_data = pd.DataFrame(data_dict)\n",
        "  hybrid_test_data['prophet'] = scaler.fit_transform(hybrid_test_data[['prophet']])\n",
        "  return hybrid_test_data"
      ],
      "metadata": {
        "id": "KdUhpIOHa1WL"
      },
      "execution_count": 42,
      "outputs": []
    },
    {
      "cell_type": "code",
      "source": [
        "from keras.models import load_model\n",
        "MSFT_test_hybrid = merge_predictions(LSTM_MSFT_test, msft_test_data)\n",
        "MSFT_x_test, MSFT_y_test = lstm_split(MSFT_test_hybrid, y_test, len(MSFT_test_hybrid))\n",
        "MSFT_predictions = testmodel('/content/StockPrice-Hybrid-Model-/Models/Hybrid_model1.h5', MSFT_x_test)"
      ],
      "metadata": {
        "id": "qVN2U7eR5JjZ",
        "outputId": "5f71bd83-9b4a-4541-a695-9f68f27c35e1",
        "colab": {
          "base_uri": "https://localhost:8080/"
        }
      },
      "execution_count": 43,
      "outputs": [
        {
          "output_type": "stream",
          "name": "stdout",
          "text": [
            "4/4 [==============================] - 0s 7ms/step\n"
          ]
        }
      ]
    },
    {
      "cell_type": "code",
      "source": [
        "print(LSTM_GOOG_yhat.shape,goog_data.shape)\n",
        "GOOG_test_hybrid= merge_predictions(LSTM_GOOG_yhat, goog_data)\n",
        "GOOG_x_test, GOOG_y_test = lstm_split(GOOG_test_hybrid,google_target,len(GOOG_test_hybrid))\n",
        "GOOG_predictions = testmodel('/content/StockPrice-Hybrid-Model-/Models/Hybrid_model1.h5', GOOG_x_test)\n"
      ],
      "metadata": {
        "id": "QJ70I-U4djGM",
        "outputId": "8e2f4afe-8ba6-475e-f1d0-d36538244e1f",
        "colab": {
          "base_uri": "https://localhost:8080/"
        }
      },
      "execution_count": 44,
      "outputs": [
        {
          "output_type": "stream",
          "name": "stdout",
          "text": [
            "(1270, 1) (1270,)\n",
            "40/40 [==============================] - 0s 6ms/step\n"
          ]
        }
      ]
    },
    {
      "cell_type": "code",
      "source": [
        "def compute_metrics(true_series, forecast):\n",
        "    \"\"\"Helper to print MSE and MAE\"\"\"\n",
        "    mse = tf.keras.metrics.MeanSquaredError()\n",
        "    mse.update_state(true_series, forecast)\n",
        "    mae = tf.keras.metrics.MeanAbsoluteError()\n",
        "    mae.update_state(true_series, forecast)\n",
        "    print(f\"the mean square error of the predictions is {mse.result().numpy()}, and the mean absolute error of the predictions is {mae.result().numpy()}\")\n",
        "    return mse.result().numpy(), mae.result().numpy()"
      ],
      "metadata": {
        "id": "ncLTcVa95Kcm"
      },
      "execution_count": 80,
      "outputs": []
    },
    {
      "cell_type": "code",
      "source": [
        "from sklearn.linear_model import LinearRegression\n",
        "linear_model = LinearRegression()\n",
        "linear_model.fit(msft_hybrid_df,y_hybrid)\n",
        "linear_predictions_GOOG = linear_model.predict(GOOG_test_hybrid)\n",
        "linear_predictions_MSFT = linear_model.predict(MSFT_test_hybrid)"
      ],
      "metadata": {
        "id": "tm-RgGqAFUb3"
      },
      "execution_count": 73,
      "outputs": []
    },
    {
      "cell_type": "markdown",
      "source": [
        "###4.4.5 Predicted vs Actual Price"
      ],
      "metadata": {
        "id": "xrYhiS34s_ZC"
      }
    },
    {
      "cell_type": "code",
      "source": [
        "\n",
        "plt.plot(GOOG_y_test, label=\"True Values\")\n",
        "plt.plot(linear_predictions, label=\"Linear Hybrid\")\n",
        "plt.plot(GOOG_predictions, label=\"LSTM Hybrid\")\n",
        "plt.xlabel(\"Timesteps\")\n",
        "plt.ylabel(\"Value\")\n",
        "plt.tight_layout()\n",
        "sns.despine(top=True)\n",
        "plt.subplots_adjust(left=0.07)\n",
        "plt.legend()\n",
        "plt.show()"
      ],
      "metadata": {
        "id": "8mGVGqGXr0Ms",
        "colab": {
          "base_uri": "https://localhost:8080/",
          "height": 487
        },
        "outputId": "ef810f45-7ba2-4807-e4e3-33d7a8a8751c"
      },
      "execution_count": 72,
      "outputs": [
        {
          "output_type": "display_data",
          "data": {
            "text/plain": [
              "<Figure size 640x480 with 1 Axes>"
            ],
            "image/png": "[encoded data removed]"
          },
          "metadata": {}
        }
      ]
    },
    {
      "cell_type": "code",
      "source": [
        "import matplotlib.pyplot as plt\n",
        "x=np.arange(1,len(GOOG_y_test)+1, 1)\n",
        "plt.plot(GOOG_predictions.flatten(), \"r\", label= \"Hybrid\")\n",
        "plt.plot(LSTM_GOOG_yhat, \"b\", label= \"LSTM\")\n",
        "plt.plot(GOOG_y_test, \"g\", label= \"Actual\")\n",
        "\n",
        "plt.title(\" Hybrid predictions vs LSTM predictions vs Actual predictions for Google\")\n",
        "plt.xlabel('X_test entry')\n",
        "plt.legend()\n",
        "plt.show()"
      ],
      "metadata": {
        "id": "2U__MBgmTr6Q"
      },
      "execution_count": null,
      "outputs": []
    },
    {
      "cell_type": "markdown",
      "source": [
        "## Return Predictions to Original Scale for Final Analysis"
      ],
      "metadata": {
        "id": "hw2ELGw23l2N"
      }
    },
    {
      "cell_type": "code",
      "source": [
        "GOOG_scaler = \n",
        "MSFT_scaler = "
      ],
      "metadata": {
        "id": "HdC8JaJqK7fj"
      },
      "execution_count": null,
      "outputs": []
    },
    {
      "cell_type": "markdown",
      "source": [
        "#5.0 Multiple Company Model"
      ],
      "metadata": {
        "id": "OBubFDUDkcUe"
      }
    },
    {
      "cell_type": "markdown",
      "source": [
        "## 5.1 Generate Sub-models"
      ],
      "metadata": {
        "id": "O2hCgjUFm3cm"
      }
    },
    {
      "cell_type": "code",
      "source": [
        "def create_lists(list_of_df):\n",
        "  training_list = []\n",
        "  target_list = []\n",
        "  for i in range(len(list_of_df)):\n",
        "    scaler = MinMaxScaler()\n",
        "    data = list_of_df[i]\n",
        "    score = data['score']\n",
        "    target = scaler.fit_transform(data[['target']])\n",
        "    training = data.drop(['target', 'ticker', 'score'], axis = 1)\n",
        "    for col in training.columns:\n",
        "      training[col] = scaler.fit_transform(training[[col]])\n",
        "    training['score'] = score\n",
        "    data_x, data_y = lstm_split(training, target, len(training))\n",
        "    training_list.append(data_x)\n",
        "    target_list.append(data_y)\n",
        "  return training_list, target_list\n",
        "\n",
        "#General LSTM model based on randomsearch results\n",
        "def multiple_models(x_train, y_train):\n",
        "    hybrid = Sequential()\n",
        "    hybrid.add(LSTM(units = 98, activation = \"relu\", input_shape = (x_train.shape[1], x_train.shape[2]), return_sequences = False))\n",
        "    hybrid.add(Dropout(0.7))\n",
        "    hybrid.add(Dense(units =1, activation = 'sigmoid'))\n",
        "    hybrid.compile(loss = 'mean_squared_error', optimizer = Adam(lr = LR), metrics = [\"mean_squared_error\"])\n",
        "    Early_stop = EarlyStopping(monitor='val_loss', min_delta=0, \n",
        "                              patience=25, verbose=1, mode='auto',\n",
        "                              baseline=0, restore_best_weights=True)\n",
        "    hybrid.fit(x_train, y_train, epochs = 200, batch_size = 24, callbacks = [Early_stop])\n",
        "    return hybrid\n",
        "\n",
        "training_list, target_list = create_lists(frames[1:])\n",
        "for tick, x_train, y_train in zip(ticker_list, training_list, target_list):\n",
        "  model = multiple_models(x_train, y_train)\n",
        "  model.save('/content/StockPrice-Hybrid-Model-/sub_models/'+tick+'_lstm.h5')\n"
      ],
      "metadata": {
        "id": "BtDe3DZmkbsE"
      },
      "execution_count": null,
      "outputs": []
    },
    {
      "cell_type": "markdown",
      "source": [
        "### 5.1.1 Configure Hybrid Training Set and Train Hybrid Model"
      ],
      "metadata": {
        "id": "1lmxA1N7m6mt"
      }
    },
    {
      "cell_type": "code",
      "source": [
        "import os\n",
        "\n",
        "def hybrid_train(direct, ticker_list, hybrid_train, prophet, targets):\n",
        "    preds_dict = {}\n",
        "    path = direct\n",
        "    scaler = MinMaxScaler()\n",
        "    for num, model in enumerate(os.listdir(path)):\n",
        "        model = load_model(path+model)\n",
        "        prediction = model.predict(hybrid_train).flatten()\n",
        "        preds_dict[ticker_list[num]] = prediction\n",
        "    preds_df = pd.DataFrame(preds_dict)\n",
        "    preds_df['prophet'] = np.array(prophet)\n",
        "    preds_df['prophet'] = scaler.fit_transform(preds_df[['prophet']])\n",
        "    x1,y1 = lstm_split(preds_df, targets, len(preds_df))\n",
        "    return x1, y1, preds_df, targets\n",
        "\n",
        "ticker_list = [\"MSFT\", \"NFLX\", \"AMZN\", \"TSLA\"]\n",
        "hybrid_training_data, targets, preds_df, training_y =  hybrid_train('/content/StockPrice-Hybrid-Model-/sub_models/', ticker_list, X_train, msft_train_data, y_hybrid) \n",
        "hybrid_expanded = multiple_models(hybrid_training_data, targets)"
      ],
      "metadata": {
        "id": "zDz0AaKUw4b0",
        "outputId": "08d7c7c6-84ec-4d22-9937-fce49528b5b0",
        "colab": {
          "base_uri": "https://localhost:8080/"
        }
      },
      "execution_count": 60,
      "outputs": [
        {
          "output_type": "stream",
          "name": "stdout",
          "text": [
            "36/36 [==============================] - 1s 6ms/step\n",
            "36/36 [==============================] - 0s 6ms/step\n",
            "36/36 [==============================] - 0s 5ms/step\n",
            "36/36 [==============================] - 0s 4ms/step\n",
            "(1143, 1)\n",
            "(1133, 1)\n",
            "Epoch 1/200\n"
          ]
        },
        {
          "output_type": "stream",
          "name": "stderr",
          "text": [
            "/usr/local/lib/python3.9/dist-packages/keras/optimizers/legacy/adam.py:117: UserWarning: The `lr` argument is deprecated, use `learning_rate` instead.\n",
            "  super().__init__(name, **kwargs)\n"
          ]
        },
        {
          "output_type": "stream",
          "name": "stdout",
          "text": [
            "44/48 [==========================>...] - ETA: 0s - loss: 0.0224 - mean_squared_error: 0.0224"
          ]
        },
        {
          "output_type": "stream",
          "name": "stderr",
          "text": [
            "WARNING:tensorflow:Early stopping conditioned on metric `val_loss` which is not available. Available metrics are: loss,mean_squared_error\n"
          ]
        },
        {
          "output_type": "stream",
          "name": "stdout",
          "text": [
            "\b\b\b\b\b\b\b\b\b\b\b\b\b\b\b\b\b\b\b\b\b\b\b\b\b\b\b\b\b\b\b\b\b\b\b\b\b\b\b\b\b\b\b\b\b\b\b\b\b\b\b\b\b\b\b\b\b\b\b\b\b\b\b\b\b\b\b\b\b\b\b\b\b\b\b\b\b\b\b\b\b\b\b\b\b\b\b\b\b\b\b\b\r48/48 [==============================] - 2s 10ms/step - loss: 0.0212 - mean_squared_error: 0.0212\n",
            "Epoch 2/200\n",
            "43/48 [=========================>....] - ETA: 0s - loss: 0.0052 - mean_squared_error: 0.0052"
          ]
        },
        {
          "output_type": "stream",
          "name": "stderr",
          "text": [
            "WARNING:tensorflow:Early stopping conditioned on metric `val_loss` which is not available. Available metrics are: loss,mean_squared_error\n"
          ]
        },
        {
          "output_type": "stream",
          "name": "stdout",
          "text": [
            "\b\b\b\b\b\b\b\b\b\b\b\b\b\b\b\b\b\b\b\b\b\b\b\b\b\b\b\b\b\b\b\b\b\b\b\b\b\b\b\b\b\b\b\b\b\b\b\b\b\b\b\b\b\b\b\b\b\b\b\b\b\b\b\b\b\b\b\b\b\b\b\b\b\b\b\b\b\b\b\b\b\b\b\b\b\b\b\b\b\b\b\b\r48/48 [==============================] - 0s 9ms/step - loss: 0.0052 - mean_squared_error: 0.0052\n",
            "Epoch 3/200\n",
            "45/48 [===========================>..] - ETA: 0s - loss: 0.0058 - mean_squared_error: 0.0058"
          ]
        },
        {
          "output_type": "stream",
          "name": "stderr",
          "text": [
            "WARNING:tensorflow:Early stopping conditioned on metric `val_loss` which is not available. Available metrics are: loss,mean_squared_error\n"
          ]
        },
        {
          "output_type": "stream",
          "name": "stdout",
          "text": [
            "\b\b\b\b\b\b\b\b\b\b\b\b\b\b\b\b\b\b\b\b\b\b\b\b\b\b\b\b\b\b\b\b\b\b\b\b\b\b\b\b\b\b\b\b\b\b\b\b\b\b\b\b\b\b\b\b\b\b\b\b\b\b\b\b\b\b\b\b\b\b\b\b\b\b\b\b\b\b\b\b\b\b\b\b\b\b\b\b\b\b\b\b\r48/48 [==============================] - 0s 10ms/step - loss: 0.0057 - mean_squared_error: 0.0057\n",
            "Epoch 4/200\n",
            "47/48 [============================>.] - ETA: 0s - loss: 0.0050 - mean_squared_error: 0.0050"
          ]
        },
        {
          "output_type": "stream",
          "name": "stderr",
          "text": [
            "WARNING:tensorflow:Early stopping conditioned on metric `val_loss` which is not available. Available metrics are: loss,mean_squared_error\n"
          ]
        },
        {
          "output_type": "stream",
          "name": "stdout",
          "text": [
            "\b\b\b\b\b\b\b\b\b\b\b\b\b\b\b\b\b\b\b\b\b\b\b\b\b\b\b\b\b\b\b\b\b\b\b\b\b\b\b\b\b\b\b\b\b\b\b\b\b\b\b\b\b\b\b\b\b\b\b\b\b\b\b\b\b\b\b\b\b\b\b\b\b\b\b\b\b\b\b\b\b\b\b\b\b\b\b\b\b\b\b\b\r48/48 [==============================] - 0s 10ms/step - loss: 0.0050 - mean_squared_error: 0.0050\n",
            "Epoch 5/200\n",
            "47/48 [============================>.] - ETA: 0s - loss: 0.0050 - mean_squared_error: 0.0050"
          ]
        },
        {
          "output_type": "stream",
          "name": "stderr",
          "text": [
            "WARNING:tensorflow:Early stopping conditioned on metric `val_loss` which is not available. Available metrics are: loss,mean_squared_error\n"
          ]
        },
        {
          "output_type": "stream",
          "name": "stdout",
          "text": [
            "\b\b\b\b\b\b\b\b\b\b\b\b\b\b\b\b\b\b\b\b\b\b\b\b\b\b\b\b\b\b\b\b\b\b\b\b\b\b\b\b\b\b\b\b\b\b\b\b\b\b\b\b\b\b\b\b\b\b\b\b\b\b\b\b\b\b\b\b\b\b\b\b\b\b\b\b\b\b\b\b\b\b\b\b\b\b\b\b\b\b\b\b\r48/48 [==============================] - 0s 10ms/step - loss: 0.0050 - mean_squared_error: 0.0050\n",
            "Epoch 6/200\n",
            "42/48 [=========================>....] - ETA: 0s - loss: 0.0053 - mean_squared_error: 0.0053"
          ]
        },
        {
          "output_type": "stream",
          "name": "stderr",
          "text": [
            "WARNING:tensorflow:Early stopping conditioned on metric `val_loss` which is not available. Available metrics are: loss,mean_squared_error\n"
          ]
        },
        {
          "output_type": "stream",
          "name": "stdout",
          "text": [
            "\b\b\b\b\b\b\b\b\b\b\b\b\b\b\b\b\b\b\b\b\b\b\b\b\b\b\b\b\b\b\b\b\b\b\b\b\b\b\b\b\b\b\b\b\b\b\b\b\b\b\b\b\b\b\b\b\b\b\b\b\b\b\b\b\b\b\b\b\b\b\b\b\b\b\b\b\b\b\b\b\b\b\b\b\b\b\b\b\b\b\b\b\r48/48 [==============================] - 0s 9ms/step - loss: 0.0053 - mean_squared_error: 0.0053\n",
            "Epoch 7/200\n",
            "45/48 [===========================>..] - ETA: 0s - loss: 0.0053 - mean_squared_error: 0.0053"
          ]
        },
        {
          "output_type": "stream",
          "name": "stderr",
          "text": [
            "WARNING:tensorflow:Early stopping conditioned on metric `val_loss` which is not available. Available metrics are: loss,mean_squared_error\n"
          ]
        },
        {
          "output_type": "stream",
          "name": "stdout",
          "text": [
            "\b\b\b\b\b\b\b\b\b\b\b\b\b\b\b\b\b\b\b\b\b\b\b\b\b\b\b\b\b\b\b\b\b\b\b\b\b\b\b\b\b\b\b\b\b\b\b\b\b\b\b\b\b\b\b\b\b\b\b\b\b\b\b\b\b\b\b\b\b\b\b\b\b\b\b\b\b\b\b\b\b\b\b\b\b\b\b\b\b\b\b\b\r48/48 [==============================] - 1s 10ms/step - loss: 0.0054 - mean_squared_error: 0.0054\n",
            "Epoch 8/200\n",
            "45/48 [===========================>..] - ETA: 0s - loss: 0.0053 - mean_squared_error: 0.0053"
          ]
        },
        {
          "output_type": "stream",
          "name": "stderr",
          "text": [
            "WARNING:tensorflow:Early stopping conditioned on metric `val_loss` which is not available. Available metrics are: loss,mean_squared_error\n"
          ]
        },
        {
          "output_type": "stream",
          "name": "stdout",
          "text": [
            "\b\b\b\b\b\b\b\b\b\b\b\b\b\b\b\b\b\b\b\b\b\b\b\b\b\b\b\b\b\b\b\b\b\b\b\b\b\b\b\b\b\b\b\b\b\b\b\b\b\b\b\b\b\b\b\b\b\b\b\b\b\b\b\b\b\b\b\b\b\b\b\b\b\b\b\b\b\b\b\b\b\b\b\b\b\b\b\b\b\b\b\b\r48/48 [==============================] - 0s 10ms/step - loss: 0.0052 - mean_squared_error: 0.0052\n",
            "Epoch 9/200\n",
            "45/48 [===========================>..] - ETA: 0s - loss: 0.0050 - mean_squared_error: 0.0050"
          ]
        },
        {
          "output_type": "stream",
          "name": "stderr",
          "text": [
            "WARNING:tensorflow:Early stopping conditioned on metric `val_loss` which is not available. Available metrics are: loss,mean_squared_error\n"
          ]
        },
        {
          "output_type": "stream",
          "name": "stdout",
          "text": [
            "\b\b\b\b\b\b\b\b\b\b\b\b\b\b\b\b\b\b\b\b\b\b\b\b\b\b\b\b\b\b\b\b\b\b\b\b\b\b\b\b\b\b\b\b\b\b\b\b\b\b\b\b\b\b\b\b\b\b\b\b\b\b\b\b\b\b\b\b\b\b\b\b\b\b\b\b\b\b\b\b\b\b\b\b\b\b\b\b\b\b\b\b\r48/48 [==============================] - 0s 10ms/step - loss: 0.0050 - mean_squared_error: 0.0050\n",
            "Epoch 10/200\n",
            "48/48 [==============================] - ETA: 0s - loss: 0.0043 - mean_squared_error: 0.0043"
          ]
        },
        {
          "output_type": "stream",
          "name": "stderr",
          "text": [
            "WARNING:tensorflow:Early stopping conditioned on metric `val_loss` which is not available. Available metrics are: loss,mean_squared_error\n"
          ]
        },
        {
          "output_type": "stream",
          "name": "stdout",
          "text": [
            "\b\b\b\b\b\b\b\b\b\b\b\b\b\b\b\b\b\b\b\b\b\b\b\b\b\b\b\b\b\b\b\b\b\b\b\b\b\b\b\b\b\b\b\b\b\b\b\b\b\b\b\b\b\b\b\b\b\b\b\b\b\b\b\b\b\b\b\b\b\b\b\b\b\b\b\b\b\b\b\b\b\b\b\b\b\b\b\b\b\b\b\b\r48/48 [==============================] - 0s 9ms/step - loss: 0.0043 - mean_squared_error: 0.0043\n",
            "Epoch 11/200\n",
            "48/48 [==============================] - ETA: 0s - loss: 0.0052 - mean_squared_error: 0.0052"
          ]
        },
        {
          "output_type": "stream",
          "name": "stderr",
          "text": [
            "WARNING:tensorflow:Early stopping conditioned on metric `val_loss` which is not available. Available metrics are: loss,mean_squared_error\n"
          ]
        },
        {
          "output_type": "stream",
          "name": "stdout",
          "text": [
            "\b\b\b\b\b\b\b\b\b\b\b\b\b\b\b\b\b\b\b\b\b\b\b\b\b\b\b\b\b\b\b\b\b\b\b\b\b\b\b\b\b\b\b\b\b\b\b\b\b\b\b\b\b\b\b\b\b\b\b\b\b\b\b\b\b\b\b\b\b\b\b\b\b\b\b\b\b\b\b\b\b\b\b\b\b\b\b\b\b\b\b\b\r48/48 [==============================] - 0s 10ms/step - loss: 0.0052 - mean_squared_error: 0.0052\n",
            "Epoch 12/200\n",
            "44/48 [==========================>...] - ETA: 0s - loss: 0.0040 - mean_squared_error: 0.0040"
          ]
        },
        {
          "output_type": "stream",
          "name": "stderr",
          "text": [
            "WARNING:tensorflow:Early stopping conditioned on metric `val_loss` which is not available. Available metrics are: loss,mean_squared_error\n"
          ]
        },
        {
          "output_type": "stream",
          "name": "stdout",
          "text": [
            "\b\b\b\b\b\b\b\b\b\b\b\b\b\b\b\b\b\b\b\b\b\b\b\b\b\b\b\b\b\b\b\b\b\b\b\b\b\b\b\b\b\b\b\b\b\b\b\b\b\b\b\b\b\b\b\b\b\b\b\b\b\b\b\b\b\b\b\b\b\b\b\b\b\b\b\b\b\b\b\b\b\b\b\b\b\b\b\b\b\b\b\b\r48/48 [==============================] - 0s 10ms/step - loss: 0.0040 - mean_squared_error: 0.0040\n",
            "Epoch 13/200\n",
            "48/48 [==============================] - ETA: 0s - loss: 0.0043 - mean_squared_error: 0.0043"
          ]
        },
        {
          "output_type": "stream",
          "name": "stderr",
          "text": [
            "WARNING:tensorflow:Early stopping conditioned on metric `val_loss` which is not available. Available metrics are: loss,mean_squared_error\n"
          ]
        },
        {
          "output_type": "stream",
          "name": "stdout",
          "text": [
            "\b\b\b\b\b\b\b\b\b\b\b\b\b\b\b\b\b\b\b\b\b\b\b\b\b\b\b\b\b\b\b\b\b\b\b\b\b\b\b\b\b\b\b\b\b\b\b\b\b\b\b\b\b\b\b\b\b\b\b\b\b\b\b\b\b\b\b\b\b\b\b\b\b\b\b\b\b\b\b\b\b\b\b\b\b\b\b\b\b\b\b\b\r48/48 [==============================] - 0s 10ms/step - loss: 0.0043 - mean_squared_error: 0.0043\n",
            "Epoch 14/200\n",
            "44/48 [==========================>...] - ETA: 0s - loss: 0.0042 - mean_squared_error: 0.0042"
          ]
        },
        {
          "output_type": "stream",
          "name": "stderr",
          "text": [
            "WARNING:tensorflow:Early stopping conditioned on metric `val_loss` which is not available. Available metrics are: loss,mean_squared_error\n"
          ]
        },
        {
          "output_type": "stream",
          "name": "stdout",
          "text": [
            "\b\b\b\b\b\b\b\b\b\b\b\b\b\b\b\b\b\b\b\b\b\b\b\b\b\b\b\b\b\b\b\b\b\b\b\b\b\b\b\b\b\b\b\b\b\b\b\b\b\b\b\b\b\b\b\b\b\b\b\b\b\b\b\b\b\b\b\b\b\b\b\b\b\b\b\b\b\b\b\b\b\b\b\b\b\b\b\b\b\b\b\b\r48/48 [==============================] - 0s 10ms/step - loss: 0.0042 - mean_squared_error: 0.0042\n",
            "Epoch 15/200\n",
            "48/48 [==============================] - ETA: 0s - loss: 0.0044 - mean_squared_error: 0.0044"
          ]
        },
        {
          "output_type": "stream",
          "name": "stderr",
          "text": [
            "WARNING:tensorflow:Early stopping conditioned on metric `val_loss` which is not available. Available metrics are: loss,mean_squared_error\n"
          ]
        },
        {
          "output_type": "stream",
          "name": "stdout",
          "text": [
            "\b\b\b\b\b\b\b\b\b\b\b\b\b\b\b\b\b\b\b\b\b\b\b\b\b\b\b\b\b\b\b\b\b\b\b\b\b\b\b\b\b\b\b\b\b\b\b\b\b\b\b\b\b\b\b\b\b\b\b\b\b\b\b\b\b\b\b\b\b\b\b\b\b\b\b\b\b\b\b\b\b\b\b\b\b\b\b\b\b\b\b\b\r48/48 [==============================] - 0s 9ms/step - loss: 0.0044 - mean_squared_error: 0.0044\n",
            "Epoch 16/200\n",
            "46/48 [===========================>..] - ETA: 0s - loss: 0.0045 - mean_squared_error: 0.0045"
          ]
        },
        {
          "output_type": "stream",
          "name": "stderr",
          "text": [
            "WARNING:tensorflow:Early stopping conditioned on metric `val_loss` which is not available. Available metrics are: loss,mean_squared_error\n"
          ]
        },
        {
          "output_type": "stream",
          "name": "stdout",
          "text": [
            "\b\b\b\b\b\b\b\b\b\b\b\b\b\b\b\b\b\b\b\b\b\b\b\b\b\b\b\b\b\b\b\b\b\b\b\b\b\b\b\b\b\b\b\b\b\b\b\b\b\b\b\b\b\b\b\b\b\b\b\b\b\b\b\b\b\b\b\b\b\b\b\b\b\b\b\b\b\b\b\b\b\b\b\b\b\b\b\b\b\b\b\b\r48/48 [==============================] - 0s 10ms/step - loss: 0.0045 - mean_squared_error: 0.0045\n",
            "Epoch 17/200\n",
            "48/48 [==============================] - ETA: 0s - loss: 0.0040 - mean_squared_error: 0.0040"
          ]
        },
        {
          "output_type": "stream",
          "name": "stderr",
          "text": [
            "WARNING:tensorflow:Early stopping conditioned on metric `val_loss` which is not available. Available metrics are: loss,mean_squared_error\n"
          ]
        },
        {
          "output_type": "stream",
          "name": "stdout",
          "text": [
            "\b\b\b\b\b\b\b\b\b\b\b\b\b\b\b\b\b\b\b\b\b\b\b\b\b\b\b\b\b\b\b\b\b\b\b\b\b\b\b\b\b\b\b\b\b\b\b\b\b\b\b\b\b\b\b\b\b\b\b\b\b\b\b\b\b\b\b\b\b\b\b\b\b\b\b\b\b\b\b\b\b\b\b\b\b\b\b\b\b\b\b\b\r48/48 [==============================] - 1s 13ms/step - loss: 0.0040 - mean_squared_error: 0.0040\n",
            "Epoch 18/200\n",
            "48/48 [==============================] - ETA: 0s - loss: 0.0045 - mean_squared_error: 0.0045"
          ]
        },
        {
          "output_type": "stream",
          "name": "stderr",
          "text": [
            "WARNING:tensorflow:Early stopping conditioned on metric `val_loss` which is not available. Available metrics are: loss,mean_squared_error\n"
          ]
        },
        {
          "output_type": "stream",
          "name": "stdout",
          "text": [
            "\b\b\b\b\b\b\b\b\b\b\b\b\b\b\b\b\b\b\b\b\b\b\b\b\b\b\b\b\b\b\b\b\b\b\b\b\b\b\b\b\b\b\b\b\b\b\b\b\b\b\b\b\b\b\b\b\b\b\b\b\b\b\b\b\b\b\b\b\b\b\b\b\b\b\b\b\b\b\b\b\b\b\b\b\b\b\b\b\b\b\b\b\r48/48 [==============================] - 1s 14ms/step - loss: 0.0045 - mean_squared_error: 0.0045\n",
            "Epoch 19/200\n",
            "47/48 [============================>.] - ETA: 0s - loss: 0.0041 - mean_squared_error: 0.0041"
          ]
        },
        {
          "output_type": "stream",
          "name": "stderr",
          "text": [
            "WARNING:tensorflow:Early stopping conditioned on metric `val_loss` which is not available. Available metrics are: loss,mean_squared_error\n"
          ]
        },
        {
          "output_type": "stream",
          "name": "stdout",
          "text": [
            "\b\b\b\b\b\b\b\b\b\b\b\b\b\b\b\b\b\b\b\b\b\b\b\b\b\b\b\b\b\b\b\b\b\b\b\b\b\b\b\b\b\b\b\b\b\b\b\b\b\b\b\b\b\b\b\b\b\b\b\b\b\b\b\b\b\b\b\b\b\b\b\b\b\b\b\b\b\b\b\b\b\b\b\b\b\b\b\b\b\b\b\b\r48/48 [==============================] - 1s 15ms/step - loss: 0.0041 - mean_squared_error: 0.0041\n",
            "Epoch 20/200\n",
            "47/48 [============================>.] - ETA: 0s - loss: 0.0039 - mean_squared_error: 0.0039"
          ]
        },
        {
          "output_type": "stream",
          "name": "stderr",
          "text": [
            "WARNING:tensorflow:Early stopping conditioned on metric `val_loss` which is not available. Available metrics are: loss,mean_squared_error\n"
          ]
        },
        {
          "output_type": "stream",
          "name": "stdout",
          "text": [
            "\b\b\b\b\b\b\b\b\b\b\b\b\b\b\b\b\b\b\b\b\b\b\b\b\b\b\b\b\b\b\b\b\b\b\b\b\b\b\b\b\b\b\b\b\b\b\b\b\b\b\b\b\b\b\b\b\b\b\b\b\b\b\b\b\b\b\b\b\b\b\b\b\b\b\b\b\b\b\b\b\b\b\b\b\b\b\b\b\b\b\b\b\r48/48 [==============================] - 1s 15ms/step - loss: 0.0039 - mean_squared_error: 0.0039\n",
            "Epoch 21/200\n",
            "47/48 [============================>.] - ETA: 0s - loss: 0.0043 - mean_squared_error: 0.0043"
          ]
        },
        {
          "output_type": "stream",
          "name": "stderr",
          "text": [
            "WARNING:tensorflow:Early stopping conditioned on metric `val_loss` which is not available. Available metrics are: loss,mean_squared_error\n"
          ]
        },
        {
          "output_type": "stream",
          "name": "stdout",
          "text": [
            "\b\b\b\b\b\b\b\b\b\b\b\b\b\b\b\b\b\b\b\b\b\b\b\b\b\b\b\b\b\b\b\b\b\b\b\b\b\b\b\b\b\b\b\b\b\b\b\b\b\b\b\b\b\b\b\b\b\b\b\b\b\b\b\b\b\b\b\b\b\b\b\b\b\b\b\b\b\b\b\b\b\b\b\b\b\b\b\b\b\b\b\b\r48/48 [==============================] - 1s 15ms/step - loss: 0.0043 - mean_squared_error: 0.0043\n",
            "Epoch 22/200\n",
            "48/48 [==============================] - ETA: 0s - loss: 0.0043 - mean_squared_error: 0.0043"
          ]
        },
        {
          "output_type": "stream",
          "name": "stderr",
          "text": [
            "WARNING:tensorflow:Early stopping conditioned on metric `val_loss` which is not available. Available metrics are: loss,mean_squared_error\n"
          ]
        },
        {
          "output_type": "stream",
          "name": "stdout",
          "text": [
            "\b\b\b\b\b\b\b\b\b\b\b\b\b\b\b\b\b\b\b\b\b\b\b\b\b\b\b\b\b\b\b\b\b\b\b\b\b\b\b\b\b\b\b\b\b\b\b\b\b\b\b\b\b\b\b\b\b\b\b\b\b\b\b\b\b\b\b\b\b\b\b\b\b\b\b\b\b\b\b\b\b\b\b\b\b\b\b\b\b\b\b\b\r48/48 [==============================] - 1s 15ms/step - loss: 0.0043 - mean_squared_error: 0.0043\n",
            "Epoch 23/200\n",
            "47/48 [============================>.] - ETA: 0s - loss: 0.0039 - mean_squared_error: 0.0039"
          ]
        },
        {
          "output_type": "stream",
          "name": "stderr",
          "text": [
            "WARNING:tensorflow:Early stopping conditioned on metric `val_loss` which is not available. Available metrics are: loss,mean_squared_error\n"
          ]
        },
        {
          "output_type": "stream",
          "name": "stdout",
          "text": [
            "\b\b\b\b\b\b\b\b\b\b\b\b\b\b\b\b\b\b\b\b\b\b\b\b\b\b\b\b\b\b\b\b\b\b\b\b\b\b\b\b\b\b\b\b\b\b\b\b\b\b\b\b\b\b\b\b\b\b\b\b\b\b\b\b\b\b\b\b\b\b\b\b\b\b\b\b\b\b\b\b\b\b\b\b\b\b\b\b\b\b\b\b\r48/48 [==============================] - 1s 15ms/step - loss: 0.0039 - mean_squared_error: 0.0039\n",
            "Epoch 24/200\n",
            "48/48 [==============================] - ETA: 0s - loss: 0.0046 - mean_squared_error: 0.0046"
          ]
        },
        {
          "output_type": "stream",
          "name": "stderr",
          "text": [
            "WARNING:tensorflow:Early stopping conditioned on metric `val_loss` which is not available. Available metrics are: loss,mean_squared_error\n"
          ]
        },
        {
          "output_type": "stream",
          "name": "stdout",
          "text": [
            "\b\b\b\b\b\b\b\b\b\b\b\b\b\b\b\b\b\b\b\b\b\b\b\b\b\b\b\b\b\b\b\b\b\b\b\b\b\b\b\b\b\b\b\b\b\b\b\b\b\b\b\b\b\b\b\b\b\b\b\b\b\b\b\b\b\b\b\b\b\b\b\b\b\b\b\b\b\b\b\b\b\b\b\b\b\b\b\b\b\b\b\b\r48/48 [==============================] - 1s 14ms/step - loss: 0.0046 - mean_squared_error: 0.0046\n",
            "Epoch 25/200\n",
            "47/48 [============================>.] - ETA: 0s - loss: 0.0046 - mean_squared_error: 0.0046"
          ]
        },
        {
          "output_type": "stream",
          "name": "stderr",
          "text": [
            "WARNING:tensorflow:Early stopping conditioned on metric `val_loss` which is not available. Available metrics are: loss,mean_squared_error\n"
          ]
        },
        {
          "output_type": "stream",
          "name": "stdout",
          "text": [
            "\b\b\b\b\b\b\b\b\b\b\b\b\b\b\b\b\b\b\b\b\b\b\b\b\b\b\b\b\b\b\b\b\b\b\b\b\b\b\b\b\b\b\b\b\b\b\b\b\b\b\b\b\b\b\b\b\b\b\b\b\b\b\b\b\b\b\b\b\b\b\b\b\b\b\b\b\b\b\b\b\b\b\b\b\b\b\b\b\b\b\b\b\r48/48 [==============================] - 0s 10ms/step - loss: 0.0046 - mean_squared_error: 0.0046\n",
            "Epoch 26/200\n",
            "46/48 [===========================>..] - ETA: 0s - loss: 0.0039 - mean_squared_error: 0.0039"
          ]
        },
        {
          "output_type": "stream",
          "name": "stderr",
          "text": [
            "WARNING:tensorflow:Early stopping conditioned on metric `val_loss` which is not available. Available metrics are: loss,mean_squared_error\n"
          ]
        },
        {
          "output_type": "stream",
          "name": "stdout",
          "text": [
            "\b\b\b\b\b\b\b\b\b\b\b\b\b\b\b\b\b\b\b\b\b\b\b\b\b\b\b\b\b\b\b\b\b\b\b\b\b\b\b\b\b\b\b\b\b\b\b\b\b\b\b\b\b\b\b\b\b\b\b\b\b\b\b\b\b\b\b\b\b\b\b\b\b\b\b\b\b\b\b\b\b\b\b\b\b\b\b\b\b\b\b\b\r48/48 [==============================] - 0s 10ms/step - loss: 0.0040 - mean_squared_error: 0.0040\n",
            "Epoch 27/200\n",
            "43/48 [=========================>....] - ETA: 0s - loss: 0.0038 - mean_squared_error: 0.0038"
          ]
        },
        {
          "output_type": "stream",
          "name": "stderr",
          "text": [
            "WARNING:tensorflow:Early stopping conditioned on metric `val_loss` which is not available. Available metrics are: loss,mean_squared_error\n"
          ]
        },
        {
          "output_type": "stream",
          "name": "stdout",
          "text": [
            "\b\b\b\b\b\b\b\b\b\b\b\b\b\b\b\b\b\b\b\b\b\b\b\b\b\b\b\b\b\b\b\b\b\b\b\b\b\b\b\b\b\b\b\b\b\b\b\b\b\b\b\b\b\b\b\b\b\b\b\b\b\b\b\b\b\b\b\b\b\b\b\b\b\b\b\b\b\b\b\b\b\b\b\b\b\b\b\b\b\b\b\b\r48/48 [==============================] - 0s 10ms/step - loss: 0.0037 - mean_squared_error: 0.0037\n",
            "Epoch 28/200\n",
            "48/48 [==============================] - ETA: 0s - loss: 0.0042 - mean_squared_error: 0.0042"
          ]
        },
        {
          "output_type": "stream",
          "name": "stderr",
          "text": [
            "WARNING:tensorflow:Early stopping conditioned on metric `val_loss` which is not available. Available metrics are: loss,mean_squared_error\n"
          ]
        },
        {
          "output_type": "stream",
          "name": "stdout",
          "text": [
            "\b\b\b\b\b\b\b\b\b\b\b\b\b\b\b\b\b\b\b\b\b\b\b\b\b\b\b\b\b\b\b\b\b\b\b\b\b\b\b\b\b\b\b\b\b\b\b\b\b\b\b\b\b\b\b\b\b\b\b\b\b\b\b\b\b\b\b\b\b\b\b\b\b\b\b\b\b\b\b\b\b\b\b\b\b\b\b\b\b\b\b\b\r48/48 [==============================] - 0s 10ms/step - loss: 0.0042 - mean_squared_error: 0.0042\n",
            "Epoch 29/200\n",
            "43/48 [=========================>....] - ETA: 0s - loss: 0.0040 - mean_squared_error: 0.0040"
          ]
        },
        {
          "output_type": "stream",
          "name": "stderr",
          "text": [
            "WARNING:tensorflow:Early stopping conditioned on metric `val_loss` which is not available. Available metrics are: loss,mean_squared_error\n"
          ]
        },
        {
          "output_type": "stream",
          "name": "stdout",
          "text": [
            "\b\b\b\b\b\b\b\b\b\b\b\b\b\b\b\b\b\b\b\b\b\b\b\b\b\b\b\b\b\b\b\b\b\b\b\b\b\b\b\b\b\b\b\b\b\b\b\b\b\b\b\b\b\b\b\b\b\b\b\b\b\b\b\b\b\b\b\b\b\b\b\b\b\b\b\b\b\b\b\b\b\b\b\b\b\b\b\b\b\b\b\b\r48/48 [==============================] - 1s 10ms/step - loss: 0.0040 - mean_squared_error: 0.0040\n",
            "Epoch 30/200\n",
            "46/48 [===========================>..] - ETA: 0s - loss: 0.0042 - mean_squared_error: 0.0042"
          ]
        },
        {
          "output_type": "stream",
          "name": "stderr",
          "text": [
            "WARNING:tensorflow:Early stopping conditioned on metric `val_loss` which is not available. Available metrics are: loss,mean_squared_error\n"
          ]
        },
        {
          "output_type": "stream",
          "name": "stdout",
          "text": [
            "\b\b\b\b\b\b\b\b\b\b\b\b\b\b\b\b\b\b\b\b\b\b\b\b\b\b\b\b\b\b\b\b\b\b\b\b\b\b\b\b\b\b\b\b\b\b\b\b\b\b\b\b\b\b\b\b\b\b\b\b\b\b\b\b\b\b\b\b\b\b\b\b\b\b\b\b\b\b\b\b\b\b\b\b\b\b\b\b\b\b\b\b\r48/48 [==============================] - 0s 10ms/step - loss: 0.0042 - mean_squared_error: 0.0042\n",
            "Epoch 31/200\n",
            "46/48 [===========================>..] - ETA: 0s - loss: 0.0036 - mean_squared_error: 0.0036"
          ]
        },
        {
          "output_type": "stream",
          "name": "stderr",
          "text": [
            "WARNING:tensorflow:Early stopping conditioned on metric `val_loss` which is not available. Available metrics are: loss,mean_squared_error\n"
          ]
        },
        {
          "output_type": "stream",
          "name": "stdout",
          "text": [
            "\b\b\b\b\b\b\b\b\b\b\b\b\b\b\b\b\b\b\b\b\b\b\b\b\b\b\b\b\b\b\b\b\b\b\b\b\b\b\b\b\b\b\b\b\b\b\b\b\b\b\b\b\b\b\b\b\b\b\b\b\b\b\b\b\b\b\b\b\b\b\b\b\b\b\b\b\b\b\b\b\b\b\b\b\b\b\b\b\b\b\b\b\r48/48 [==============================] - 1s 11ms/step - loss: 0.0037 - mean_squared_error: 0.0037\n",
            "Epoch 32/200\n",
            "46/48 [===========================>..] - ETA: 0s - loss: 0.0038 - mean_squared_error: 0.0038"
          ]
        },
        {
          "output_type": "stream",
          "name": "stderr",
          "text": [
            "WARNING:tensorflow:Early stopping conditioned on metric `val_loss` which is not available. Available metrics are: loss,mean_squared_error\n"
          ]
        },
        {
          "output_type": "stream",
          "name": "stdout",
          "text": [
            "\b\b\b\b\b\b\b\b\b\b\b\b\b\b\b\b\b\b\b\b\b\b\b\b\b\b\b\b\b\b\b\b\b\b\b\b\b\b\b\b\b\b\b\b\b\b\b\b\b\b\b\b\b\b\b\b\b\b\b\b\b\b\b\b\b\b\b\b\b\b\b\b\b\b\b\b\b\b\b\b\b\b\b\b\b\b\b\b\b\b\b\b\r48/48 [==============================] - 0s 10ms/step - loss: 0.0038 - mean_squared_error: 0.0038\n",
            "Epoch 33/200\n",
            "47/48 [============================>.] - ETA: 0s - loss: 0.0042 - mean_squared_error: 0.0042"
          ]
        },
        {
          "output_type": "stream",
          "name": "stderr",
          "text": [
            "WARNING:tensorflow:Early stopping conditioned on metric `val_loss` which is not available. Available metrics are: loss,mean_squared_error\n"
          ]
        },
        {
          "output_type": "stream",
          "name": "stdout",
          "text": [
            "\b\b\b\b\b\b\b\b\b\b\b\b\b\b\b\b\b\b\b\b\b\b\b\b\b\b\b\b\b\b\b\b\b\b\b\b\b\b\b\b\b\b\b\b\b\b\b\b\b\b\b\b\b\b\b\b\b\b\b\b\b\b\b\b\b\b\b\b\b\b\b\b\b\b\b\b\b\b\b\b\b\b\b\b\b\b\b\b\b\b\b\b\r48/48 [==============================] - 0s 10ms/step - loss: 0.0041 - mean_squared_error: 0.0041\n",
            "Epoch 34/200\n",
            "43/48 [=========================>....] - ETA: 0s - loss: 0.0037 - mean_squared_error: 0.0037"
          ]
        },
        {
          "output_type": "stream",
          "name": "stderr",
          "text": [
            "WARNING:tensorflow:Early stopping conditioned on metric `val_loss` which is not available. Available metrics are: loss,mean_squared_error\n"
          ]
        },
        {
          "output_type": "stream",
          "name": "stdout",
          "text": [
            "\b\b\b\b\b\b\b\b\b\b\b\b\b\b\b\b\b\b\b\b\b\b\b\b\b\b\b\b\b\b\b\b\b\b\b\b\b\b\b\b\b\b\b\b\b\b\b\b\b\b\b\b\b\b\b\b\b\b\b\b\b\b\b\b\b\b\b\b\b\b\b\b\b\b\b\b\b\b\b\b\b\b\b\b\b\b\b\b\b\b\b\b\r48/48 [==============================] - 0s 9ms/step - loss: 0.0037 - mean_squared_error: 0.0037\n",
            "Epoch 35/200\n",
            "46/48 [===========================>..] - ETA: 0s - loss: 0.0040 - mean_squared_error: 0.0040"
          ]
        },
        {
          "output_type": "stream",
          "name": "stderr",
          "text": [
            "WARNING:tensorflow:Early stopping conditioned on metric `val_loss` which is not available. Available metrics are: loss,mean_squared_error\n"
          ]
        },
        {
          "output_type": "stream",
          "name": "stdout",
          "text": [
            "\b\b\b\b\b\b\b\b\b\b\b\b\b\b\b\b\b\b\b\b\b\b\b\b\b\b\b\b\b\b\b\b\b\b\b\b\b\b\b\b\b\b\b\b\b\b\b\b\b\b\b\b\b\b\b\b\b\b\b\b\b\b\b\b\b\b\b\b\b\b\b\b\b\b\b\b\b\b\b\b\b\b\b\b\b\b\b\b\b\b\b\b\r48/48 [==============================] - 0s 10ms/step - loss: 0.0040 - mean_squared_error: 0.0040\n",
            "Epoch 36/200\n",
            "45/48 [===========================>..] - ETA: 0s - loss: 0.0041 - mean_squared_error: 0.0041"
          ]
        },
        {
          "output_type": "stream",
          "name": "stderr",
          "text": [
            "WARNING:tensorflow:Early stopping conditioned on metric `val_loss` which is not available. Available metrics are: loss,mean_squared_error\n"
          ]
        },
        {
          "output_type": "stream",
          "name": "stdout",
          "text": [
            "\b\b\b\b\b\b\b\b\b\b\b\b\b\b\b\b\b\b\b\b\b\b\b\b\b\b\b\b\b\b\b\b\b\b\b\b\b\b\b\b\b\b\b\b\b\b\b\b\b\b\b\b\b\b\b\b\b\b\b\b\b\b\b\b\b\b\b\b\b\b\b\b\b\b\b\b\b\b\b\b\b\b\b\b\b\b\b\b\b\b\b\b\r48/48 [==============================] - 0s 10ms/step - loss: 0.0041 - mean_squared_error: 0.0041\n",
            "Epoch 37/200\n",
            "47/48 [============================>.] - ETA: 0s - loss: 0.0045 - mean_squared_error: 0.0045"
          ]
        },
        {
          "output_type": "stream",
          "name": "stderr",
          "text": [
            "WARNING:tensorflow:Early stopping conditioned on metric `val_loss` which is not available. Available metrics are: loss,mean_squared_error\n"
          ]
        },
        {
          "output_type": "stream",
          "name": "stdout",
          "text": [
            "\b\b\b\b\b\b\b\b\b\b\b\b\b\b\b\b\b\b\b\b\b\b\b\b\b\b\b\b\b\b\b\b\b\b\b\b\b\b\b\b\b\b\b\b\b\b\b\b\b\b\b\b\b\b\b\b\b\b\b\b\b\b\b\b\b\b\b\b\b\b\b\b\b\b\b\b\b\b\b\b\b\b\b\b\b\b\b\b\b\b\b\b\r48/48 [==============================] - 0s 10ms/step - loss: 0.0045 - mean_squared_error: 0.0045\n",
            "Epoch 38/200\n",
            "45/48 [===========================>..] - ETA: 0s - loss: 0.0036 - mean_squared_error: 0.0036"
          ]
        },
        {
          "output_type": "stream",
          "name": "stderr",
          "text": [
            "WARNING:tensorflow:Early stopping conditioned on metric `val_loss` which is not available. Available metrics are: loss,mean_squared_error\n"
          ]
        },
        {
          "output_type": "stream",
          "name": "stdout",
          "text": [
            "\b\b\b\b\b\b\b\b\b\b\b\b\b\b\b\b\b\b\b\b\b\b\b\b\b\b\b\b\b\b\b\b\b\b\b\b\b\b\b\b\b\b\b\b\b\b\b\b\b\b\b\b\b\b\b\b\b\b\b\b\b\b\b\b\b\b\b\b\b\b\b\b\b\b\b\b\b\b\b\b\b\b\b\b\b\b\b\b\b\b\b\b\r48/48 [==============================] - 0s 10ms/step - loss: 0.0037 - mean_squared_error: 0.0037\n",
            "Epoch 39/200\n",
            "44/48 [==========================>...] - ETA: 0s - loss: 0.0036 - mean_squared_error: 0.0036"
          ]
        },
        {
          "output_type": "stream",
          "name": "stderr",
          "text": [
            "WARNING:tensorflow:Early stopping conditioned on metric `val_loss` which is not available. Available metrics are: loss,mean_squared_error\n"
          ]
        },
        {
          "output_type": "stream",
          "name": "stdout",
          "text": [
            "\b\b\b\b\b\b\b\b\b\b\b\b\b\b\b\b\b\b\b\b\b\b\b\b\b\b\b\b\b\b\b\b\b\b\b\b\b\b\b\b\b\b\b\b\b\b\b\b\b\b\b\b\b\b\b\b\b\b\b\b\b\b\b\b\b\b\b\b\b\b\b\b\b\b\b\b\b\b\b\b\b\b\b\b\b\b\b\b\b\b\b\b\r48/48 [==============================] - 1s 10ms/step - loss: 0.0035 - mean_squared_error: 0.0035\n",
            "Epoch 40/200\n",
            "45/48 [===========================>..] - ETA: 0s - loss: 0.0040 - mean_squared_error: 0.0040"
          ]
        },
        {
          "output_type": "stream",
          "name": "stderr",
          "text": [
            "WARNING:tensorflow:Early stopping conditioned on metric `val_loss` which is not available. Available metrics are: loss,mean_squared_error\n"
          ]
        },
        {
          "output_type": "stream",
          "name": "stdout",
          "text": [
            "\b\b\b\b\b\b\b\b\b\b\b\b\b\b\b\b\b\b\b\b\b\b\b\b\b\b\b\b\b\b\b\b\b\b\b\b\b\b\b\b\b\b\b\b\b\b\b\b\b\b\b\b\b\b\b\b\b\b\b\b\b\b\b\b\b\b\b\b\b\b\b\b\b\b\b\b\b\b\b\b\b\b\b\b\b\b\b\b\b\b\b\b\r48/48 [==============================] - 0s 10ms/step - loss: 0.0040 - mean_squared_error: 0.0040\n",
            "Epoch 41/200\n",
            "47/48 [============================>.] - ETA: 0s - loss: 0.0033 - mean_squared_error: 0.0033"
          ]
        },
        {
          "output_type": "stream",
          "name": "stderr",
          "text": [
            "WARNING:tensorflow:Early stopping conditioned on metric `val_loss` which is not available. Available metrics are: loss,mean_squared_error\n"
          ]
        },
        {
          "output_type": "stream",
          "name": "stdout",
          "text": [
            "\b\b\b\b\b\b\b\b\b\b\b\b\b\b\b\b\b\b\b\b\b\b\b\b\b\b\b\b\b\b\b\b\b\b\b\b\b\b\b\b\b\b\b\b\b\b\b\b\b\b\b\b\b\b\b\b\b\b\b\b\b\b\b\b\b\b\b\b\b\b\b\b\b\b\b\b\b\b\b\b\b\b\b\b\b\b\b\b\b\b\b\b\r48/48 [==============================] - 0s 10ms/step - loss: 0.0033 - mean_squared_error: 0.0033\n",
            "Epoch 42/200\n",
            "47/48 [============================>.] - ETA: 0s - loss: 0.0034 - mean_squared_error: 0.0034"
          ]
        },
        {
          "output_type": "stream",
          "name": "stderr",
          "text": [
            "WARNING:tensorflow:Early stopping conditioned on metric `val_loss` which is not available. Available metrics are: loss,mean_squared_error\n"
          ]
        },
        {
          "output_type": "stream",
          "name": "stdout",
          "text": [
            "\b\b\b\b\b\b\b\b\b\b\b\b\b\b\b\b\b\b\b\b\b\b\b\b\b\b\b\b\b\b\b\b\b\b\b\b\b\b\b\b\b\b\b\b\b\b\b\b\b\b\b\b\b\b\b\b\b\b\b\b\b\b\b\b\b\b\b\b\b\b\b\b\b\b\b\b\b\b\b\b\b\b\b\b\b\b\b\b\b\b\b\b\r48/48 [==============================] - 0s 9ms/step - loss: 0.0034 - mean_squared_error: 0.0034\n",
            "Epoch 43/200\n",
            "43/48 [=========================>....] - ETA: 0s - loss: 0.0037 - mean_squared_error: 0.0037"
          ]
        },
        {
          "output_type": "stream",
          "name": "stderr",
          "text": [
            "WARNING:tensorflow:Early stopping conditioned on metric `val_loss` which is not available. Available metrics are: loss,mean_squared_error\n"
          ]
        },
        {
          "output_type": "stream",
          "name": "stdout",
          "text": [
            "\b\b\b\b\b\b\b\b\b\b\b\b\b\b\b\b\b\b\b\b\b\b\b\b\b\b\b\b\b\b\b\b\b\b\b\b\b\b\b\b\b\b\b\b\b\b\b\b\b\b\b\b\b\b\b\b\b\b\b\b\b\b\b\b\b\b\b\b\b\b\b\b\b\b\b\b\b\b\b\b\b\b\b\b\b\b\b\b\b\b\b\b\r48/48 [==============================] - 0s 10ms/step - loss: 0.0036 - mean_squared_error: 0.0036\n",
            "Epoch 44/200\n",
            "47/48 [============================>.] - ETA: 0s - loss: 0.0036 - mean_squared_error: 0.0036"
          ]
        },
        {
          "output_type": "stream",
          "name": "stderr",
          "text": [
            "WARNING:tensorflow:Early stopping conditioned on metric `val_loss` which is not available. Available metrics are: loss,mean_squared_error\n"
          ]
        },
        {
          "output_type": "stream",
          "name": "stdout",
          "text": [
            "\b\b\b\b\b\b\b\b\b\b\b\b\b\b\b\b\b\b\b\b\b\b\b\b\b\b\b\b\b\b\b\b\b\b\b\b\b\b\b\b\b\b\b\b\b\b\b\b\b\b\b\b\b\b\b\b\b\b\b\b\b\b\b\b\b\b\b\b\b\b\b\b\b\b\b\b\b\b\b\b\b\b\b\b\b\b\b\b\b\b\b\b\r48/48 [==============================] - 1s 11ms/step - loss: 0.0036 - mean_squared_error: 0.0036\n",
            "Epoch 45/200\n",
            "47/48 [============================>.] - ETA: 0s - loss: 0.0038 - mean_squared_error: 0.0038"
          ]
        },
        {
          "output_type": "stream",
          "name": "stderr",
          "text": [
            "WARNING:tensorflow:Early stopping conditioned on metric `val_loss` which is not available. Available metrics are: loss,mean_squared_error\n"
          ]
        },
        {
          "output_type": "stream",
          "name": "stdout",
          "text": [
            "\b\b\b\b\b\b\b\b\b\b\b\b\b\b\b\b\b\b\b\b\b\b\b\b\b\b\b\b\b\b\b\b\b\b\b\b\b\b\b\b\b\b\b\b\b\b\b\b\b\b\b\b\b\b\b\b\b\b\b\b\b\b\b\b\b\b\b\b\b\b\b\b\b\b\b\b\b\b\b\b\b\b\b\b\b\b\b\b\b\b\b\b\r48/48 [==============================] - 1s 15ms/step - loss: 0.0038 - mean_squared_error: 0.0038\n",
            "Epoch 46/200\n",
            "48/48 [==============================] - ETA: 0s - loss: 0.0040 - mean_squared_error: 0.0040"
          ]
        },
        {
          "output_type": "stream",
          "name": "stderr",
          "text": [
            "WARNING:tensorflow:Early stopping conditioned on metric `val_loss` which is not available. Available metrics are: loss,mean_squared_error\n"
          ]
        },
        {
          "output_type": "stream",
          "name": "stdout",
          "text": [
            "\b\b\b\b\b\b\b\b\b\b\b\b\b\b\b\b\b\b\b\b\b\b\b\b\b\b\b\b\b\b\b\b\b\b\b\b\b\b\b\b\b\b\b\b\b\b\b\b\b\b\b\b\b\b\b\b\b\b\b\b\b\b\b\b\b\b\b\b\b\b\b\b\b\b\b\b\b\b\b\b\b\b\b\b\b\b\b\b\b\b\b\b\r48/48 [==============================] - 1s 15ms/step - loss: 0.0040 - mean_squared_error: 0.0040\n",
            "Epoch 47/200\n",
            "48/48 [==============================] - ETA: 0s - loss: 0.0039 - mean_squared_error: 0.0039"
          ]
        },
        {
          "output_type": "stream",
          "name": "stderr",
          "text": [
            "WARNING:tensorflow:Early stopping conditioned on metric `val_loss` which is not available. Available metrics are: loss,mean_squared_error\n"
          ]
        },
        {
          "output_type": "stream",
          "name": "stdout",
          "text": [
            "\b\b\b\b\b\b\b\b\b\b\b\b\b\b\b\b\b\b\b\b\b\b\b\b\b\b\b\b\b\b\b\b\b\b\b\b\b\b\b\b\b\b\b\b\b\b\b\b\b\b\b\b\b\b\b\b\b\b\b\b\b\b\b\b\b\b\b\b\b\b\b\b\b\b\b\b\b\b\b\b\b\b\b\b\b\b\b\b\b\b\b\b\r48/48 [==============================] - 1s 15ms/step - loss: 0.0039 - mean_squared_error: 0.0039\n",
            "Epoch 48/200\n",
            "48/48 [==============================] - ETA: 0s - loss: 0.0040 - mean_squared_error: 0.0040"
          ]
        },
        {
          "output_type": "stream",
          "name": "stderr",
          "text": [
            "WARNING:tensorflow:Early stopping conditioned on metric `val_loss` which is not available. Available metrics are: loss,mean_squared_error\n"
          ]
        },
        {
          "output_type": "stream",
          "name": "stdout",
          "text": [
            "\b\b\b\b\b\b\b\b\b\b\b\b\b\b\b\b\b\b\b\b\b\b\b\b\b\b\b\b\b\b\b\b\b\b\b\b\b\b\b\b\b\b\b\b\b\b\b\b\b\b\b\b\b\b\b\b\b\b\b\b\b\b\b\b\b\b\b\b\b\b\b\b\b\b\b\b\b\b\b\b\b\b\b\b\b\b\b\b\b\b\b\b\r48/48 [==============================] - 1s 15ms/step - loss: 0.0040 - mean_squared_error: 0.0040\n",
            "Epoch 49/200\n",
            "47/48 [============================>.] - ETA: 0s - loss: 0.0037 - mean_squared_error: 0.0037"
          ]
        },
        {
          "output_type": "stream",
          "name": "stderr",
          "text": [
            "WARNING:tensorflow:Early stopping conditioned on metric `val_loss` which is not available. Available metrics are: loss,mean_squared_error\n"
          ]
        },
        {
          "output_type": "stream",
          "name": "stdout",
          "text": [
            "\b\b\b\b\b\b\b\b\b\b\b\b\b\b\b\b\b\b\b\b\b\b\b\b\b\b\b\b\b\b\b\b\b\b\b\b\b\b\b\b\b\b\b\b\b\b\b\b\b\b\b\b\b\b\b\b\b\b\b\b\b\b\b\b\b\b\b\b\b\b\b\b\b\b\b\b\b\b\b\b\b\b\b\b\b\b\b\b\b\b\b\b\r48/48 [==============================] - 1s 15ms/step - loss: 0.0037 - mean_squared_error: 0.0037\n",
            "Epoch 50/200\n",
            "48/48 [==============================] - ETA: 0s - loss: 0.0037 - mean_squared_error: 0.0037"
          ]
        },
        {
          "output_type": "stream",
          "name": "stderr",
          "text": [
            "WARNING:tensorflow:Early stopping conditioned on metric `val_loss` which is not available. Available metrics are: loss,mean_squared_error\n"
          ]
        },
        {
          "output_type": "stream",
          "name": "stdout",
          "text": [
            "\b\b\b\b\b\b\b\b\b\b\b\b\b\b\b\b\b\b\b\b\b\b\b\b\b\b\b\b\b\b\b\b\b\b\b\b\b\b\b\b\b\b\b\b\b\b\b\b\b\b\b\b\b\b\b\b\b\b\b\b\b\b\b\b\b\b\b\b\b\b\b\b\b\b\b\b\b\b\b\b\b\b\b\b\b\b\b\b\b\b\b\b\r48/48 [==============================] - 1s 15ms/step - loss: 0.0037 - mean_squared_error: 0.0037\n",
            "Epoch 51/200\n",
            "45/48 [===========================>..] - ETA: 0s - loss: 0.0048 - mean_squared_error: 0.0048"
          ]
        },
        {
          "output_type": "stream",
          "name": "stderr",
          "text": [
            "WARNING:tensorflow:Early stopping conditioned on metric `val_loss` which is not available. Available metrics are: loss,mean_squared_error\n"
          ]
        },
        {
          "output_type": "stream",
          "name": "stdout",
          "text": [
            "\b\b\b\b\b\b\b\b\b\b\b\b\b\b\b\b\b\b\b\b\b\b\b\b\b\b\b\b\b\b\b\b\b\b\b\b\b\b\b\b\b\b\b\b\b\b\b\b\b\b\b\b\b\b\b\b\b\b\b\b\b\b\b\b\b\b\b\b\b\b\b\b\b\b\b\b\b\b\b\b\b\b\b\b\b\b\b\b\b\b\b\b\r48/48 [==============================] - 1s 15ms/step - loss: 0.0048 - mean_squared_error: 0.0048\n",
            "Epoch 52/200\n",
            "47/48 [============================>.] - ETA: 0s - loss: 0.0035 - mean_squared_error: 0.0035"
          ]
        },
        {
          "output_type": "stream",
          "name": "stderr",
          "text": [
            "WARNING:tensorflow:Early stopping conditioned on metric `val_loss` which is not available. Available metrics are: loss,mean_squared_error\n"
          ]
        },
        {
          "output_type": "stream",
          "name": "stdout",
          "text": [
            "\b\b\b\b\b\b\b\b\b\b\b\b\b\b\b\b\b\b\b\b\b\b\b\b\b\b\b\b\b\b\b\b\b\b\b\b\b\b\b\b\b\b\b\b\b\b\b\b\b\b\b\b\b\b\b\b\b\b\b\b\b\b\b\b\b\b\b\b\b\b\b\b\b\b\b\b\b\b\b\b\b\b\b\b\b\b\b\b\b\b\b\b\r48/48 [==============================] - 0s 10ms/step - loss: 0.0035 - mean_squared_error: 0.0035\n",
            "Epoch 53/200\n",
            "45/48 [===========================>..] - ETA: 0s - loss: 0.0039 - mean_squared_error: 0.0039"
          ]
        },
        {
          "output_type": "stream",
          "name": "stderr",
          "text": [
            "WARNING:tensorflow:Early stopping conditioned on metric `val_loss` which is not available. Available metrics are: loss,mean_squared_error\n"
          ]
        },
        {
          "output_type": "stream",
          "name": "stdout",
          "text": [
            "\b\b\b\b\b\b\b\b\b\b\b\b\b\b\b\b\b\b\b\b\b\b\b\b\b\b\b\b\b\b\b\b\b\b\b\b\b\b\b\b\b\b\b\b\b\b\b\b\b\b\b\b\b\b\b\b\b\b\b\b\b\b\b\b\b\b\b\b\b\b\b\b\b\b\b\b\b\b\b\b\b\b\b\b\b\b\b\b\b\b\b\b\r48/48 [==============================] - 0s 10ms/step - loss: 0.0040 - mean_squared_error: 0.0040\n",
            "Epoch 54/200\n",
            "46/48 [===========================>..] - ETA: 0s - loss: 0.0038 - mean_squared_error: 0.0038"
          ]
        },
        {
          "output_type": "stream",
          "name": "stderr",
          "text": [
            "WARNING:tensorflow:Early stopping conditioned on metric `val_loss` which is not available. Available metrics are: loss,mean_squared_error\n"
          ]
        },
        {
          "output_type": "stream",
          "name": "stdout",
          "text": [
            "\b\b\b\b\b\b\b\b\b\b\b\b\b\b\b\b\b\b\b\b\b\b\b\b\b\b\b\b\b\b\b\b\b\b\b\b\b\b\b\b\b\b\b\b\b\b\b\b\b\b\b\b\b\b\b\b\b\b\b\b\b\b\b\b\b\b\b\b\b\b\b\b\b\b\b\b\b\b\b\b\b\b\b\b\b\b\b\b\b\b\b\b\r48/48 [==============================] - 0s 10ms/step - loss: 0.0038 - mean_squared_error: 0.0038\n",
            "Epoch 55/200\n",
            "46/48 [===========================>..] - ETA: 0s - loss: 0.0038 - mean_squared_error: 0.0038"
          ]
        },
        {
          "output_type": "stream",
          "name": "stderr",
          "text": [
            "WARNING:tensorflow:Early stopping conditioned on metric `val_loss` which is not available. Available metrics are: loss,mean_squared_error\n"
          ]
        },
        {
          "output_type": "stream",
          "name": "stdout",
          "text": [
            "\b\b\b\b\b\b\b\b\b\b\b\b\b\b\b\b\b\b\b\b\b\b\b\b\b\b\b\b\b\b\b\b\b\b\b\b\b\b\b\b\b\b\b\b\b\b\b\b\b\b\b\b\b\b\b\b\b\b\b\b\b\b\b\b\b\b\b\b\b\b\b\b\b\b\b\b\b\b\b\b\b\b\b\b\b\b\b\b\b\b\b\b\r48/48 [==============================] - 0s 10ms/step - loss: 0.0038 - mean_squared_error: 0.0038\n",
            "Epoch 56/200\n",
            "48/48 [==============================] - ETA: 0s - loss: 0.0040 - mean_squared_error: 0.0040"
          ]
        },
        {
          "output_type": "stream",
          "name": "stderr",
          "text": [
            "WARNING:tensorflow:Early stopping conditioned on metric `val_loss` which is not available. Available metrics are: loss,mean_squared_error\n"
          ]
        },
        {
          "output_type": "stream",
          "name": "stdout",
          "text": [
            "\b\b\b\b\b\b\b\b\b\b\b\b\b\b\b\b\b\b\b\b\b\b\b\b\b\b\b\b\b\b\b\b\b\b\b\b\b\b\b\b\b\b\b\b\b\b\b\b\b\b\b\b\b\b\b\b\b\b\b\b\b\b\b\b\b\b\b\b\b\b\b\b\b\b\b\b\b\b\b\b\b\b\b\b\b\b\b\b\b\b\b\b\r48/48 [==============================] - 0s 9ms/step - loss: 0.0040 - mean_squared_error: 0.0040\n",
            "Epoch 57/200\n",
            "44/48 [==========================>...] - ETA: 0s - loss: 0.0039 - mean_squared_error: 0.0039"
          ]
        },
        {
          "output_type": "stream",
          "name": "stderr",
          "text": [
            "WARNING:tensorflow:Early stopping conditioned on metric `val_loss` which is not available. Available metrics are: loss,mean_squared_error\n"
          ]
        },
        {
          "output_type": "stream",
          "name": "stdout",
          "text": [
            "\b\b\b\b\b\b\b\b\b\b\b\b\b\b\b\b\b\b\b\b\b\b\b\b\b\b\b\b\b\b\b\b\b\b\b\b\b\b\b\b\b\b\b\b\b\b\b\b\b\b\b\b\b\b\b\b\b\b\b\b\b\b\b\b\b\b\b\b\b\b\b\b\b\b\b\b\b\b\b\b\b\b\b\b\b\b\b\b\b\b\b\b\r48/48 [==============================] - 0s 10ms/step - loss: 0.0040 - mean_squared_error: 0.0040\n",
            "Epoch 58/200\n",
            "45/48 [===========================>..] - ETA: 0s - loss: 0.0038 - mean_squared_error: 0.0038"
          ]
        },
        {
          "output_type": "stream",
          "name": "stderr",
          "text": [
            "WARNING:tensorflow:Early stopping conditioned on metric `val_loss` which is not available. Available metrics are: loss,mean_squared_error\n"
          ]
        },
        {
          "output_type": "stream",
          "name": "stdout",
          "text": [
            "\b\b\b\b\b\b\b\b\b\b\b\b\b\b\b\b\b\b\b\b\b\b\b\b\b\b\b\b\b\b\b\b\b\b\b\b\b\b\b\b\b\b\b\b\b\b\b\b\b\b\b\b\b\b\b\b\b\b\b\b\b\b\b\b\b\b\b\b\b\b\b\b\b\b\b\b\b\b\b\b\b\b\b\b\b\b\b\b\b\b\b\b\r48/48 [==============================] - 1s 11ms/step - loss: 0.0038 - mean_squared_error: 0.0038\n",
            "Epoch 59/200\n",
            "43/48 [=========================>....] - ETA: 0s - loss: 0.0038 - mean_squared_error: 0.0038"
          ]
        },
        {
          "output_type": "stream",
          "name": "stderr",
          "text": [
            "WARNING:tensorflow:Early stopping conditioned on metric `val_loss` which is not available. Available metrics are: loss,mean_squared_error\n"
          ]
        },
        {
          "output_type": "stream",
          "name": "stdout",
          "text": [
            "\b\b\b\b\b\b\b\b\b\b\b\b\b\b\b\b\b\b\b\b\b\b\b\b\b\b\b\b\b\b\b\b\b\b\b\b\b\b\b\b\b\b\b\b\b\b\b\b\b\b\b\b\b\b\b\b\b\b\b\b\b\b\b\b\b\b\b\b\b\b\b\b\b\b\b\b\b\b\b\b\b\b\b\b\b\b\b\b\b\b\b\b\r48/48 [==============================] - 0s 9ms/step - loss: 0.0038 - mean_squared_error: 0.0038\n",
            "Epoch 60/200\n",
            "44/48 [==========================>...] - ETA: 0s - loss: 0.0036 - mean_squared_error: 0.0036"
          ]
        },
        {
          "output_type": "stream",
          "name": "stderr",
          "text": [
            "WARNING:tensorflow:Early stopping conditioned on metric `val_loss` which is not available. Available metrics are: loss,mean_squared_error\n"
          ]
        },
        {
          "output_type": "stream",
          "name": "stdout",
          "text": [
            "\b\b\b\b\b\b\b\b\b\b\b\b\b\b\b\b\b\b\b\b\b\b\b\b\b\b\b\b\b\b\b\b\b\b\b\b\b\b\b\b\b\b\b\b\b\b\b\b\b\b\b\b\b\b\b\b\b\b\b\b\b\b\b\b\b\b\b\b\b\b\b\b\b\b\b\b\b\b\b\b\b\b\b\b\b\b\b\b\b\b\b\b\r48/48 [==============================] - 0s 10ms/step - loss: 0.0036 - mean_squared_error: 0.0036\n",
            "Epoch 61/200\n",
            "45/48 [===========================>..] - ETA: 0s - loss: 0.0037 - mean_squared_error: 0.0037"
          ]
        },
        {
          "output_type": "stream",
          "name": "stderr",
          "text": [
            "WARNING:tensorflow:Early stopping conditioned on metric `val_loss` which is not available. Available metrics are: loss,mean_squared_error\n"
          ]
        },
        {
          "output_type": "stream",
          "name": "stdout",
          "text": [
            "\b\b\b\b\b\b\b\b\b\b\b\b\b\b\b\b\b\b\b\b\b\b\b\b\b\b\b\b\b\b\b\b\b\b\b\b\b\b\b\b\b\b\b\b\b\b\b\b\b\b\b\b\b\b\b\b\b\b\b\b\b\b\b\b\b\b\b\b\b\b\b\b\b\b\b\b\b\b\b\b\b\b\b\b\b\b\b\b\b\b\b\b\r48/48 [==============================] - 0s 10ms/step - loss: 0.0038 - mean_squared_error: 0.0038\n",
            "Epoch 62/200\n",
            "44/48 [==========================>...] - ETA: 0s - loss: 0.0037 - mean_squared_error: 0.0037"
          ]
        },
        {
          "output_type": "stream",
          "name": "stderr",
          "text": [
            "WARNING:tensorflow:Early stopping conditioned on metric `val_loss` which is not available. Available metrics are: loss,mean_squared_error\n"
          ]
        },
        {
          "output_type": "stream",
          "name": "stdout",
          "text": [
            "\b\b\b\b\b\b\b\b\b\b\b\b\b\b\b\b\b\b\b\b\b\b\b\b\b\b\b\b\b\b\b\b\b\b\b\b\b\b\b\b\b\b\b\b\b\b\b\b\b\b\b\b\b\b\b\b\b\b\b\b\b\b\b\b\b\b\b\b\b\b\b\b\b\b\b\b\b\b\b\b\b\b\b\b\b\b\b\b\b\b\b\b\r48/48 [==============================] - 1s 10ms/step - loss: 0.0036 - mean_squared_error: 0.0036\n",
            "Epoch 63/200\n",
            "46/48 [===========================>..] - ETA: 0s - loss: 0.0038 - mean_squared_error: 0.0038"
          ]
        },
        {
          "output_type": "stream",
          "name": "stderr",
          "text": [
            "WARNING:tensorflow:Early stopping conditioned on metric `val_loss` which is not available. Available metrics are: loss,mean_squared_error\n"
          ]
        },
        {
          "output_type": "stream",
          "name": "stdout",
          "text": [
            "\b\b\b\b\b\b\b\b\b\b\b\b\b\b\b\b\b\b\b\b\b\b\b\b\b\b\b\b\b\b\b\b\b\b\b\b\b\b\b\b\b\b\b\b\b\b\b\b\b\b\b\b\b\b\b\b\b\b\b\b\b\b\b\b\b\b\b\b\b\b\b\b\b\b\b\b\b\b\b\b\b\b\b\b\b\b\b\b\b\b\b\b\r48/48 [==============================] - 0s 10ms/step - loss: 0.0038 - mean_squared_error: 0.0038\n",
            "Epoch 64/200\n",
            "44/48 [==========================>...] - ETA: 0s - loss: 0.0035 - mean_squared_error: 0.0035"
          ]
        },
        {
          "output_type": "stream",
          "name": "stderr",
          "text": [
            "WARNING:tensorflow:Early stopping conditioned on metric `val_loss` which is not available. Available metrics are: loss,mean_squared_error\n"
          ]
        },
        {
          "output_type": "stream",
          "name": "stdout",
          "text": [
            "\b\b\b\b\b\b\b\b\b\b\b\b\b\b\b\b\b\b\b\b\b\b\b\b\b\b\b\b\b\b\b\b\b\b\b\b\b\b\b\b\b\b\b\b\b\b\b\b\b\b\b\b\b\b\b\b\b\b\b\b\b\b\b\b\b\b\b\b\b\b\b\b\b\b\b\b\b\b\b\b\b\b\b\b\b\b\b\b\b\b\b\b\r48/48 [==============================] - 0s 10ms/step - loss: 0.0036 - mean_squared_error: 0.0036\n",
            "Epoch 65/200\n",
            "43/48 [=========================>....] - ETA: 0s - loss: 0.0041 - mean_squared_error: 0.0041"
          ]
        },
        {
          "output_type": "stream",
          "name": "stderr",
          "text": [
            "WARNING:tensorflow:Early stopping conditioned on metric `val_loss` which is not available. Available metrics are: loss,mean_squared_error\n"
          ]
        },
        {
          "output_type": "stream",
          "name": "stdout",
          "text": [
            "\b\b\b\b\b\b\b\b\b\b\b\b\b\b\b\b\b\b\b\b\b\b\b\b\b\b\b\b\b\b\b\b\b\b\b\b\b\b\b\b\b\b\b\b\b\b\b\b\b\b\b\b\b\b\b\b\b\b\b\b\b\b\b\b\b\b\b\b\b\b\b\b\b\b\b\b\b\b\b\b\b\b\b\b\b\b\b\b\b\b\b\b\r48/48 [==============================] - 0s 9ms/step - loss: 0.0041 - mean_squared_error: 0.0041\n",
            "Epoch 66/200\n",
            "46/48 [===========================>..] - ETA: 0s - loss: 0.0038 - mean_squared_error: 0.0038"
          ]
        },
        {
          "output_type": "stream",
          "name": "stderr",
          "text": [
            "WARNING:tensorflow:Early stopping conditioned on metric `val_loss` which is not available. Available metrics are: loss,mean_squared_error\n"
          ]
        },
        {
          "output_type": "stream",
          "name": "stdout",
          "text": [
            "\b\b\b\b\b\b\b\b\b\b\b\b\b\b\b\b\b\b\b\b\b\b\b\b\b\b\b\b\b\b\b\b\b\b\b\b\b\b\b\b\b\b\b\b\b\b\b\b\b\b\b\b\b\b\b\b\b\b\b\b\b\b\b\b\b\b\b\b\b\b\b\b\b\b\b\b\b\b\b\b\b\b\b\b\b\b\b\b\b\b\b\b\r48/48 [==============================] - 1s 11ms/step - loss: 0.0038 - mean_squared_error: 0.0038\n",
            "Epoch 67/200\n",
            "43/48 [=========================>....] - ETA: 0s - loss: 0.0034 - mean_squared_error: 0.0034"
          ]
        },
        {
          "output_type": "stream",
          "name": "stderr",
          "text": [
            "WARNING:tensorflow:Early stopping conditioned on metric `val_loss` which is not available. Available metrics are: loss,mean_squared_error\n"
          ]
        },
        {
          "output_type": "stream",
          "name": "stdout",
          "text": [
            "\b\b\b\b\b\b\b\b\b\b\b\b\b\b\b\b\b\b\b\b\b\b\b\b\b\b\b\b\b\b\b\b\b\b\b\b\b\b\b\b\b\b\b\b\b\b\b\b\b\b\b\b\b\b\b\b\b\b\b\b\b\b\b\b\b\b\b\b\b\b\b\b\b\b\b\b\b\b\b\b\b\b\b\b\b\b\b\b\b\b\b\b\r48/48 [==============================] - 0s 10ms/step - loss: 0.0034 - mean_squared_error: 0.0034\n",
            "Epoch 68/200\n",
            "43/48 [=========================>....] - ETA: 0s - loss: 0.0035 - mean_squared_error: 0.0035"
          ]
        },
        {
          "output_type": "stream",
          "name": "stderr",
          "text": [
            "WARNING:tensorflow:Early stopping conditioned on metric `val_loss` which is not available. Available metrics are: loss,mean_squared_error\n"
          ]
        },
        {
          "output_type": "stream",
          "name": "stdout",
          "text": [
            "\b\b\b\b\b\b\b\b\b\b\b\b\b\b\b\b\b\b\b\b\b\b\b\b\b\b\b\b\b\b\b\b\b\b\b\b\b\b\b\b\b\b\b\b\b\b\b\b\b\b\b\b\b\b\b\b\b\b\b\b\b\b\b\b\b\b\b\b\b\b\b\b\b\b\b\b\b\b\b\b\b\b\b\b\b\b\b\b\b\b\b\b\r48/48 [==============================] - 1s 11ms/step - loss: 0.0035 - mean_squared_error: 0.0035\n",
            "Epoch 69/200\n",
            "48/48 [==============================] - ETA: 0s - loss: 0.0034 - mean_squared_error: 0.0034"
          ]
        },
        {
          "output_type": "stream",
          "name": "stderr",
          "text": [
            "WARNING:tensorflow:Early stopping conditioned on metric `val_loss` which is not available. Available metrics are: loss,mean_squared_error\n"
          ]
        },
        {
          "output_type": "stream",
          "name": "stdout",
          "text": [
            "\b\b\b\b\b\b\b\b\b\b\b\b\b\b\b\b\b\b\b\b\b\b\b\b\b\b\b\b\b\b\b\b\b\b\b\b\b\b\b\b\b\b\b\b\b\b\b\b\b\b\b\b\b\b\b\b\b\b\b\b\b\b\b\b\b\b\b\b\b\b\b\b\b\b\b\b\b\b\b\b\b\b\b\b\b\b\b\b\b\b\b\b\r48/48 [==============================] - 0s 9ms/step - loss: 0.0034 - mean_squared_error: 0.0034\n",
            "Epoch 70/200\n",
            "43/48 [=========================>....] - ETA: 0s - loss: 0.0037 - mean_squared_error: 0.0037"
          ]
        },
        {
          "output_type": "stream",
          "name": "stderr",
          "text": [
            "WARNING:tensorflow:Early stopping conditioned on metric `val_loss` which is not available. Available metrics are: loss,mean_squared_error\n"
          ]
        },
        {
          "output_type": "stream",
          "name": "stdout",
          "text": [
            "\b\b\b\b\b\b\b\b\b\b\b\b\b\b\b\b\b\b\b\b\b\b\b\b\b\b\b\b\b\b\b\b\b\b\b\b\b\b\b\b\b\b\b\b\b\b\b\b\b\b\b\b\b\b\b\b\b\b\b\b\b\b\b\b\b\b\b\b\b\b\b\b\b\b\b\b\b\b\b\b\b\b\b\b\b\b\b\b\b\b\b\b\r48/48 [==============================] - 1s 10ms/step - loss: 0.0037 - mean_squared_error: 0.0037\n",
            "Epoch 71/200\n",
            "45/48 [===========================>..] - ETA: 0s - loss: 0.0036 - mean_squared_error: 0.0036"
          ]
        },
        {
          "output_type": "stream",
          "name": "stderr",
          "text": [
            "WARNING:tensorflow:Early stopping conditioned on metric `val_loss` which is not available. Available metrics are: loss,mean_squared_error\n"
          ]
        },
        {
          "output_type": "stream",
          "name": "stdout",
          "text": [
            "\b\b\b\b\b\b\b\b\b\b\b\b\b\b\b\b\b\b\b\b\b\b\b\b\b\b\b\b\b\b\b\b\b\b\b\b\b\b\b\b\b\b\b\b\b\b\b\b\b\b\b\b\b\b\b\b\b\b\b\b\b\b\b\b\b\b\b\b\b\b\b\b\b\b\b\b\b\b\b\b\b\b\b\b\b\b\b\b\b\b\b\b\r48/48 [==============================] - 0s 10ms/step - loss: 0.0036 - mean_squared_error: 0.0036\n",
            "Epoch 72/200\n",
            "45/48 [===========================>..] - ETA: 0s - loss: 0.0035 - mean_squared_error: 0.0035"
          ]
        },
        {
          "output_type": "stream",
          "name": "stderr",
          "text": [
            "WARNING:tensorflow:Early stopping conditioned on metric `val_loss` which is not available. Available metrics are: loss,mean_squared_error\n"
          ]
        },
        {
          "output_type": "stream",
          "name": "stdout",
          "text": [
            "\b\b\b\b\b\b\b\b\b\b\b\b\b\b\b\b\b\b\b\b\b\b\b\b\b\b\b\b\b\b\b\b\b\b\b\b\b\b\b\b\b\b\b\b\b\b\b\b\b\b\b\b\b\b\b\b\b\b\b\b\b\b\b\b\b\b\b\b\b\b\b\b\b\b\b\b\b\b\b\b\b\b\b\b\b\b\b\b\b\b\b\b\r48/48 [==============================] - 1s 14ms/step - loss: 0.0035 - mean_squared_error: 0.0035\n",
            "Epoch 73/200\n",
            "48/48 [==============================] - ETA: 0s - loss: 0.0039 - mean_squared_error: 0.0039"
          ]
        },
        {
          "output_type": "stream",
          "name": "stderr",
          "text": [
            "WARNING:tensorflow:Early stopping conditioned on metric `val_loss` which is not available. Available metrics are: loss,mean_squared_error\n"
          ]
        },
        {
          "output_type": "stream",
          "name": "stdout",
          "text": [
            "\b\b\b\b\b\b\b\b\b\b\b\b\b\b\b\b\b\b\b\b\b\b\b\b\b\b\b\b\b\b\b\b\b\b\b\b\b\b\b\b\b\b\b\b\b\b\b\b\b\b\b\b\b\b\b\b\b\b\b\b\b\b\b\b\b\b\b\b\b\b\b\b\b\b\b\b\b\b\b\b\b\b\b\b\b\b\b\b\b\b\b\b\r48/48 [==============================] - 1s 15ms/step - loss: 0.0039 - mean_squared_error: 0.0039\n",
            "Epoch 74/200\n",
            "45/48 [===========================>..] - ETA: 0s - loss: 0.0038 - mean_squared_error: 0.0038"
          ]
        },
        {
          "output_type": "stream",
          "name": "stderr",
          "text": [
            "WARNING:tensorflow:Early stopping conditioned on metric `val_loss` which is not available. Available metrics are: loss,mean_squared_error\n"
          ]
        },
        {
          "output_type": "stream",
          "name": "stdout",
          "text": [
            "\b\b\b\b\b\b\b\b\b\b\b\b\b\b\b\b\b\b\b\b\b\b\b\b\b\b\b\b\b\b\b\b\b\b\b\b\b\b\b\b\b\b\b\b\b\b\b\b\b\b\b\b\b\b\b\b\b\b\b\b\b\b\b\b\b\b\b\b\b\b\b\b\b\b\b\b\b\b\b\b\b\b\b\b\b\b\b\b\b\b\b\b\r48/48 [==============================] - 1s 15ms/step - loss: 0.0038 - mean_squared_error: 0.0038\n",
            "Epoch 75/200\n",
            "47/48 [============================>.] - ETA: 0s - loss: 0.0037 - mean_squared_error: 0.0037"
          ]
        },
        {
          "output_type": "stream",
          "name": "stderr",
          "text": [
            "WARNING:tensorflow:Early stopping conditioned on metric `val_loss` which is not available. Available metrics are: loss,mean_squared_error\n"
          ]
        },
        {
          "output_type": "stream",
          "name": "stdout",
          "text": [
            "\b\b\b\b\b\b\b\b\b\b\b\b\b\b\b\b\b\b\b\b\b\b\b\b\b\b\b\b\b\b\b\b\b\b\b\b\b\b\b\b\b\b\b\b\b\b\b\b\b\b\b\b\b\b\b\b\b\b\b\b\b\b\b\b\b\b\b\b\b\b\b\b\b\b\b\b\b\b\b\b\b\b\b\b\b\b\b\b\b\b\b\b\r48/48 [==============================] - 1s 14ms/step - loss: 0.0036 - mean_squared_error: 0.0036\n",
            "Epoch 76/200\n",
            "48/48 [==============================] - ETA: 0s - loss: 0.0038 - mean_squared_error: 0.0038"
          ]
        },
        {
          "output_type": "stream",
          "name": "stderr",
          "text": [
            "WARNING:tensorflow:Early stopping conditioned on metric `val_loss` which is not available. Available metrics are: loss,mean_squared_error\n"
          ]
        },
        {
          "output_type": "stream",
          "name": "stdout",
          "text": [
            "\b\b\b\b\b\b\b\b\b\b\b\b\b\b\b\b\b\b\b\b\b\b\b\b\b\b\b\b\b\b\b\b\b\b\b\b\b\b\b\b\b\b\b\b\b\b\b\b\b\b\b\b\b\b\b\b\b\b\b\b\b\b\b\b\b\b\b\b\b\b\b\b\b\b\b\b\b\b\b\b\b\b\b\b\b\b\b\b\b\b\b\b\r48/48 [==============================] - 1s 14ms/step - loss: 0.0038 - mean_squared_error: 0.0038\n",
            "Epoch 77/200\n",
            "46/48 [===========================>..] - ETA: 0s - loss: 0.0030 - mean_squared_error: 0.0030"
          ]
        },
        {
          "output_type": "stream",
          "name": "stderr",
          "text": [
            "WARNING:tensorflow:Early stopping conditioned on metric `val_loss` which is not available. Available metrics are: loss,mean_squared_error\n"
          ]
        },
        {
          "output_type": "stream",
          "name": "stdout",
          "text": [
            "\b\b\b\b\b\b\b\b\b\b\b\b\b\b\b\b\b\b\b\b\b\b\b\b\b\b\b\b\b\b\b\b\b\b\b\b\b\b\b\b\b\b\b\b\b\b\b\b\b\b\b\b\b\b\b\b\b\b\b\b\b\b\b\b\b\b\b\b\b\b\b\b\b\b\b\b\b\b\b\b\b\b\b\b\b\b\b\b\b\b\b\b\r48/48 [==============================] - 1s 16ms/step - loss: 0.0030 - mean_squared_error: 0.0030\n",
            "Epoch 78/200\n",
            "46/48 [===========================>..] - ETA: 0s - loss: 0.0036 - mean_squared_error: 0.0036"
          ]
        },
        {
          "output_type": "stream",
          "name": "stderr",
          "text": [
            "WARNING:tensorflow:Early stopping conditioned on metric `val_loss` which is not available. Available metrics are: loss,mean_squared_error\n"
          ]
        },
        {
          "output_type": "stream",
          "name": "stdout",
          "text": [
            "\b\b\b\b\b\b\b\b\b\b\b\b\b\b\b\b\b\b\b\b\b\b\b\b\b\b\b\b\b\b\b\b\b\b\b\b\b\b\b\b\b\b\b\b\b\b\b\b\b\b\b\b\b\b\b\b\b\b\b\b\b\b\b\b\b\b\b\b\b\b\b\b\b\b\b\b\b\b\b\b\b\b\b\b\b\b\b\b\b\b\b\b\r48/48 [==============================] - 1s 15ms/step - loss: 0.0036 - mean_squared_error: 0.0036\n",
            "Epoch 79/200\n",
            "47/48 [============================>.] - ETA: 0s - loss: 0.0039 - mean_squared_error: 0.0039"
          ]
        },
        {
          "output_type": "stream",
          "name": "stderr",
          "text": [
            "WARNING:tensorflow:Early stopping conditioned on metric `val_loss` which is not available. Available metrics are: loss,mean_squared_error\n"
          ]
        },
        {
          "output_type": "stream",
          "name": "stdout",
          "text": [
            "\b\b\b\b\b\b\b\b\b\b\b\b\b\b\b\b\b\b\b\b\b\b\b\b\b\b\b\b\b\b\b\b\b\b\b\b\b\b\b\b\b\b\b\b\b\b\b\b\b\b\b\b\b\b\b\b\b\b\b\b\b\b\b\b\b\b\b\b\b\b\b\b\b\b\b\b\b\b\b\b\b\b\b\b\b\b\b\b\b\b\b\b\r48/48 [==============================] - 1s 11ms/step - loss: 0.0039 - mean_squared_error: 0.0039\n",
            "Epoch 80/200\n",
            "45/48 [===========================>..] - ETA: 0s - loss: 0.0036 - mean_squared_error: 0.0036"
          ]
        },
        {
          "output_type": "stream",
          "name": "stderr",
          "text": [
            "WARNING:tensorflow:Early stopping conditioned on metric `val_loss` which is not available. Available metrics are: loss,mean_squared_error\n"
          ]
        },
        {
          "output_type": "stream",
          "name": "stdout",
          "text": [
            "\b\b\b\b\b\b\b\b\b\b\b\b\b\b\b\b\b\b\b\b\b\b\b\b\b\b\b\b\b\b\b\b\b\b\b\b\b\b\b\b\b\b\b\b\b\b\b\b\b\b\b\b\b\b\b\b\b\b\b\b\b\b\b\b\b\b\b\b\b\b\b\b\b\b\b\b\b\b\b\b\b\b\b\b\b\b\b\b\b\b\b\b\r48/48 [==============================] - 0s 10ms/step - loss: 0.0036 - mean_squared_error: 0.0036\n",
            "Epoch 81/200\n",
            "45/48 [===========================>..] - ETA: 0s - loss: 0.0033 - mean_squared_error: 0.0033"
          ]
        },
        {
          "output_type": "stream",
          "name": "stderr",
          "text": [
            "WARNING:tensorflow:Early stopping conditioned on metric `val_loss` which is not available. Available metrics are: loss,mean_squared_error\n"
          ]
        },
        {
          "output_type": "stream",
          "name": "stdout",
          "text": [
            "\b\b\b\b\b\b\b\b\b\b\b\b\b\b\b\b\b\b\b\b\b\b\b\b\b\b\b\b\b\b\b\b\b\b\b\b\b\b\b\b\b\b\b\b\b\b\b\b\b\b\b\b\b\b\b\b\b\b\b\b\b\b\b\b\b\b\b\b\b\b\b\b\b\b\b\b\b\b\b\b\b\b\b\b\b\b\b\b\b\b\b\b\r48/48 [==============================] - 0s 10ms/step - loss: 0.0034 - mean_squared_error: 0.0034\n",
            "Epoch 82/200\n",
            "47/48 [============================>.] - ETA: 0s - loss: 0.0039 - mean_squared_error: 0.0039"
          ]
        },
        {
          "output_type": "stream",
          "name": "stderr",
          "text": [
            "WARNING:tensorflow:Early stopping conditioned on metric `val_loss` which is not available. Available metrics are: loss,mean_squared_error\n"
          ]
        },
        {
          "output_type": "stream",
          "name": "stdout",
          "text": [
            "\b\b\b\b\b\b\b\b\b\b\b\b\b\b\b\b\b\b\b\b\b\b\b\b\b\b\b\b\b\b\b\b\b\b\b\b\b\b\b\b\b\b\b\b\b\b\b\b\b\b\b\b\b\b\b\b\b\b\b\b\b\b\b\b\b\b\b\b\b\b\b\b\b\b\b\b\b\b\b\b\b\b\b\b\b\b\b\b\b\b\b\b\r48/48 [==============================] - 0s 9ms/step - loss: 0.0039 - mean_squared_error: 0.0039\n",
            "Epoch 83/200\n",
            "45/48 [===========================>..] - ETA: 0s - loss: 0.0040 - mean_squared_error: 0.0040"
          ]
        },
        {
          "output_type": "stream",
          "name": "stderr",
          "text": [
            "WARNING:tensorflow:Early stopping conditioned on metric `val_loss` which is not available. Available metrics are: loss,mean_squared_error\n"
          ]
        },
        {
          "output_type": "stream",
          "name": "stdout",
          "text": [
            "\b\b\b\b\b\b\b\b\b\b\b\b\b\b\b\b\b\b\b\b\b\b\b\b\b\b\b\b\b\b\b\b\b\b\b\b\b\b\b\b\b\b\b\b\b\b\b\b\b\b\b\b\b\b\b\b\b\b\b\b\b\b\b\b\b\b\b\b\b\b\b\b\b\b\b\b\b\b\b\b\b\b\b\b\b\b\b\b\b\b\b\b\r48/48 [==============================] - 0s 10ms/step - loss: 0.0040 - mean_squared_error: 0.0040\n",
            "Epoch 84/200\n",
            "44/48 [==========================>...] - ETA: 0s - loss: 0.0043 - mean_squared_error: 0.0043"
          ]
        },
        {
          "output_type": "stream",
          "name": "stderr",
          "text": [
            "WARNING:tensorflow:Early stopping conditioned on metric `val_loss` which is not available. Available metrics are: loss,mean_squared_error\n"
          ]
        },
        {
          "output_type": "stream",
          "name": "stdout",
          "text": [
            "\b\b\b\b\b\b\b\b\b\b\b\b\b\b\b\b\b\b\b\b\b\b\b\b\b\b\b\b\b\b\b\b\b\b\b\b\b\b\b\b\b\b\b\b\b\b\b\b\b\b\b\b\b\b\b\b\b\b\b\b\b\b\b\b\b\b\b\b\b\b\b\b\b\b\b\b\b\b\b\b\b\b\b\b\b\b\b\b\b\b\b\b\r48/48 [==============================] - 1s 10ms/step - loss: 0.0043 - mean_squared_error: 0.0043\n",
            "Epoch 85/200\n",
            "44/48 [==========================>...] - ETA: 0s - loss: 0.0038 - mean_squared_error: 0.0038"
          ]
        },
        {
          "output_type": "stream",
          "name": "stderr",
          "text": [
            "WARNING:tensorflow:Early stopping conditioned on metric `val_loss` which is not available. Available metrics are: loss,mean_squared_error\n"
          ]
        },
        {
          "output_type": "stream",
          "name": "stdout",
          "text": [
            "\b\b\b\b\b\b\b\b\b\b\b\b\b\b\b\b\b\b\b\b\b\b\b\b\b\b\b\b\b\b\b\b\b\b\b\b\b\b\b\b\b\b\b\b\b\b\b\b\b\b\b\b\b\b\b\b\b\b\b\b\b\b\b\b\b\b\b\b\b\b\b\b\b\b\b\b\b\b\b\b\b\b\b\b\b\b\b\b\b\b\b\b\r48/48 [==============================] - 1s 10ms/step - loss: 0.0038 - mean_squared_error: 0.0038\n",
            "Epoch 86/200\n",
            "46/48 [===========================>..] - ETA: 0s - loss: 0.0038 - mean_squared_error: 0.0038"
          ]
        },
        {
          "output_type": "stream",
          "name": "stderr",
          "text": [
            "WARNING:tensorflow:Early stopping conditioned on metric `val_loss` which is not available. Available metrics are: loss,mean_squared_error\n"
          ]
        },
        {
          "output_type": "stream",
          "name": "stdout",
          "text": [
            "\b\b\b\b\b\b\b\b\b\b\b\b\b\b\b\b\b\b\b\b\b\b\b\b\b\b\b\b\b\b\b\b\b\b\b\b\b\b\b\b\b\b\b\b\b\b\b\b\b\b\b\b\b\b\b\b\b\b\b\b\b\b\b\b\b\b\b\b\b\b\b\b\b\b\b\b\b\b\b\b\b\b\b\b\b\b\b\b\b\b\b\b\r48/48 [==============================] - 0s 10ms/step - loss: 0.0038 - mean_squared_error: 0.0038\n",
            "Epoch 87/200\n",
            "47/48 [============================>.] - ETA: 0s - loss: 0.0037 - mean_squared_error: 0.0037"
          ]
        },
        {
          "output_type": "stream",
          "name": "stderr",
          "text": [
            "WARNING:tensorflow:Early stopping conditioned on metric `val_loss` which is not available. Available metrics are: loss,mean_squared_error\n"
          ]
        },
        {
          "output_type": "stream",
          "name": "stdout",
          "text": [
            "\b\b\b\b\b\b\b\b\b\b\b\b\b\b\b\b\b\b\b\b\b\b\b\b\b\b\b\b\b\b\b\b\b\b\b\b\b\b\b\b\b\b\b\b\b\b\b\b\b\b\b\b\b\b\b\b\b\b\b\b\b\b\b\b\b\b\b\b\b\b\b\b\b\b\b\b\b\b\b\b\b\b\b\b\b\b\b\b\b\b\b\b\r48/48 [==============================] - 0s 10ms/step - loss: 0.0037 - mean_squared_error: 0.0037\n",
            "Epoch 88/200\n",
            "47/48 [============================>.] - ETA: 0s - loss: 0.0035 - mean_squared_error: 0.0035"
          ]
        },
        {
          "output_type": "stream",
          "name": "stderr",
          "text": [
            "WARNING:tensorflow:Early stopping conditioned on metric `val_loss` which is not available. Available metrics are: loss,mean_squared_error\n"
          ]
        },
        {
          "output_type": "stream",
          "name": "stdout",
          "text": [
            "\b\b\b\b\b\b\b\b\b\b\b\b\b\b\b\b\b\b\b\b\b\b\b\b\b\b\b\b\b\b\b\b\b\b\b\b\b\b\b\b\b\b\b\b\b\b\b\b\b\b\b\b\b\b\b\b\b\b\b\b\b\b\b\b\b\b\b\b\b\b\b\b\b\b\b\b\b\b\b\b\b\b\b\b\b\b\b\b\b\b\b\b\r48/48 [==============================] - 1s 11ms/step - loss: 0.0035 - mean_squared_error: 0.0035\n",
            "Epoch 89/200\n",
            "45/48 [===========================>..] - ETA: 0s - loss: 0.0039 - mean_squared_error: 0.0039"
          ]
        },
        {
          "output_type": "stream",
          "name": "stderr",
          "text": [
            "WARNING:tensorflow:Early stopping conditioned on metric `val_loss` which is not available. Available metrics are: loss,mean_squared_error\n"
          ]
        },
        {
          "output_type": "stream",
          "name": "stdout",
          "text": [
            "\b\b\b\b\b\b\b\b\b\b\b\b\b\b\b\b\b\b\b\b\b\b\b\b\b\b\b\b\b\b\b\b\b\b\b\b\b\b\b\b\b\b\b\b\b\b\b\b\b\b\b\b\b\b\b\b\b\b\b\b\b\b\b\b\b\b\b\b\b\b\b\b\b\b\b\b\b\b\b\b\b\b\b\b\b\b\b\b\b\b\b\b\r48/48 [==============================] - 1s 10ms/step - loss: 0.0039 - mean_squared_error: 0.0039\n",
            "Epoch 90/200\n",
            "44/48 [==========================>...] - ETA: 0s - loss: 0.0034 - mean_squared_error: 0.0034"
          ]
        },
        {
          "output_type": "stream",
          "name": "stderr",
          "text": [
            "WARNING:tensorflow:Early stopping conditioned on metric `val_loss` which is not available. Available metrics are: loss,mean_squared_error\n"
          ]
        },
        {
          "output_type": "stream",
          "name": "stdout",
          "text": [
            "\b\b\b\b\b\b\b\b\b\b\b\b\b\b\b\b\b\b\b\b\b\b\b\b\b\b\b\b\b\b\b\b\b\b\b\b\b\b\b\b\b\b\b\b\b\b\b\b\b\b\b\b\b\b\b\b\b\b\b\b\b\b\b\b\b\b\b\b\b\b\b\b\b\b\b\b\b\b\b\b\b\b\b\b\b\b\b\b\b\b\b\b\r48/48 [==============================] - 0s 10ms/step - loss: 0.0034 - mean_squared_error: 0.0034\n",
            "Epoch 91/200\n",
            "46/48 [===========================>..] - ETA: 0s - loss: 0.0038 - mean_squared_error: 0.0038"
          ]
        },
        {
          "output_type": "stream",
          "name": "stderr",
          "text": [
            "WARNING:tensorflow:Early stopping conditioned on metric `val_loss` which is not available. Available metrics are: loss,mean_squared_error\n"
          ]
        },
        {
          "output_type": "stream",
          "name": "stdout",
          "text": [
            "\b\b\b\b\b\b\b\b\b\b\b\b\b\b\b\b\b\b\b\b\b\b\b\b\b\b\b\b\b\b\b\b\b\b\b\b\b\b\b\b\b\b\b\b\b\b\b\b\b\b\b\b\b\b\b\b\b\b\b\b\b\b\b\b\b\b\b\b\b\b\b\b\b\b\b\b\b\b\b\b\b\b\b\b\b\b\b\b\b\b\b\b\r48/48 [==============================] - 0s 10ms/step - loss: 0.0038 - mean_squared_error: 0.0038\n",
            "Epoch 92/200\n",
            "45/48 [===========================>..] - ETA: 0s - loss: 0.0033 - mean_squared_error: 0.0033"
          ]
        },
        {
          "output_type": "stream",
          "name": "stderr",
          "text": [
            "WARNING:tensorflow:Early stopping conditioned on metric `val_loss` which is not available. Available metrics are: loss,mean_squared_error\n"
          ]
        },
        {
          "output_type": "stream",
          "name": "stdout",
          "text": [
            "\b\b\b\b\b\b\b\b\b\b\b\b\b\b\b\b\b\b\b\b\b\b\b\b\b\b\b\b\b\b\b\b\b\b\b\b\b\b\b\b\b\b\b\b\b\b\b\b\b\b\b\b\b\b\b\b\b\b\b\b\b\b\b\b\b\b\b\b\b\b\b\b\b\b\b\b\b\b\b\b\b\b\b\b\b\b\b\b\b\b\b\b\r48/48 [==============================] - 0s 10ms/step - loss: 0.0033 - mean_squared_error: 0.0033\n",
            "Epoch 93/200\n",
            "47/48 [============================>.] - ETA: 0s - loss: 0.0039 - mean_squared_error: 0.0039"
          ]
        },
        {
          "output_type": "stream",
          "name": "stderr",
          "text": [
            "WARNING:tensorflow:Early stopping conditioned on metric `val_loss` which is not available. Available metrics are: loss,mean_squared_error\n"
          ]
        },
        {
          "output_type": "stream",
          "name": "stdout",
          "text": [
            "\b\b\b\b\b\b\b\b\b\b\b\b\b\b\b\b\b\b\b\b\b\b\b\b\b\b\b\b\b\b\b\b\b\b\b\b\b\b\b\b\b\b\b\b\b\b\b\b\b\b\b\b\b\b\b\b\b\b\b\b\b\b\b\b\b\b\b\b\b\b\b\b\b\b\b\b\b\b\b\b\b\b\b\b\b\b\b\b\b\b\b\b\r48/48 [==============================] - 0s 10ms/step - loss: 0.0039 - mean_squared_error: 0.0039\n",
            "Epoch 94/200\n",
            "44/48 [==========================>...] - ETA: 0s - loss: 0.0035 - mean_squared_error: 0.0035"
          ]
        },
        {
          "output_type": "stream",
          "name": "stderr",
          "text": [
            "WARNING:tensorflow:Early stopping conditioned on metric `val_loss` which is not available. Available metrics are: loss,mean_squared_error\n"
          ]
        },
        {
          "output_type": "stream",
          "name": "stdout",
          "text": [
            "\b\b\b\b\b\b\b\b\b\b\b\b\b\b\b\b\b\b\b\b\b\b\b\b\b\b\b\b\b\b\b\b\b\b\b\b\b\b\b\b\b\b\b\b\b\b\b\b\b\b\b\b\b\b\b\b\b\b\b\b\b\b\b\b\b\b\b\b\b\b\b\b\b\b\b\b\b\b\b\b\b\b\b\b\b\b\b\b\b\b\b\b\r48/48 [==============================] - 0s 10ms/step - loss: 0.0036 - mean_squared_error: 0.0036\n",
            "Epoch 95/200\n",
            "48/48 [==============================] - ETA: 0s - loss: 0.0041 - mean_squared_error: 0.0041"
          ]
        },
        {
          "output_type": "stream",
          "name": "stderr",
          "text": [
            "WARNING:tensorflow:Early stopping conditioned on metric `val_loss` which is not available. Available metrics are: loss,mean_squared_error\n"
          ]
        },
        {
          "output_type": "stream",
          "name": "stdout",
          "text": [
            "\b\b\b\b\b\b\b\b\b\b\b\b\b\b\b\b\b\b\b\b\b\b\b\b\b\b\b\b\b\b\b\b\b\b\b\b\b\b\b\b\b\b\b\b\b\b\b\b\b\b\b\b\b\b\b\b\b\b\b\b\b\b\b\b\b\b\b\b\b\b\b\b\b\b\b\b\b\b\b\b\b\b\b\b\b\b\b\b\b\b\b\b\r48/48 [==============================] - 0s 10ms/step - loss: 0.0041 - mean_squared_error: 0.0041\n",
            "Epoch 96/200\n",
            "44/48 [==========================>...] - ETA: 0s - loss: 0.0034 - mean_squared_error: 0.0034"
          ]
        },
        {
          "output_type": "stream",
          "name": "stderr",
          "text": [
            "WARNING:tensorflow:Early stopping conditioned on metric `val_loss` which is not available. Available metrics are: loss,mean_squared_error\n"
          ]
        },
        {
          "output_type": "stream",
          "name": "stdout",
          "text": [
            "\b\b\b\b\b\b\b\b\b\b\b\b\b\b\b\b\b\b\b\b\b\b\b\b\b\b\b\b\b\b\b\b\b\b\b\b\b\b\b\b\b\b\b\b\b\b\b\b\b\b\b\b\b\b\b\b\b\b\b\b\b\b\b\b\b\b\b\b\b\b\b\b\b\b\b\b\b\b\b\b\b\b\b\b\b\b\b\b\b\b\b\b\r48/48 [==============================] - 0s 10ms/step - loss: 0.0034 - mean_squared_error: 0.0034\n",
            "Epoch 97/200\n",
            "44/48 [==========================>...] - ETA: 0s - loss: 0.0034 - mean_squared_error: 0.0034"
          ]
        },
        {
          "output_type": "stream",
          "name": "stderr",
          "text": [
            "WARNING:tensorflow:Early stopping conditioned on metric `val_loss` which is not available. Available metrics are: loss,mean_squared_error\n"
          ]
        },
        {
          "output_type": "stream",
          "name": "stdout",
          "text": [
            "\b\b\b\b\b\b\b\b\b\b\b\b\b\b\b\b\b\b\b\b\b\b\b\b\b\b\b\b\b\b\b\b\b\b\b\b\b\b\b\b\b\b\b\b\b\b\b\b\b\b\b\b\b\b\b\b\b\b\b\b\b\b\b\b\b\b\b\b\b\b\b\b\b\b\b\b\b\b\b\b\b\b\b\b\b\b\b\b\b\b\b\b\r48/48 [==============================] - 0s 10ms/step - loss: 0.0034 - mean_squared_error: 0.0034\n",
            "Epoch 98/200\n",
            "47/48 [============================>.] - ETA: 0s - loss: 0.0034 - mean_squared_error: 0.0034"
          ]
        },
        {
          "output_type": "stream",
          "name": "stderr",
          "text": [
            "WARNING:tensorflow:Early stopping conditioned on metric `val_loss` which is not available. Available metrics are: loss,mean_squared_error\n"
          ]
        },
        {
          "output_type": "stream",
          "name": "stdout",
          "text": [
            "\b\b\b\b\b\b\b\b\b\b\b\b\b\b\b\b\b\b\b\b\b\b\b\b\b\b\b\b\b\b\b\b\b\b\b\b\b\b\b\b\b\b\b\b\b\b\b\b\b\b\b\b\b\b\b\b\b\b\b\b\b\b\b\b\b\b\b\b\b\b\b\b\b\b\b\b\b\b\b\b\b\b\b\b\b\b\b\b\b\b\b\b\r48/48 [==============================] - 0s 10ms/step - loss: 0.0034 - mean_squared_error: 0.0034\n",
            "Epoch 99/200\n",
            "46/48 [===========================>..] - ETA: 0s - loss: 0.0039 - mean_squared_error: 0.0039"
          ]
        },
        {
          "output_type": "stream",
          "name": "stderr",
          "text": [
            "WARNING:tensorflow:Early stopping conditioned on metric `val_loss` which is not available. Available metrics are: loss,mean_squared_error\n"
          ]
        },
        {
          "output_type": "stream",
          "name": "stdout",
          "text": [
            "\b\b\b\b\b\b\b\b\b\b\b\b\b\b\b\b\b\b\b\b\b\b\b\b\b\b\b\b\b\b\b\b\b\b\b\b\b\b\b\b\b\b\b\b\b\b\b\b\b\b\b\b\b\b\b\b\b\b\b\b\b\b\b\b\b\b\b\b\b\b\b\b\b\b\b\b\b\b\b\b\b\b\b\b\b\b\b\b\b\b\b\b\r48/48 [==============================] - 1s 14ms/step - loss: 0.0039 - mean_squared_error: 0.0039\n",
            "Epoch 100/200\n",
            "48/48 [==============================] - ETA: 0s - loss: 0.0036 - mean_squared_error: 0.0036"
          ]
        },
        {
          "output_type": "stream",
          "name": "stderr",
          "text": [
            "WARNING:tensorflow:Early stopping conditioned on metric `val_loss` which is not available. Available metrics are: loss,mean_squared_error\n"
          ]
        },
        {
          "output_type": "stream",
          "name": "stdout",
          "text": [
            "\b\b\b\b\b\b\b\b\b\b\b\b\b\b\b\b\b\b\b\b\b\b\b\b\b\b\b\b\b\b\b\b\b\b\b\b\b\b\b\b\b\b\b\b\b\b\b\b\b\b\b\b\b\b\b\b\b\b\b\b\b\b\b\b\b\b\b\b\b\b\b\b\b\b\b\b\b\b\b\b\b\b\b\b\b\b\b\b\b\b\b\b\r48/48 [==============================] - 1s 14ms/step - loss: 0.0036 - mean_squared_error: 0.0036\n",
            "Epoch 101/200\n",
            "45/48 [===========================>..] - ETA: 0s - loss: 0.0038 - mean_squared_error: 0.0038"
          ]
        },
        {
          "output_type": "stream",
          "name": "stderr",
          "text": [
            "WARNING:tensorflow:Early stopping conditioned on metric `val_loss` which is not available. Available metrics are: loss,mean_squared_error\n"
          ]
        },
        {
          "output_type": "stream",
          "name": "stdout",
          "text": [
            "\b\b\b\b\b\b\b\b\b\b\b\b\b\b\b\b\b\b\b\b\b\b\b\b\b\b\b\b\b\b\b\b\b\b\b\b\b\b\b\b\b\b\b\b\b\b\b\b\b\b\b\b\b\b\b\b\b\b\b\b\b\b\b\b\b\b\b\b\b\b\b\b\b\b\b\b\b\b\b\b\b\b\b\b\b\b\b\b\b\b\b\b\r48/48 [==============================] - 1s 14ms/step - loss: 0.0037 - mean_squared_error: 0.0037\n",
            "Epoch 102/200\n",
            "45/48 [===========================>..] - ETA: 0s - loss: 0.0036 - mean_squared_error: 0.0036"
          ]
        },
        {
          "output_type": "stream",
          "name": "stderr",
          "text": [
            "WARNING:tensorflow:Early stopping conditioned on metric `val_loss` which is not available. Available metrics are: loss,mean_squared_error\n"
          ]
        },
        {
          "output_type": "stream",
          "name": "stdout",
          "text": [
            "\b\b\b\b\b\b\b\b\b\b\b\b\b\b\b\b\b\b\b\b\b\b\b\b\b\b\b\b\b\b\b\b\b\b\b\b\b\b\b\b\b\b\b\b\b\b\b\b\b\b\b\b\b\b\b\b\b\b\b\b\b\b\b\b\b\b\b\b\b\b\b\b\b\b\b\b\b\b\b\b\b\b\b\b\b\b\b\b\b\b\b\b\r48/48 [==============================] - 1s 14ms/step - loss: 0.0036 - mean_squared_error: 0.0036\n",
            "Epoch 103/200\n",
            "48/48 [==============================] - ETA: 0s - loss: 0.0035 - mean_squared_error: 0.0035"
          ]
        },
        {
          "output_type": "stream",
          "name": "stderr",
          "text": [
            "WARNING:tensorflow:Early stopping conditioned on metric `val_loss` which is not available. Available metrics are: loss,mean_squared_error\n"
          ]
        },
        {
          "output_type": "stream",
          "name": "stdout",
          "text": [
            "\b\b\b\b\b\b\b\b\b\b\b\b\b\b\b\b\b\b\b\b\b\b\b\b\b\b\b\b\b\b\b\b\b\b\b\b\b\b\b\b\b\b\b\b\b\b\b\b\b\b\b\b\b\b\b\b\b\b\b\b\b\b\b\b\b\b\b\b\b\b\b\b\b\b\b\b\b\b\b\b\b\b\b\b\b\b\b\b\b\b\b\b\r48/48 [==============================] - 1s 15ms/step - loss: 0.0035 - mean_squared_error: 0.0035\n",
            "Epoch 104/200\n",
            "47/48 [============================>.] - ETA: 0s - loss: 0.0033 - mean_squared_error: 0.0033"
          ]
        },
        {
          "output_type": "stream",
          "name": "stderr",
          "text": [
            "WARNING:tensorflow:Early stopping conditioned on metric `val_loss` which is not available. Available metrics are: loss,mean_squared_error\n"
          ]
        },
        {
          "output_type": "stream",
          "name": "stdout",
          "text": [
            "\b\b\b\b\b\b\b\b\b\b\b\b\b\b\b\b\b\b\b\b\b\b\b\b\b\b\b\b\b\b\b\b\b\b\b\b\b\b\b\b\b\b\b\b\b\b\b\b\b\b\b\b\b\b\b\b\b\b\b\b\b\b\b\b\b\b\b\b\b\b\b\b\b\b\b\b\b\b\b\b\b\b\b\b\b\b\b\b\b\b\b\b\r48/48 [==============================] - 1s 15ms/step - loss: 0.0033 - mean_squared_error: 0.0033\n",
            "Epoch 105/200\n",
            "46/48 [===========================>..] - ETA: 0s - loss: 0.0039 - mean_squared_error: 0.0039"
          ]
        },
        {
          "output_type": "stream",
          "name": "stderr",
          "text": [
            "WARNING:tensorflow:Early stopping conditioned on metric `val_loss` which is not available. Available metrics are: loss,mean_squared_error\n"
          ]
        },
        {
          "output_type": "stream",
          "name": "stdout",
          "text": [
            "\b\b\b\b\b\b\b\b\b\b\b\b\b\b\b\b\b\b\b\b\b\b\b\b\b\b\b\b\b\b\b\b\b\b\b\b\b\b\b\b\b\b\b\b\b\b\b\b\b\b\b\b\b\b\b\b\b\b\b\b\b\b\b\b\b\b\b\b\b\b\b\b\b\b\b\b\b\b\b\b\b\b\b\b\b\b\b\b\b\b\b\b\r48/48 [==============================] - 1s 15ms/step - loss: 0.0039 - mean_squared_error: 0.0039\n",
            "Epoch 106/200\n",
            "47/48 [============================>.] - ETA: 0s - loss: 0.0033 - mean_squared_error: 0.0033"
          ]
        },
        {
          "output_type": "stream",
          "name": "stderr",
          "text": [
            "WARNING:tensorflow:Early stopping conditioned on metric `val_loss` which is not available. Available metrics are: loss,mean_squared_error\n"
          ]
        },
        {
          "output_type": "stream",
          "name": "stdout",
          "text": [
            "\b\b\b\b\b\b\b\b\b\b\b\b\b\b\b\b\b\b\b\b\b\b\b\b\b\b\b\b\b\b\b\b\b\b\b\b\b\b\b\b\b\b\b\b\b\b\b\b\b\b\b\b\b\b\b\b\b\b\b\b\b\b\b\b\b\b\b\b\b\b\b\b\b\b\b\b\b\b\b\b\b\b\b\b\b\b\b\b\b\b\b\b\r48/48 [==============================] - 1s 15ms/step - loss: 0.0033 - mean_squared_error: 0.0033\n",
            "Epoch 107/200\n",
            "48/48 [==============================] - ETA: 0s - loss: 0.0037 - mean_squared_error: 0.0037"
          ]
        },
        {
          "output_type": "stream",
          "name": "stderr",
          "text": [
            "WARNING:tensorflow:Early stopping conditioned on metric `val_loss` which is not available. Available metrics are: loss,mean_squared_error\n"
          ]
        },
        {
          "output_type": "stream",
          "name": "stdout",
          "text": [
            "\b\b\b\b\b\b\b\b\b\b\b\b\b\b\b\b\b\b\b\b\b\b\b\b\b\b\b\b\b\b\b\b\b\b\b\b\b\b\b\b\b\b\b\b\b\b\b\b\b\b\b\b\b\b\b\b\b\b\b\b\b\b\b\b\b\b\b\b\b\b\b\b\b\b\b\b\b\b\b\b\b\b\b\b\b\b\b\b\b\b\b\b\r48/48 [==============================] - 1s 11ms/step - loss: 0.0037 - mean_squared_error: 0.0037\n",
            "Epoch 108/200\n",
            "47/48 [============================>.] - ETA: 0s - loss: 0.0034 - mean_squared_error: 0.0034"
          ]
        },
        {
          "output_type": "stream",
          "name": "stderr",
          "text": [
            "WARNING:tensorflow:Early stopping conditioned on metric `val_loss` which is not available. Available metrics are: loss,mean_squared_error\n"
          ]
        },
        {
          "output_type": "stream",
          "name": "stdout",
          "text": [
            "\b\b\b\b\b\b\b\b\b\b\b\b\b\b\b\b\b\b\b\b\b\b\b\b\b\b\b\b\b\b\b\b\b\b\b\b\b\b\b\b\b\b\b\b\b\b\b\b\b\b\b\b\b\b\b\b\b\b\b\b\b\b\b\b\b\b\b\b\b\b\b\b\b\b\b\b\b\b\b\b\b\b\b\b\b\b\b\b\b\b\b\b\r48/48 [==============================] - 0s 10ms/step - loss: 0.0034 - mean_squared_error: 0.0034\n",
            "Epoch 109/200\n",
            "45/48 [===========================>..] - ETA: 0s - loss: 0.0033 - mean_squared_error: 0.0033"
          ]
        },
        {
          "output_type": "stream",
          "name": "stderr",
          "text": [
            "WARNING:tensorflow:Early stopping conditioned on metric `val_loss` which is not available. Available metrics are: loss,mean_squared_error\n"
          ]
        },
        {
          "output_type": "stream",
          "name": "stdout",
          "text": [
            "\b\b\b\b\b\b\b\b\b\b\b\b\b\b\b\b\b\b\b\b\b\b\b\b\b\b\b\b\b\b\b\b\b\b\b\b\b\b\b\b\b\b\b\b\b\b\b\b\b\b\b\b\b\b\b\b\b\b\b\b\b\b\b\b\b\b\b\b\b\b\b\b\b\b\b\b\b\b\b\b\b\b\b\b\b\b\b\b\b\b\b\b\r48/48 [==============================] - 0s 10ms/step - loss: 0.0033 - mean_squared_error: 0.0033\n",
            "Epoch 110/200\n",
            "48/48 [==============================] - ETA: 0s - loss: 0.0034 - mean_squared_error: 0.0034"
          ]
        },
        {
          "output_type": "stream",
          "name": "stderr",
          "text": [
            "WARNING:tensorflow:Early stopping conditioned on metric `val_loss` which is not available. Available metrics are: loss,mean_squared_error\n"
          ]
        },
        {
          "output_type": "stream",
          "name": "stdout",
          "text": [
            "\b\b\b\b\b\b\b\b\b\b\b\b\b\b\b\b\b\b\b\b\b\b\b\b\b\b\b\b\b\b\b\b\b\b\b\b\b\b\b\b\b\b\b\b\b\b\b\b\b\b\b\b\b\b\b\b\b\b\b\b\b\b\b\b\b\b\b\b\b\b\b\b\b\b\b\b\b\b\b\b\b\b\b\b\b\b\b\b\b\b\b\b\r48/48 [==============================] - 1s 10ms/step - loss: 0.0034 - mean_squared_error: 0.0034\n",
            "Epoch 111/200\n",
            "45/48 [===========================>..] - ETA: 0s - loss: 0.0034 - mean_squared_error: 0.0034"
          ]
        },
        {
          "output_type": "stream",
          "name": "stderr",
          "text": [
            "WARNING:tensorflow:Early stopping conditioned on metric `val_loss` which is not available. Available metrics are: loss,mean_squared_error\n"
          ]
        },
        {
          "output_type": "stream",
          "name": "stdout",
          "text": [
            "\b\b\b\b\b\b\b\b\b\b\b\b\b\b\b\b\b\b\b\b\b\b\b\b\b\b\b\b\b\b\b\b\b\b\b\b\b\b\b\b\b\b\b\b\b\b\b\b\b\b\b\b\b\b\b\b\b\b\b\b\b\b\b\b\b\b\b\b\b\b\b\b\b\b\b\b\b\b\b\b\b\b\b\b\b\b\b\b\b\b\b\b\r48/48 [==============================] - 0s 10ms/step - loss: 0.0034 - mean_squared_error: 0.0034\n",
            "Epoch 112/200\n",
            "47/48 [============================>.] - ETA: 0s - loss: 0.0035 - mean_squared_error: 0.0035"
          ]
        },
        {
          "output_type": "stream",
          "name": "stderr",
          "text": [
            "WARNING:tensorflow:Early stopping conditioned on metric `val_loss` which is not available. Available metrics are: loss,mean_squared_error\n"
          ]
        },
        {
          "output_type": "stream",
          "name": "stdout",
          "text": [
            "\b\b\b\b\b\b\b\b\b\b\b\b\b\b\b\b\b\b\b\b\b\b\b\b\b\b\b\b\b\b\b\b\b\b\b\b\b\b\b\b\b\b\b\b\b\b\b\b\b\b\b\b\b\b\b\b\b\b\b\b\b\b\b\b\b\b\b\b\b\b\b\b\b\b\b\b\b\b\b\b\b\b\b\b\b\b\b\b\b\b\b\b\r48/48 [==============================] - 0s 10ms/step - loss: 0.0035 - mean_squared_error: 0.0035\n",
            "Epoch 113/200\n",
            "48/48 [==============================] - ETA: 0s - loss: 0.0034 - mean_squared_error: 0.0034"
          ]
        },
        {
          "output_type": "stream",
          "name": "stderr",
          "text": [
            "WARNING:tensorflow:Early stopping conditioned on metric `val_loss` which is not available. Available metrics are: loss,mean_squared_error\n"
          ]
        },
        {
          "output_type": "stream",
          "name": "stdout",
          "text": [
            "\b\b\b\b\b\b\b\b\b\b\b\b\b\b\b\b\b\b\b\b\b\b\b\b\b\b\b\b\b\b\b\b\b\b\b\b\b\b\b\b\b\b\b\b\b\b\b\b\b\b\b\b\b\b\b\b\b\b\b\b\b\b\b\b\b\b\b\b\b\b\b\b\b\b\b\b\b\b\b\b\b\b\b\b\b\b\b\b\b\b\b\b\r48/48 [==============================] - 1s 11ms/step - loss: 0.0034 - mean_squared_error: 0.0034\n",
            "Epoch 114/200\n",
            "45/48 [===========================>..] - ETA: 0s - loss: 0.0033 - mean_squared_error: 0.0033"
          ]
        },
        {
          "output_type": "stream",
          "name": "stderr",
          "text": [
            "WARNING:tensorflow:Early stopping conditioned on metric `val_loss` which is not available. Available metrics are: loss,mean_squared_error\n"
          ]
        },
        {
          "output_type": "stream",
          "name": "stdout",
          "text": [
            "\b\b\b\b\b\b\b\b\b\b\b\b\b\b\b\b\b\b\b\b\b\b\b\b\b\b\b\b\b\b\b\b\b\b\b\b\b\b\b\b\b\b\b\b\b\b\b\b\b\b\b\b\b\b\b\b\b\b\b\b\b\b\b\b\b\b\b\b\b\b\b\b\b\b\b\b\b\b\b\b\b\b\b\b\b\b\b\b\b\b\b\b\r48/48 [==============================] - 1s 10ms/step - loss: 0.0033 - mean_squared_error: 0.0033\n",
            "Epoch 115/200\n",
            "44/48 [==========================>...] - ETA: 0s - loss: 0.0034 - mean_squared_error: 0.0034"
          ]
        },
        {
          "output_type": "stream",
          "name": "stderr",
          "text": [
            "WARNING:tensorflow:Early stopping conditioned on metric `val_loss` which is not available. Available metrics are: loss,mean_squared_error\n"
          ]
        },
        {
          "output_type": "stream",
          "name": "stdout",
          "text": [
            "\b\b\b\b\b\b\b\b\b\b\b\b\b\b\b\b\b\b\b\b\b\b\b\b\b\b\b\b\b\b\b\b\b\b\b\b\b\b\b\b\b\b\b\b\b\b\b\b\b\b\b\b\b\b\b\b\b\b\b\b\b\b\b\b\b\b\b\b\b\b\b\b\b\b\b\b\b\b\b\b\b\b\b\b\b\b\b\b\b\b\b\b\r48/48 [==============================] - 1s 11ms/step - loss: 0.0034 - mean_squared_error: 0.0034\n",
            "Epoch 116/200\n",
            "45/48 [===========================>..] - ETA: 0s - loss: 0.0033 - mean_squared_error: 0.0033"
          ]
        },
        {
          "output_type": "stream",
          "name": "stderr",
          "text": [
            "WARNING:tensorflow:Early stopping conditioned on metric `val_loss` which is not available. Available metrics are: loss,mean_squared_error\n"
          ]
        },
        {
          "output_type": "stream",
          "name": "stdout",
          "text": [
            "\b\b\b\b\b\b\b\b\b\b\b\b\b\b\b\b\b\b\b\b\b\b\b\b\b\b\b\b\b\b\b\b\b\b\b\b\b\b\b\b\b\b\b\b\b\b\b\b\b\b\b\b\b\b\b\b\b\b\b\b\b\b\b\b\b\b\b\b\b\b\b\b\b\b\b\b\b\b\b\b\b\b\b\b\b\b\b\b\b\b\b\b\r48/48 [==============================] - 0s 10ms/step - loss: 0.0033 - mean_squared_error: 0.0033\n",
            "Epoch 117/200\n",
            "45/48 [===========================>..] - ETA: 0s - loss: 0.0037 - mean_squared_error: 0.0037"
          ]
        },
        {
          "output_type": "stream",
          "name": "stderr",
          "text": [
            "WARNING:tensorflow:Early stopping conditioned on metric `val_loss` which is not available. Available metrics are: loss,mean_squared_error\n"
          ]
        },
        {
          "output_type": "stream",
          "name": "stdout",
          "text": [
            "\b\b\b\b\b\b\b\b\b\b\b\b\b\b\b\b\b\b\b\b\b\b\b\b\b\b\b\b\b\b\b\b\b\b\b\b\b\b\b\b\b\b\b\b\b\b\b\b\b\b\b\b\b\b\b\b\b\b\b\b\b\b\b\b\b\b\b\b\b\b\b\b\b\b\b\b\b\b\b\b\b\b\b\b\b\b\b\b\b\b\b\b\r48/48 [==============================] - 0s 10ms/step - loss: 0.0037 - mean_squared_error: 0.0037\n",
            "Epoch 118/200\n",
            "45/48 [===========================>..] - ETA: 0s - loss: 0.0039 - mean_squared_error: 0.0039"
          ]
        },
        {
          "output_type": "stream",
          "name": "stderr",
          "text": [
            "WARNING:tensorflow:Early stopping conditioned on metric `val_loss` which is not available. Available metrics are: loss,mean_squared_error\n"
          ]
        },
        {
          "output_type": "stream",
          "name": "stdout",
          "text": [
            "\b\b\b\b\b\b\b\b\b\b\b\b\b\b\b\b\b\b\b\b\b\b\b\b\b\b\b\b\b\b\b\b\b\b\b\b\b\b\b\b\b\b\b\b\b\b\b\b\b\b\b\b\b\b\b\b\b\b\b\b\b\b\b\b\b\b\b\b\b\b\b\b\b\b\b\b\b\b\b\b\b\b\b\b\b\b\b\b\b\b\b\b\r48/48 [==============================] - 0s 10ms/step - loss: 0.0039 - mean_squared_error: 0.0039\n",
            "Epoch 119/200\n",
            "45/48 [===========================>..] - ETA: 0s - loss: 0.0038 - mean_squared_error: 0.0038"
          ]
        },
        {
          "output_type": "stream",
          "name": "stderr",
          "text": [
            "WARNING:tensorflow:Early stopping conditioned on metric `val_loss` which is not available. Available metrics are: loss,mean_squared_error\n"
          ]
        },
        {
          "output_type": "stream",
          "name": "stdout",
          "text": [
            "\b\b\b\b\b\b\b\b\b\b\b\b\b\b\b\b\b\b\b\b\b\b\b\b\b\b\b\b\b\b\b\b\b\b\b\b\b\b\b\b\b\b\b\b\b\b\b\b\b\b\b\b\b\b\b\b\b\b\b\b\b\b\b\b\b\b\b\b\b\b\b\b\b\b\b\b\b\b\b\b\b\b\b\b\b\b\b\b\b\b\b\b\r48/48 [==============================] - 1s 10ms/step - loss: 0.0039 - mean_squared_error: 0.0039\n",
            "Epoch 120/200\n",
            "43/48 [=========================>....] - ETA: 0s - loss: 0.0039 - mean_squared_error: 0.0039"
          ]
        },
        {
          "output_type": "stream",
          "name": "stderr",
          "text": [
            "WARNING:tensorflow:Early stopping conditioned on metric `val_loss` which is not available. Available metrics are: loss,mean_squared_error\n"
          ]
        },
        {
          "output_type": "stream",
          "name": "stdout",
          "text": [
            "\b\b\b\b\b\b\b\b\b\b\b\b\b\b\b\b\b\b\b\b\b\b\b\b\b\b\b\b\b\b\b\b\b\b\b\b\b\b\b\b\b\b\b\b\b\b\b\b\b\b\b\b\b\b\b\b\b\b\b\b\b\b\b\b\b\b\b\b\b\b\b\b\b\b\b\b\b\b\b\b\b\b\b\b\b\b\b\b\b\b\b\b\r48/48 [==============================] - 0s 9ms/step - loss: 0.0039 - mean_squared_error: 0.0039\n",
            "Epoch 121/200\n",
            "45/48 [===========================>..] - ETA: 0s - loss: 0.0034 - mean_squared_error: 0.0034"
          ]
        },
        {
          "output_type": "stream",
          "name": "stderr",
          "text": [
            "WARNING:tensorflow:Early stopping conditioned on metric `val_loss` which is not available. Available metrics are: loss,mean_squared_error\n"
          ]
        },
        {
          "output_type": "stream",
          "name": "stdout",
          "text": [
            "\b\b\b\b\b\b\b\b\b\b\b\b\b\b\b\b\b\b\b\b\b\b\b\b\b\b\b\b\b\b\b\b\b\b\b\b\b\b\b\b\b\b\b\b\b\b\b\b\b\b\b\b\b\b\b\b\b\b\b\b\b\b\b\b\b\b\b\b\b\b\b\b\b\b\b\b\b\b\b\b\b\b\b\b\b\b\b\b\b\b\b\b\r48/48 [==============================] - 0s 10ms/step - loss: 0.0035 - mean_squared_error: 0.0035\n",
            "Epoch 122/200\n",
            "47/48 [============================>.] - ETA: 0s - loss: 0.0035 - mean_squared_error: 0.0035"
          ]
        },
        {
          "output_type": "stream",
          "name": "stderr",
          "text": [
            "WARNING:tensorflow:Early stopping conditioned on metric `val_loss` which is not available. Available metrics are: loss,mean_squared_error\n"
          ]
        },
        {
          "output_type": "stream",
          "name": "stdout",
          "text": [
            "\b\b\b\b\b\b\b\b\b\b\b\b\b\b\b\b\b\b\b\b\b\b\b\b\b\b\b\b\b\b\b\b\b\b\b\b\b\b\b\b\b\b\b\b\b\b\b\b\b\b\b\b\b\b\b\b\b\b\b\b\b\b\b\b\b\b\b\b\b\b\b\b\b\b\b\b\b\b\b\b\b\b\b\b\b\b\b\b\b\b\b\b\r48/48 [==============================] - 1s 11ms/step - loss: 0.0035 - mean_squared_error: 0.0035\n",
            "Epoch 123/200\n",
            "44/48 [==========================>...] - ETA: 0s - loss: 0.0036 - mean_squared_error: 0.0036"
          ]
        },
        {
          "output_type": "stream",
          "name": "stderr",
          "text": [
            "WARNING:tensorflow:Early stopping conditioned on metric `val_loss` which is not available. Available metrics are: loss,mean_squared_error\n"
          ]
        },
        {
          "output_type": "stream",
          "name": "stdout",
          "text": [
            "\b\b\b\b\b\b\b\b\b\b\b\b\b\b\b\b\b\b\b\b\b\b\b\b\b\b\b\b\b\b\b\b\b\b\b\b\b\b\b\b\b\b\b\b\b\b\b\b\b\b\b\b\b\b\b\b\b\b\b\b\b\b\b\b\b\b\b\b\b\b\b\b\b\b\b\b\b\b\b\b\b\b\b\b\b\b\b\b\b\b\b\b\r48/48 [==============================] - 0s 10ms/step - loss: 0.0036 - mean_squared_error: 0.0036\n",
            "Epoch 124/200\n",
            "48/48 [==============================] - ETA: 0s - loss: 0.0034 - mean_squared_error: 0.0034"
          ]
        },
        {
          "output_type": "stream",
          "name": "stderr",
          "text": [
            "WARNING:tensorflow:Early stopping conditioned on metric `val_loss` which is not available. Available metrics are: loss,mean_squared_error\n"
          ]
        },
        {
          "output_type": "stream",
          "name": "stdout",
          "text": [
            "\b\b\b\b\b\b\b\b\b\b\b\b\b\b\b\b\b\b\b\b\b\b\b\b\b\b\b\b\b\b\b\b\b\b\b\b\b\b\b\b\b\b\b\b\b\b\b\b\b\b\b\b\b\b\b\b\b\b\b\b\b\b\b\b\b\b\b\b\b\b\b\b\b\b\b\b\b\b\b\b\b\b\b\b\b\b\b\b\b\b\b\b\r48/48 [==============================] - 0s 10ms/step - loss: 0.0034 - mean_squared_error: 0.0034\n",
            "Epoch 125/200\n",
            "46/48 [===========================>..] - ETA: 0s - loss: 0.0031 - mean_squared_error: 0.0031"
          ]
        },
        {
          "output_type": "stream",
          "name": "stderr",
          "text": [
            "WARNING:tensorflow:Early stopping conditioned on metric `val_loss` which is not available. Available metrics are: loss,mean_squared_error\n"
          ]
        },
        {
          "output_type": "stream",
          "name": "stdout",
          "text": [
            "\b\b\b\b\b\b\b\b\b\b\b\b\b\b\b\b\b\b\b\b\b\b\b\b\b\b\b\b\b\b\b\b\b\b\b\b\b\b\b\b\b\b\b\b\b\b\b\b\b\b\b\b\b\b\b\b\b\b\b\b\b\b\b\b\b\b\b\b\b\b\b\b\b\b\b\b\b\b\b\b\b\b\b\b\b\b\b\b\b\b\b\b\r48/48 [==============================] - 0s 10ms/step - loss: 0.0031 - mean_squared_error: 0.0031\n",
            "Epoch 126/200\n",
            "48/48 [==============================] - ETA: 0s - loss: 0.0035 - mean_squared_error: 0.0035"
          ]
        },
        {
          "output_type": "stream",
          "name": "stderr",
          "text": [
            "WARNING:tensorflow:Early stopping conditioned on metric `val_loss` which is not available. Available metrics are: loss,mean_squared_error\n"
          ]
        },
        {
          "output_type": "stream",
          "name": "stdout",
          "text": [
            "\b\b\b\b\b\b\b\b\b\b\b\b\b\b\b\b\b\b\b\b\b\b\b\b\b\b\b\b\b\b\b\b\b\b\b\b\b\b\b\b\b\b\b\b\b\b\b\b\b\b\b\b\b\b\b\b\b\b\b\b\b\b\b\b\b\b\b\b\b\b\b\b\b\b\b\b\b\b\b\b\b\b\b\b\b\b\b\b\b\b\b\b\r48/48 [==============================] - 1s 11ms/step - loss: 0.0035 - mean_squared_error: 0.0035\n",
            "Epoch 127/200\n",
            "45/48 [===========================>..] - ETA: 0s - loss: 0.0040 - mean_squared_error: 0.0040"
          ]
        },
        {
          "output_type": "stream",
          "name": "stderr",
          "text": [
            "WARNING:tensorflow:Early stopping conditioned on metric `val_loss` which is not available. Available metrics are: loss,mean_squared_error\n"
          ]
        },
        {
          "output_type": "stream",
          "name": "stdout",
          "text": [
            "\b\b\b\b\b\b\b\b\b\b\b\b\b\b\b\b\b\b\b\b\b\b\b\b\b\b\b\b\b\b\b\b\b\b\b\b\b\b\b\b\b\b\b\b\b\b\b\b\b\b\b\b\b\b\b\b\b\b\b\b\b\b\b\b\b\b\b\b\b\b\b\b\b\b\b\b\b\b\b\b\b\b\b\b\b\b\b\b\b\b\b\b\r48/48 [==============================] - 1s 15ms/step - loss: 0.0040 - mean_squared_error: 0.0040\n",
            "Epoch 128/200\n",
            "45/48 [===========================>..] - ETA: 0s - loss: 0.0032 - mean_squared_error: 0.0032"
          ]
        },
        {
          "output_type": "stream",
          "name": "stderr",
          "text": [
            "WARNING:tensorflow:Early stopping conditioned on metric `val_loss` which is not available. Available metrics are: loss,mean_squared_error\n"
          ]
        },
        {
          "output_type": "stream",
          "name": "stdout",
          "text": [
            "\b\b\b\b\b\b\b\b\b\b\b\b\b\b\b\b\b\b\b\b\b\b\b\b\b\b\b\b\b\b\b\b\b\b\b\b\b\b\b\b\b\b\b\b\b\b\b\b\b\b\b\b\b\b\b\b\b\b\b\b\b\b\b\b\b\b\b\b\b\b\b\b\b\b\b\b\b\b\b\b\b\b\b\b\b\b\b\b\b\b\b\b\r48/48 [==============================] - 1s 14ms/step - loss: 0.0032 - mean_squared_error: 0.0032\n",
            "Epoch 129/200\n",
            "48/48 [==============================] - ETA: 0s - loss: 0.0033 - mean_squared_error: 0.0033"
          ]
        },
        {
          "output_type": "stream",
          "name": "stderr",
          "text": [
            "WARNING:tensorflow:Early stopping conditioned on metric `val_loss` which is not available. Available metrics are: loss,mean_squared_error\n"
          ]
        },
        {
          "output_type": "stream",
          "name": "stdout",
          "text": [
            "\b\b\b\b\b\b\b\b\b\b\b\b\b\b\b\b\b\b\b\b\b\b\b\b\b\b\b\b\b\b\b\b\b\b\b\b\b\b\b\b\b\b\b\b\b\b\b\b\b\b\b\b\b\b\b\b\b\b\b\b\b\b\b\b\b\b\b\b\b\b\b\b\b\b\b\b\b\b\b\b\b\b\b\b\b\b\b\b\b\b\b\b\r48/48 [==============================] - 1s 18ms/step - loss: 0.0033 - mean_squared_error: 0.0033\n",
            "Epoch 130/200\n",
            "46/48 [===========================>..] - ETA: 0s - loss: 0.0036 - mean_squared_error: 0.0036"
          ]
        },
        {
          "output_type": "stream",
          "name": "stderr",
          "text": [
            "WARNING:tensorflow:Early stopping conditioned on metric `val_loss` which is not available. Available metrics are: loss,mean_squared_error\n"
          ]
        },
        {
          "output_type": "stream",
          "name": "stdout",
          "text": [
            "\b\b\b\b\b\b\b\b\b\b\b\b\b\b\b\b\b\b\b\b\b\b\b\b\b\b\b\b\b\b\b\b\b\b\b\b\b\b\b\b\b\b\b\b\b\b\b\b\b\b\b\b\b\b\b\b\b\b\b\b\b\b\b\b\b\b\b\b\b\b\b\b\b\b\b\b\b\b\b\b\b\b\b\b\b\b\b\b\b\b\b\b\r48/48 [==============================] - 1s 16ms/step - loss: 0.0036 - mean_squared_error: 0.0036\n",
            "Epoch 131/200\n",
            "45/48 [===========================>..] - ETA: 0s - loss: 0.0043 - mean_squared_error: 0.0043"
          ]
        },
        {
          "output_type": "stream",
          "name": "stderr",
          "text": [
            "WARNING:tensorflow:Early stopping conditioned on metric `val_loss` which is not available. Available metrics are: loss,mean_squared_error\n"
          ]
        },
        {
          "output_type": "stream",
          "name": "stdout",
          "text": [
            "\b\b\b\b\b\b\b\b\b\b\b\b\b\b\b\b\b\b\b\b\b\b\b\b\b\b\b\b\b\b\b\b\b\b\b\b\b\b\b\b\b\b\b\b\b\b\b\b\b\b\b\b\b\b\b\b\b\b\b\b\b\b\b\b\b\b\b\b\b\b\b\b\b\b\b\b\b\b\b\b\b\b\b\b\b\b\b\b\b\b\b\b\r48/48 [==============================] - 1s 14ms/step - loss: 0.0044 - mean_squared_error: 0.0044\n",
            "Epoch 132/200\n",
            "46/48 [===========================>..] - ETA: 0s - loss: 0.0036 - mean_squared_error: 0.0036"
          ]
        },
        {
          "output_type": "stream",
          "name": "stderr",
          "text": [
            "WARNING:tensorflow:Early stopping conditioned on metric `val_loss` which is not available. Available metrics are: loss,mean_squared_error\n"
          ]
        },
        {
          "output_type": "stream",
          "name": "stdout",
          "text": [
            "\b\b\b\b\b\b\b\b\b\b\b\b\b\b\b\b\b\b\b\b\b\b\b\b\b\b\b\b\b\b\b\b\b\b\b\b\b\b\b\b\b\b\b\b\b\b\b\b\b\b\b\b\b\b\b\b\b\b\b\b\b\b\b\b\b\b\b\b\b\b\b\b\b\b\b\b\b\b\b\b\b\b\b\b\b\b\b\b\b\b\b\b\r48/48 [==============================] - 1s 14ms/step - loss: 0.0036 - mean_squared_error: 0.0036\n",
            "Epoch 133/200\n",
            "46/48 [===========================>..] - ETA: 0s - loss: 0.0034 - mean_squared_error: 0.0034"
          ]
        },
        {
          "output_type": "stream",
          "name": "stderr",
          "text": [
            "WARNING:tensorflow:Early stopping conditioned on metric `val_loss` which is not available. Available metrics are: loss,mean_squared_error\n"
          ]
        },
        {
          "output_type": "stream",
          "name": "stdout",
          "text": [
            "\b\b\b\b\b\b\b\b\b\b\b\b\b\b\b\b\b\b\b\b\b\b\b\b\b\b\b\b\b\b\b\b\b\b\b\b\b\b\b\b\b\b\b\b\b\b\b\b\b\b\b\b\b\b\b\b\b\b\b\b\b\b\b\b\b\b\b\b\b\b\b\b\b\b\b\b\b\b\b\b\b\b\b\b\b\b\b\b\b\b\b\b\r48/48 [==============================] - 1s 17ms/step - loss: 0.0033 - mean_squared_error: 0.0033\n",
            "Epoch 134/200\n",
            "47/48 [============================>.] - ETA: 0s - loss: 0.0039 - mean_squared_error: 0.0039"
          ]
        },
        {
          "output_type": "stream",
          "name": "stderr",
          "text": [
            "WARNING:tensorflow:Early stopping conditioned on metric `val_loss` which is not available. Available metrics are: loss,mean_squared_error\n"
          ]
        },
        {
          "output_type": "stream",
          "name": "stdout",
          "text": [
            "\b\b\b\b\b\b\b\b\b\b\b\b\b\b\b\b\b\b\b\b\b\b\b\b\b\b\b\b\b\b\b\b\b\b\b\b\b\b\b\b\b\b\b\b\b\b\b\b\b\b\b\b\b\b\b\b\b\b\b\b\b\b\b\b\b\b\b\b\b\b\b\b\b\b\b\b\b\b\b\b\b\b\b\b\b\b\b\b\b\b\b\b\r48/48 [==============================] - 1s 11ms/step - loss: 0.0039 - mean_squared_error: 0.0039\n",
            "Epoch 135/200\n",
            "44/48 [==========================>...] - ETA: 0s - loss: 0.0040 - mean_squared_error: 0.0040"
          ]
        },
        {
          "output_type": "stream",
          "name": "stderr",
          "text": [
            "WARNING:tensorflow:Early stopping conditioned on metric `val_loss` which is not available. Available metrics are: loss,mean_squared_error\n"
          ]
        },
        {
          "output_type": "stream",
          "name": "stdout",
          "text": [
            "\b\b\b\b\b\b\b\b\b\b\b\b\b\b\b\b\b\b\b\b\b\b\b\b\b\b\b\b\b\b\b\b\b\b\b\b\b\b\b\b\b\b\b\b\b\b\b\b\b\b\b\b\b\b\b\b\b\b\b\b\b\b\b\b\b\b\b\b\b\b\b\b\b\b\b\b\b\b\b\b\b\b\b\b\b\b\b\b\b\b\b\b\r48/48 [==============================] - 0s 10ms/step - loss: 0.0039 - mean_squared_error: 0.0039\n",
            "Epoch 136/200\n",
            "44/48 [==========================>...] - ETA: 0s - loss: 0.0038 - mean_squared_error: 0.0038"
          ]
        },
        {
          "output_type": "stream",
          "name": "stderr",
          "text": [
            "WARNING:tensorflow:Early stopping conditioned on metric `val_loss` which is not available. Available metrics are: loss,mean_squared_error\n"
          ]
        },
        {
          "output_type": "stream",
          "name": "stdout",
          "text": [
            "\b\b\b\b\b\b\b\b\b\b\b\b\b\b\b\b\b\b\b\b\b\b\b\b\b\b\b\b\b\b\b\b\b\b\b\b\b\b\b\b\b\b\b\b\b\b\b\b\b\b\b\b\b\b\b\b\b\b\b\b\b\b\b\b\b\b\b\b\b\b\b\b\b\b\b\b\b\b\b\b\b\b\b\b\b\b\b\b\b\b\b\b\r48/48 [==============================] - 0s 10ms/step - loss: 0.0038 - mean_squared_error: 0.0038\n",
            "Epoch 137/200\n",
            "44/48 [==========================>...] - ETA: 0s - loss: 0.0033 - mean_squared_error: 0.0033"
          ]
        },
        {
          "output_type": "stream",
          "name": "stderr",
          "text": [
            "WARNING:tensorflow:Early stopping conditioned on metric `val_loss` which is not available. Available metrics are: loss,mean_squared_error\n"
          ]
        },
        {
          "output_type": "stream",
          "name": "stdout",
          "text": [
            "\b\b\b\b\b\b\b\b\b\b\b\b\b\b\b\b\b\b\b\b\b\b\b\b\b\b\b\b\b\b\b\b\b\b\b\b\b\b\b\b\b\b\b\b\b\b\b\b\b\b\b\b\b\b\b\b\b\b\b\b\b\b\b\b\b\b\b\b\b\b\b\b\b\b\b\b\b\b\b\b\b\b\b\b\b\b\b\b\b\b\b\b\r48/48 [==============================] - 0s 10ms/step - loss: 0.0034 - mean_squared_error: 0.0034\n",
            "Epoch 138/200\n",
            "45/48 [===========================>..] - ETA: 0s - loss: 0.0035 - mean_squared_error: 0.0035"
          ]
        },
        {
          "output_type": "stream",
          "name": "stderr",
          "text": [
            "WARNING:tensorflow:Early stopping conditioned on metric `val_loss` which is not available. Available metrics are: loss,mean_squared_error\n"
          ]
        },
        {
          "output_type": "stream",
          "name": "stdout",
          "text": [
            "\b\b\b\b\b\b\b\b\b\b\b\b\b\b\b\b\b\b\b\b\b\b\b\b\b\b\b\b\b\b\b\b\b\b\b\b\b\b\b\b\b\b\b\b\b\b\b\b\b\b\b\b\b\b\b\b\b\b\b\b\b\b\b\b\b\b\b\b\b\b\b\b\b\b\b\b\b\b\b\b\b\b\b\b\b\b\b\b\b\b\b\b\r48/48 [==============================] - 0s 10ms/step - loss: 0.0035 - mean_squared_error: 0.0035\n",
            "Epoch 139/200\n",
            "44/48 [==========================>...] - ETA: 0s - loss: 0.0035 - mean_squared_error: 0.0035"
          ]
        },
        {
          "output_type": "stream",
          "name": "stderr",
          "text": [
            "WARNING:tensorflow:Early stopping conditioned on metric `val_loss` which is not available. Available metrics are: loss,mean_squared_error\n"
          ]
        },
        {
          "output_type": "stream",
          "name": "stdout",
          "text": [
            "\b\b\b\b\b\b\b\b\b\b\b\b\b\b\b\b\b\b\b\b\b\b\b\b\b\b\b\b\b\b\b\b\b\b\b\b\b\b\b\b\b\b\b\b\b\b\b\b\b\b\b\b\b\b\b\b\b\b\b\b\b\b\b\b\b\b\b\b\b\b\b\b\b\b\b\b\b\b\b\b\b\b\b\b\b\b\b\b\b\b\b\b\r48/48 [==============================] - 1s 11ms/step - loss: 0.0035 - mean_squared_error: 0.0035\n",
            "Epoch 140/200\n",
            "45/48 [===========================>..] - ETA: 0s - loss: 0.0031 - mean_squared_error: 0.0031"
          ]
        },
        {
          "output_type": "stream",
          "name": "stderr",
          "text": [
            "WARNING:tensorflow:Early stopping conditioned on metric `val_loss` which is not available. Available metrics are: loss,mean_squared_error\n"
          ]
        },
        {
          "output_type": "stream",
          "name": "stdout",
          "text": [
            "\b\b\b\b\b\b\b\b\b\b\b\b\b\b\b\b\b\b\b\b\b\b\b\b\b\b\b\b\b\b\b\b\b\b\b\b\b\b\b\b\b\b\b\b\b\b\b\b\b\b\b\b\b\b\b\b\b\b\b\b\b\b\b\b\b\b\b\b\b\b\b\b\b\b\b\b\b\b\b\b\b\b\b\b\b\b\b\b\b\b\b\b\r48/48 [==============================] - 0s 10ms/step - loss: 0.0030 - mean_squared_error: 0.0030\n",
            "Epoch 141/200\n",
            "44/48 [==========================>...] - ETA: 0s - loss: 0.0035 - mean_squared_error: 0.0035"
          ]
        },
        {
          "output_type": "stream",
          "name": "stderr",
          "text": [
            "WARNING:tensorflow:Early stopping conditioned on metric `val_loss` which is not available. Available metrics are: loss,mean_squared_error\n"
          ]
        },
        {
          "output_type": "stream",
          "name": "stdout",
          "text": [
            "\b\b\b\b\b\b\b\b\b\b\b\b\b\b\b\b\b\b\b\b\b\b\b\b\b\b\b\b\b\b\b\b\b\b\b\b\b\b\b\b\b\b\b\b\b\b\b\b\b\b\b\b\b\b\b\b\b\b\b\b\b\b\b\b\b\b\b\b\b\b\b\b\b\b\b\b\b\b\b\b\b\b\b\b\b\b\b\b\b\b\b\b\r48/48 [==============================] - 0s 10ms/step - loss: 0.0036 - mean_squared_error: 0.0036\n",
            "Epoch 142/200\n",
            "46/48 [===========================>..] - ETA: 0s - loss: 0.0031 - mean_squared_error: 0.0031"
          ]
        },
        {
          "output_type": "stream",
          "name": "stderr",
          "text": [
            "WARNING:tensorflow:Early stopping conditioned on metric `val_loss` which is not available. Available metrics are: loss,mean_squared_error\n"
          ]
        },
        {
          "output_type": "stream",
          "name": "stdout",
          "text": [
            "\b\b\b\b\b\b\b\b\b\b\b\b\b\b\b\b\b\b\b\b\b\b\b\b\b\b\b\b\b\b\b\b\b\b\b\b\b\b\b\b\b\b\b\b\b\b\b\b\b\b\b\b\b\b\b\b\b\b\b\b\b\b\b\b\b\b\b\b\b\b\b\b\b\b\b\b\b\b\b\b\b\b\b\b\b\b\b\b\b\b\b\b\r48/48 [==============================] - 0s 10ms/step - loss: 0.0030 - mean_squared_error: 0.0030\n",
            "Epoch 143/200\n",
            "45/48 [===========================>..] - ETA: 0s - loss: 0.0032 - mean_squared_error: 0.0032"
          ]
        },
        {
          "output_type": "stream",
          "name": "stderr",
          "text": [
            "WARNING:tensorflow:Early stopping conditioned on metric `val_loss` which is not available. Available metrics are: loss,mean_squared_error\n"
          ]
        },
        {
          "output_type": "stream",
          "name": "stdout",
          "text": [
            "\b\b\b\b\b\b\b\b\b\b\b\b\b\b\b\b\b\b\b\b\b\b\b\b\b\b\b\b\b\b\b\b\b\b\b\b\b\b\b\b\b\b\b\b\b\b\b\b\b\b\b\b\b\b\b\b\b\b\b\b\b\b\b\b\b\b\b\b\b\b\b\b\b\b\b\b\b\b\b\b\b\b\b\b\b\b\b\b\b\b\b\b\r48/48 [==============================] - 0s 10ms/step - loss: 0.0032 - mean_squared_error: 0.0032\n",
            "Epoch 144/200\n",
            "46/48 [===========================>..] - ETA: 0s - loss: 0.0032 - mean_squared_error: 0.0032"
          ]
        },
        {
          "output_type": "stream",
          "name": "stderr",
          "text": [
            "WARNING:tensorflow:Early stopping conditioned on metric `val_loss` which is not available. Available metrics are: loss,mean_squared_error\n"
          ]
        },
        {
          "output_type": "stream",
          "name": "stdout",
          "text": [
            "\b\b\b\b\b\b\b\b\b\b\b\b\b\b\b\b\b\b\b\b\b\b\b\b\b\b\b\b\b\b\b\b\b\b\b\b\b\b\b\b\b\b\b\b\b\b\b\b\b\b\b\b\b\b\b\b\b\b\b\b\b\b\b\b\b\b\b\b\b\b\b\b\b\b\b\b\b\b\b\b\b\b\b\b\b\b\b\b\b\b\b\b\r48/48 [==============================] - 0s 10ms/step - loss: 0.0032 - mean_squared_error: 0.0032\n",
            "Epoch 145/200\n",
            "45/48 [===========================>..] - ETA: 0s - loss: 0.0035 - mean_squared_error: 0.0035"
          ]
        },
        {
          "output_type": "stream",
          "name": "stderr",
          "text": [
            "WARNING:tensorflow:Early stopping conditioned on metric `val_loss` which is not available. Available metrics are: loss,mean_squared_error\n"
          ]
        },
        {
          "output_type": "stream",
          "name": "stdout",
          "text": [
            "\b\b\b\b\b\b\b\b\b\b\b\b\b\b\b\b\b\b\b\b\b\b\b\b\b\b\b\b\b\b\b\b\b\b\b\b\b\b\b\b\b\b\b\b\b\b\b\b\b\b\b\b\b\b\b\b\b\b\b\b\b\b\b\b\b\b\b\b\b\b\b\b\b\b\b\b\b\b\b\b\b\b\b\b\b\b\b\b\b\b\b\b\r48/48 [==============================] - 1s 10ms/step - loss: 0.0035 - mean_squared_error: 0.0035\n",
            "Epoch 146/200\n",
            "47/48 [============================>.] - ETA: 0s - loss: 0.0035 - mean_squared_error: 0.0035"
          ]
        },
        {
          "output_type": "stream",
          "name": "stderr",
          "text": [
            "WARNING:tensorflow:Early stopping conditioned on metric `val_loss` which is not available. Available metrics are: loss,mean_squared_error\n"
          ]
        },
        {
          "output_type": "stream",
          "name": "stdout",
          "text": [
            "\b\b\b\b\b\b\b\b\b\b\b\b\b\b\b\b\b\b\b\b\b\b\b\b\b\b\b\b\b\b\b\b\b\b\b\b\b\b\b\b\b\b\b\b\b\b\b\b\b\b\b\b\b\b\b\b\b\b\b\b\b\b\b\b\b\b\b\b\b\b\b\b\b\b\b\b\b\b\b\b\b\b\b\b\b\b\b\b\b\b\b\b\r48/48 [==============================] - 0s 10ms/step - loss: 0.0035 - mean_squared_error: 0.0035\n",
            "Epoch 147/200\n",
            "46/48 [===========================>..] - ETA: 0s - loss: 0.0032 - mean_squared_error: 0.0032"
          ]
        },
        {
          "output_type": "stream",
          "name": "stderr",
          "text": [
            "WARNING:tensorflow:Early stopping conditioned on metric `val_loss` which is not available. Available metrics are: loss,mean_squared_error\n"
          ]
        },
        {
          "output_type": "stream",
          "name": "stdout",
          "text": [
            "\b\b\b\b\b\b\b\b\b\b\b\b\b\b\b\b\b\b\b\b\b\b\b\b\b\b\b\b\b\b\b\b\b\b\b\b\b\b\b\b\b\b\b\b\b\b\b\b\b\b\b\b\b\b\b\b\b\b\b\b\b\b\b\b\b\b\b\b\b\b\b\b\b\b\b\b\b\b\b\b\b\b\b\b\b\b\b\b\b\b\b\b\r48/48 [==============================] - 0s 10ms/step - loss: 0.0032 - mean_squared_error: 0.0032\n",
            "Epoch 148/200\n",
            "44/48 [==========================>...] - ETA: 0s - loss: 0.0037 - mean_squared_error: 0.0037"
          ]
        },
        {
          "output_type": "stream",
          "name": "stderr",
          "text": [
            "WARNING:tensorflow:Early stopping conditioned on metric `val_loss` which is not available. Available metrics are: loss,mean_squared_error\n"
          ]
        },
        {
          "output_type": "stream",
          "name": "stdout",
          "text": [
            "\b\b\b\b\b\b\b\b\b\b\b\b\b\b\b\b\b\b\b\b\b\b\b\b\b\b\b\b\b\b\b\b\b\b\b\b\b\b\b\b\b\b\b\b\b\b\b\b\b\b\b\b\b\b\b\b\b\b\b\b\b\b\b\b\b\b\b\b\b\b\b\b\b\b\b\b\b\b\b\b\b\b\b\b\b\b\b\b\b\b\b\b\r48/48 [==============================] - 0s 10ms/step - loss: 0.0037 - mean_squared_error: 0.0037\n",
            "Epoch 149/200\n",
            "48/48 [==============================] - ETA: 0s - loss: 0.0034 - mean_squared_error: 0.0034"
          ]
        },
        {
          "output_type": "stream",
          "name": "stderr",
          "text": [
            "WARNING:tensorflow:Early stopping conditioned on metric `val_loss` which is not available. Available metrics are: loss,mean_squared_error\n"
          ]
        },
        {
          "output_type": "stream",
          "name": "stdout",
          "text": [
            "\b\b\b\b\b\b\b\b\b\b\b\b\b\b\b\b\b\b\b\b\b\b\b\b\b\b\b\b\b\b\b\b\b\b\b\b\b\b\b\b\b\b\b\b\b\b\b\b\b\b\b\b\b\b\b\b\b\b\b\b\b\b\b\b\b\b\b\b\b\b\b\b\b\b\b\b\b\b\b\b\b\b\b\b\b\b\b\b\b\b\b\b\r48/48 [==============================] - 1s 11ms/step - loss: 0.0034 - mean_squared_error: 0.0034\n",
            "Epoch 150/200\n",
            "46/48 [===========================>..] - ETA: 0s - loss: 0.0034 - mean_squared_error: 0.0034"
          ]
        },
        {
          "output_type": "stream",
          "name": "stderr",
          "text": [
            "WARNING:tensorflow:Early stopping conditioned on metric `val_loss` which is not available. Available metrics are: loss,mean_squared_error\n"
          ]
        },
        {
          "output_type": "stream",
          "name": "stdout",
          "text": [
            "\b\b\b\b\b\b\b\b\b\b\b\b\b\b\b\b\b\b\b\b\b\b\b\b\b\b\b\b\b\b\b\b\b\b\b\b\b\b\b\b\b\b\b\b\b\b\b\b\b\b\b\b\b\b\b\b\b\b\b\b\b\b\b\b\b\b\b\b\b\b\b\b\b\b\b\b\b\b\b\b\b\b\b\b\b\b\b\b\b\b\b\b\r48/48 [==============================] - 0s 10ms/step - loss: 0.0034 - mean_squared_error: 0.0034\n",
            "Epoch 151/200\n",
            "45/48 [===========================>..] - ETA: 0s - loss: 0.0031 - mean_squared_error: 0.0031"
          ]
        },
        {
          "output_type": "stream",
          "name": "stderr",
          "text": [
            "WARNING:tensorflow:Early stopping conditioned on metric `val_loss` which is not available. Available metrics are: loss,mean_squared_error\n"
          ]
        },
        {
          "output_type": "stream",
          "name": "stdout",
          "text": [
            "\b\b\b\b\b\b\b\b\b\b\b\b\b\b\b\b\b\b\b\b\b\b\b\b\b\b\b\b\b\b\b\b\b\b\b\b\b\b\b\b\b\b\b\b\b\b\b\b\b\b\b\b\b\b\b\b\b\b\b\b\b\b\b\b\b\b\b\b\b\b\b\b\b\b\b\b\b\b\b\b\b\b\b\b\b\b\b\b\b\b\b\b\r48/48 [==============================] - 0s 10ms/step - loss: 0.0031 - mean_squared_error: 0.0031\n",
            "Epoch 152/200\n",
            "44/48 [==========================>...] - ETA: 0s - loss: 0.0041 - mean_squared_error: 0.0041"
          ]
        },
        {
          "output_type": "stream",
          "name": "stderr",
          "text": [
            "WARNING:tensorflow:Early stopping conditioned on metric `val_loss` which is not available. Available metrics are: loss,mean_squared_error\n"
          ]
        },
        {
          "output_type": "stream",
          "name": "stdout",
          "text": [
            "\b\b\b\b\b\b\b\b\b\b\b\b\b\b\b\b\b\b\b\b\b\b\b\b\b\b\b\b\b\b\b\b\b\b\b\b\b\b\b\b\b\b\b\b\b\b\b\b\b\b\b\b\b\b\b\b\b\b\b\b\b\b\b\b\b\b\b\b\b\b\b\b\b\b\b\b\b\b\b\b\b\b\b\b\b\b\b\b\b\b\b\b\r48/48 [==============================] - 1s 10ms/step - loss: 0.0041 - mean_squared_error: 0.0041\n",
            "Epoch 153/200\n",
            "47/48 [============================>.] - ETA: 0s - loss: 0.0035 - mean_squared_error: 0.0035"
          ]
        },
        {
          "output_type": "stream",
          "name": "stderr",
          "text": [
            "WARNING:tensorflow:Early stopping conditioned on metric `val_loss` which is not available. Available metrics are: loss,mean_squared_error\n"
          ]
        },
        {
          "output_type": "stream",
          "name": "stdout",
          "text": [
            "\b\b\b\b\b\b\b\b\b\b\b\b\b\b\b\b\b\b\b\b\b\b\b\b\b\b\b\b\b\b\b\b\b\b\b\b\b\b\b\b\b\b\b\b\b\b\b\b\b\b\b\b\b\b\b\b\b\b\b\b\b\b\b\b\b\b\b\b\b\b\b\b\b\b\b\b\b\b\b\b\b\b\b\b\b\b\b\b\b\b\b\b\r48/48 [==============================] - 1s 11ms/step - loss: 0.0035 - mean_squared_error: 0.0035\n",
            "Epoch 154/200\n",
            "45/48 [===========================>..] - ETA: 0s - loss: 0.0036 - mean_squared_error: 0.0036"
          ]
        },
        {
          "output_type": "stream",
          "name": "stderr",
          "text": [
            "WARNING:tensorflow:Early stopping conditioned on metric `val_loss` which is not available. Available metrics are: loss,mean_squared_error\n"
          ]
        },
        {
          "output_type": "stream",
          "name": "stdout",
          "text": [
            "\b\b\b\b\b\b\b\b\b\b\b\b\b\b\b\b\b\b\b\b\b\b\b\b\b\b\b\b\b\b\b\b\b\b\b\b\b\b\b\b\b\b\b\b\b\b\b\b\b\b\b\b\b\b\b\b\b\b\b\b\b\b\b\b\b\b\b\b\b\b\b\b\b\b\b\b\b\b\b\b\b\b\b\b\b\b\b\b\b\b\b\b\r48/48 [==============================] - 1s 16ms/step - loss: 0.0036 - mean_squared_error: 0.0036\n",
            "Epoch 155/200\n",
            "45/48 [===========================>..] - ETA: 0s - loss: 0.0034 - mean_squared_error: 0.0034"
          ]
        },
        {
          "output_type": "stream",
          "name": "stderr",
          "text": [
            "WARNING:tensorflow:Early stopping conditioned on metric `val_loss` which is not available. Available metrics are: loss,mean_squared_error\n"
          ]
        },
        {
          "output_type": "stream",
          "name": "stdout",
          "text": [
            "\b\b\b\b\b\b\b\b\b\b\b\b\b\b\b\b\b\b\b\b\b\b\b\b\b\b\b\b\b\b\b\b\b\b\b\b\b\b\b\b\b\b\b\b\b\b\b\b\b\b\b\b\b\b\b\b\b\b\b\b\b\b\b\b\b\b\b\b\b\b\b\b\b\b\b\b\b\b\b\b\b\b\b\b\b\b\b\b\b\b\b\b\r48/48 [==============================] - 1s 15ms/step - loss: 0.0034 - mean_squared_error: 0.0034\n",
            "Epoch 156/200\n",
            "48/48 [==============================] - ETA: 0s - loss: 0.0033 - mean_squared_error: 0.0033"
          ]
        },
        {
          "output_type": "stream",
          "name": "stderr",
          "text": [
            "WARNING:tensorflow:Early stopping conditioned on metric `val_loss` which is not available. Available metrics are: loss,mean_squared_error\n"
          ]
        },
        {
          "output_type": "stream",
          "name": "stdout",
          "text": [
            "\b\b\b\b\b\b\b\b\b\b\b\b\b\b\b\b\b\b\b\b\b\b\b\b\b\b\b\b\b\b\b\b\b\b\b\b\b\b\b\b\b\b\b\b\b\b\b\b\b\b\b\b\b\b\b\b\b\b\b\b\b\b\b\b\b\b\b\b\b\b\b\b\b\b\b\b\b\b\b\b\b\b\b\b\b\b\b\b\b\b\b\b\r48/48 [==============================] - 1s 14ms/step - loss: 0.0033 - mean_squared_error: 0.0033\n",
            "Epoch 157/200\n",
            "45/48 [===========================>..] - ETA: 0s - loss: 0.0036 - mean_squared_error: 0.0036"
          ]
        },
        {
          "output_type": "stream",
          "name": "stderr",
          "text": [
            "WARNING:tensorflow:Early stopping conditioned on metric `val_loss` which is not available. Available metrics are: loss,mean_squared_error\n"
          ]
        },
        {
          "output_type": "stream",
          "name": "stdout",
          "text": [
            "\b\b\b\b\b\b\b\b\b\b\b\b\b\b\b\b\b\b\b\b\b\b\b\b\b\b\b\b\b\b\b\b\b\b\b\b\b\b\b\b\b\b\b\b\b\b\b\b\b\b\b\b\b\b\b\b\b\b\b\b\b\b\b\b\b\b\b\b\b\b\b\b\b\b\b\b\b\b\b\b\b\b\b\b\b\b\b\b\b\b\b\b\r48/48 [==============================] - 1s 14ms/step - loss: 0.0035 - mean_squared_error: 0.0035\n",
            "Epoch 158/200\n",
            "46/48 [===========================>..] - ETA: 0s - loss: 0.0034 - mean_squared_error: 0.0034"
          ]
        },
        {
          "output_type": "stream",
          "name": "stderr",
          "text": [
            "WARNING:tensorflow:Early stopping conditioned on metric `val_loss` which is not available. Available metrics are: loss,mean_squared_error\n"
          ]
        },
        {
          "output_type": "stream",
          "name": "stdout",
          "text": [
            "\b\b\b\b\b\b\b\b\b\b\b\b\b\b\b\b\b\b\b\b\b\b\b\b\b\b\b\b\b\b\b\b\b\b\b\b\b\b\b\b\b\b\b\b\b\b\b\b\b\b\b\b\b\b\b\b\b\b\b\b\b\b\b\b\b\b\b\b\b\b\b\b\b\b\b\b\b\b\b\b\b\b\b\b\b\b\b\b\b\b\b\b\r48/48 [==============================] - 1s 15ms/step - loss: 0.0034 - mean_squared_error: 0.0034\n",
            "Epoch 159/200\n",
            "47/48 [============================>.] - ETA: 0s - loss: 0.0032 - mean_squared_error: 0.0032"
          ]
        },
        {
          "output_type": "stream",
          "name": "stderr",
          "text": [
            "WARNING:tensorflow:Early stopping conditioned on metric `val_loss` which is not available. Available metrics are: loss,mean_squared_error\n"
          ]
        },
        {
          "output_type": "stream",
          "name": "stdout",
          "text": [
            "\b\b\b\b\b\b\b\b\b\b\b\b\b\b\b\b\b\b\b\b\b\b\b\b\b\b\b\b\b\b\b\b\b\b\b\b\b\b\b\b\b\b\b\b\b\b\b\b\b\b\b\b\b\b\b\b\b\b\b\b\b\b\b\b\b\b\b\b\b\b\b\b\b\b\b\b\b\b\b\b\b\b\b\b\b\b\b\b\b\b\b\b\r48/48 [==============================] - 1s 15ms/step - loss: 0.0032 - mean_squared_error: 0.0032\n",
            "Epoch 160/200\n",
            "48/48 [==============================] - ETA: 0s - loss: 0.0036 - mean_squared_error: 0.0036"
          ]
        },
        {
          "output_type": "stream",
          "name": "stderr",
          "text": [
            "WARNING:tensorflow:Early stopping conditioned on metric `val_loss` which is not available. Available metrics are: loss,mean_squared_error\n"
          ]
        },
        {
          "output_type": "stream",
          "name": "stdout",
          "text": [
            "\b\b\b\b\b\b\b\b\b\b\b\b\b\b\b\b\b\b\b\b\b\b\b\b\b\b\b\b\b\b\b\b\b\b\b\b\b\b\b\b\b\b\b\b\b\b\b\b\b\b\b\b\b\b\b\b\b\b\b\b\b\b\b\b\b\b\b\b\b\b\b\b\b\b\b\b\b\b\b\b\b\b\b\b\b\b\b\b\b\b\b\b\r48/48 [==============================] - 1s 14ms/step - loss: 0.0036 - mean_squared_error: 0.0036\n",
            "Epoch 161/200\n",
            "48/48 [==============================] - ETA: 0s - loss: 0.0032 - mean_squared_error: 0.0032"
          ]
        },
        {
          "output_type": "stream",
          "name": "stderr",
          "text": [
            "WARNING:tensorflow:Early stopping conditioned on metric `val_loss` which is not available. Available metrics are: loss,mean_squared_error\n"
          ]
        },
        {
          "output_type": "stream",
          "name": "stdout",
          "text": [
            "\b\b\b\b\b\b\b\b\b\b\b\b\b\b\b\b\b\b\b\b\b\b\b\b\b\b\b\b\b\b\b\b\b\b\b\b\b\b\b\b\b\b\b\b\b\b\b\b\b\b\b\b\b\b\b\b\b\b\b\b\b\b\b\b\b\b\b\b\b\b\b\b\b\b\b\b\b\b\b\b\b\b\b\b\b\b\b\b\b\b\b\b\r48/48 [==============================] - 1s 14ms/step - loss: 0.0032 - mean_squared_error: 0.0032\n",
            "Epoch 162/200\n",
            "48/48 [==============================] - ETA: 0s - loss: 0.0033 - mean_squared_error: 0.0033"
          ]
        },
        {
          "output_type": "stream",
          "name": "stderr",
          "text": [
            "WARNING:tensorflow:Early stopping conditioned on metric `val_loss` which is not available. Available metrics are: loss,mean_squared_error\n"
          ]
        },
        {
          "output_type": "stream",
          "name": "stdout",
          "text": [
            "\b\b\b\b\b\b\b\b\b\b\b\b\b\b\b\b\b\b\b\b\b\b\b\b\b\b\b\b\b\b\b\b\b\b\b\b\b\b\b\b\b\b\b\b\b\b\b\b\b\b\b\b\b\b\b\b\b\b\b\b\b\b\b\b\b\b\b\b\b\b\b\b\b\b\b\b\b\b\b\b\b\b\b\b\b\b\b\b\b\b\b\b\r48/48 [==============================] - 1s 11ms/step - loss: 0.0033 - mean_squared_error: 0.0033\n",
            "Epoch 163/200\n",
            "47/48 [============================>.] - ETA: 0s - loss: 0.0035 - mean_squared_error: 0.0035"
          ]
        },
        {
          "output_type": "stream",
          "name": "stderr",
          "text": [
            "WARNING:tensorflow:Early stopping conditioned on metric `val_loss` which is not available. Available metrics are: loss,mean_squared_error\n"
          ]
        },
        {
          "output_type": "stream",
          "name": "stdout",
          "text": [
            "\b\b\b\b\b\b\b\b\b\b\b\b\b\b\b\b\b\b\b\b\b\b\b\b\b\b\b\b\b\b\b\b\b\b\b\b\b\b\b\b\b\b\b\b\b\b\b\b\b\b\b\b\b\b\b\b\b\b\b\b\b\b\b\b\b\b\b\b\b\b\b\b\b\b\b\b\b\b\b\b\b\b\b\b\b\b\b\b\b\b\b\b\r48/48 [==============================] - 0s 10ms/step - loss: 0.0035 - mean_squared_error: 0.0035\n",
            "Epoch 164/200\n",
            "43/48 [=========================>....] - ETA: 0s - loss: 0.0038 - mean_squared_error: 0.0038"
          ]
        },
        {
          "output_type": "stream",
          "name": "stderr",
          "text": [
            "WARNING:tensorflow:Early stopping conditioned on metric `val_loss` which is not available. Available metrics are: loss,mean_squared_error\n"
          ]
        },
        {
          "output_type": "stream",
          "name": "stdout",
          "text": [
            "\b\b\b\b\b\b\b\b\b\b\b\b\b\b\b\b\b\b\b\b\b\b\b\b\b\b\b\b\b\b\b\b\b\b\b\b\b\b\b\b\b\b\b\b\b\b\b\b\b\b\b\b\b\b\b\b\b\b\b\b\b\b\b\b\b\b\b\b\b\b\b\b\b\b\b\b\b\b\b\b\b\b\b\b\b\b\b\b\b\b\b\b\r48/48 [==============================] - 0s 10ms/step - loss: 0.0037 - mean_squared_error: 0.0037\n",
            "Epoch 165/200\n",
            "47/48 [============================>.] - ETA: 0s - loss: 0.0032 - mean_squared_error: 0.0032"
          ]
        },
        {
          "output_type": "stream",
          "name": "stderr",
          "text": [
            "WARNING:tensorflow:Early stopping conditioned on metric `val_loss` which is not available. Available metrics are: loss,mean_squared_error\n"
          ]
        },
        {
          "output_type": "stream",
          "name": "stdout",
          "text": [
            "\b\b\b\b\b\b\b\b\b\b\b\b\b\b\b\b\b\b\b\b\b\b\b\b\b\b\b\b\b\b\b\b\b\b\b\b\b\b\b\b\b\b\b\b\b\b\b\b\b\b\b\b\b\b\b\b\b\b\b\b\b\b\b\b\b\b\b\b\b\b\b\b\b\b\b\b\b\b\b\b\b\b\b\b\b\b\b\b\b\b\b\b\r48/48 [==============================] - 0s 10ms/step - loss: 0.0032 - mean_squared_error: 0.0032\n",
            "Epoch 166/200\n",
            "45/48 [===========================>..] - ETA: 0s - loss: 0.0031 - mean_squared_error: 0.0031"
          ]
        },
        {
          "output_type": "stream",
          "name": "stderr",
          "text": [
            "WARNING:tensorflow:Early stopping conditioned on metric `val_loss` which is not available. Available metrics are: loss,mean_squared_error\n"
          ]
        },
        {
          "output_type": "stream",
          "name": "stdout",
          "text": [
            "\b\b\b\b\b\b\b\b\b\b\b\b\b\b\b\b\b\b\b\b\b\b\b\b\b\b\b\b\b\b\b\b\b\b\b\b\b\b\b\b\b\b\b\b\b\b\b\b\b\b\b\b\b\b\b\b\b\b\b\b\b\b\b\b\b\b\b\b\b\b\b\b\b\b\b\b\b\b\b\b\b\b\b\b\b\b\b\b\b\b\b\b\r48/48 [==============================] - 1s 11ms/step - loss: 0.0031 - mean_squared_error: 0.0031\n",
            "Epoch 167/200\n",
            "47/48 [============================>.] - ETA: 0s - loss: 0.0036 - mean_squared_error: 0.0036"
          ]
        },
        {
          "output_type": "stream",
          "name": "stderr",
          "text": [
            "WARNING:tensorflow:Early stopping conditioned on metric `val_loss` which is not available. Available metrics are: loss,mean_squared_error\n"
          ]
        },
        {
          "output_type": "stream",
          "name": "stdout",
          "text": [
            "\b\b\b\b\b\b\b\b\b\b\b\b\b\b\b\b\b\b\b\b\b\b\b\b\b\b\b\b\b\b\b\b\b\b\b\b\b\b\b\b\b\b\b\b\b\b\b\b\b\b\b\b\b\b\b\b\b\b\b\b\b\b\b\b\b\b\b\b\b\b\b\b\b\b\b\b\b\b\b\b\b\b\b\b\b\b\b\b\b\b\b\b\r48/48 [==============================] - 0s 10ms/step - loss: 0.0036 - mean_squared_error: 0.0036\n",
            "Epoch 168/200\n",
            "48/48 [==============================] - ETA: 0s - loss: 0.0034 - mean_squared_error: 0.0034"
          ]
        },
        {
          "output_type": "stream",
          "name": "stderr",
          "text": [
            "WARNING:tensorflow:Early stopping conditioned on metric `val_loss` which is not available. Available metrics are: loss,mean_squared_error\n"
          ]
        },
        {
          "output_type": "stream",
          "name": "stdout",
          "text": [
            "\b\b\b\b\b\b\b\b\b\b\b\b\b\b\b\b\b\b\b\b\b\b\b\b\b\b\b\b\b\b\b\b\b\b\b\b\b\b\b\b\b\b\b\b\b\b\b\b\b\b\b\b\b\b\b\b\b\b\b\b\b\b\b\b\b\b\b\b\b\b\b\b\b\b\b\b\b\b\b\b\b\b\b\b\b\b\b\b\b\b\b\b\r48/48 [==============================] - 1s 11ms/step - loss: 0.0034 - mean_squared_error: 0.0034\n",
            "Epoch 169/200\n",
            "45/48 [===========================>..] - ETA: 0s - loss: 0.0033 - mean_squared_error: 0.0033"
          ]
        },
        {
          "output_type": "stream",
          "name": "stderr",
          "text": [
            "WARNING:tensorflow:Early stopping conditioned on metric `val_loss` which is not available. Available metrics are: loss,mean_squared_error\n"
          ]
        },
        {
          "output_type": "stream",
          "name": "stdout",
          "text": [
            "\b\b\b\b\b\b\b\b\b\b\b\b\b\b\b\b\b\b\b\b\b\b\b\b\b\b\b\b\b\b\b\b\b\b\b\b\b\b\b\b\b\b\b\b\b\b\b\b\b\b\b\b\b\b\b\b\b\b\b\b\b\b\b\b\b\b\b\b\b\b\b\b\b\b\b\b\b\b\b\b\b\b\b\b\b\b\b\b\b\b\b\b\r48/48 [==============================] - 0s 10ms/step - loss: 0.0033 - mean_squared_error: 0.0033\n",
            "Epoch 170/200\n",
            "45/48 [===========================>..] - ETA: 0s - loss: 0.0034 - mean_squared_error: 0.0034"
          ]
        },
        {
          "output_type": "stream",
          "name": "stderr",
          "text": [
            "WARNING:tensorflow:Early stopping conditioned on metric `val_loss` which is not available. Available metrics are: loss,mean_squared_error\n"
          ]
        },
        {
          "output_type": "stream",
          "name": "stdout",
          "text": [
            "\b\b\b\b\b\b\b\b\b\b\b\b\b\b\b\b\b\b\b\b\b\b\b\b\b\b\b\b\b\b\b\b\b\b\b\b\b\b\b\b\b\b\b\b\b\b\b\b\b\b\b\b\b\b\b\b\b\b\b\b\b\b\b\b\b\b\b\b\b\b\b\b\b\b\b\b\b\b\b\b\b\b\b\b\b\b\b\b\b\b\b\b\r48/48 [==============================] - 1s 11ms/step - loss: 0.0034 - mean_squared_error: 0.0034\n",
            "Epoch 171/200\n",
            "43/48 [=========================>....] - ETA: 0s - loss: 0.0032 - mean_squared_error: 0.0032"
          ]
        },
        {
          "output_type": "stream",
          "name": "stderr",
          "text": [
            "WARNING:tensorflow:Early stopping conditioned on metric `val_loss` which is not available. Available metrics are: loss,mean_squared_error\n"
          ]
        },
        {
          "output_type": "stream",
          "name": "stdout",
          "text": [
            "\b\b\b\b\b\b\b\b\b\b\b\b\b\b\b\b\b\b\b\b\b\b\b\b\b\b\b\b\b\b\b\b\b\b\b\b\b\b\b\b\b\b\b\b\b\b\b\b\b\b\b\b\b\b\b\b\b\b\b\b\b\b\b\b\b\b\b\b\b\b\b\b\b\b\b\b\b\b\b\b\b\b\b\b\b\b\b\b\b\b\b\b\r48/48 [==============================] - 0s 9ms/step - loss: 0.0034 - mean_squared_error: 0.0034\n",
            "Epoch 172/200\n",
            "45/48 [===========================>..] - ETA: 0s - loss: 0.0031 - mean_squared_error: 0.0031"
          ]
        },
        {
          "output_type": "stream",
          "name": "stderr",
          "text": [
            "WARNING:tensorflow:Early stopping conditioned on metric `val_loss` which is not available. Available metrics are: loss,mean_squared_error\n"
          ]
        },
        {
          "output_type": "stream",
          "name": "stdout",
          "text": [
            "\b\b\b\b\b\b\b\b\b\b\b\b\b\b\b\b\b\b\b\b\b\b\b\b\b\b\b\b\b\b\b\b\b\b\b\b\b\b\b\b\b\b\b\b\b\b\b\b\b\b\b\b\b\b\b\b\b\b\b\b\b\b\b\b\b\b\b\b\b\b\b\b\b\b\b\b\b\b\b\b\b\b\b\b\b\b\b\b\b\b\b\b\r48/48 [==============================] - 1s 10ms/step - loss: 0.0032 - mean_squared_error: 0.0032\n",
            "Epoch 173/200\n",
            "44/48 [==========================>...] - ETA: 0s - loss: 0.0034 - mean_squared_error: 0.0034"
          ]
        },
        {
          "output_type": "stream",
          "name": "stderr",
          "text": [
            "WARNING:tensorflow:Early stopping conditioned on metric `val_loss` which is not available. Available metrics are: loss,mean_squared_error\n"
          ]
        },
        {
          "output_type": "stream",
          "name": "stdout",
          "text": [
            "\b\b\b\b\b\b\b\b\b\b\b\b\b\b\b\b\b\b\b\b\b\b\b\b\b\b\b\b\b\b\b\b\b\b\b\b\b\b\b\b\b\b\b\b\b\b\b\b\b\b\b\b\b\b\b\b\b\b\b\b\b\b\b\b\b\b\b\b\b\b\b\b\b\b\b\b\b\b\b\b\b\b\b\b\b\b\b\b\b\b\b\b\r48/48 [==============================] - 0s 10ms/step - loss: 0.0034 - mean_squared_error: 0.0034\n",
            "Epoch 174/200\n",
            "46/48 [===========================>..] - ETA: 0s - loss: 0.0033 - mean_squared_error: 0.0033"
          ]
        },
        {
          "output_type": "stream",
          "name": "stderr",
          "text": [
            "WARNING:tensorflow:Early stopping conditioned on metric `val_loss` which is not available. Available metrics are: loss,mean_squared_error\n"
          ]
        },
        {
          "output_type": "stream",
          "name": "stdout",
          "text": [
            "\b\b\b\b\b\b\b\b\b\b\b\b\b\b\b\b\b\b\b\b\b\b\b\b\b\b\b\b\b\b\b\b\b\b\b\b\b\b\b\b\b\b\b\b\b\b\b\b\b\b\b\b\b\b\b\b\b\b\b\b\b\b\b\b\b\b\b\b\b\b\b\b\b\b\b\b\b\b\b\b\b\b\b\b\b\b\b\b\b\b\b\b\r48/48 [==============================] - 0s 10ms/step - loss: 0.0033 - mean_squared_error: 0.0033\n",
            "Epoch 175/200\n",
            "44/48 [==========================>...] - ETA: 0s - loss: 0.0036 - mean_squared_error: 0.0036"
          ]
        },
        {
          "output_type": "stream",
          "name": "stderr",
          "text": [
            "WARNING:tensorflow:Early stopping conditioned on metric `val_loss` which is not available. Available metrics are: loss,mean_squared_error\n"
          ]
        },
        {
          "output_type": "stream",
          "name": "stdout",
          "text": [
            "\b\b\b\b\b\b\b\b\b\b\b\b\b\b\b\b\b\b\b\b\b\b\b\b\b\b\b\b\b\b\b\b\b\b\b\b\b\b\b\b\b\b\b\b\b\b\b\b\b\b\b\b\b\b\b\b\b\b\b\b\b\b\b\b\b\b\b\b\b\b\b\b\b\b\b\b\b\b\b\b\b\b\b\b\b\b\b\b\b\b\b\b\r48/48 [==============================] - 0s 10ms/step - loss: 0.0036 - mean_squared_error: 0.0036\n",
            "Epoch 176/200\n",
            "45/48 [===========================>..] - ETA: 0s - loss: 0.0034 - mean_squared_error: 0.0034"
          ]
        },
        {
          "output_type": "stream",
          "name": "stderr",
          "text": [
            "WARNING:tensorflow:Early stopping conditioned on metric `val_loss` which is not available. Available metrics are: loss,mean_squared_error\n"
          ]
        },
        {
          "output_type": "stream",
          "name": "stdout",
          "text": [
            "\b\b\b\b\b\b\b\b\b\b\b\b\b\b\b\b\b\b\b\b\b\b\b\b\b\b\b\b\b\b\b\b\b\b\b\b\b\b\b\b\b\b\b\b\b\b\b\b\b\b\b\b\b\b\b\b\b\b\b\b\b\b\b\b\b\b\b\b\b\b\b\b\b\b\b\b\b\b\b\b\b\b\b\b\b\b\b\b\b\b\b\b\r48/48 [==============================] - 0s 10ms/step - loss: 0.0034 - mean_squared_error: 0.0034\n",
            "Epoch 177/200\n",
            "44/48 [==========================>...] - ETA: 0s - loss: 0.0038 - mean_squared_error: 0.0038"
          ]
        },
        {
          "output_type": "stream",
          "name": "stderr",
          "text": [
            "WARNING:tensorflow:Early stopping conditioned on metric `val_loss` which is not available. Available metrics are: loss,mean_squared_error\n"
          ]
        },
        {
          "output_type": "stream",
          "name": "stdout",
          "text": [
            "\b\b\b\b\b\b\b\b\b\b\b\b\b\b\b\b\b\b\b\b\b\b\b\b\b\b\b\b\b\b\b\b\b\b\b\b\b\b\b\b\b\b\b\b\b\b\b\b\b\b\b\b\b\b\b\b\b\b\b\b\b\b\b\b\b\b\b\b\b\b\b\b\b\b\b\b\b\b\b\b\b\b\b\b\b\b\b\b\b\b\b\b\r48/48 [==============================] - 1s 10ms/step - loss: 0.0038 - mean_squared_error: 0.0038\n",
            "Epoch 178/200\n",
            "47/48 [============================>.] - ETA: 0s - loss: 0.0033 - mean_squared_error: 0.0033"
          ]
        },
        {
          "output_type": "stream",
          "name": "stderr",
          "text": [
            "WARNING:tensorflow:Early stopping conditioned on metric `val_loss` which is not available. Available metrics are: loss,mean_squared_error\n"
          ]
        },
        {
          "output_type": "stream",
          "name": "stdout",
          "text": [
            "\b\b\b\b\b\b\b\b\b\b\b\b\b\b\b\b\b\b\b\b\b\b\b\b\b\b\b\b\b\b\b\b\b\b\b\b\b\b\b\b\b\b\b\b\b\b\b\b\b\b\b\b\b\b\b\b\b\b\b\b\b\b\b\b\b\b\b\b\b\b\b\b\b\b\b\b\b\b\b\b\b\b\b\b\b\b\b\b\b\b\b\b\r48/48 [==============================] - 1s 11ms/step - loss: 0.0033 - mean_squared_error: 0.0033\n",
            "Epoch 179/200\n",
            "46/48 [===========================>..] - ETA: 0s - loss: 0.0035 - mean_squared_error: 0.0035"
          ]
        },
        {
          "output_type": "stream",
          "name": "stderr",
          "text": [
            "WARNING:tensorflow:Early stopping conditioned on metric `val_loss` which is not available. Available metrics are: loss,mean_squared_error\n"
          ]
        },
        {
          "output_type": "stream",
          "name": "stdout",
          "text": [
            "\b\b\b\b\b\b\b\b\b\b\b\b\b\b\b\b\b\b\b\b\b\b\b\b\b\b\b\b\b\b\b\b\b\b\b\b\b\b\b\b\b\b\b\b\b\b\b\b\b\b\b\b\b\b\b\b\b\b\b\b\b\b\b\b\b\b\b\b\b\b\b\b\b\b\b\b\b\b\b\b\b\b\b\b\b\b\b\b\b\b\b\b\r48/48 [==============================] - 0s 10ms/step - loss: 0.0035 - mean_squared_error: 0.0035\n",
            "Epoch 180/200\n",
            "44/48 [==========================>...] - ETA: 0s - loss: 0.0034 - mean_squared_error: 0.0034"
          ]
        },
        {
          "output_type": "stream",
          "name": "stderr",
          "text": [
            "WARNING:tensorflow:Early stopping conditioned on metric `val_loss` which is not available. Available metrics are: loss,mean_squared_error\n"
          ]
        },
        {
          "output_type": "stream",
          "name": "stdout",
          "text": [
            "\b\b\b\b\b\b\b\b\b\b\b\b\b\b\b\b\b\b\b\b\b\b\b\b\b\b\b\b\b\b\b\b\b\b\b\b\b\b\b\b\b\b\b\b\b\b\b\b\b\b\b\b\b\b\b\b\b\b\b\b\b\b\b\b\b\b\b\b\b\b\b\b\b\b\b\b\b\b\b\b\b\b\b\b\b\b\b\b\b\b\b\b\r48/48 [==============================] - 1s 10ms/step - loss: 0.0034 - mean_squared_error: 0.0034\n",
            "Epoch 181/200\n",
            "48/48 [==============================] - ETA: 0s - loss: 0.0033 - mean_squared_error: 0.0033"
          ]
        },
        {
          "output_type": "stream",
          "name": "stderr",
          "text": [
            "WARNING:tensorflow:Early stopping conditioned on metric `val_loss` which is not available. Available metrics are: loss,mean_squared_error\n"
          ]
        },
        {
          "output_type": "stream",
          "name": "stdout",
          "text": [
            "\b\b\b\b\b\b\b\b\b\b\b\b\b\b\b\b\b\b\b\b\b\b\b\b\b\b\b\b\b\b\b\b\b\b\b\b\b\b\b\b\b\b\b\b\b\b\b\b\b\b\b\b\b\b\b\b\b\b\b\b\b\b\b\b\b\b\b\b\b\b\b\b\b\b\b\b\b\b\b\b\b\b\b\b\b\b\b\b\b\b\b\b\r48/48 [==============================] - 1s 12ms/step - loss: 0.0033 - mean_squared_error: 0.0033\n",
            "Epoch 182/200\n",
            "48/48 [==============================] - ETA: 0s - loss: 0.0035 - mean_squared_error: 0.0035"
          ]
        },
        {
          "output_type": "stream",
          "name": "stderr",
          "text": [
            "WARNING:tensorflow:Early stopping conditioned on metric `val_loss` which is not available. Available metrics are: loss,mean_squared_error\n"
          ]
        },
        {
          "output_type": "stream",
          "name": "stdout",
          "text": [
            "\b\b\b\b\b\b\b\b\b\b\b\b\b\b\b\b\b\b\b\b\b\b\b\b\b\b\b\b\b\b\b\b\b\b\b\b\b\b\b\b\b\b\b\b\b\b\b\b\b\b\b\b\b\b\b\b\b\b\b\b\b\b\b\b\b\b\b\b\b\b\b\b\b\b\b\b\b\b\b\b\b\b\b\b\b\b\b\b\b\b\b\b\r48/48 [==============================] - 1s 15ms/step - loss: 0.0035 - mean_squared_error: 0.0035\n",
            "Epoch 183/200\n",
            "48/48 [==============================] - ETA: 0s - loss: 0.0035 - mean_squared_error: 0.0035"
          ]
        },
        {
          "output_type": "stream",
          "name": "stderr",
          "text": [
            "WARNING:tensorflow:Early stopping conditioned on metric `val_loss` which is not available. Available metrics are: loss,mean_squared_error\n"
          ]
        },
        {
          "output_type": "stream",
          "name": "stdout",
          "text": [
            "\b\b\b\b\b\b\b\b\b\b\b\b\b\b\b\b\b\b\b\b\b\b\b\b\b\b\b\b\b\b\b\b\b\b\b\b\b\b\b\b\b\b\b\b\b\b\b\b\b\b\b\b\b\b\b\b\b\b\b\b\b\b\b\b\b\b\b\b\b\b\b\b\b\b\b\b\b\b\b\b\b\b\b\b\b\b\b\b\b\b\b\b\r48/48 [==============================] - 1s 15ms/step - loss: 0.0035 - mean_squared_error: 0.0035\n",
            "Epoch 184/200\n",
            "45/48 [===========================>..] - ETA: 0s - loss: 0.0035 - mean_squared_error: 0.0035"
          ]
        },
        {
          "output_type": "stream",
          "name": "stderr",
          "text": [
            "WARNING:tensorflow:Early stopping conditioned on metric `val_loss` which is not available. Available metrics are: loss,mean_squared_error\n"
          ]
        },
        {
          "output_type": "stream",
          "name": "stdout",
          "text": [
            "\b\b\b\b\b\b\b\b\b\b\b\b\b\b\b\b\b\b\b\b\b\b\b\b\b\b\b\b\b\b\b\b\b\b\b\b\b\b\b\b\b\b\b\b\b\b\b\b\b\b\b\b\b\b\b\b\b\b\b\b\b\b\b\b\b\b\b\b\b\b\b\b\b\b\b\b\b\b\b\b\b\b\b\b\b\b\b\b\b\b\b\b\r48/48 [==============================] - 1s 14ms/step - loss: 0.0034 - mean_squared_error: 0.0034\n",
            "Epoch 185/200\n",
            "45/48 [===========================>..] - ETA: 0s - loss: 0.0034 - mean_squared_error: 0.0034"
          ]
        },
        {
          "output_type": "stream",
          "name": "stderr",
          "text": [
            "WARNING:tensorflow:Early stopping conditioned on metric `val_loss` which is not available. Available metrics are: loss,mean_squared_error\n"
          ]
        },
        {
          "output_type": "stream",
          "name": "stdout",
          "text": [
            "\b\b\b\b\b\b\b\b\b\b\b\b\b\b\b\b\b\b\b\b\b\b\b\b\b\b\b\b\b\b\b\b\b\b\b\b\b\b\b\b\b\b\b\b\b\b\b\b\b\b\b\b\b\b\b\b\b\b\b\b\b\b\b\b\b\b\b\b\b\b\b\b\b\b\b\b\b\b\b\b\b\b\b\b\b\b\b\b\b\b\b\b\r48/48 [==============================] - 1s 14ms/step - loss: 0.0035 - mean_squared_error: 0.0035\n",
            "Epoch 186/200\n",
            "47/48 [============================>.] - ETA: 0s - loss: 0.0037 - mean_squared_error: 0.0037"
          ]
        },
        {
          "output_type": "stream",
          "name": "stderr",
          "text": [
            "WARNING:tensorflow:Early stopping conditioned on metric `val_loss` which is not available. Available metrics are: loss,mean_squared_error\n"
          ]
        },
        {
          "output_type": "stream",
          "name": "stdout",
          "text": [
            "\b\b\b\b\b\b\b\b\b\b\b\b\b\b\b\b\b\b\b\b\b\b\b\b\b\b\b\b\b\b\b\b\b\b\b\b\b\b\b\b\b\b\b\b\b\b\b\b\b\b\b\b\b\b\b\b\b\b\b\b\b\b\b\b\b\b\b\b\b\b\b\b\b\b\b\b\b\b\b\b\b\b\b\b\b\b\b\b\b\b\b\b\r48/48 [==============================] - 1s 16ms/step - loss: 0.0036 - mean_squared_error: 0.0036\n",
            "Epoch 187/200\n",
            "46/48 [===========================>..] - ETA: 0s - loss: 0.0037 - mean_squared_error: 0.0037"
          ]
        },
        {
          "output_type": "stream",
          "name": "stderr",
          "text": [
            "WARNING:tensorflow:Early stopping conditioned on metric `val_loss` which is not available. Available metrics are: loss,mean_squared_error\n"
          ]
        },
        {
          "output_type": "stream",
          "name": "stdout",
          "text": [
            "\b\b\b\b\b\b\b\b\b\b\b\b\b\b\b\b\b\b\b\b\b\b\b\b\b\b\b\b\b\b\b\b\b\b\b\b\b\b\b\b\b\b\b\b\b\b\b\b\b\b\b\b\b\b\b\b\b\b\b\b\b\b\b\b\b\b\b\b\b\b\b\b\b\b\b\b\b\b\b\b\b\b\b\b\b\b\b\b\b\b\b\b\r48/48 [==============================] - 1s 16ms/step - loss: 0.0037 - mean_squared_error: 0.0037\n",
            "Epoch 188/200\n",
            "45/48 [===========================>..] - ETA: 0s - loss: 0.0033 - mean_squared_error: 0.0033"
          ]
        },
        {
          "output_type": "stream",
          "name": "stderr",
          "text": [
            "WARNING:tensorflow:Early stopping conditioned on metric `val_loss` which is not available. Available metrics are: loss,mean_squared_error\n"
          ]
        },
        {
          "output_type": "stream",
          "name": "stdout",
          "text": [
            "\b\b\b\b\b\b\b\b\b\b\b\b\b\b\b\b\b\b\b\b\b\b\b\b\b\b\b\b\b\b\b\b\b\b\b\b\b\b\b\b\b\b\b\b\b\b\b\b\b\b\b\b\b\b\b\b\b\b\b\b\b\b\b\b\b\b\b\b\b\b\b\b\b\b\b\b\b\b\b\b\b\b\b\b\b\b\b\b\b\b\b\b\r48/48 [==============================] - 1s 17ms/step - loss: 0.0033 - mean_squared_error: 0.0033\n",
            "Epoch 189/200\n",
            "44/48 [==========================>...] - ETA: 0s - loss: 0.0038 - mean_squared_error: 0.0038"
          ]
        },
        {
          "output_type": "stream",
          "name": "stderr",
          "text": [
            "WARNING:tensorflow:Early stopping conditioned on metric `val_loss` which is not available. Available metrics are: loss,mean_squared_error\n"
          ]
        },
        {
          "output_type": "stream",
          "name": "stdout",
          "text": [
            "\b\b\b\b\b\b\b\b\b\b\b\b\b\b\b\b\b\b\b\b\b\b\b\b\b\b\b\b\b\b\b\b\b\b\b\b\b\b\b\b\b\b\b\b\b\b\b\b\b\b\b\b\b\b\b\b\b\b\b\b\b\b\b\b\b\b\b\b\b\b\b\b\b\b\b\b\b\b\b\b\b\b\b\b\b\b\b\b\b\b\b\b\r48/48 [==============================] - 1s 13ms/step - loss: 0.0038 - mean_squared_error: 0.0038\n",
            "Epoch 190/200\n",
            "47/48 [============================>.] - ETA: 0s - loss: 0.0032 - mean_squared_error: 0.0032"
          ]
        },
        {
          "output_type": "stream",
          "name": "stderr",
          "text": [
            "WARNING:tensorflow:Early stopping conditioned on metric `val_loss` which is not available. Available metrics are: loss,mean_squared_error\n"
          ]
        },
        {
          "output_type": "stream",
          "name": "stdout",
          "text": [
            "\b\b\b\b\b\b\b\b\b\b\b\b\b\b\b\b\b\b\b\b\b\b\b\b\b\b\b\b\b\b\b\b\b\b\b\b\b\b\b\b\b\b\b\b\b\b\b\b\b\b\b\b\b\b\b\b\b\b\b\b\b\b\b\b\b\b\b\b\b\b\b\b\b\b\b\b\b\b\b\b\b\b\b\b\b\b\b\b\b\b\b\b\r48/48 [==============================] - 0s 10ms/step - loss: 0.0032 - mean_squared_error: 0.0032\n",
            "Epoch 191/200\n",
            "43/48 [=========================>....] - ETA: 0s - loss: 0.0033 - mean_squared_error: 0.0033"
          ]
        },
        {
          "output_type": "stream",
          "name": "stderr",
          "text": [
            "WARNING:tensorflow:Early stopping conditioned on metric `val_loss` which is not available. Available metrics are: loss,mean_squared_error\n"
          ]
        },
        {
          "output_type": "stream",
          "name": "stdout",
          "text": [
            "\b\b\b\b\b\b\b\b\b\b\b\b\b\b\b\b\b\b\b\b\b\b\b\b\b\b\b\b\b\b\b\b\b\b\b\b\b\b\b\b\b\b\b\b\b\b\b\b\b\b\b\b\b\b\b\b\b\b\b\b\b\b\b\b\b\b\b\b\b\b\b\b\b\b\b\b\b\b\b\b\b\b\b\b\b\b\b\b\b\b\b\b\r48/48 [==============================] - 0s 10ms/step - loss: 0.0033 - mean_squared_error: 0.0033\n",
            "Epoch 192/200\n",
            "48/48 [==============================] - ETA: 0s - loss: 0.0035 - mean_squared_error: 0.0035"
          ]
        },
        {
          "output_type": "stream",
          "name": "stderr",
          "text": [
            "WARNING:tensorflow:Early stopping conditioned on metric `val_loss` which is not available. Available metrics are: loss,mean_squared_error\n"
          ]
        },
        {
          "output_type": "stream",
          "name": "stdout",
          "text": [
            "\b\b\b\b\b\b\b\b\b\b\b\b\b\b\b\b\b\b\b\b\b\b\b\b\b\b\b\b\b\b\b\b\b\b\b\b\b\b\b\b\b\b\b\b\b\b\b\b\b\b\b\b\b\b\b\b\b\b\b\b\b\b\b\b\b\b\b\b\b\b\b\b\b\b\b\b\b\b\b\b\b\b\b\b\b\b\b\b\b\b\b\b\r48/48 [==============================] - 1s 11ms/step - loss: 0.0035 - mean_squared_error: 0.0035\n",
            "Epoch 193/200\n",
            "43/48 [=========================>....] - ETA: 0s - loss: 0.0035 - mean_squared_error: 0.0035"
          ]
        },
        {
          "output_type": "stream",
          "name": "stderr",
          "text": [
            "WARNING:tensorflow:Early stopping conditioned on metric `val_loss` which is not available. Available metrics are: loss,mean_squared_error\n"
          ]
        },
        {
          "output_type": "stream",
          "name": "stdout",
          "text": [
            "\b\b\b\b\b\b\b\b\b\b\b\b\b\b\b\b\b\b\b\b\b\b\b\b\b\b\b\b\b\b\b\b\b\b\b\b\b\b\b\b\b\b\b\b\b\b\b\b\b\b\b\b\b\b\b\b\b\b\b\b\b\b\b\b\b\b\b\b\b\b\b\b\b\b\b\b\b\b\b\b\b\b\b\b\b\b\b\b\b\b\b\b\r48/48 [==============================] - 0s 10ms/step - loss: 0.0034 - mean_squared_error: 0.0034\n",
            "Epoch 194/200\n",
            "48/48 [==============================] - ETA: 0s - loss: 0.0035 - mean_squared_error: 0.0035"
          ]
        },
        {
          "output_type": "stream",
          "name": "stderr",
          "text": [
            "WARNING:tensorflow:Early stopping conditioned on metric `val_loss` which is not available. Available metrics are: loss,mean_squared_error\n"
          ]
        },
        {
          "output_type": "stream",
          "name": "stdout",
          "text": [
            "\b\b\b\b\b\b\b\b\b\b\b\b\b\b\b\b\b\b\b\b\b\b\b\b\b\b\b\b\b\b\b\b\b\b\b\b\b\b\b\b\b\b\b\b\b\b\b\b\b\b\b\b\b\b\b\b\b\b\b\b\b\b\b\b\b\b\b\b\b\b\b\b\b\b\b\b\b\b\b\b\b\b\b\b\b\b\b\b\b\b\b\b\r48/48 [==============================] - 1s 10ms/step - loss: 0.0035 - mean_squared_error: 0.0035\n",
            "Epoch 195/200\n",
            "46/48 [===========================>..] - ETA: 0s - loss: 0.0038 - mean_squared_error: 0.0038"
          ]
        },
        {
          "output_type": "stream",
          "name": "stderr",
          "text": [
            "WARNING:tensorflow:Early stopping conditioned on metric `val_loss` which is not available. Available metrics are: loss,mean_squared_error\n"
          ]
        },
        {
          "output_type": "stream",
          "name": "stdout",
          "text": [
            "\b\b\b\b\b\b\b\b\b\b\b\b\b\b\b\b\b\b\b\b\b\b\b\b\b\b\b\b\b\b\b\b\b\b\b\b\b\b\b\b\b\b\b\b\b\b\b\b\b\b\b\b\b\b\b\b\b\b\b\b\b\b\b\b\b\b\b\b\b\b\b\b\b\b\b\b\b\b\b\b\b\b\b\b\b\b\b\b\b\b\b\b\r48/48 [==============================] - 1s 11ms/step - loss: 0.0037 - mean_squared_error: 0.0037\n",
            "Epoch 196/200\n",
            "48/48 [==============================] - ETA: 0s - loss: 0.0033 - mean_squared_error: 0.0033"
          ]
        },
        {
          "output_type": "stream",
          "name": "stderr",
          "text": [
            "WARNING:tensorflow:Early stopping conditioned on metric `val_loss` which is not available. Available metrics are: loss,mean_squared_error\n"
          ]
        },
        {
          "output_type": "stream",
          "name": "stdout",
          "text": [
            "\b\b\b\b\b\b\b\b\b\b\b\b\b\b\b\b\b\b\b\b\b\b\b\b\b\b\b\b\b\b\b\b\b\b\b\b\b\b\b\b\b\b\b\b\b\b\b\b\b\b\b\b\b\b\b\b\b\b\b\b\b\b\b\b\b\b\b\b\b\b\b\b\b\b\b\b\b\b\b\b\b\b\b\b\b\b\b\b\b\b\b\b\r48/48 [==============================] - 1s 11ms/step - loss: 0.0033 - mean_squared_error: 0.0033\n",
            "Epoch 197/200\n",
            "45/48 [===========================>..] - ETA: 0s - loss: 0.0034 - mean_squared_error: 0.0034"
          ]
        },
        {
          "output_type": "stream",
          "name": "stderr",
          "text": [
            "WARNING:tensorflow:Early stopping conditioned on metric `val_loss` which is not available. Available metrics are: loss,mean_squared_error\n"
          ]
        },
        {
          "output_type": "stream",
          "name": "stdout",
          "text": [
            "\b\b\b\b\b\b\b\b\b\b\b\b\b\b\b\b\b\b\b\b\b\b\b\b\b\b\b\b\b\b\b\b\b\b\b\b\b\b\b\b\b\b\b\b\b\b\b\b\b\b\b\b\b\b\b\b\b\b\b\b\b\b\b\b\b\b\b\b\b\b\b\b\b\b\b\b\b\b\b\b\b\b\b\b\b\b\b\b\b\b\b\b\r48/48 [==============================] - 0s 10ms/step - loss: 0.0034 - mean_squared_error: 0.0034\n",
            "Epoch 198/200\n",
            "43/48 [=========================>....] - ETA: 0s - loss: 0.0033 - mean_squared_error: 0.0033"
          ]
        },
        {
          "output_type": "stream",
          "name": "stderr",
          "text": [
            "WARNING:tensorflow:Early stopping conditioned on metric `val_loss` which is not available. Available metrics are: loss,mean_squared_error\n"
          ]
        },
        {
          "output_type": "stream",
          "name": "stdout",
          "text": [
            "\b\b\b\b\b\b\b\b\b\b\b\b\b\b\b\b\b\b\b\b\b\b\b\b\b\b\b\b\b\b\b\b\b\b\b\b\b\b\b\b\b\b\b\b\b\b\b\b\b\b\b\b\b\b\b\b\b\b\b\b\b\b\b\b\b\b\b\b\b\b\b\b\b\b\b\b\b\b\b\b\b\b\b\b\b\b\b\b\b\b\b\b\r48/48 [==============================] - 0s 10ms/step - loss: 0.0032 - mean_squared_error: 0.0032\n",
            "Epoch 199/200\n",
            "44/48 [==========================>...] - ETA: 0s - loss: 0.0036 - mean_squared_error: 0.0036"
          ]
        },
        {
          "output_type": "stream",
          "name": "stderr",
          "text": [
            "WARNING:tensorflow:Early stopping conditioned on metric `val_loss` which is not available. Available metrics are: loss,mean_squared_error\n"
          ]
        },
        {
          "output_type": "stream",
          "name": "stdout",
          "text": [
            "\b\b\b\b\b\b\b\b\b\b\b\b\b\b\b\b\b\b\b\b\b\b\b\b\b\b\b\b\b\b\b\b\b\b\b\b\b\b\b\b\b\b\b\b\b\b\b\b\b\b\b\b\b\b\b\b\b\b\b\b\b\b\b\b\b\b\b\b\b\b\b\b\b\b\b\b\b\b\b\b\b\b\b\b\b\b\b\b\b\b\b\b\r48/48 [==============================] - 0s 10ms/step - loss: 0.0036 - mean_squared_error: 0.0036\n",
            "Epoch 200/200\n",
            "47/48 [============================>.] - ETA: 0s - loss: 0.0034 - mean_squared_error: 0.0034"
          ]
        },
        {
          "output_type": "stream",
          "name": "stderr",
          "text": [
            "WARNING:tensorflow:Early stopping conditioned on metric `val_loss` which is not available. Available metrics are: loss,mean_squared_error\n"
          ]
        },
        {
          "output_type": "stream",
          "name": "stdout",
          "text": [
            "\b\b\b\b\b\b\b\b\b\b\b\b\b\b\b\b\b\b\b\b\b\b\b\b\b\b\b\b\b\b\b\b\b\b\b\b\b\b\b\b\b\b\b\b\b\b\b\b\b\b\b\b\b\b\b\b\b\b\b\b\b\b\b\b\b\b\b\b\b\b\b\b\b\b\b\b\b\b\b\b\b\b\b\b\b\b\b\b\b\b\b\b\r48/48 [==============================] - 1s 11ms/step - loss: 0.0034 - mean_squared_error: 0.0034\n"
          ]
        }
      ]
    },
    {
      "cell_type": "code",
      "source": [
        "hybrid_expanded.save('/content/StockPrice-Hybrid-Model-/Models/hybrid_expanded.h5')"
      ],
      "metadata": {
        "id": "_WNUeciw6zNZ"
      },
      "execution_count": 55,
      "outputs": []
    },
    {
      "cell_type": "markdown",
      "source": [
        "### 5.1.2 Test the Expanded Model"
      ],
      "metadata": {
        "id": "GFRwWfsfzH-0"
      }
    },
    {
      "cell_type": "code",
      "source": [
        "from os import listdir\n",
        "hybrid_expanded = load_model('/content/StockPrice-Hybrid-Model-/Models/hybrid_expanded.h5')\n",
        "google_test = {}\n",
        "microsoft_test = {}\n",
        "path = '/content/StockPrice-Hybrid-Model-/sub_models/'\n",
        "for num, model in enumerate(os.listdir(path)):\n",
        "  scaler = MinMaxScaler()\n",
        "  model = load_model(path+model)\n",
        "  goog_preds = model.predict(google_ft).flatten()\n",
        "  micro_preds = model.predict(X_test).flatten()\n",
        "  google_test[ticker_list[num]] = goog_preds\n",
        "  microsoft_test[ticker_list[num]] = micro_preds\n",
        "google_test = pd.DataFrame(google_test)\n",
        "microsoft_test = pd.DataFrame(microsoft_test)\n",
        "\n",
        "google_test['prophet'] = np.array(goog_data)\n",
        "google_test['prophet'] = scaler.fit_transform(google_test[['prophet']])\n",
        "microsoft_test['prophet'] = np.array(msft_test_data)\n",
        "microsoft_test['prophet'] = scaler.fit_transform(microsoft_test[['prophet']])\n",
        "\n",
        "goog_x, goog_y = lstm_split(google_test, google_target, len(google_test))\n",
        "msft_x, msft_y = lstm_split(microsoft_test, y_test, len(microsoft_test))\n"
      ],
      "metadata": {
        "id": "-IW0CTH_xgMe",
        "outputId": "b5583b2f-fb12-486b-a65c-84ee8c6c1411",
        "colab": {
          "base_uri": "https://localhost:8080/"
        }
      },
      "execution_count": 56,
      "outputs": [
        {
          "output_type": "stream",
          "name": "stdout",
          "text": [
            "40/40 [==============================] - 0s 5ms/step\n",
            "4/4 [==============================] - 0s 6ms/step\n",
            "40/40 [==============================] - 0s 4ms/step\n",
            "4/4 [==============================] - 0s 4ms/step\n",
            "40/40 [==============================] - 0s 4ms/step\n",
            "4/4 [==============================] - 0s 5ms/step\n",
            "40/40 [==============================] - 0s 4ms/step\n",
            "4/4 [==============================] - 0s 5ms/step\n"
          ]
        }
      ]
    },
    {
      "cell_type": "code",
      "source": [
        "goog_predictions = hybrid_expanded.predict(goog_x)\n",
        "msft_predictions = hybrid_expanded.predict(msft_x)"
      ],
      "metadata": {
        "id": "NvsAiXSBKGqt",
        "outputId": "783b447b-3633-445f-93ce-4a924d6ca909",
        "colab": {
          "base_uri": "https://localhost:8080/"
        }
      },
      "execution_count": 74,
      "outputs": [
        {
          "output_type": "stream",
          "name": "stdout",
          "text": [
            "40/40 [==============================] - 0s 4ms/step\n",
            "4/4 [==============================] - 0s 6ms/step\n"
          ]
        }
      ]
    },
    {
      "cell_type": "code",
      "source": [
        "linear_model = LinearRegression()\n",
        "linear_model.fit(preds_df,training_y)\n",
        "linear_ex_goog = linear_model.predict(google_test)\n",
        "linear_ex_msft = linear_model.predict(microsoft_test)\n",
        "mse, mae = compute_metrics(google_target, linear_predictions)\n",
        "print(mse)"
      ],
      "metadata": {
        "id": "FvIWTIw6SUHn",
        "outputId": "afc73be3-004f-4903-d619-6f07ee0934f9",
        "colab": {
          "base_uri": "https://localhost:8080/"
        }
      },
      "execution_count": 75,
      "outputs": [
        {
          "output_type": "stream",
          "name": "stdout",
          "text": [
            "0.0015004585\n"
          ]
        }
      ]
    },
    {
      "cell_type": "code",
      "source": [
        "mse, mae = compute_metrics(goog_y, goog_predictions)\n",
        "print(mse)"
      ],
      "metadata": {
        "id": "YjxoSj9PVSdi",
        "outputId": "84524bc0-8a3e-4883-fcba-22572ee5aec1",
        "colab": {
          "base_uri": "https://localhost:8080/"
        }
      },
      "execution_count": 76,
      "outputs": [
        {
          "output_type": "stream",
          "name": "stdout",
          "text": [
            "0.0016877814\n"
          ]
        }
      ]
    },
    {
      "cell_type": "code",
      "source": [
        "import matplotlib.pyplot as plt\n",
        "\n",
        "# plot MAE and loss\n",
        "#plt.figure(figsize=(10, 6))\n",
        "plt.plot(hybrid_history.history['mae'], label='MAE')\n",
        "plt.plot(hybrid_history.history['loss'], label='loss')\n",
        "plt.xlabel('epoch')\n",
        "plt.legend()\n",
        "plt.show()\n",
        "\n",
        "# compare LSTM on trained on MSFT on predictions for Google\n",
        "fig, ax = plt.subplots()\n",
        "ax.plot(LSTM_MSFT_yhat, 'g')\n",
        "ax.plot(LSTM_GOOG_yhat, 'b')\n",
        "plt.show()"
      ],
      "metadata": {
        "id": "Zz7sDLp87apB",
        "colab": {
          "base_uri": "https://localhost:8080/",
          "height": 864
        },
        "outputId": "093d9a8d-4aa1-49ae-d017-bc15e0ffe30d"
      },
      "execution_count": 77,
      "outputs": [
        {
          "output_type": "display_data",
          "data": {
            "text/plain": [
              "<Figure size 640x480 with 1 Axes>"
            ],
            "image/png": "[encoded data removed]"
          },
          "metadata": {}
        },
        {
          "output_type": "display_data",
          "data": {
            "text/plain": [
              "<Figure size 640x480 with 1 Axes>"
            ],
            "image/png": "[encoded data removed]"
          },
          "metadata": {}
        }
      ]
    },
    {
      "cell_type": "code",
      "source": [
        "#prepare all predictions\n",
        "#lstm\n",
        "print('single LSTM model')\n",
        "msft_lstm_mse, msft_lstm_mae = compute_metrics(y_test, LSTM_MSFT_test)\n",
        "goog_lstm_mse, goog_lstm_mae = compute_metrics(google_scaler.inverse_transform(google_target), google_scaler.inverse_transform(LSTM_GOOG_yhat))\n",
        "\n",
        "print('single hybrid model')\n",
        "#single hybrid\n",
        "msft_single_mse, msft_single_mae = compute_metrics(MSFT_y_test, MSFT_predictions)\n",
        "goog_sinlge_mse, goog_single_mae = compute_metrics(google_scaler.inverse_transform(GOOG_y_test), google_scaler.inverse_transform(GOOG_predictions))\n",
        "\n",
        "print('single linear model')\n",
        "#Single linear hybrid\n",
        "msft_sing_linear_mse, msft_sing_linear_mae = compute_metrics(y_test, linear_predictions_MSFT)\n",
        "goog_linear_mse, goog_linear_mae = compute_metrics(google_scaler.inverse_transform(google_target), google_scaler.inverse_transform(linear_predictions_GOOG))\n",
        "\n",
        "print('expanded hybrid model')\n",
        "#expanded_hybrid\n",
        "msft_expanded_mse, msft_expanded_mae = compute_metrics(msft_y, msft_predictions)\n",
        "goog_expanded_mse, goog_expanded_mae = compute_metrics(goog_y, goog_predictions)\n",
        "\n",
        "print('expanded linear model')\n",
        "#Expanded linear hybrid\n",
        "msft_exlin_mse, msft_exlin_mae = compute_metrics(y_test, linear_ex_msft)\n",
        "goog_exlin_mse, goog_exlin_mae = compute_metrics(google_target, linear_ex_goog)"
      ],
      "metadata": {
        "id": "YJV1dtpSKCHI",
        "outputId": "49ff02b2-fa18-41b9-c1c9-dc5d0573709e",
        "colab": {
          "base_uri": "https://localhost:8080/"
        }
      },
      "execution_count": 87,
      "outputs": [
        {
          "output_type": "stream",
          "name": "stdout",
          "text": [
            "single LSTM model\n",
            "the mean square error of the predictions is 0.0008603367023169994, and the mean absolute error of the predictions is 0.024465009570121765\n",
            "the mean square error of the predictions is 12.430902481079102, and the mean absolute error of the predictions is 2.832007884979248\n",
            "single hybrid model\n",
            "the mean square error of the predictions is 0.022574296221137047, and the mean absolute error of the predictions is 0.12289301306009293\n",
            "the mean square error of the predictions is 43.22639465332031, and the mean absolute error of the predictions is 5.691281318664551\n",
            "single linear model\n",
            "the mean square error of the predictions is 0.0020801268983632326, and the mean absolute error of the predictions is 0.03962451592087746\n",
            "the mean square error of the predictions is 11.21248722076416, and the mean absolute error of the predictions is 2.476428508758545\n",
            "expanded hybrid model\n",
            "the mean square error of the predictions is 0.002956102602183819, and the mean absolute error of the predictions is 0.045648012310266495\n",
            "the mean square error of the predictions is 0.0016877814196050167, and the mean absolute error of the predictions is 0.031670376658439636\n",
            "expanded linear model\n",
            "the mean square error of the predictions is 0.007740415167063475, and the mean absolute error of the predictions is 0.07166994363069534\n",
            "the mean square error of the predictions is 0.0015004584565758705, and the mean absolute error of the predictions is 0.033062949776649475\n"
          ]
        }
      ]
    }
  ],
  "metadata": {
    "colab": {
      "provenance": [],
      "include_colab_link": true
    },
    "gpuClass": "standard",
    "kernelspec": {
      "display_name": "Python 3",
      "name": "python3"
    },
    "language_info": {
      "name": "python"
    },
    "widgets": {
      "application/vnd.jupyter.widget-state+json": {
        "63a3b55a79824f71a819331e27279237": {
          "model_module": "@jupyter-widgets/controls",
          "model_name": "HBoxModel",
          "model_module_version": "1.5.0",
          "state": {
            "_dom_classes": [],
            "_model_module": "@jupyter-widgets/controls",
            "_model_module_version": "1.5.0",
            "_model_name": "HBoxModel",
            "_view_count": null,
            "_view_module": "@jupyter-widgets/controls",
            "_view_module_version": "1.5.0",
            "_view_name": "HBoxView",
            "box_style": "",
            "children": [
              "IPY_MODEL_ccb04c240e00428c80baeed4df79ee6c",
              "IPY_MODEL_b2b3b9517a0d4d2fa2e69636913f63d4",
              "IPY_MODEL_fdf585a0b76446eca584fb7d8e3933a2"
            ],
            "layout": "IPY_MODEL_b1c7fa1ccf1248009893888ee318bbaa"
          }
        },
        "ccb04c240e00428c80baeed4df79ee6c": {
          "model_module": "@jupyter-widgets/controls",
          "model_name": "HTMLModel",
          "model_module_version": "1.5.0",
          "state": {
            "_dom_classes": [],
            "_model_module": "@jupyter-widgets/controls",
            "_model_module_version": "1.5.0",
            "_model_name": "HTMLModel",
            "_view_count": null,
            "_view_module": "@jupyter-widgets/controls",
            "_view_module_version": "1.5.0",
            "_view_name": "HTMLView",
            "description": "",
            "description_tooltip": null,
            "layout": "IPY_MODEL_c7375eef865e4e3b9d2e3c392478dec6",
            "placeholder": "​",
            "style": "IPY_MODEL_c5b9941d7f774fcaa83b5b17e24c0bdf",
            "value": "Downloading (…)lve/main/config.json: 100%"
          }
        },
        "b2b3b9517a0d4d2fa2e69636913f63d4": {
          "model_module": "@jupyter-widgets/controls",
          "model_name": "FloatProgressModel",
          "model_module_version": "1.5.0",
          "state": {
            "_dom_classes": [],
            "_model_module": "@jupyter-widgets/controls",
            "_model_module_version": "1.5.0",
            "_model_name": "FloatProgressModel",
            "_view_count": null,
            "_view_module": "@jupyter-widgets/controls",
            "_view_module_version": "1.5.0",
            "_view_name": "ProgressView",
            "bar_style": "success",
            "description": "",
            "description_tooltip": null,
            "layout": "IPY_MODEL_ab5d758d802249ee8f4c2d5e9099eece",
            "max": 533,
            "min": 0,
            "orientation": "horizontal",
            "style": "IPY_MODEL_3726b58f79144529b32566b575bb5fd4",
            "value": 533
          }
        },
        "fdf585a0b76446eca584fb7d8e3933a2": {
          "model_module": "@jupyter-widgets/controls",
          "model_name": "HTMLModel",
          "model_module_version": "1.5.0",
          "state": {
            "_dom_classes": [],
            "_model_module": "@jupyter-widgets/controls",
            "_model_module_version": "1.5.0",
            "_model_name": "HTMLModel",
            "_view_count": null,
            "_view_module": "@jupyter-widgets/controls",
            "_view_module_version": "1.5.0",
            "_view_name": "HTMLView",
            "description": "",
            "description_tooltip": null,
            "layout": "IPY_MODEL_95c08667a52e424ab19be8ce312bc76a",
            "placeholder": "​",
            "style": "IPY_MODEL_ceca3acb82794d97afd13eba00cbae0f",
            "value": " 533/533 [00:00&lt;00:00, 12.4kB/s]"
          }
        },
        "b1c7fa1ccf1248009893888ee318bbaa": {
          "model_module": "@jupyter-widgets/base",
          "model_name": "LayoutModel",
          "model_module_version": "1.2.0",
          "state": {
            "_model_module": "@jupyter-widgets/base",
            "_model_module_version": "1.2.0",
            "_model_name": "LayoutModel",
            "_view_count": null,
            "_view_module": "@jupyter-widgets/base",
            "_view_module_version": "1.2.0",
            "_view_name": "LayoutView",
            "align_content": null,
            "align_items": null,
            "align_self": null,
            "border": null,
            "bottom": null,
            "display": null,
            "flex": null,
            "flex_flow": null,
            "grid_area": null,
            "grid_auto_columns": null,
            "grid_auto_flow": null,
            "grid_auto_rows": null,
            "grid_column": null,
            "grid_gap": null,
            "grid_row": null,
            "grid_template_areas": null,
            "grid_template_columns": null,
            "grid_template_rows": null,
            "height": null,
            "justify_content": null,
            "justify_items": null,
            "left": null,
            "margin": null,
            "max_height": null,
            "max_width": null,
            "min_height": null,
            "min_width": null,
            "object_fit": null,
            "object_position": null,
            "order": null,
            "overflow": null,
            "overflow_x": null,
            "overflow_y": null,
            "padding": null,
            "right": null,
            "top": null,
            "visibility": null,
            "width": null
          }
        },
        "c7375eef865e4e3b9d2e3c392478dec6": {
          "model_module": "@jupyter-widgets/base",
          "model_name": "LayoutModel",
          "model_module_version": "1.2.0",
          "state": {
            "_model_module": "@jupyter-widgets/base",
            "_model_module_version": "1.2.0",
            "_model_name": "LayoutModel",
            "_view_count": null,
            "_view_module": "@jupyter-widgets/base",
            "_view_module_version": "1.2.0",
            "_view_name": "LayoutView",
            "align_content": null,
            "align_items": null,
            "align_self": null,
            "border": null,
            "bottom": null,
            "display": null,
            "flex": null,
            "flex_flow": null,
            "grid_area": null,
            "grid_auto_columns": null,
            "grid_auto_flow": null,
            "grid_auto_rows": null,
            "grid_column": null,
            "grid_gap": null,
            "grid_row": null,
            "grid_template_areas": null,
            "grid_template_columns": null,
            "grid_template_rows": null,
            "height": null,
            "justify_content": null,
            "justify_items": null,
            "left": null,
            "margin": null,
            "max_height": null,
            "max_width": null,
            "min_height": null,
            "min_width": null,
            "object_fit": null,
            "object_position": null,
            "order": null,
            "overflow": null,
            "overflow_x": null,
            "overflow_y": null,
            "padding": null,
            "right": null,
            "top": null,
            "visibility": null,
            "width": null
          }
        },
        "c5b9941d7f774fcaa83b5b17e24c0bdf": {
          "model_module": "@jupyter-widgets/controls",
          "model_name": "DescriptionStyleModel",
          "model_module_version": "1.5.0",
          "state": {
            "_model_module": "@jupyter-widgets/controls",
            "_model_module_version": "1.5.0",
            "_model_name": "DescriptionStyleModel",
            "_view_count": null,
            "_view_module": "@jupyter-widgets/base",
            "_view_module_version": "1.2.0",
            "_view_name": "StyleView",
            "description_width": ""
          }
        },
        "ab5d758d802249ee8f4c2d5e9099eece": {
          "model_module": "@jupyter-widgets/base",
          "model_name": "LayoutModel",
          "model_module_version": "1.2.0",
          "state": {
            "_model_module": "@jupyter-widgets/base",
            "_model_module_version": "1.2.0",
            "_model_name": "LayoutModel",
            "_view_count": null,
            "_view_module": "@jupyter-widgets/base",
            "_view_module_version": "1.2.0",
            "_view_name": "LayoutView",
            "align_content": null,
            "align_items": null,
            "align_self": null,
            "border": null,
            "bottom": null,
            "display": null,
            "flex": null,
            "flex_flow": null,
            "grid_area": null,
            "grid_auto_columns": null,
            "grid_auto_flow": null,
            "grid_auto_rows": null,
            "grid_column": null,
            "grid_gap": null,
            "grid_row": null,
            "grid_template_areas": null,
            "grid_template_columns": null,
            "grid_template_rows": null,
            "height": null,
            "justify_content": null,
            "justify_items": null,
            "left": null,
            "margin": null,
            "max_height": null,
            "max_width": null,
            "min_height": null,
            "min_width": null,
            "object_fit": null,
            "object_position": null,
            "order": null,
            "overflow": null,
            "overflow_x": null,
            "overflow_y": null,
            "padding": null,
            "right": null,
            "top": null,
            "visibility": null,
            "width": null
          }
        },
        "3726b58f79144529b32566b575bb5fd4": {
          "model_module": "@jupyter-widgets/controls",
          "model_name": "ProgressStyleModel",
          "model_module_version": "1.5.0",
          "state": {
            "_model_module": "@jupyter-widgets/controls",
            "_model_module_version": "1.5.0",
            "_model_name": "ProgressStyleModel",
            "_view_count": null,
            "_view_module": "@jupyter-widgets/base",
            "_view_module_version": "1.2.0",
            "_view_name": "StyleView",
            "bar_color": null,
            "description_width": ""
          }
        },
        "95c08667a52e424ab19be8ce312bc76a": {
          "model_module": "@jupyter-widgets/base",
          "model_name": "LayoutModel",
          "model_module_version": "1.2.0",
          "state": {
            "_model_module": "@jupyter-widgets/base",
            "_model_module_version": "1.2.0",
            "_model_name": "LayoutModel",
            "_view_count": null,
            "_view_module": "@jupyter-widgets/base",
            "_view_module_version": "1.2.0",
            "_view_name": "LayoutView",
            "align_content": null,
            "align_items": null,
            "align_self": null,
            "border": null,
            "bottom": null,
            "display": null,
            "flex": null,
            "flex_flow": null,
            "grid_area": null,
            "grid_auto_columns": null,
            "grid_auto_flow": null,
            "grid_auto_rows": null,
            "grid_column": null,
            "grid_gap": null,
            "grid_row": null,
            "grid_template_areas": null,
            "grid_template_columns": null,
            "grid_template_rows": null,
            "height": null,
            "justify_content": null,
            "justify_items": null,
            "left": null,
            "margin": null,
            "max_height": null,
            "max_width": null,
            "min_height": null,
            "min_width": null,
            "object_fit": null,
            "object_position": null,
            "order": null,
            "overflow": null,
            "overflow_x": null,
            "overflow_y": null,
            "padding": null,
            "right": null,
            "top": null,
            "visibility": null,
            "width": null
          }
        },
        "ceca3acb82794d97afd13eba00cbae0f": {
          "model_module": "@jupyter-widgets/controls",
          "model_name": "DescriptionStyleModel",
          "model_module_version": "1.5.0",
          "state": {
            "_model_module": "@jupyter-widgets/controls",
            "_model_module_version": "1.5.0",
            "_model_name": "DescriptionStyleModel",
            "_view_count": null,
            "_view_module": "@jupyter-widgets/base",
            "_view_module_version": "1.2.0",
            "_view_name": "StyleView",
            "description_width": ""
          }
        },
        "5d62e2a2a0564287af90e7a5d0190d7f": {
          "model_module": "@jupyter-widgets/controls",
          "model_name": "HBoxModel",
          "model_module_version": "1.5.0",
          "state": {
            "_dom_classes": [],
            "_model_module": "@jupyter-widgets/controls",
            "_model_module_version": "1.5.0",
            "_model_name": "HBoxModel",
            "_view_count": null,
            "_view_module": "@jupyter-widgets/controls",
            "_view_module_version": "1.5.0",
            "_view_name": "HBoxView",
            "box_style": "",
            "children": [
              "IPY_MODEL_bd0d7d4248284ec2b5e8d8418cf254b6",
              "IPY_MODEL_a8c4e60112574261aa9ec820ff397757",
              "IPY_MODEL_b86b95420634442ea5a6195e87e166f9"
            ],
            "layout": "IPY_MODEL_65f6684553944027b9623a0bd3de6188"
          }
        },
        "bd0d7d4248284ec2b5e8d8418cf254b6": {
          "model_module": "@jupyter-widgets/controls",
          "model_name": "HTMLModel",
          "model_module_version": "1.5.0",
          "state": {
            "_dom_classes": [],
            "_model_module": "@jupyter-widgets/controls",
            "_model_module_version": "1.5.0",
            "_model_name": "HTMLModel",
            "_view_count": null,
            "_view_module": "@jupyter-widgets/controls",
            "_view_module_version": "1.5.0",
            "_view_name": "HTMLView",
            "description": "",
            "description_tooltip": null,
            "layout": "IPY_MODEL_76b00c611aaf4aaab940e18353e09506",
            "placeholder": "​",
            "style": "IPY_MODEL_192c5f5fcb78401e84b5ec1b56fcb60d",
            "value": "Downloading pytorch_model.bin: 100%"
          }
        },
        "a8c4e60112574261aa9ec820ff397757": {
          "model_module": "@jupyter-widgets/controls",
          "model_name": "FloatProgressModel",
          "model_module_version": "1.5.0",
          "state": {
            "_dom_classes": [],
            "_model_module": "@jupyter-widgets/controls",
            "_model_module_version": "1.5.0",
            "_model_name": "FloatProgressModel",
            "_view_count": null,
            "_view_module": "@jupyter-widgets/controls",
            "_view_module_version": "1.5.0",
            "_view_name": "ProgressView",
            "bar_style": "success",
            "description": "",
            "description_tooltip": null,
            "layout": "IPY_MODEL_a0aa60ac2e02410dac4e9c1b22ca194f",
            "max": 439101405,
            "min": 0,
            "orientation": "horizontal",
            "style": "IPY_MODEL_1b8266ad92ef4a92aff7a6df72faa278",
            "value": 439101405
          }
        },
        "b86b95420634442ea5a6195e87e166f9": {
          "model_module": "@jupyter-widgets/controls",
          "model_name": "HTMLModel",
          "model_module_version": "1.5.0",
          "state": {
            "_dom_classes": [],
            "_model_module": "@jupyter-widgets/controls",
            "_model_module_version": "1.5.0",
            "_model_name": "HTMLModel",
            "_view_count": null,
            "_view_module": "@jupyter-widgets/controls",
            "_view_module_version": "1.5.0",
            "_view_name": "HTMLView",
            "description": "",
            "description_tooltip": null,
            "layout": "IPY_MODEL_0a43d016167b4aaba5d4f634d77fea2c",
            "placeholder": "​",
            "style": "IPY_MODEL_94622e39a9364f9c91209765c5dfe94e",
            "value": " 439M/439M [00:06&lt;00:00, 69.5MB/s]"
          }
        },
        "65f6684553944027b9623a0bd3de6188": {
          "model_module": "@jupyter-widgets/base",
          "model_name": "LayoutModel",
          "model_module_version": "1.2.0",
          "state": {
            "_model_module": "@jupyter-widgets/base",
            "_model_module_version": "1.2.0",
            "_model_name": "LayoutModel",
            "_view_count": null,
            "_view_module": "@jupyter-widgets/base",
            "_view_module_version": "1.2.0",
            "_view_name": "LayoutView",
            "align_content": null,
            "align_items": null,
            "align_self": null,
            "border": null,
            "bottom": null,
            "display": null,
            "flex": null,
            "flex_flow": null,
            "grid_area": null,
            "grid_auto_columns": null,
            "grid_auto_flow": null,
            "grid_auto_rows": null,
            "grid_column": null,
            "grid_gap": null,
            "grid_row": null,
            "grid_template_areas": null,
            "grid_template_columns": null,
            "grid_template_rows": null,
            "height": null,
            "justify_content": null,
            "justify_items": null,
            "left": null,
            "margin": null,
            "max_height": null,
            "max_width": null,
            "min_height": null,
            "min_width": null,
            "object_fit": null,
            "object_position": null,
            "order": null,
            "overflow": null,
            "overflow_x": null,
            "overflow_y": null,
            "padding": null,
            "right": null,
            "top": null,
            "visibility": null,
            "width": null
          }
        },
        "76b00c611aaf4aaab940e18353e09506": {
          "model_module": "@jupyter-widgets/base",
          "model_name": "LayoutModel",
          "model_module_version": "1.2.0",
          "state": {
            "_model_module": "@jupyter-widgets/base",
            "_model_module_version": "1.2.0",
            "_model_name": "LayoutModel",
            "_view_count": null,
            "_view_module": "@jupyter-widgets/base",
            "_view_module_version": "1.2.0",
            "_view_name": "LayoutView",
            "align_content": null,
            "align_items": null,
            "align_self": null,
            "border": null,
            "bottom": null,
            "display": null,
            "flex": null,
            "flex_flow": null,
            "grid_area": null,
            "grid_auto_columns": null,
            "grid_auto_flow": null,
            "grid_auto_rows": null,
            "grid_column": null,
            "grid_gap": null,
            "grid_row": null,
            "grid_template_areas": null,
            "grid_template_columns": null,
            "grid_template_rows": null,
            "height": null,
            "justify_content": null,
            "justify_items": null,
            "left": null,
            "margin": null,
            "max_height": null,
            "max_width": null,
            "min_height": null,
            "min_width": null,
            "object_fit": null,
            "object_position": null,
            "order": null,
            "overflow": null,
            "overflow_x": null,
            "overflow_y": null,
            "padding": null,
            "right": null,
            "top": null,
            "visibility": null,
            "width": null
          }
        },
        "192c5f5fcb78401e84b5ec1b56fcb60d": {
          "model_module": "@jupyter-widgets/controls",
          "model_name": "DescriptionStyleModel",
          "model_module_version": "1.5.0",
          "state": {
            "_model_module": "@jupyter-widgets/controls",
            "_model_module_version": "1.5.0",
            "_model_name": "DescriptionStyleModel",
            "_view_count": null,
            "_view_module": "@jupyter-widgets/base",
            "_view_module_version": "1.2.0",
            "_view_name": "StyleView",
            "description_width": ""
          }
        },
        "a0aa60ac2e02410dac4e9c1b22ca194f": {
          "model_module": "@jupyter-widgets/base",
          "model_name": "LayoutModel",
          "model_module_version": "1.2.0",
          "state": {
            "_model_module": "@jupyter-widgets/base",
            "_model_module_version": "1.2.0",
            "_model_name": "LayoutModel",
            "_view_count": null,
            "_view_module": "@jupyter-widgets/base",
            "_view_module_version": "1.2.0",
            "_view_name": "LayoutView",
            "align_content": null,
            "align_items": null,
            "align_self": null,
            "border": null,
            "bottom": null,
            "display": null,
            "flex": null,
            "flex_flow": null,
            "grid_area": null,
            "grid_auto_columns": null,
            "grid_auto_flow": null,
            "grid_auto_rows": null,
            "grid_column": null,
            "grid_gap": null,
            "grid_row": null,
            "grid_template_areas": null,
            "grid_template_columns": null,
            "grid_template_rows": null,
            "height": null,
            "justify_content": null,
            "justify_items": null,
            "left": null,
            "margin": null,
            "max_height": null,
            "max_width": null,
            "min_height": null,
            "min_width": null,
            "object_fit": null,
            "object_position": null,
            "order": null,
            "overflow": null,
            "overflow_x": null,
            "overflow_y": null,
            "padding": null,
            "right": null,
            "top": null,
            "visibility": null,
            "width": null
          }
        },
        "1b8266ad92ef4a92aff7a6df72faa278": {
          "model_module": "@jupyter-widgets/controls",
          "model_name": "ProgressStyleModel",
          "model_module_version": "1.5.0",
          "state": {
            "_model_module": "@jupyter-widgets/controls",
            "_model_module_version": "1.5.0",
            "_model_name": "ProgressStyleModel",
            "_view_count": null,
            "_view_module": "@jupyter-widgets/base",
            "_view_module_version": "1.2.0",
            "_view_name": "StyleView",
            "bar_color": null,
            "description_width": ""
          }
        },
        "0a43d016167b4aaba5d4f634d77fea2c": {
          "model_module": "@jupyter-widgets/base",
          "model_name": "LayoutModel",
          "model_module_version": "1.2.0",
          "state": {
            "_model_module": "@jupyter-widgets/base",
            "_model_module_version": "1.2.0",
            "_model_name": "LayoutModel",
            "_view_count": null,
            "_view_module": "@jupyter-widgets/base",
            "_view_module_version": "1.2.0",
            "_view_name": "LayoutView",
            "align_content": null,
            "align_items": null,
            "align_self": null,
            "border": null,
            "bottom": null,
            "display": null,
            "flex": null,
            "flex_flow": null,
            "grid_area": null,
            "grid_auto_columns": null,
            "grid_auto_flow": null,
            "grid_auto_rows": null,
            "grid_column": null,
            "grid_gap": null,
            "grid_row": null,
            "grid_template_areas": null,
            "grid_template_columns": null,
            "grid_template_rows": null,
            "height": null,
            "justify_content": null,
            "justify_items": null,
            "left": null,
            "margin": null,
            "max_height": null,
            "max_width": null,
            "min_height": null,
            "min_width": null,
            "object_fit": null,
            "object_position": null,
            "order": null,
            "overflow": null,
            "overflow_x": null,
            "overflow_y": null,
            "padding": null,
            "right": null,
            "top": null,
            "visibility": null,
            "width": null
          }
        },
        "94622e39a9364f9c91209765c5dfe94e": {
          "model_module": "@jupyter-widgets/controls",
          "model_name": "DescriptionStyleModel",
          "model_module_version": "1.5.0",
          "state": {
            "_model_module": "@jupyter-widgets/controls",
            "_model_module_version": "1.5.0",
            "_model_name": "DescriptionStyleModel",
            "_view_count": null,
            "_view_module": "@jupyter-widgets/base",
            "_view_module_version": "1.2.0",
            "_view_name": "StyleView",
            "description_width": ""
          }
        },
        "c1ce253902014a958f192f5ca5953a03": {
          "model_module": "@jupyter-widgets/controls",
          "model_name": "HBoxModel",
          "model_module_version": "1.5.0",
          "state": {
            "_dom_classes": [],
            "_model_module": "@jupyter-widgets/controls",
            "_model_module_version": "1.5.0",
            "_model_name": "HBoxModel",
            "_view_count": null,
            "_view_module": "@jupyter-widgets/controls",
            "_view_module_version": "1.5.0",
            "_view_name": "HBoxView",
            "box_style": "",
            "children": [
              "IPY_MODEL_991c9a18f0684b839366a3731d2a036e",
              "IPY_MODEL_97ecd9e61389471a8de48aa81eb38a8d",
              "IPY_MODEL_4e8792ecd95144c2889dd6dcf90fd33f"
            ],
            "layout": "IPY_MODEL_6d774fe7417a42b2af76d0e64b211492"
          }
        },
        "991c9a18f0684b839366a3731d2a036e": {
          "model_module": "@jupyter-widgets/controls",
          "model_name": "HTMLModel",
          "model_module_version": "1.5.0",
          "state": {
            "_dom_classes": [],
            "_model_module": "@jupyter-widgets/controls",
            "_model_module_version": "1.5.0",
            "_model_name": "HTMLModel",
            "_view_count": null,
            "_view_module": "@jupyter-widgets/controls",
            "_view_module_version": "1.5.0",
            "_view_name": "HTMLView",
            "description": "",
            "description_tooltip": null,
            "layout": "IPY_MODEL_aa820e60ada0434e9dc274f9c4917324",
            "placeholder": "​",
            "style": "IPY_MODEL_f13a74c1839846cea91284a52809d9d5",
            "value": "Downloading (…)solve/main/vocab.txt: 100%"
          }
        },
        "97ecd9e61389471a8de48aa81eb38a8d": {
          "model_module": "@jupyter-widgets/controls",
          "model_name": "FloatProgressModel",
          "model_module_version": "1.5.0",
          "state": {
            "_dom_classes": [],
            "_model_module": "@jupyter-widgets/controls",
            "_model_module_version": "1.5.0",
            "_model_name": "FloatProgressModel",
            "_view_count": null,
            "_view_module": "@jupyter-widgets/controls",
            "_view_module_version": "1.5.0",
            "_view_name": "ProgressView",
            "bar_style": "success",
            "description": "",
            "description_tooltip": null,
            "layout": "IPY_MODEL_c151cbd7e2e746d386e684f07be138c2",
            "max": 226122,
            "min": 0,
            "orientation": "horizontal",
            "style": "IPY_MODEL_78f968e0fce24ba0a69c14dd7c1e08c2",
            "value": 226122
          }
        },
        "4e8792ecd95144c2889dd6dcf90fd33f": {
          "model_module": "@jupyter-widgets/controls",
          "model_name": "HTMLModel",
          "model_module_version": "1.5.0",
          "state": {
            "_dom_classes": [],
            "_model_module": "@jupyter-widgets/controls",
            "_model_module_version": "1.5.0",
            "_model_name": "HTMLModel",
            "_view_count": null,
            "_view_module": "@jupyter-widgets/controls",
            "_view_module_version": "1.5.0",
            "_view_name": "HTMLView",
            "description": "",
            "description_tooltip": null,
            "layout": "IPY_MODEL_6fc516d64065471da7b4da00eeb2e25e",
            "placeholder": "​",
            "style": "IPY_MODEL_26e65476c8e543c0bba451abe60df7d2",
            "value": " 226k/226k [00:00&lt;00:00, 2.44MB/s]"
          }
        },
        "6d774fe7417a42b2af76d0e64b211492": {
          "model_module": "@jupyter-widgets/base",
          "model_name": "LayoutModel",
          "model_module_version": "1.2.0",
          "state": {
            "_model_module": "@jupyter-widgets/base",
            "_model_module_version": "1.2.0",
            "_model_name": "LayoutModel",
            "_view_count": null,
            "_view_module": "@jupyter-widgets/base",
            "_view_module_version": "1.2.0",
            "_view_name": "LayoutView",
            "align_content": null,
            "align_items": null,
            "align_self": null,
            "border": null,
            "bottom": null,
            "display": null,
            "flex": null,
            "flex_flow": null,
            "grid_area": null,
            "grid_auto_columns": null,
            "grid_auto_flow": null,
            "grid_auto_rows": null,
            "grid_column": null,
            "grid_gap": null,
            "grid_row": null,
            "grid_template_areas": null,
            "grid_template_columns": null,
            "grid_template_rows": null,
            "height": null,
            "justify_content": null,
            "justify_items": null,
            "left": null,
            "margin": null,
            "max_height": null,
            "max_width": null,
            "min_height": null,
            "min_width": null,
            "object_fit": null,
            "object_position": null,
            "order": null,
            "overflow": null,
            "overflow_x": null,
            "overflow_y": null,
            "padding": null,
            "right": null,
            "top": null,
            "visibility": null,
            "width": null
          }
        },
        "aa820e60ada0434e9dc274f9c4917324": {
          "model_module": "@jupyter-widgets/base",
          "model_name": "LayoutModel",
          "model_module_version": "1.2.0",
          "state": {
            "_model_module": "@jupyter-widgets/base",
            "_model_module_version": "1.2.0",
            "_model_name": "LayoutModel",
            "_view_count": null,
            "_view_module": "@jupyter-widgets/base",
            "_view_module_version": "1.2.0",
            "_view_name": "LayoutView",
            "align_content": null,
            "align_items": null,
            "align_self": null,
            "border": null,
            "bottom": null,
            "display": null,
            "flex": null,
            "flex_flow": null,
            "grid_area": null,
            "grid_auto_columns": null,
            "grid_auto_flow": null,
            "grid_auto_rows": null,
            "grid_column": null,
            "grid_gap": null,
            "grid_row": null,
            "grid_template_areas": null,
            "grid_template_columns": null,
            "grid_template_rows": null,
            "height": null,
            "justify_content": null,
            "justify_items": null,
            "left": null,
            "margin": null,
            "max_height": null,
            "max_width": null,
            "min_height": null,
            "min_width": null,
            "object_fit": null,
            "object_position": null,
            "order": null,
            "overflow": null,
            "overflow_x": null,
            "overflow_y": null,
            "padding": null,
            "right": null,
            "top": null,
            "visibility": null,
            "width": null
          }
        },
        "f13a74c1839846cea91284a52809d9d5": {
          "model_module": "@jupyter-widgets/controls",
          "model_name": "DescriptionStyleModel",
          "model_module_version": "1.5.0",
          "state": {
            "_model_module": "@jupyter-widgets/controls",
            "_model_module_version": "1.5.0",
            "_model_name": "DescriptionStyleModel",
            "_view_count": null,
            "_view_module": "@jupyter-widgets/base",
            "_view_module_version": "1.2.0",
            "_view_name": "StyleView",
            "description_width": ""
          }
        },
        "c151cbd7e2e746d386e684f07be138c2": {
          "model_module": "@jupyter-widgets/base",
          "model_name": "LayoutModel",
          "model_module_version": "1.2.0",
          "state": {
            "_model_module": "@jupyter-widgets/base",
            "_model_module_version": "1.2.0",
            "_model_name": "LayoutModel",
            "_view_count": null,
            "_view_module": "@jupyter-widgets/base",
            "_view_module_version": "1.2.0",
            "_view_name": "LayoutView",
            "align_content": null,
            "align_items": null,
            "align_self": null,
            "border": null,
            "bottom": null,
            "display": null,
            "flex": null,
            "flex_flow": null,
            "grid_area": null,
            "grid_auto_columns": null,
            "grid_auto_flow": null,
            "grid_auto_rows": null,
            "grid_column": null,
            "grid_gap": null,
            "grid_row": null,
            "grid_template_areas": null,
            "grid_template_columns": null,
            "grid_template_rows": null,
            "height": null,
            "justify_content": null,
            "justify_items": null,
            "left": null,
            "margin": null,
            "max_height": null,
            "max_width": null,
            "min_height": null,
            "min_width": null,
            "object_fit": null,
            "object_position": null,
            "order": null,
            "overflow": null,
            "overflow_x": null,
            "overflow_y": null,
            "padding": null,
            "right": null,
            "top": null,
            "visibility": null,
            "width": null
          }
        },
        "78f968e0fce24ba0a69c14dd7c1e08c2": {
          "model_module": "@jupyter-widgets/controls",
          "model_name": "ProgressStyleModel",
          "model_module_version": "1.5.0",
          "state": {
            "_model_module": "@jupyter-widgets/controls",
            "_model_module_version": "1.5.0",
            "_model_name": "ProgressStyleModel",
            "_view_count": null,
            "_view_module": "@jupyter-widgets/base",
            "_view_module_version": "1.2.0",
            "_view_name": "StyleView",
            "bar_color": null,
            "description_width": ""
          }
        },
        "6fc516d64065471da7b4da00eeb2e25e": {
          "model_module": "@jupyter-widgets/base",
          "model_name": "LayoutModel",
          "model_module_version": "1.2.0",
          "state": {
            "_model_module": "@jupyter-widgets/base",
            "_model_module_version": "1.2.0",
            "_model_name": "LayoutModel",
            "_view_count": null,
            "_view_module": "@jupyter-widgets/base",
            "_view_module_version": "1.2.0",
            "_view_name": "LayoutView",
            "align_content": null,
            "align_items": null,
            "align_self": null,
            "border": null,
            "bottom": null,
            "display": null,
            "flex": null,
            "flex_flow": null,
            "grid_area": null,
            "grid_auto_columns": null,
            "grid_auto_flow": null,
            "grid_auto_rows": null,
            "grid_column": null,
            "grid_gap": null,
            "grid_row": null,
            "grid_template_areas": null,
            "grid_template_columns": null,
            "grid_template_rows": null,
            "height": null,
            "justify_content": null,
            "justify_items": null,
            "left": null,
            "margin": null,
            "max_height": null,
            "max_width": null,
            "min_height": null,
            "min_width": null,
            "object_fit": null,
            "object_position": null,
            "order": null,
            "overflow": null,
            "overflow_x": null,
            "overflow_y": null,
            "padding": null,
            "right": null,
            "top": null,
            "visibility": null,
            "width": null
          }
        },
        "26e65476c8e543c0bba451abe60df7d2": {
          "model_module": "@jupyter-widgets/controls",
          "model_name": "DescriptionStyleModel",
          "model_module_version": "1.5.0",
          "state": {
            "_model_module": "@jupyter-widgets/controls",
            "_model_module_version": "1.5.0",
            "_model_name": "DescriptionStyleModel",
            "_view_count": null,
            "_view_module": "@jupyter-widgets/base",
            "_view_module_version": "1.2.0",
            "_view_name": "StyleView",
            "description_width": ""
          }
        }
      }
    }
  },
  "nbformat": 4,
  "nbformat_minor": 0
}
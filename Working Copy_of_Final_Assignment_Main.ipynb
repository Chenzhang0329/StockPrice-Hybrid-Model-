{
  "cells": [
    {
      "cell_type": "markdown",
      "metadata": {
        "id": "view-in-github",
        "colab_type": "text"
      },
      "source": [
        "<a href=\"https://colab.research.google.com/github/Chenzhang0329/StockPrice-Hybrid-Model-/blob/Updated-Code/Working%20Copy_of_Final_Assignment_Main.ipynb\" target=\"_parent\"><img src=\"https://colab.research.google.com/assets/colab-badge.svg\" alt=\"Open In Colab\"/></a>"
      ]
    },
    {
      "cell_type": "markdown",
      "source": [
        "# Stock Forecasting with a Hybrid Deep Learning Model"
      ],
      "metadata": {
        "id": "XhDCg1J9zNPX"
      }
    },
    {
      "cell_type": "markdown",
      "source": [
        "# Data Collection and Preprocessing\n"
      ],
      "metadata": {
        "id": "qRDLoSXFzUDb"
      }
    },
    {
      "cell_type": "code",
      "execution_count": null,
      "metadata": {
        "colab": {
          "base_uri": "https://localhost:8080/"
        },
        "id": "deERw8ZDJr9Z",
        "outputId": "57ae420a-5e6a-449f-c42d-da856d4f59f1"
      },
      "outputs": [
        {
          "output_type": "stream",
          "name": "stdout",
          "text": [
            "Looking in indexes: https://pypi.org/simple, https://us-python.pkg.dev/colab-wheels/public/simple/\n",
            "Requirement already satisfied: yfinance in /usr/local/lib/python3.9/dist-packages (0.2.12)\n",
            "Requirement already satisfied: pytz>=2022.5 in /usr/local/lib/python3.9/dist-packages (from yfinance) (2022.7.1)\n",
            "Requirement already satisfied: beautifulsoup4>=4.11.1 in /usr/local/lib/python3.9/dist-packages (from yfinance) (4.11.2)\n",
            "Requirement already satisfied: html5lib>=1.1 in /usr/local/lib/python3.9/dist-packages (from yfinance) (1.1)\n",
            "Requirement already satisfied: frozendict>=2.3.4 in /usr/local/lib/python3.9/dist-packages (from yfinance) (2.3.5)\n",
            "Requirement already satisfied: cryptography>=3.3.2 in /usr/local/lib/python3.9/dist-packages (from yfinance) (39.0.2)\n",
            "Requirement already satisfied: lxml>=4.9.1 in /usr/local/lib/python3.9/dist-packages (from yfinance) (4.9.2)\n",
            "Requirement already satisfied: numpy>=1.16.5 in /usr/local/lib/python3.9/dist-packages (from yfinance) (1.22.4)\n",
            "Requirement already satisfied: multitasking>=0.0.7 in /usr/local/lib/python3.9/dist-packages (from yfinance) (0.0.11)\n",
            "Requirement already satisfied: requests>=2.26 in /usr/local/lib/python3.9/dist-packages (from yfinance) (2.27.1)\n",
            "Requirement already satisfied: appdirs>=1.4.4 in /usr/local/lib/python3.9/dist-packages (from yfinance) (1.4.4)\n",
            "Requirement already satisfied: pandas>=1.3.0 in /usr/local/lib/python3.9/dist-packages (from yfinance) (1.4.4)\n",
            "Requirement already satisfied: soupsieve>1.2 in /usr/local/lib/python3.9/dist-packages (from beautifulsoup4>=4.11.1->yfinance) (2.4)\n",
            "Requirement already satisfied: cffi>=1.12 in /usr/local/lib/python3.9/dist-packages (from cryptography>=3.3.2->yfinance) (1.15.1)\n",
            "Requirement already satisfied: six>=1.9 in /usr/local/lib/python3.9/dist-packages (from html5lib>=1.1->yfinance) (1.15.0)\n",
            "Requirement already satisfied: webencodings in /usr/local/lib/python3.9/dist-packages (from html5lib>=1.1->yfinance) (0.5.1)\n",
            "Requirement already satisfied: python-dateutil>=2.8.1 in /usr/local/lib/python3.9/dist-packages (from pandas>=1.3.0->yfinance) (2.8.2)\n",
            "Requirement already satisfied: urllib3<1.27,>=1.21.1 in /usr/local/lib/python3.9/dist-packages (from requests>=2.26->yfinance) (1.26.15)\n",
            "Requirement already satisfied: certifi>=2017.4.17 in /usr/local/lib/python3.9/dist-packages (from requests>=2.26->yfinance) (2022.12.7)\n",
            "Requirement already satisfied: charset-normalizer~=2.0.0 in /usr/local/lib/python3.9/dist-packages (from requests>=2.26->yfinance) (2.0.12)\n",
            "Requirement already satisfied: idna<4,>=2.5 in /usr/local/lib/python3.9/dist-packages (from requests>=2.26->yfinance) (3.4)\n",
            "Requirement already satisfied: pycparser in /usr/local/lib/python3.9/dist-packages (from cffi>=1.12->cryptography>=3.3.2->yfinance) (2.21)\n",
            "Looking in indexes: https://pypi.org/simple, https://us-python.pkg.dev/colab-wheels/public/simple/\n",
            "Requirement already satisfied: transformers in /usr/local/lib/python3.9/dist-packages (4.27.1)\n",
            "Requirement already satisfied: numpy>=1.17 in /usr/local/lib/python3.9/dist-packages (from transformers) (1.22.4)\n",
            "Requirement already satisfied: huggingface-hub<1.0,>=0.11.0 in /usr/local/lib/python3.9/dist-packages (from transformers) (0.13.2)\n",
            "Requirement already satisfied: requests in /usr/local/lib/python3.9/dist-packages (from transformers) (2.27.1)\n",
            "Requirement already satisfied: pyyaml>=5.1 in /usr/local/lib/python3.9/dist-packages (from transformers) (6.0)\n",
            "Requirement already satisfied: packaging>=20.0 in /usr/local/lib/python3.9/dist-packages (from transformers) (23.0)\n",
            "Requirement already satisfied: regex!=2019.12.17 in /usr/local/lib/python3.9/dist-packages (from transformers) (2022.10.31)\n",
            "Requirement already satisfied: tokenizers!=0.11.3,<0.14,>=0.11.1 in /usr/local/lib/python3.9/dist-packages (from transformers) (0.13.2)\n",
            "Requirement already satisfied: tqdm>=4.27 in /usr/local/lib/python3.9/dist-packages (from transformers) (4.65.0)\n",
            "Requirement already satisfied: filelock in /usr/local/lib/python3.9/dist-packages (from transformers) (3.10.0)\n",
            "Requirement already satisfied: typing-extensions>=3.7.4.3 in /usr/local/lib/python3.9/dist-packages (from huggingface-hub<1.0,>=0.11.0->transformers) (4.5.0)\n",
            "Requirement already satisfied: urllib3<1.27,>=1.21.1 in /usr/local/lib/python3.9/dist-packages (from requests->transformers) (1.26.15)\n",
            "Requirement already satisfied: charset-normalizer~=2.0.0 in /usr/local/lib/python3.9/dist-packages (from requests->transformers) (2.0.12)\n",
            "Requirement already satisfied: certifi>=2017.4.17 in /usr/local/lib/python3.9/dist-packages (from requests->transformers) (2022.12.7)\n",
            "Requirement already satisfied: idna<4,>=2.5 in /usr/local/lib/python3.9/dist-packages (from requests->transformers) (3.4)\n",
            "fatal: destination path 'StockPrice-Hybrid-Model-' already exists and is not an empty directory.\n"
          ]
        }
      ],
      "source": [
        "#Import necessary libraries \n",
        "import pandas as pd\n",
        "!pip install yfinance\n",
        "import numpy as np\n",
        "import matplotlib.pyplot as plt\n",
        "from sklearn.model_selection import train_test_split\n",
        "from time import time\n",
        "from google.colab import files\n",
        "import yfinance as yf\n",
        "import tensorflow as tf\n",
        "import warnings\n",
        "warnings.filterwarnings('ignore', category=FutureWarning)\n",
        "warnings.filterwarnings('ignore', category=DeprecationWarning)\n",
        "from sklearn.metrics import confusion_matrix, accuracy_score, precision_score, recall_score\n",
        "import seaborn as sns\n",
        "!pip install transformers\n",
        "from transformers import BertTokenizer, BertForSequenceClassification\n",
        "from transformers import pipeline\n",
        "import multiprocessing as mp\n",
        "import datetime as dt\n",
        "from multiprocessing import Process\n",
        "\n",
        "#configure sentiment analysis pipeline\n",
        "finbert = BertForSequenceClassification.from_pretrained('yiyanghkust/finbert-tone',num_labels=3)\n",
        "tokenizer = BertTokenizer.from_pretrained('yiyanghkust/finbert-tone')\n",
        "nlp = pipeline(\"sentiment-analysis\", model = finbert, tokenizer = tokenizer)\n",
        "sentiment_dict = {'Negative':-1, 'Neutral':0, 'Positive': 1}\n",
        "ticker_list = ['MSFT','GOOG', 'AMZN','TSLA','NFLX']\n",
        "#clone git repo into workspace\n",
        "!git clone https://github.com/Chenzhang0329/StockPrice-Hybrid-Model-.git"
      ]
    },
    {
      "cell_type": "markdown",
      "source": [
        "## Creation of Data Collection Functions"
      ],
      "metadata": {
        "id": "vWtKJ7BPzzWt"
      }
    },
    {
      "cell_type": "code",
      "execution_count": null,
      "metadata": {
        "id": "17VYDDvD8qv3"
      },
      "outputs": [],
      "source": [
        "# functions to Retrieve financial info and feature engineer\n",
        "from sklearn.preprocessing import MinMaxScaler\n",
        "def pull_news(ticker):\n",
        "    path = '/content/StockPrice-Hybrid-Model-/News Data/'+ticker+'_news.csv'\n",
        "    news_df = pd.read_csv(path)\n",
        "    news_list = news_df['headline'].to_list()\n",
        "    print('success1')\n",
        "    result = nlp(news_list)\n",
        "    print('success2')\n",
        "    result = pd.DataFrame(result)\n",
        "    news_df[\"sentiment\"] = [sentiment_dict[k]for k in result['label']]  \n",
        "    news_df['date'] = pd.to_datetime(news_df['date'], format = '%d-%m-%Y')\n",
        "    sentiment = pd.DataFrame()\n",
        "    sentiment['mean'] = news_df.groupby(by=\"date\")[\"sentiment\"].mean()\n",
        "    sentiment['count']= news_df.groupby(by='date')['sentiment'].count()\n",
        "    sentiment['score'] = sentiment['mean'] * (sentiment['count']**2)\n",
        "    sentiment = sentiment.fillna(0)\n",
        "    scaler1 = MinMaxScaler()\n",
        "    sentiment['score'] = scaler1.fit_transform(sentiment[['score']])\n",
        "    path3 = ticker+'_sentimentscore.csv'\n",
        "    sentiment.to_csv(path3)  \n",
        "\n",
        "#retrieve financial information using yfinance\n",
        "def get_financials(ticker, start):\n",
        "    time_delt = dt.timedelta(days = 150)\n",
        "    start_day = start - time_delt\n",
        "    data = yf.download(str(ticker), start_day)\n",
        "    data['ticker'] = ticker\n",
        "    data = data.reset_index()\n",
        "    print('success!')\n",
        "    return data\n",
        "\n",
        "#Exponential moving average\n",
        "def EWMA(data, ndays): \n",
        "    EMA = pd.Series(data['close'].ewm(span = ndays, min_periods = ndays - 1).mean(), \n",
        "                 name = 'EWMA_' + str(ndays)) \n",
        "    data = data.join(EMA) \n",
        "    return data\n",
        "\n",
        "#Relative Strength Index\n",
        "def rsi(close, periods = 14):\n",
        "    \n",
        "    close_delta = close.diff()\n",
        "\n",
        "    # Make two series: one for lower closes and one for higher closes\n",
        "    up = close_delta.clip(lower=0)\n",
        "    down = -1 * close_delta.clip(upper=0)\n",
        "    \n",
        "    ma_up = up.ewm(com = periods - 1, adjust=True, min_periods = periods).mean()\n",
        "    ma_down = down.ewm(com = periods - 1, adjust=True, min_periods = periods).mean()\n",
        "\n",
        "    rsi = ma_up / ma_down\n",
        "    rsi = 100 - (100/(1 + rsi))\n",
        "    return rsi\n",
        "\n",
        "#Bollinger Bands\n",
        "def BBANDS(data, window):\n",
        "    MA = data.close.rolling(window).mean()\n",
        "    SD = data.close.rolling(window).std()\n",
        "    data['MiddleBand'] = MA\n",
        "    data['UpperBand'] = MA + (2 * SD) \n",
        "    data['LowerBand'] = MA - (2 * SD)\n",
        "    return data\n",
        "\n",
        "#Final preprocessing and rolling averages feature engineering\n",
        "def prep_financials(df):\n",
        "    df = pd.DataFrame(df)\n",
        "    df.set_index('date')\n",
        "    df['target'] = (df['close'].shift(-1))\n",
        "    df['10mda'] = df['close'].rolling(10).mean()\n",
        "    df['20mda'] = df['close'].rolling(20).mean()\n",
        "    df['50mda'] = df['close'].rolling(50).mean()\n",
        "    df['100mda'] = df['close'].rolling(100).mean()\n",
        "    #df['target'] = [1 if df['pct_change'].loc[i] >0.005 else 0 for i in df.index]\n",
        "    df = EWMA(df, 20)\n",
        "    df = EWMA(df, 50) \n",
        "    df = EWMA(df, 100)\n",
        "    df['rsi'] = rsi(df['close'])\n",
        "    df = BBANDS(df, 20)\n",
        "    #df.drop(['pct_change'], axis=1, inplace=True)\n",
        "    df.reset_index()\n",
        "    return df"
      ]
    },
    {
      "cell_type": "code",
      "execution_count": null,
      "metadata": {
        "id": "nquguvza-pJP"
      },
      "outputs": [],
      "source": [
        "#parallel process to calculate all sentiment scores and process sentiment data into csv files\n",
        "import datetime as dt\n",
        "if __name__ == \"__main__\":\n",
        "    ticker_list = ['MSFT','GOOG', 'AMZN','TSLA','NFLX']\n",
        "    processes = []\n",
        "    proc = Process(target=pull_news)\n",
        "    processes.append(proc)\n",
        "    proc.start()\n",
        "\n",
        "    for tick in ticker_list:\n",
        "        proc = Process(target =pull_news, args=(tick,))\n",
        "        processes.append(proc)\n",
        "        proc.start()\n",
        "    \n",
        "    for proc in processes:\n",
        "        proc.join()\n"
      ]
    },
    {
      "cell_type": "code",
      "execution_count": null,
      "metadata": {
        "colab": {
          "base_uri": "https://localhost:8080/"
        },
        "id": "1lncyokY85dl",
        "outputId": "22676ae0-e58d-4134-ac56-6c71610534de"
      },
      "outputs": [
        {
          "output_type": "stream",
          "name": "stdout",
          "text": [
            "\r[*********************100%***********************]  1 of 1 completed\n",
            "success!\n",
            "<class 'pandas.core.frame.DataFrame'>\n",
            "RangeIndex: 1414 entries, 0 to 1413\n",
            "Data columns (total 8 columns):\n",
            " #   Column     Non-Null Count  Dtype         \n",
            "---  ------     --------------  -----         \n",
            " 0   date       1414 non-null   datetime64[ns]\n",
            " 1   open       1414 non-null   float64       \n",
            " 2   high       1414 non-null   float64       \n",
            " 3   low        1414 non-null   float64       \n",
            " 4   close      1414 non-null   float64       \n",
            " 5   adj_close  1414 non-null   float64       \n",
            " 6   volume     1414 non-null   int64         \n",
            " 7   ticker     1414 non-null   object        \n",
            "dtypes: datetime64[ns](1), float64(5), int64(1), object(1)\n",
            "memory usage: 88.5+ KB\n",
            "None\n",
            "[*********************100%***********************]  1 of 1 completed\n",
            "success!\n",
            "<class 'pandas.core.frame.DataFrame'>\n",
            "RangeIndex: 1414 entries, 0 to 1413\n",
            "Data columns (total 8 columns):\n",
            " #   Column     Non-Null Count  Dtype         \n",
            "---  ------     --------------  -----         \n",
            " 0   date       1414 non-null   datetime64[ns]\n",
            " 1   open       1414 non-null   float64       \n",
            " 2   high       1414 non-null   float64       \n",
            " 3   low        1414 non-null   float64       \n",
            " 4   close      1414 non-null   float64       \n",
            " 5   adj_close  1414 non-null   float64       \n",
            " 6   volume     1414 non-null   int64         \n",
            " 7   ticker     1414 non-null   object        \n",
            "dtypes: datetime64[ns](1), float64(5), int64(1), object(1)\n",
            "memory usage: 88.5+ KB\n",
            "None\n",
            "[*********************100%***********************]  1 of 1 completed\n",
            "success!\n",
            "<class 'pandas.core.frame.DataFrame'>\n",
            "RangeIndex: 1414 entries, 0 to 1413\n",
            "Data columns (total 8 columns):\n",
            " #   Column     Non-Null Count  Dtype         \n",
            "---  ------     --------------  -----         \n",
            " 0   date       1414 non-null   datetime64[ns]\n",
            " 1   open       1414 non-null   float64       \n",
            " 2   high       1414 non-null   float64       \n",
            " 3   low        1414 non-null   float64       \n",
            " 4   close      1414 non-null   float64       \n",
            " 5   adj_close  1414 non-null   float64       \n",
            " 6   volume     1414 non-null   int64         \n",
            " 7   ticker     1414 non-null   object        \n",
            "dtypes: datetime64[ns](1), float64(5), int64(1), object(1)\n",
            "memory usage: 88.5+ KB\n",
            "None\n",
            "[*********************100%***********************]  1 of 1 completed\n",
            "success!\n",
            "<class 'pandas.core.frame.DataFrame'>\n",
            "RangeIndex: 1414 entries, 0 to 1413\n",
            "Data columns (total 8 columns):\n",
            " #   Column     Non-Null Count  Dtype         \n",
            "---  ------     --------------  -----         \n",
            " 0   date       1414 non-null   datetime64[ns]\n",
            " 1   open       1414 non-null   float64       \n",
            " 2   high       1414 non-null   float64       \n",
            " 3   low        1414 non-null   float64       \n",
            " 4   close      1414 non-null   float64       \n",
            " 5   adj_close  1414 non-null   float64       \n",
            " 6   volume     1414 non-null   int64         \n",
            " 7   ticker     1414 non-null   object        \n",
            "dtypes: datetime64[ns](1), float64(5), int64(1), object(1)\n",
            "memory usage: 88.5+ KB\n",
            "None\n",
            "[*********************100%***********************]  1 of 1 completed\n",
            "success!\n",
            "<class 'pandas.core.frame.DataFrame'>\n",
            "RangeIndex: 1414 entries, 0 to 1413\n",
            "Data columns (total 8 columns):\n",
            " #   Column     Non-Null Count  Dtype         \n",
            "---  ------     --------------  -----         \n",
            " 0   date       1414 non-null   datetime64[ns]\n",
            " 1   open       1414 non-null   float64       \n",
            " 2   high       1414 non-null   float64       \n",
            " 3   low        1414 non-null   float64       \n",
            " 4   close      1414 non-null   float64       \n",
            " 5   adj_close  1414 non-null   float64       \n",
            " 6   volume     1414 non-null   int64         \n",
            " 7   ticker     1414 non-null   object        \n",
            "dtypes: datetime64[ns](1), float64(5), int64(1), object(1)\n",
            "memory usage: 88.5+ KB\n",
            "None\n",
            "         date       open       high        low      close  adj_close  \\\n",
            "0  2017-08-04  72.400002  73.040001  72.239998  72.680000  67.571663   \n",
            "1  2017-08-07  72.800003  72.900002  72.260002  72.400002  67.311333   \n",
            "2  2017-08-08  72.089996  73.129997  71.750000  72.790001  67.673935   \n",
            "3  2017-08-09  72.250000  72.510002  72.050003  72.470001  67.376442   \n",
            "4  2017-08-10  71.900002  72.190002  71.349998  71.410004  66.390915   \n",
            "5  2017-08-11  71.610001  72.699997  71.279999  72.500000  67.404305   \n",
            "6  2017-08-14  73.059998  73.720001  72.949997  73.589996  68.417679   \n",
            "7  2017-08-15  73.589996  73.589996  73.040001  73.220001  68.436394   \n",
            "8  2017-08-16  73.339996  74.099998  73.169998  73.650002  68.838295   \n",
            "9  2017-08-17  73.580002  73.870003  72.400002  72.400002  67.669952   \n",
            "10 2017-08-18  72.269997  72.839996  71.930000  72.489998  67.754097   \n",
            "11 2017-08-21  72.470001  72.480003  71.699997  72.150002  67.436302   \n",
            "12 2017-08-22  72.349998  73.239998  72.349998  73.160004  68.380310   \n",
            "13 2017-08-23  72.959999  73.150002  72.529999  72.720001  67.969055   \n",
            "14 2017-08-24  72.739998  72.860001  72.070000  72.690002  67.941032   \n",
            "15 2017-08-25  72.860001  73.349998  72.480003  72.820000  68.062515   \n",
            "16 2017-08-28  73.059998  73.089996  72.550003  72.830002  68.071861   \n",
            "17 2017-08-29  72.250000  73.160004  72.050003  73.050003  68.277512   \n",
            "18 2017-08-30  73.010002  74.209999  72.830002  74.010002  69.174774   \n",
            "19 2017-08-31  74.029999  74.959999  73.800003  74.769997  69.885117   \n",
            "\n",
            "      volume ticker     target      10mda      20mda  50mda  100mda  \\\n",
            "0   22579000   MSFT  72.400002        NaN        NaN    NaN     NaN   \n",
            "1   18705700   MSFT  72.790001        NaN        NaN    NaN     NaN   \n",
            "2   22044600   MSFT  72.470001        NaN        NaN    NaN     NaN   \n",
            "3   22213400   MSFT  71.410004        NaN        NaN    NaN     NaN   \n",
            "4   24734500   MSFT  72.500000        NaN        NaN    NaN     NaN   \n",
            "5   21443700   MSFT  73.589996        NaN        NaN    NaN     NaN   \n",
            "6   20096600   MSFT  73.220001        NaN        NaN    NaN     NaN   \n",
            "7   19181400   MSFT  73.650002        NaN        NaN    NaN     NaN   \n",
            "8   18150400   MSFT  72.400002        NaN        NaN    NaN     NaN   \n",
            "9   22977500   MSFT  72.489998  72.711001        NaN    NaN     NaN   \n",
            "10  18761500   MSFT  72.150002  72.692001        NaN    NaN     NaN   \n",
            "11  17734800   MSFT  73.160004  72.667001        NaN    NaN     NaN   \n",
            "12  14343700   MSFT  72.720001  72.704001        NaN    NaN     NaN   \n",
            "13  13766500   MSFT  72.690002  72.729001        NaN    NaN     NaN   \n",
            "14  17098300   MSFT  72.820000  72.857001        NaN    NaN     NaN   \n",
            "15  12794300   MSFT  72.830002  72.889001        NaN    NaN     NaN   \n",
            "16  14569700   MSFT  73.050003  72.813001        NaN    NaN     NaN   \n",
            "17  11478400   MSFT  74.010002  72.796001        NaN    NaN     NaN   \n",
            "18  16897800   MSFT  74.769997  72.832001        NaN    NaN     NaN   \n",
            "19  27652800   MSFT  73.940002  73.069001  72.890001    NaN     NaN   \n",
            "\n",
            "      EWMA_20  EWMA_50  EWMA_100        rsi  MiddleBand  UpperBand  LowerBand  \n",
            "0         NaN      NaN       NaN        NaN         NaN        NaN        NaN  \n",
            "1         NaN      NaN       NaN        NaN         NaN        NaN        NaN  \n",
            "2         NaN      NaN       NaN        NaN         NaN        NaN        NaN  \n",
            "3         NaN      NaN       NaN        NaN         NaN        NaN        NaN  \n",
            "4         NaN      NaN       NaN        NaN         NaN        NaN        NaN  \n",
            "5         NaN      NaN       NaN        NaN         NaN        NaN        NaN  \n",
            "6         NaN      NaN       NaN        NaN         NaN        NaN        NaN  \n",
            "7         NaN      NaN       NaN        NaN         NaN        NaN        NaN  \n",
            "8         NaN      NaN       NaN        NaN         NaN        NaN        NaN  \n",
            "9         NaN      NaN       NaN        NaN         NaN        NaN        NaN  \n",
            "10        NaN      NaN       NaN        NaN         NaN        NaN        NaN  \n",
            "11        NaN      NaN       NaN        NaN         NaN        NaN        NaN  \n",
            "12        NaN      NaN       NaN        NaN         NaN        NaN        NaN  \n",
            "13        NaN      NaN       NaN        NaN         NaN        NaN        NaN  \n",
            "14        NaN      NaN       NaN  49.881891         NaN        NaN        NaN  \n",
            "15        NaN      NaN       NaN  51.225183         NaN        NaN        NaN  \n",
            "16        NaN      NaN       NaN  51.333264         NaN        NaN        NaN  \n",
            "17        NaN      NaN       NaN  53.760360         NaN        NaN        NaN  \n",
            "18  72.914642      NaN       NaN  62.539609         NaN        NaN        NaN  \n",
            "19  73.118946      NaN       NaN  67.758544   72.890001  74.333824  71.446177  \n"
          ]
        }
      ],
      "source": [
        "#Complete financial info retrieval\n",
        "finance_dfs = []\n",
        "for tick in ticker_list:\n",
        "    data = get_financials(tick, dt.date(2018,1, 1))\n",
        "    data.rename(columns = {'Date':'date', 'Open':'open', 'High':'high', 'Low':'low', 'Close':'close','Adj Close': 'adj_close', 'Volume':'volume'}, inplace = True)\n",
        "    print(data.info())\n",
        "    prepped = prep_financials(data)\n",
        "    finance_dfs.append(prepped)\n",
        "\n",
        "#read finance data to csv\n",
        "full_finance = pd.concat(finance_dfs)\n",
        "full_finance.to_csv('finance.csv', index = False)\n",
        "print(full_finance.head(20))"
      ]
    },
    {
      "cell_type": "markdown",
      "metadata": {
        "id": "t9MJEWlu1zj3"
      },
      "source": [
        "# Single Company Model Implementation\n",
        "This section contains the necessary code to define our model and train/test the standalone LSTM as well as the hybrid ensemble model. "
      ]
    },
    {
      "cell_type": "markdown",
      "metadata": {
        "id": "HH6ii0zit08Y"
      },
      "source": [
        "## EDA, Data Cleaning and Model Building\n",
        "All data collection and initial prep is completed at this point."
      ]
    },
    {
      "cell_type": "code",
      "execution_count": null,
      "metadata": {
        "id": "NAs13PDAeM5f"
      },
      "outputs": [],
      "source": [
        "#retrieve sentiment scores and create dataframes with only score and date columns\n",
        "sentiment_dfs = []\n",
        "for i in ticker_list:\n",
        "  data = pd.read_csv('/content/StockPrice-Hybrid-Model-/Sentiment Score/'+i+'_sentimentscore.csv')\n",
        "  data['date'] = pd.to_datetime(data['date'])\n",
        "  df = data[['date','score']]\n",
        "  sentiment_dfs.append(df)\n",
        "  #check for outstanding NA values\n",
        "  print(df['score'].isna().sum())\n",
        "#Check distribution of sentiment dataframe\n",
        "print(sentiment_dfs[1].describe())"
      ]
    },
    {
      "cell_type": "markdown",
      "source": [
        "### Create Final Dataframes to Include Both Sentiment Data and Financial Data "
      ],
      "metadata": {
        "id": "hOftmCei1Ezn"
      }
    },
    {
      "cell_type": "code",
      "execution_count": null,
      "metadata": {
        "id": "gG7vztUCnY9m",
        "outputId": "e3063c9c-e66b-4c6f-fc09-a958b0c92eb5",
        "colab": {
          "base_uri": "https://localhost:8080/"
        }
      },
      "outputs": [
        {
          "output_type": "stream",
          "name": "stdout",
          "text": [
            "<class 'pandas.core.frame.DataFrame'>\n",
            "RangeIndex: 1410 entries, 0 to 1409\n",
            "Data columns (total 2 columns):\n",
            " #   Column  Non-Null Count  Dtype         \n",
            "---  ------  --------------  -----         \n",
            " 0   date    1410 non-null   datetime64[ns]\n",
            " 1   score   1410 non-null   float64       \n",
            "dtypes: datetime64[ns](1), float64(1)\n",
            "memory usage: 22.2 KB\n",
            "None\n",
            "<class 'pandas.core.frame.DataFrame'>\n",
            "Int64Index: 1414 entries, 1414 to 2827\n",
            "Data columns (total 20 columns):\n",
            " #   Column      Non-Null Count  Dtype         \n",
            "---  ------      --------------  -----         \n",
            " 0   date        1414 non-null   datetime64[ns]\n",
            " 1   open        1414 non-null   float64       \n",
            " 2   high        1414 non-null   float64       \n",
            " 3   low         1414 non-null   float64       \n",
            " 4   close       1414 non-null   float64       \n",
            " 5   adj_close   1414 non-null   float64       \n",
            " 6   volume      1414 non-null   int64         \n",
            " 7   ticker      1414 non-null   object        \n",
            " 8   target      1413 non-null   float64       \n",
            " 9   10mda       1405 non-null   float64       \n",
            " 10  20mda       1395 non-null   float64       \n",
            " 11  50mda       1365 non-null   float64       \n",
            " 12  100mda      1315 non-null   float64       \n",
            " 13  EWMA_20     1396 non-null   float64       \n",
            " 14  EWMA_50     1366 non-null   float64       \n",
            " 15  EWMA_100    1316 non-null   float64       \n",
            " 16  rsi         1400 non-null   float64       \n",
            " 17  MiddleBand  1395 non-null   float64       \n",
            " 18  UpperBand   1395 non-null   float64       \n",
            " 19  LowerBand   1395 non-null   float64       \n",
            "dtypes: datetime64[ns](1), float64(17), int64(1), object(1)\n",
            "memory usage: 232.0+ KB\n",
            "None\n",
            "<class 'pandas.core.frame.DataFrame'>\n",
            "DatetimeIndex: 1196 entries, 2018-01-03 to 2023-02-01\n",
            "Data columns (total 20 columns):\n",
            " #   Column      Non-Null Count  Dtype  \n",
            "---  ------      --------------  -----  \n",
            " 0   open        1196 non-null   float64\n",
            " 1   high        1196 non-null   float64\n",
            " 2   low         1196 non-null   float64\n",
            " 3   close       1196 non-null   float64\n",
            " 4   adj_close   1196 non-null   float64\n",
            " 5   volume      1196 non-null   int64  \n",
            " 6   ticker      1196 non-null   object \n",
            " 7   target      1196 non-null   float64\n",
            " 8   10mda       1196 non-null   float64\n",
            " 9   20mda       1196 non-null   float64\n",
            " 10  50mda       1196 non-null   float64\n",
            " 11  100mda      1196 non-null   float64\n",
            " 12  EWMA_20     1196 non-null   float64\n",
            " 13  EWMA_50     1196 non-null   float64\n",
            " 14  EWMA_100    1196 non-null   float64\n",
            " 15  rsi         1196 non-null   float64\n",
            " 16  MiddleBand  1196 non-null   float64\n",
            " 17  UpperBand   1196 non-null   float64\n",
            " 18  LowerBand   1196 non-null   float64\n",
            " 19  score       1196 non-null   float64\n",
            "dtypes: float64(18), int64(1), object(1)\n",
            "memory usage: 196.2+ KB\n",
            "None\n"
          ]
        },
        {
          "output_type": "stream",
          "name": "stderr",
          "text": [
            "<ipython-input-11-8e39b6942336>:12: SettingWithCopyWarning: \n",
            "A value is trying to be set on a copy of a slice from a DataFrame.\n",
            "Try using .loc[row_indexer,col_indexer] = value instead\n",
            "\n",
            "See the caveats in the documentation: https://pandas.pydata.org/pandas-docs/stable/user_guide/indexing.html#returning-a-view-versus-a-copy\n",
            "  data['date'] = pd.to_datetime(data['date'])\n",
            "<ipython-input-11-8e39b6942336>:12: SettingWithCopyWarning: \n",
            "A value is trying to be set on a copy of a slice from a DataFrame.\n",
            "Try using .loc[row_indexer,col_indexer] = value instead\n",
            "\n",
            "See the caveats in the documentation: https://pandas.pydata.org/pandas-docs/stable/user_guide/indexing.html#returning-a-view-versus-a-copy\n",
            "  data['date'] = pd.to_datetime(data['date'])\n",
            "<ipython-input-11-8e39b6942336>:12: SettingWithCopyWarning: \n",
            "A value is trying to be set on a copy of a slice from a DataFrame.\n",
            "Try using .loc[row_indexer,col_indexer] = value instead\n",
            "\n",
            "See the caveats in the documentation: https://pandas.pydata.org/pandas-docs/stable/user_guide/indexing.html#returning-a-view-versus-a-copy\n",
            "  data['date'] = pd.to_datetime(data['date'])\n",
            "<ipython-input-11-8e39b6942336>:12: SettingWithCopyWarning: \n",
            "A value is trying to be set on a copy of a slice from a DataFrame.\n",
            "Try using .loc[row_indexer,col_indexer] = value instead\n",
            "\n",
            "See the caveats in the documentation: https://pandas.pydata.org/pandas-docs/stable/user_guide/indexing.html#returning-a-view-versus-a-copy\n",
            "  data['date'] = pd.to_datetime(data['date'])\n",
            "<ipython-input-11-8e39b6942336>:12: SettingWithCopyWarning: \n",
            "A value is trying to be set on a copy of a slice from a DataFrame.\n",
            "Try using .loc[row_indexer,col_indexer] = value instead\n",
            "\n",
            "See the caveats in the documentation: https://pandas.pydata.org/pandas-docs/stable/user_guide/indexing.html#returning-a-view-versus-a-copy\n",
            "  data['date'] = pd.to_datetime(data['date'])\n"
          ]
        }
      ],
      "source": [
        "financials = pd.read_csv('finance.csv')\n",
        "#function to separate dataframe by company\n",
        "def separate_companies(ticker, df):\n",
        "    dataframe = df[df['ticker']==ticker]\n",
        "    return dataframe\n",
        "\n",
        "#separate dataframes for each company and add new features\n",
        "df_list = []\n",
        "for tick in ticker_list:\n",
        "    data = separate_companies(tick, financials)\n",
        "    data.reset_index()\n",
        "    data['date'] = pd.to_datetime(data['date'])\n",
        "    df_list.append(data)\n",
        "\n",
        "print(sentiment_dfs[1].info())\n",
        "print(df_list[1].info())\n",
        "#create final dataframe with sentiment included\n",
        "goog = pd.merge(df_list[1], sentiment_dfs[1], how = 'inner').set_index('date').loc['2018-01-01':'2023-02-01']\n",
        "msft = pd.merge(df_list[0], sentiment_dfs[0], how = 'inner').set_index('date').loc['2018-01-01':'2023-02-01']\n",
        "amzn = pd.merge(df_list[2], sentiment_dfs[2], how = 'inner').set_index('date').loc['2018-01-01':'2023-02-01']\n",
        "tesla = pd.merge(df_list[3], sentiment_dfs[3], how = 'inner').set_index('date').loc['2018-01-01':'2023-02-01']\n",
        "nflx = pd.merge(df_list[4], sentiment_dfs[4], how = 'inner').set_index('date').loc['2018-01-01':'2023-02-01']\n",
        "print(goog.info())\n",
        "frames = [goog, msft, amzn, tesla, nflx]\n"
      ]
    },
    {
      "cell_type": "markdown",
      "source": [
        "### General EDA to Explore Change in Stock Prices and Daily Headlines"
      ],
      "metadata": {
        "id": "Uo6ZwI5e1VOp"
      }
    },
    {
      "cell_type": "code",
      "execution_count": null,
      "metadata": {
        "colab": {
          "base_uri": "https://localhost:8080/",
          "height": 949
        },
        "id": "2VkB-IFpHTrY",
        "outputId": "8a7ae9c2-1405-42d8-b846-50adbac0bbb6"
      },
      "outputs": [
        {
          "output_type": "display_data",
          "data": {
            "text/plain": [
              "<Figure size 864x576 with 1 Axes>"
            ],
            "image/png": "[encoded data removed]"
          },
          "metadata": {
            "needs_background": "light"
          }
        },
        {
          "output_type": "error",
          "ename": "KeyError",
          "evalue": "ignored",
          "traceback": [
            "\u001b[0;31m---------------------------------------------------------------------------\u001b[0m",
            "\u001b[0;31mKeyError\u001b[0m                                  Traceback (most recent call last)",
            "\u001b[0;32m/usr/local/lib/python3.9/dist-packages/pandas/core/indexes/base.py\u001b[0m in \u001b[0;36mget_loc\u001b[0;34m(self, key, method, tolerance)\u001b[0m\n\u001b[1;32m   3628\u001b[0m             \u001b[0;32mtry\u001b[0m\u001b[0;34m:\u001b[0m\u001b[0;34m\u001b[0m\u001b[0;34m\u001b[0m\u001b[0m\n\u001b[0;32m-> 3629\u001b[0;31m                 \u001b[0;32mreturn\u001b[0m \u001b[0mself\u001b[0m\u001b[0;34m.\u001b[0m\u001b[0m_engine\u001b[0m\u001b[0;34m.\u001b[0m\u001b[0mget_loc\u001b[0m\u001b[0;34m(\u001b[0m\u001b[0mcasted_key\u001b[0m\u001b[0;34m)\u001b[0m\u001b[0;34m\u001b[0m\u001b[0;34m\u001b[0m\u001b[0m\n\u001b[0m\u001b[1;32m   3630\u001b[0m             \u001b[0;32mexcept\u001b[0m \u001b[0mKeyError\u001b[0m \u001b[0;32mas\u001b[0m \u001b[0merr\u001b[0m\u001b[0;34m:\u001b[0m\u001b[0;34m\u001b[0m\u001b[0;34m\u001b[0m\u001b[0m\n",
            "\u001b[0;32m/usr/local/lib/python3.9/dist-packages/pandas/_libs/index.pyx\u001b[0m in \u001b[0;36mpandas._libs.index.IndexEngine.get_loc\u001b[0;34m()\u001b[0m\n",
            "\u001b[0;32m/usr/local/lib/python3.9/dist-packages/pandas/_libs/index.pyx\u001b[0m in \u001b[0;36mpandas._libs.index.IndexEngine.get_loc\u001b[0;34m()\u001b[0m\n",
            "\u001b[0;32mpandas/_libs/hashtable_class_helper.pxi\u001b[0m in \u001b[0;36mpandas._libs.hashtable.PyObjectHashTable.get_item\u001b[0;34m()\u001b[0m\n",
            "\u001b[0;32mpandas/_libs/hashtable_class_helper.pxi\u001b[0m in \u001b[0;36mpandas._libs.hashtable.PyObjectHashTable.get_item\u001b[0;34m()\u001b[0m\n",
            "\u001b[0;31mKeyError\u001b[0m: 'headline'",
            "\nThe above exception was the direct cause of the following exception:\n",
            "\u001b[0;31mKeyError\u001b[0m                                  Traceback (most recent call last)",
            "\u001b[0;32m<ipython-input-6-a16ddf0c437c>\u001b[0m in \u001b[0;36m<module>\u001b[0;34m\u001b[0m\n\u001b[1;32m     13\u001b[0m \u001b[0mrollings\u001b[0m \u001b[0;34m=\u001b[0m \u001b[0;34m[\u001b[0m\u001b[0;34m]\u001b[0m\u001b[0;34m\u001b[0m\u001b[0;34m\u001b[0m\u001b[0m\n\u001b[1;32m     14\u001b[0m \u001b[0;32mfor\u001b[0m \u001b[0mi\u001b[0m\u001b[0;34m,\u001b[0m \u001b[0mframe\u001b[0m \u001b[0;32min\u001b[0m \u001b[0menumerate\u001b[0m\u001b[0;34m(\u001b[0m\u001b[0mframes\u001b[0m\u001b[0;34m)\u001b[0m\u001b[0;34m:\u001b[0m\u001b[0;34m\u001b[0m\u001b[0;34m\u001b[0m\u001b[0m\n\u001b[0;32m---> 15\u001b[0;31m   \u001b[0mframe\u001b[0m\u001b[0;34m[\u001b[0m\u001b[0;34m'average headlines'\u001b[0m\u001b[0;34m]\u001b[0m \u001b[0;34m=\u001b[0m \u001b[0mframe\u001b[0m\u001b[0;34m[\u001b[0m\u001b[0;34m'headline'\u001b[0m\u001b[0;34m]\u001b[0m\u001b[0;34m.\u001b[0m\u001b[0mrolling\u001b[0m\u001b[0;34m(\u001b[0m\u001b[0;36m20\u001b[0m\u001b[0;34m)\u001b[0m\u001b[0;34m.\u001b[0m\u001b[0mmean\u001b[0m\u001b[0;34m(\u001b[0m\u001b[0;34m)\u001b[0m\u001b[0;34m\u001b[0m\u001b[0;34m\u001b[0m\u001b[0m\n\u001b[0m\u001b[1;32m     16\u001b[0m   \u001b[0mrollings\u001b[0m\u001b[0;34m.\u001b[0m\u001b[0mappend\u001b[0m\u001b[0;34m(\u001b[0m\u001b[0mframe\u001b[0m\u001b[0;34m)\u001b[0m\u001b[0;34m\u001b[0m\u001b[0;34m\u001b[0m\u001b[0m\n\u001b[1;32m     17\u001b[0m \u001b[0mplt\u001b[0m\u001b[0;34m.\u001b[0m\u001b[0mfigure\u001b[0m\u001b[0;34m(\u001b[0m\u001b[0mfigsize\u001b[0m \u001b[0;34m=\u001b[0m \u001b[0;34m(\u001b[0m\u001b[0;36m12\u001b[0m\u001b[0;34m,\u001b[0m \u001b[0;36m8\u001b[0m\u001b[0;34m)\u001b[0m\u001b[0;34m)\u001b[0m\u001b[0;34m\u001b[0m\u001b[0;34m\u001b[0m\u001b[0m\n",
            "\u001b[0;32m/usr/local/lib/python3.9/dist-packages/pandas/core/frame.py\u001b[0m in \u001b[0;36m__getitem__\u001b[0;34m(self, key)\u001b[0m\n\u001b[1;32m   3503\u001b[0m             \u001b[0;32mif\u001b[0m \u001b[0mself\u001b[0m\u001b[0;34m.\u001b[0m\u001b[0mcolumns\u001b[0m\u001b[0;34m.\u001b[0m\u001b[0mnlevels\u001b[0m \u001b[0;34m>\u001b[0m \u001b[0;36m1\u001b[0m\u001b[0;34m:\u001b[0m\u001b[0;34m\u001b[0m\u001b[0;34m\u001b[0m\u001b[0m\n\u001b[1;32m   3504\u001b[0m                 \u001b[0;32mreturn\u001b[0m \u001b[0mself\u001b[0m\u001b[0;34m.\u001b[0m\u001b[0m_getitem_multilevel\u001b[0m\u001b[0;34m(\u001b[0m\u001b[0mkey\u001b[0m\u001b[0;34m)\u001b[0m\u001b[0;34m\u001b[0m\u001b[0;34m\u001b[0m\u001b[0m\n\u001b[0;32m-> 3505\u001b[0;31m             \u001b[0mindexer\u001b[0m \u001b[0;34m=\u001b[0m \u001b[0mself\u001b[0m\u001b[0;34m.\u001b[0m\u001b[0mcolumns\u001b[0m\u001b[0;34m.\u001b[0m\u001b[0mget_loc\u001b[0m\u001b[0;34m(\u001b[0m\u001b[0mkey\u001b[0m\u001b[0;34m)\u001b[0m\u001b[0;34m\u001b[0m\u001b[0;34m\u001b[0m\u001b[0m\n\u001b[0m\u001b[1;32m   3506\u001b[0m             \u001b[0;32mif\u001b[0m \u001b[0mis_integer\u001b[0m\u001b[0;34m(\u001b[0m\u001b[0mindexer\u001b[0m\u001b[0;34m)\u001b[0m\u001b[0;34m:\u001b[0m\u001b[0;34m\u001b[0m\u001b[0;34m\u001b[0m\u001b[0m\n\u001b[1;32m   3507\u001b[0m                 \u001b[0mindexer\u001b[0m \u001b[0;34m=\u001b[0m \u001b[0;34m[\u001b[0m\u001b[0mindexer\u001b[0m\u001b[0;34m]\u001b[0m\u001b[0;34m\u001b[0m\u001b[0;34m\u001b[0m\u001b[0m\n",
            "\u001b[0;32m/usr/local/lib/python3.9/dist-packages/pandas/core/indexes/base.py\u001b[0m in \u001b[0;36mget_loc\u001b[0;34m(self, key, method, tolerance)\u001b[0m\n\u001b[1;32m   3629\u001b[0m                 \u001b[0;32mreturn\u001b[0m \u001b[0mself\u001b[0m\u001b[0;34m.\u001b[0m\u001b[0m_engine\u001b[0m\u001b[0;34m.\u001b[0m\u001b[0mget_loc\u001b[0m\u001b[0;34m(\u001b[0m\u001b[0mcasted_key\u001b[0m\u001b[0;34m)\u001b[0m\u001b[0;34m\u001b[0m\u001b[0;34m\u001b[0m\u001b[0m\n\u001b[1;32m   3630\u001b[0m             \u001b[0;32mexcept\u001b[0m \u001b[0mKeyError\u001b[0m \u001b[0;32mas\u001b[0m \u001b[0merr\u001b[0m\u001b[0;34m:\u001b[0m\u001b[0;34m\u001b[0m\u001b[0;34m\u001b[0m\u001b[0m\n\u001b[0;32m-> 3631\u001b[0;31m                 \u001b[0;32mraise\u001b[0m \u001b[0mKeyError\u001b[0m\u001b[0;34m(\u001b[0m\u001b[0mkey\u001b[0m\u001b[0;34m)\u001b[0m \u001b[0;32mfrom\u001b[0m \u001b[0merr\u001b[0m\u001b[0;34m\u001b[0m\u001b[0;34m\u001b[0m\u001b[0m\n\u001b[0m\u001b[1;32m   3632\u001b[0m             \u001b[0;32mexcept\u001b[0m \u001b[0mTypeError\u001b[0m\u001b[0;34m:\u001b[0m\u001b[0;34m\u001b[0m\u001b[0;34m\u001b[0m\u001b[0m\n\u001b[1;32m   3633\u001b[0m                 \u001b[0;31m# If we have a listlike key, _check_indexing_error will raise\u001b[0m\u001b[0;34m\u001b[0m\u001b[0;34m\u001b[0m\u001b[0m\n",
            "\u001b[0;31mKeyError\u001b[0m: 'headline'"
          ]
        }
      ],
      "source": [
        "#EDA and summary stats for compiled datasets\n",
        "ticker_list = ['GOOG', 'MSFT','AMZN','TSLA','NFLX']\n",
        "plt.figure(figsize = (12, 8))\n",
        "\n",
        "#create plot to display change in share price\n",
        "for i, frame in enumerate(frames):\n",
        "  frame['close'].plot(label = ticker_list[i]+' Close Price')\n",
        "plt.ylabel('Share Price')\n",
        "plt.legend()\n",
        "plt.show()\n",
        "\n",
        "#create plot to display daily number of headlines as a 20 day rolling average \n",
        "rollings = []\n",
        "for i, frame in enumerate(frames):\n",
        "  frame['average headlines'] = frame['headline'].rolling(20).mean()\n",
        "  rollings.append(frame)\n",
        "plt.figure(figsize = (12, 8))\n",
        "for i, frame in enumerate(rollings):\n",
        "  frame['average headlines'].plot(label = ticker_list[i]+' # Daily Headlines')\n",
        "plt.legend()\n",
        "plt.ylabel('20 Day Rolling Average Number of Headlines ')\n",
        "plt.show()\n"
      ]
    },
    {
      "cell_type": "markdown",
      "source": [
        "### Scale Data and Configure Training/Test Datasets "
      ],
      "metadata": {
        "id": "JGb4NZ4P1i40"
      }
    },
    {
      "cell_type": "code",
      "execution_count": null,
      "metadata": {
        "id": "slz5DdNy0rhc",
        "outputId": "958eaaf1-994a-4d61-d00d-823c34e1b45e",
        "colab": {
          "base_uri": "https://localhost:8080/"
        }
      },
      "outputs": [
        {
          "output_type": "stream",
          "name": "stdout",
          "text": [
            "date\n",
            "2018-01-03     87.110001\n",
            "2018-01-04     88.190002\n",
            "2018-01-05     88.279999\n",
            "2018-01-08     88.220001\n",
            "2018-01-09     87.820000\n",
            "                 ...    \n",
            "2023-01-26    248.160004\n",
            "2023-01-27    242.710007\n",
            "2023-01-30    247.809998\n",
            "2023-01-31    252.750000\n",
            "2023-02-01    264.600006\n",
            "Name: target, Length: 1196, dtype: float64\n",
            "[[0.00813638]\n",
            " [0.01232081]\n",
            " [0.0126695 ]\n",
            " ...\n",
            " [0.63076329]\n",
            " [0.64990317]\n",
            " [0.69581564]]\n",
            "(1186, 10, 18) (1068, 10, 18) (118, 10, 18) (118, 1) (1068, 1)\n"
          ]
        }
      ],
      "source": [
        "from sklearn.preprocessing import MinMaxScaler\n",
        "# drop irrevelant columns\n",
        "data = frames[1]\n",
        "data = data.drop(['ticker'],axis=1)\n",
        " \n",
        "# features and target columns\n",
        "print(data['target'])\n",
        "target_scaler = MinMaxScaler()\n",
        "target = target_scaler.fit_transform(data[['target']])\n",
        "print(target)\n",
        "score = data['score']\n",
        "X_feat = data.drop(['target', 'score'], axis = 1)\n",
        "\n",
        "# Normalise the data\n",
        "for col in X_feat.columns:\n",
        "    scaler = MinMaxScaler(feature_range=(0,1))\n",
        "    X_feat[col] = scaler.fit_transform(X_feat[[col]])\n",
        "X_feat['score'] = score\n",
        "X_ft = np.array(X_feat)\n",
        "# Creating a data structure with 10 time-steps and 1 output\n",
        " \n",
        "# Split data into X_train and y_train data sets\n",
        "def lstm_split(data,target,steps):\n",
        "  X = []\n",
        "  y = []\n",
        "  # Creating a data structure with 10 time-steps and 1 output\n",
        "  for i in range(10, steps):\n",
        "      X.append(data[i-10:i])\n",
        "      y.append(target[i])  \n",
        "  return np.array(X),np.array(y)\n",
        " \n",
        "X1,y1 = lstm_split(X_feat,target,len(X_ft))\n",
        " \n",
        "train_split = 0.9\n",
        "split_idx = int(np.ceil(len(X1)*train_split))\n",
        "date_index = X_feat.index\n",
        " \n",
        "X_train,X_test = X1[:split_idx],X1[split_idx:]\n",
        "y_train,y_test = y1[:split_idx],y1[split_idx:]\n",
        "X_train_date,X_test_date = date_index[:split_idx],date_index[split_idx:]\n",
        " \n",
        "print(X1.shape,X_train.shape,X_test.shape,y_test.shape,y_train.shape)"
      ]
    },
    {
      "cell_type": "markdown",
      "source": [
        "### LSTM Model Architecture\n",
        "The general architecture of the model is available below. Specific hyperparameters will be defined during the training process using RandomSearch."
      ],
      "metadata": {
        "id": "_cwv_8jb11qA"
      }
    },
    {
      "cell_type": "code",
      "execution_count": null,
      "metadata": {
        "id": "GFWbCk7kmJWY",
        "outputId": "f5316ec9-b2a5-47be-d23a-a5a43c757480",
        "colab": {
          "base_uri": "https://localhost:8080/"
        }
      },
      "outputs": [
        {
          "output_type": "stream",
          "name": "stderr",
          "text": [
            "/usr/local/lib/python3.9/dist-packages/keras/optimizers/optimizer_v2/adam.py:117: UserWarning: The `lr` argument is deprecated, use `learning_rate` instead.\n",
            "  super().__init__(name, **kwargs)\n"
          ]
        },
        {
          "output_type": "stream",
          "name": "stdout",
          "text": [
            "34/34 [==============================] - 1s 5ms/step - loss: 0.0012 - mean_squared_error: 0.0012    \n",
            "[0.0011851069284603, 0.0011851069284603]\n",
            "{'n_hidden': 0, 'neurons_visible': 58, 'activate1': 'sigmoid', 'dropout1': 0.4, 'neurons_hidden1': 50, 'dropout2': 0.7, 'neurons_hidden2': 40, 'dropout3': 0.4, 'neurons_hidden3': 50}\n"
          ]
        }
      ],
      "source": [
        "#LSTM Framework\n",
        "import tensorflow as tf\n",
        "from keras.models import Sequential\n",
        "from keras.layers import Dense, Dropout\n",
        "from keras.layers import LSTM\n",
        "from keras.callbacks import ReduceLROnPlateau, EarlyStopping\n",
        "from keras.metrics import Precision\n",
        "from keras.optimizers import Adam\n",
        "#!pip install keras_tuner\n",
        "import keras_tuner\n",
        "\n",
        "\n",
        "#define function to create model, optional hyperparameters included to be selected during training\n",
        "LR = 0.05\n",
        "EPOCH = 200\n",
        "BATCH = 24\n",
        "def build_model(hp):\n",
        "  model = Sequential()\n",
        "  hidden = hp.Choice('n_hidden', [0,1,2,3])\n",
        "  model.add(LSTM(units = hp.Int('neurons_visible', min_value = X_train.shape[2], max_value = 100, step = 20),\n",
        "                activation = hp.Choice('activate1', ['sigmoid', 'relu']),\n",
        "                input_shape = (X_train.shape[1], X_train.shape[2]),\n",
        "                return_sequences = True if hidden >0 else False))\n",
        "  #Configure hidden layers based on random search determined hidden layer number\n",
        "  if hidden > 0:\n",
        "    for num in range(hidden):\n",
        "      model.add(Dropout(hp.Float('dropout' +str(num+1), min_value = 0.1, max_value = 0.9, step = 0.3)))\n",
        "      model.add(LSTM(units = hp.Int('neurons_hidden'+str(num+1), min_value = 20, max_value = 50, step = 10),\n",
        "                     activation = 'relu', return_sequences = True if num != hidden else False))\n",
        "      \n",
        "  model.add(Dropout(0.5))\n",
        "  model.add(Dense(units = 1))\n",
        "\n",
        "  #compile the model\n",
        "  model.compile(loss = 'mean_squared_error', optimizer = Adam(lr = LR), metrics = ['mean_squared_error'])\n",
        "  \n",
        "  return model\n",
        "\n",
        "#set learning rate and early stopping callbacks\n",
        "LR_decay = ReduceLROnPlateau('loss', patience=1, verbose=0, \n",
        "                             factor=0.5, min_lr=1e-8)\n",
        "Early_stop = EarlyStopping(monitor='loss', min_delta=0, \n",
        "                           patience=25, verbose=1, mode='auto',\n",
        "                           baseline=0, restore_best_weights=True)\n",
        "#arrange random search class\n",
        "tune = keras_tuner.RandomSearch(build_model, objective= keras_tuner.Objective('val_loss', direction='min'), max_trials = 50, seed = 2)\n",
        "\n",
        "#complete training \n",
        "tune.search(X_train, y_train, epochs = EPOCH, batch_size = BATCH, validation_data = (X_test, y_test), callbacks = [LR_decay, Early_stop])\n",
        "\n",
        "LSTM_model = tune.get_best_models()[0]\n",
        "test_predictions = LSTM_model.evaluate(X_train, y_train)\n",
        "print(test_predictions)\n",
        "LSTM_model.save('/content/StockPrice-Hybrid-Model-/Models/LSTM_model.h5')\n",
        "hyperparameters = tune.get_best_hyperparameters(1)[0]\n",
        "print(hyperparameters.values)"
      ]
    },
    {
      "cell_type": "markdown",
      "source": [
        "## LSTM Model Testing"
      ],
      "metadata": {
        "id": "CzCEzpi72Wat"
      }
    },
    {
      "cell_type": "markdown",
      "source": [
        "### Format Test Data to Reflect Training Data Format"
      ],
      "metadata": {
        "id": "g-SCfpV92e6M"
      }
    },
    {
      "cell_type": "code",
      "source": [
        "# prep google test data\n",
        "google = frames[0]\n",
        "google_scaler = MinMaxScaler()\n",
        "google_target = google_scaler.fit_transform(google[['target']])\n",
        "google_score = google['score']\n",
        "test_ft = google.drop(['target', 'score', 'ticker'], axis = 1)\n",
        "\n",
        "# Normalise the data\n",
        "for col in test_ft.columns:\n",
        "    scaler = MinMaxScaler(feature_range=(0,1))\n",
        "    test_ft[col] = scaler.fit_transform(test_ft[[col]])\n",
        "test_ft['score'] = google_score\n",
        "test_ft = np.array(test_ft)\n",
        "\n",
        "google_ft, google_target = lstm_split(test_ft,google_target,len(google_score))"
      ],
      "metadata": {
        "id": "w0KUlmlwMDyC"
      },
      "execution_count": null,
      "outputs": []
    },
    {
      "cell_type": "markdown",
      "source": [
        "### Evaluate LSTM Model Success on Test Data"
      ],
      "metadata": {
        "id": "OtxNI7IK2thv"
      }
    },
    {
      "cell_type": "code",
      "source": [
        "#test LSTM model using x_test and google test data\n",
        "from keras.models import load_model\n",
        "model = load_model(LSTM_model.h5)"
      ],
      "metadata": {
        "id": "3zwIIjPwHX_A"
      },
      "execution_count": null,
      "outputs": []
    },
    {
      "cell_type": "markdown",
      "metadata": {
        "id": "7Bg8r54_oq1m"
      },
      "source": [
        "## Prophet Model\n",
        "\n"
      ]
    },
    {
      "cell_type": "markdown",
      "metadata": {
        "id": "WvfiZF3PovxK"
      },
      "source": [
        "For this section is how we gonna fit the prophet model by using miscosoft company stock price data. The best hyperparameter we get by using the cross-validation"
      ]
    },
    {
      "cell_type": "code",
      "execution_count": null,
      "metadata": {
        "id": "aehoPm0QpsEO"
      },
      "outputs": [],
      "source": [
        "from prophet import Prophet\n",
        "from sklearn.metrics import mean_squared_error\n",
        "from prophet.diagnostics import cross_validation, performance_metrics\n",
        "from sklearn.model_selection import ParameterGrid"
      ]
    },
    {
      "cell_type": "code",
      "execution_count": null,
      "metadata": {
        "colab": {
          "base_uri": "https://localhost:8080/",
          "height": 73
        },
        "id": "1nsULZF8Lk_m",
        "outputId": "8dcf7998-9938-49b9-f018-626daee7927e"
      },
      "outputs": [
        {
          "data": {
            "text/html": [
              "\n",
              "     <input type=\"file\" id=\"files-f6b23791-cd04-4de9-812a-cefb7af0946e\" name=\"files[]\" multiple disabled\n",
              "        style=\"border:none\" />\n",
              "     <output id=\"result-f6b23791-cd04-4de9-812a-cefb7af0946e\">\n",
              "      Upload widget is only available when the cell has been executed in the\n",
              "      current browser session. Please rerun this cell to enable.\n",
              "      </output>\n",
              "      <script>// Copyright 2017 Google LLC\n",
              "//\n",
              "// Licensed under the Apache License, Version 2.0 (the \"License\");\n",
              "// you may not use this file except in compliance with the License.\n",
              "// You may obtain a copy of the License at\n",
              "//\n",
              "//      http://www.apache.org/licenses/LICENSE-2.0\n",
              "//\n",
              "// Unless required by applicable law or agreed to in writing, software\n",
              "// distributed under the License is distributed on an \"AS IS\" BASIS,\n",
              "// WITHOUT WARRANTIES OR CONDITIONS OF ANY KIND, either express or implied.\n",
              "// See the License for the specific language governing permissions and\n",
              "// limitations under the License.\n",
              "\n",
              "/**\n",
              " * @fileoverview Helpers for google.colab Python module.\n",
              " */\n",
              "(function(scope) {\n",
              "function span(text, styleAttributes = {}) {\n",
              "  const element = document.createElement('span');\n",
              "  element.textContent = text;\n",
              "  for (const key of Object.keys(styleAttributes)) {\n",
              "    element.style[key] = styleAttributes[key];\n",
              "  }\n",
              "  return element;\n",
              "}\n",
              "\n",
              "// Max number of bytes which will be uploaded at a time.\n",
              "const MAX_PAYLOAD_SIZE = 100 * 1024;\n",
              "\n",
              "function _uploadFiles(inputId, outputId) {\n",
              "  const steps = uploadFilesStep(inputId, outputId);\n",
              "  const outputElement = document.getElementById(outputId);\n",
              "  // Cache steps on the outputElement to make it available for the next call\n",
              "  // to uploadFilesContinue from Python.\n",
              "  outputElement.steps = steps;\n",
              "\n",
              "  return _uploadFilesContinue(outputId);\n",
              "}\n",
              "\n",
              "// This is roughly an async generator (not supported in the browser yet),\n",
              "// where there are multiple asynchronous steps and the Python side is going\n",
              "// to poll for completion of each step.\n",
              "// This uses a Promise to block the python side on completion of each step,\n",
              "// then passes the result of the previous step as the input to the next step.\n",
              "function _uploadFilesContinue(outputId) {\n",
              "  const outputElement = document.getElementById(outputId);\n",
              "  const steps = outputElement.steps;\n",
              "\n",
              "  const next = steps.next(outputElement.lastPromiseValue);\n",
              "  return Promise.resolve(next.value.promise).then((value) => {\n",
              "    // Cache the last promise value to make it available to the next\n",
              "    // step of the generator.\n",
              "    outputElement.lastPromiseValue = value;\n",
              "    return next.value.response;\n",
              "  });\n",
              "}\n",
              "\n",
              "/**\n",
              " * Generator function which is called between each async step of the upload\n",
              " * process.\n",
              " * @param {string} inputId Element ID of the input file picker element.\n",
              " * @param {string} outputId Element ID of the output display.\n",
              " * @return {!Iterable<!Object>} Iterable of next steps.\n",
              " */\n",
              "function* uploadFilesStep(inputId, outputId) {\n",
              "  const inputElement = document.getElementById(inputId);\n",
              "  inputElement.disabled = false;\n",
              "\n",
              "  const outputElement = document.getElementById(outputId);\n",
              "  outputElement.innerHTML = '';\n",
              "\n",
              "  const pickedPromise = new Promise((resolve) => {\n",
              "    inputElement.addEventListener('change', (e) => {\n",
              "      resolve(e.target.files);\n",
              "    });\n",
              "  });\n",
              "\n",
              "  const cancel = document.createElement('button');\n",
              "  inputElement.parentElement.appendChild(cancel);\n",
              "  cancel.textContent = 'Cancel upload';\n",
              "  const cancelPromise = new Promise((resolve) => {\n",
              "    cancel.onclick = () => {\n",
              "      resolve(null);\n",
              "    };\n",
              "  });\n",
              "\n",
              "  // Wait for the user to pick the files.\n",
              "  const files = yield {\n",
              "    promise: Promise.race([pickedPromise, cancelPromise]),\n",
              "    response: {\n",
              "      action: 'starting',\n",
              "    }\n",
              "  };\n",
              "\n",
              "  cancel.remove();\n",
              "\n",
              "  // Disable the input element since further picks are not allowed.\n",
              "  inputElement.disabled = true;\n",
              "\n",
              "  if (!files) {\n",
              "    return {\n",
              "      response: {\n",
              "        action: 'complete',\n",
              "      }\n",
              "    };\n",
              "  }\n",
              "\n",
              "  for (const file of files) {\n",
              "    const li = document.createElement('li');\n",
              "    li.append(span(file.name, {fontWeight: 'bold'}));\n",
              "    li.append(span(\n",
              "        `(${file.type || 'n/a'}) - ${file.size} bytes, ` +\n",
              "        `last modified: ${\n",
              "            file.lastModifiedDate ? file.lastModifiedDate.toLocaleDateString() :\n",
              "                                    'n/a'} - `));\n",
              "    const percent = span('0% done');\n",
              "    li.appendChild(percent);\n",
              "\n",
              "    outputElement.appendChild(li);\n",
              "\n",
              "    const fileDataPromise = new Promise((resolve) => {\n",
              "      const reader = new FileReader();\n",
              "      reader.onload = (e) => {\n",
              "        resolve(e.target.result);\n",
              "      };\n",
              "      reader.readAsArrayBuffer(file);\n",
              "    });\n",
              "    // Wait for the data to be ready.\n",
              "    let fileData = yield {\n",
              "      promise: fileDataPromise,\n",
              "      response: {\n",
              "        action: 'continue',\n",
              "      }\n",
              "    };\n",
              "\n",
              "    // Use a chunked sending to avoid message size limits. See b/62115660.\n",
              "    let position = 0;\n",
              "    do {\n",
              "      const length = Math.min(fileData.byteLength - position, MAX_PAYLOAD_SIZE);\n",
              "      const chunk = new Uint8Array(fileData, position, length);\n",
              "      position += length;\n",
              "\n",
              "      const base64 = btoa(String.fromCharCode.apply(null, chunk));\n",
              "      yield {\n",
              "        response: {\n",
              "          action: 'append',\n",
              "          file: file.name,\n",
              "          data: base64,\n",
              "        },\n",
              "      };\n",
              "\n",
              "      let percentDone = fileData.byteLength === 0 ?\n",
              "          100 :\n",
              "          Math.round((position / fileData.byteLength) * 100);\n",
              "      percent.textContent = `${percentDone}% done`;\n",
              "\n",
              "    } while (position < fileData.byteLength);\n",
              "  }\n",
              "\n",
              "  // All done.\n",
              "  yield {\n",
              "    response: {\n",
              "      action: 'complete',\n",
              "    }\n",
              "  };\n",
              "}\n",
              "\n",
              "scope.google = scope.google || {};\n",
              "scope.google.colab = scope.google.colab || {};\n",
              "scope.google.colab._files = {\n",
              "  _uploadFiles,\n",
              "  _uploadFilesContinue,\n",
              "};\n",
              "})(self);\n",
              "</script> "
            ],
            "text/plain": [
              "<IPython.core.display.HTML object>"
            ]
          },
          "metadata": {},
          "output_type": "display_data"
        },
        {
          "name": "stdout",
          "output_type": "stream",
          "text": [
            "Saving finance.csv to finance.csv\n"
          ]
        }
      ],
      "source": [
        "# Uploaded stock price csv\n",
        "finance_data = pd.read_csv('/content/StockPrice-Hybrid-Model-/Finance Data/finance.csv')"
      ]
    },
    {
      "cell_type": "code",
      "execution_count": null,
      "metadata": {
        "id": "ityTOSozpTZk"
      },
      "outputs": [],
      "source": [
        "MSFT_Data = finance_data[finance_data['ticker']=='MSFT']\n",
        "# This function is used to get the train data and test data\n",
        "def data_preparation(df):\n",
        "  data=df[[\"date\",\"adj_close\"]]\n",
        "  data = data.rename(columns = {'date':'ds', 'adj_close':'y'})\n",
        "  return data"
      ]
    },
    {
      "cell_type": "code",
      "execution_count": null,
      "metadata": {
        "id": "wCeMZTq7pilV"
      },
      "outputs": [],
      "source": [
        "# Define parameter grid to search over\n",
        "param_grid = {\n",
        "    'seasonality_mode': ['additive', 'multiplicative'],\n",
        "    'changepoint_prior_scale': [0.01, 0.1, 1.0],\n",
        "    'seasonality_prior_scale': [0.01, 0.1, 1.0],\n",
        "}\n",
        "\n",
        "# Initialize minimum error and best parameters\n",
        "min_error = float('inf')\n",
        "best_params = {}\n",
        "\n",
        "# Loop through all parameter combinations\n",
        "for params in ParameterGrid(param_grid):\n",
        "    print('Testing parameters:', params)\n",
        "\n",
        "    # Initialize Prophet model with specified hyperparameters\n",
        "    model = Prophet(**params)\n",
        "    model.fit(data_preparation(MSFT_Data))\n",
        "\n",
        "    # Perform time series cross-validation\n",
        "    df_cv = cross_validation(model=model, initial='1000 days', horizon='10 days', period='10 days')\n",
        "\n",
        "    # Calculate performance metrics\n",
        "    df_metrics = performance_metrics(df_cv)\n",
        "\n",
        "    # Calculate mean cross-validation error\n",
        "    mean_cv_error = df_metrics['mse'].mean()\n",
        "\n",
        "    # Update minimum error and best parameters if new minimum is found\n",
        "    if mean_cv_error < min_error:\n",
        "        min_error = mean_cv_error\n",
        "        best_params = params\n",
        "\n",
        "# Print best hyperparameters and corresponding error\n",
        "print('Best parameters:', best_params)\n",
        "print('Minimum cross-validation error:', min_error)"
      ]
    },
    {
      "cell_type": "markdown",
      "source": [
        "### Forecasting with Prophet"
      ],
      "metadata": {
        "id": "pKF3O_Nh3TBX"
      }
    },
    {
      "cell_type": "code",
      "execution_count": null,
      "metadata": {
        "id": "HKLDcUbZplU8"
      },
      "outputs": [],
      "source": [
        "# We use the best parameter to fit the model\n",
        "final_model = Prophet(**best_params)\n",
        "final_model.fit(data_preparation(MSFT_Data))"
      ]
    },
    {
      "cell_type": "code",
      "execution_count": null,
      "metadata": {
        "id": "iqCQmw0ep3y2"
      },
      "outputs": [],
      "source": [
        "future = final_model.make_future_dataframe(periods=100)\n",
        "validation_predict = final_model.predict(future)\n",
        "print(validation_predict[['ds', 'yhat', 'yhat_lower', 'yhat_upper']])\n",
        "fig = final_model.plot(validation_predict)\n",
        "fig1 = final_model.plot_components(validation_predict)"
      ]
    },
    {
      "cell_type": "markdown",
      "source": [
        "## Hybrid Model "
      ],
      "metadata": {
        "id": "PcwGoRLD3ob9"
      }
    },
    {
      "cell_type": "markdown",
      "source": [
        "### Define Training Data Using Ouputs from Standalone Models"
      ],
      "metadata": {
        "id": "vO346BrO3tbh"
      }
    },
    {
      "cell_type": "code",
      "source": [
        "#combine prophet and lstm results into metamodel training set, keeping microsoft validation data separate\n"
      ],
      "metadata": {
        "id": "TISnsLYPe_5k"
      },
      "execution_count": null,
      "outputs": []
    },
    {
      "cell_type": "code",
      "source": [
        "#Hybrid model architecture and training\n",
        "LR = 0.01\n",
        "hybrid = Sequential()\n",
        "hybrid.add(LSTM(units = 8, activation = \"relu\", input_shape = (X_train2.shape[1], X_train2.shape[2]), return_sequences = True))\n",
        "hybrid.add(Dropout(0.5))\n",
        "hybrid.add(LSTM(units = 12, activation = 'relu', return_sequences = True))\n",
        "hybrid.add(Dropout(0.5))\n",
        "hybrid.add(LSTM(units = 12))\n",
        "hybrid.add(Dropout(0.5))\n",
        "hybrid.add(Dense(units =1))\n",
        "hybrid.compile(loss = 'mean_squared_error', optimizer = Adam(lr = LR), metrics = [Precision, \"mean_squared_error\"])\n",
        "Early_stop = EarlyStopping(monitor='val_loss', min_delta=0, \n",
        "                           patience=25, verbose=1, mode='auto',\n",
        "                           baseline=0, restore_best_weights=True)\n",
        "hybrid.fit(X_train2, Y_train2, epochs = EPOCH, batch_size = BATCH, callbacks = [Early_stop])\n",
        "hybrid.save('/content/StockPrice-Hybrid-Model-/Models/Hybrid_model1.h5')"
      ],
      "metadata": {
        "id": "kCCQfjFLXzbK"
      },
      "execution_count": null,
      "outputs": []
    },
    {
      "cell_type": "markdown",
      "source": [
        "### Hybrid Model Testing"
      ],
      "metadata": {
        "id": "4MOhWXzr4UBk"
      }
    },
    {
      "cell_type": "code",
      "source": [
        "#Make predictions on the held out microsoft data (y_test) and google test data\n",
        "predictions = hybrid.predict(X_test2)\n",
        "y_pred = np.round(predictions).flatten()"
      ],
      "metadata": {
        "id": "xf_onMVVAvun"
      },
      "execution_count": null,
      "outputs": []
    },
    {
      "cell_type": "code",
      "source": [
        "# THIS BLOCK IS BEING EDITED\n",
        "\n",
        "\n",
        "import matplotlib.pyplot as plt\n",
        "import seaborn as sns\n",
        "from sklearn.metrics import classification_report, confusion_matrix\n",
        "\n",
        "# this function is used to visualize the classification of the model prediction\n",
        "def confusion_matrix_plot(y_test,y_pred):\n",
        "  \"\"\"\n",
        "    Params: y_test: the target\n",
        "            y_pred: the predicted values\n",
        "\n",
        "    \n",
        "    Returns: 1: a plot of the confucsion matrix\n",
        "             2: a classification report \n",
        "          \n",
        "\n",
        "  \"\"\"\n",
        "  cm = confusion_matrix(y_test, y_pred)\n",
        "\n",
        "  fig, ax = plt.subplots(figsize=(8, 8))\n",
        "  ax.imshow(cm,cmap=plt.cm.Blues)\n",
        "  ax.grid(False)\n",
        "  ax.xaxis.set(ticks=(0, 1), ticklabels=('Predicted 0s', 'Predicted 1s'))\n",
        "  ax.yaxis.set(ticks=(0, 1), ticklabels=('Actual 0s', 'Actual 1s'))\n",
        "  ax.set_ylim(1.5, -0.5)\n",
        "  for i in range(2):\n",
        "      for j in range(2):\n",
        "          ax.text(j, i, cm[i, j], ha='center', va='center', color='black')\n",
        "  plt.show()\n",
        "\n",
        "  print(\"\\n---------------------Classification Report-----------------------\")\n",
        "  return print(classification_report(y_test,y_pred))"
      ],
      "metadata": {
        "id": "fzL6ihxBAulr"
      },
      "execution_count": null,
      "outputs": []
    },
    {
      "cell_type": "markdown",
      "source": [
        "# Multiple Company Model"
      ],
      "metadata": {
        "id": "OBubFDUDkcUe"
      }
    },
    {
      "cell_type": "markdown",
      "source": [
        "## Generate Sub-models"
      ],
      "metadata": {
        "id": "O2hCgjUFm3cm"
      }
    },
    {
      "cell_type": "code",
      "source": [
        "def create_lists(list_of_df):\n",
        "  training_list = []\n",
        "  target_list = []\n",
        "  for i in list_of_df:\n",
        "    data = frames[i]\n",
        "    score = data['score']\n",
        "    target = data['target']\n",
        "    training = data.drop(['target', 'ticker', 'score'], axis = 1)\n",
        "    scaler = MinMaxScaler()\n",
        "    for col in training.columns:\n",
        "      training[col] = scaler.fit_transform(training[col])\n",
        "    training['score'] = score\n",
        "    data_x, data_y = lstm_split(training, target, 10)\n",
        "    training_list.append(data_x)\n",
        "    target_list.append(data_y)\n",
        "  return training_list, target_list\n",
        "\n",
        "#General LSTM model based on randomsearch results\n",
        "def multiple_models(x_train, y_train, ticker):\n",
        "    hybrid = Sequential()\n",
        "    hybrid.add(LSTM(units = 8, activation = \"relu\", input_shape = (x_train.shape[1], x_train.shape[2]), return_sequences = True))\n",
        "    hybrid.add(Dropout(0.5))\n",
        "    hybrid.add(LSTM(units = 12, activation = 'relu', return_sequences = True))\n",
        "    hybrid.add(Dropout(0.5))\n",
        "    hybrid.add(LSTM(units = 12))\n",
        "    hybrid.add(Dropout(0.5))\n",
        "    hybrid.add(Dense(units =1, activation = 'sigmoid'))\n",
        "    hybrid.compile(loss = 'mean_squared_error', optimizer = Adam(lr = LR), metrics = [\"mean_squared_error\"])\n",
        "    Early_stop = EarlyStopping(monitor='val_loss', min_delta=0, \n",
        "                              patience=25, verbose=1, mode='auto',\n",
        "                              baseline=0, restore_best_weights=True)\n",
        "    hybrid.fit(x_train, y_train, epochs = 200, batch_size = 24, callbacks = [Early_stop])\n",
        "    return hybrid\n",
        "\n",
        "training_list, target_list = create_lists(frames)\n",
        "for tick, x_train, y_train in zip(ticker_list, training_list, target_list):\n",
        "  model = multiple_models(tick, x_train, y_train)\n",
        "  model.save('/content/StockPrice-Hybrid-Model-/Models/'+tick+'_lstm.h5')\n"
      ],
      "metadata": {
        "id": "BtDe3DZmkbsE"
      },
      "execution_count": null,
      "outputs": []
    },
    {
      "cell_type": "markdown",
      "source": [
        "## Configure Hybrid Training Set and Train Hybrid Model"
      ],
      "metadata": {
        "id": "1lmxA1N7m6mt"
      }
    },
    {
      "cell_type": "code",
      "source": [
        "import os\n",
        "def hybrid_train(direct, ticker_list, hybrid_train):\n",
        "    preds_dict = {}\n",
        "    path = direct\n",
        "    for num, model in enumerate(os.listdir(path)):\n",
        "        model = load_model(model)\n",
        "        prediction = model.predict(hybrid_train)\n",
        "        preds_dict[ticker_list[num]] = prediction\n",
        "    preds_df = pd.DatFrame(preds_dict)\n",
        "    return preds_df\n",
        "\n",
        "ticker_list = [\"MSFT\", \"NFLX\", \"AMZN\", \"TSLA\"]\n",
        "hybrid_training_data =  hybrid_train('/content/StockPrice-Hybrid-Model-/Models/', ticker_list, X_train) \n",
        "hybrid_expanded = multiple_models(hybrid_training_data, y_train)"
      ],
      "metadata": {
        "id": "zDz0AaKUw4b0"
      },
      "execution_count": null,
      "outputs": []
    },
    {
      "cell_type": "markdown",
      "source": [
        "## Test the Expanded Model"
      ],
      "metadata": {
        "id": "GFRwWfsfzH-0"
      }
    },
    {
      "cell_type": "code",
      "source": [
        "from os import listdir\n",
        "google_test = {}\n",
        "microsoft_test = {}\n",
        "path = '/models/'\n",
        "for num, model in enumerate(os.listdir(path)):\n",
        "  model = load_model(model)\n",
        "  goog_preds = model.predict(google_ft)\n",
        "  micro_preds = model.predict(X_test)\n",
        "  google_test[ticker_list[num]] = goog_preds\n",
        "  microsoft_test[ticker_list[num]] = micro_preds\n",
        "google_test = pd.DataFrame(google_test)\n",
        "microsoft_test = pd.DataFrame(microsoft_test)"
      ],
      "metadata": {
        "id": "-IW0CTH_xgMe"
      },
      "execution_count": null,
      "outputs": []
    }
  ],
  "metadata": {
    "colab": {
      "provenance": [],
      "include_colab_link": true
    },
    "gpuClass": "standard",
    "kernelspec": {
      "display_name": "Python 3",
      "name": "python3"
    },
    "language_info": {
      "name": "python"
    }
  },
  "nbformat": 4,
  "nbformat_minor": 0
}